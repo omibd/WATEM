{
 "cells": [
  {
   "cell_type": "code",
   "execution_count": null,
   "id": "030f05d2",
   "metadata": {},
   "outputs": [],
   "source": [
    "\n",
    "\n"
   ]
  },
  {
   "cell_type": "code",
   "execution_count": 140,
   "id": "4d6fbf00",
   "metadata": {
    "code_folding": [
     21,
     28,
     32,
     36,
     47,
     75
    ]
   },
   "outputs": [],
   "source": [
    "from imports import *\n",
    "\n",
    "def update_key_value(a, b):\n",
    "    '''updating key & values (values will be appened for existing key)'''\n",
    "    c = {}\n",
    "    tls = lambda ls : ls if type(ls) is list else [ls]\n",
    "    for k, v in a.items():\n",
    "        c[k] = tls(a[k]) + tls(b[k]) if k in list(b) else tls(a[k])\n",
    "    else: return {**b, **c}\n",
    "\n",
    "class WhBase:\n",
    "    \n",
    "    pane_search = \"/html/body/div[1]/div/div/div[3]/div/div[1]/div/div/div[2]/div/div[2]\"\n",
    "    body_chat_search_btn = \"//div[@id='main']//div[@class='_3ndVb']\"\n",
    "    body_chat_name = \"//div[@id='main']//div[@class='_21nHd']\"\n",
    "    body_text_area = \"//footer[@class='_3E8Fg']//p\"\n",
    "    body_msg_nav_arrow = '/html/body/div[1]/div/div/div[4]/div/div[2]/div/div[1]/span/div'\n",
    "    \n",
    "    \n",
    "    def __init__(self):\n",
    "        chrome_options = Options()\n",
    "        chrome_options.add_experimental_option(\"debuggerAddress\", \"127.0.0.1:9222\")\n",
    "        self.driver = webdriver.Chrome(service=Service(ChromeDriverManager().install()), options=chrome_options)\n",
    "        self.wait = WebDriverWait(self.driver, 5)\n",
    "        self.ac = ActionChains(self.driver)\n",
    "        self.read_store = defaultdict()\n",
    "        self.store_msg = pd.DataFrame([])\n",
    "        print(self.driver.title)\n",
    "    \n",
    "    @property\n",
    "    def get_driver(self):\n",
    "        return self.driver\n",
    "    \n",
    "    def xpelem(self, xpt):\n",
    "        try: return self.wait.until(EC.presence_of_element_located((By.XPATH, xpt)))\n",
    "        except: return None\n",
    "    \n",
    "    def xptext(self, xpt):\n",
    "        try: return self.driver.find_element(By.XPATH, xpt).text\n",
    "        except: return None\n",
    "        \n",
    "    def xpget(self, xpt):\n",
    "        try: return self.driver.find_element(By.XPATH, xpt)\n",
    "        except: return None\n",
    "    \n",
    "    def xpc(self, xpt):\n",
    "        try: return wait.until(EC.element_to_be_clickable((By.XPATH, xpt)))\n",
    "        except: return None\n",
    "    \n",
    "    def move_click(self, xpt):\n",
    "        try: \n",
    "            self.ac.move_to_element(self.xpget(xpt)).click().perform()\n",
    "            return 1\n",
    "        except: return 0\n",
    "        \n",
    "    def hover_click(self, xp1, xp2):\n",
    "        try: \n",
    "            self.ac.move_to_element(self.xpelem(xp1)).click(self.xpelem(xp2)).perform()\n",
    "            return 1\n",
    "        except: return 0\n",
    "    \n",
    "    def just_move(self, xp1):\n",
    "        try: \n",
    "            self.ac.move_to_element(self.xpget(xp1)).perform()\n",
    "            return 1\n",
    "        except: return 0\n",
    "        \n",
    "    def paste_text(self, text):\n",
    "        try: self.ac.send_keys(text).perform()\n",
    "        except: pass\n",
    "        \n",
    "    def click_write_enter(self, xpt, text):\n",
    "        xp = self.xpelem(xpt) if type(xpt) is str else xpt\n",
    "        if xp is None: return None\n",
    "        xp.clear()\n",
    "        if chr(10) not in text:\n",
    "            self.ac.move_to_element(xp).click().send_keys(text).send_keys(Keys.RETURN).perform()\n",
    "        else:\n",
    "            xx = text.split(chr(10))\n",
    "            for line in xx:\n",
    "                self.ac.send_keys(line).perform()\n",
    "                self.ac.key_down(Keys.SHIFT).key_down(Keys.ENTER).key_up(Keys.SHIFT).key_up(Keys.ENTER).perform()\n",
    "            self.ac.send_keys(Keys.RETURN).perform()\n",
    "    \n",
    "    def sidepane_scroll(self, initial = 1, scrolls=35):\n",
    "        for i in range(1, scrolls):\n",
    "            self.driver.execute_script(\"document.getElementById('pane-side').scrollTop={}\".format(initial))\n",
    "            initial = initial + i + 1\n",
    "        return initial\n",
    "\n",
    "    def scroll_by_xpath(self, xpt=\"(//div[@id='main']//div[@class='ItfyB _3nbHh'])[2]\"):\n",
    "        try:\n",
    "            xp = self.wait.until(EC.presence_of_element_located((By.XPATH, xpt)))\n",
    "            self.driver.execute_script(\"arguments[0].scrollIntoView(true);\", xp)\n",
    "            return 1\n",
    "        except:\n",
    "            print('WhBase.scroll_by_xpath(xpt) failed to scroll')\n",
    "            return 0\n",
    "        \n",
    "    def msg_sender_dttm(self, n, base=\"(//div[@id='main']//div[@data-testid='msg-container'])\"):\n",
    "        xpt = base + \"[\" + str(n) + \"]\"\n",
    "        html = self.wait.until(EC.presence_of_element_located((By.XPATH, xpt))).get_attribute('innerHTML')\n",
    "        sp = BeautifulSoup(html, \"lxml\")\n",
    "        x = sp.find_all('div')\n",
    "        for i in x:\n",
    "            try:\n",
    "                st = i['data-pre-plain-text']\n",
    "                break\n",
    "            except:pass\n",
    "        else: return None, None\n",
    "        try:\n",
    "            split_point = st.find(']')\n",
    "            sender = st[split_point+1:].replace(':','').strip(' ')\n",
    "            dttm = parse(st.upper()[1:split_point])\n",
    "            return dttm.strftime(\"%Y-%m-%d %H:%M\"), sender\n",
    "        except: None, None\n",
    "            \n",
    "    def xptbulk(self, xpt):\n",
    "        try:\n",
    "            if type(xpt) is str: return self.xptext(xpt)\n",
    "            elif type(xpt) is list: return [self.xptext(n) for n in xpt]\n",
    "            elif type(xpt) is dict: return {k : [self.xptext(n) for n in v] if type(v) is list else self.xptext(v) for k, v in xpt.items()}\n",
    "            else: return None\n",
    "        except:\n",
    "            return None\n",
    "    \n",
    "    def select_chat(self, chat_name):\n",
    "        if chat_name is not None and chat_name != '':\n",
    "            x = self.click_write_enter(xpt=self.pane_search, text=chat_name)\n",
    "            y = self.xptext(self.body_chat_name)\n",
    "            print('chat body name: ', y)\n",
    "            if chat_name.lower() in y.lower():\n",
    "                print('chat selection successful')\n",
    "                return y\n",
    "            else: 0\n",
    "        else: return None\n",
    "        \n",
    "    def send_message(self, chat_names, text):\n",
    "        cn = [chat_names] if type(chat_names) is str else chat_names\n",
    "        for n in cn:\n",
    "            x = self.select_chat(n)\n",
    "            if x is not None or x !=0:\n",
    "                self.click_write_enter(text)\n",
    "                print('message send to ', str(n), ' sucessfully')\n",
    "                tm.sleep(.5)\n",
    "            else:\n",
    "                print('message send failed, chat: ', str(n))\n",
    "    \n",
    "    def msgxp(self, n, base=\"(//div[@id='main']//div[@data-testid='msg-container'])\"):\n",
    "        bi = base + '[' + str(n) + ']'\n",
    "        if self.xpelem(bi) is None: return None\n",
    "        else:\n",
    "            self.move_click(bi + \"//div[@role='button'][contains(.,'Read more')]\")\n",
    "            dttm, sender = self.msg_sender_dttm(n)\n",
    "            dc = {'sender' : [sender],\n",
    "                  'text' : [self.xptext(bi + \"//div[@class='_21Ahp']/span[1]/span\")],\n",
    "                  'q_sender' : [self.xptext(bi + \"//div[@class='_3pMOs yKTUI']//div[1]/span\")],\n",
    "                  'q_text' : [self.xptext(bi + \"//div[@class='_3pMOs yKTUI']//div[2]/span\")],\n",
    "                  'datetime' : [dttm]}\n",
    "            return dc\n",
    "    \n",
    "    def dict_to_df(self, dc, out=None):\n",
    "        x = dt.datetime.now().strftime('%b%d%Y_%H%M')\n",
    "        opt = x  + '.csv' if out is None else x + '_' + out + '.csv'\n",
    "        pd.DataFrame.from_dict(dc).to_csv(opt)\n",
    "        \n",
    "    def forward_msg(self, bs, frwto='Onami'):\n",
    "        self.move_click('/html/body/div[1]/div/div/div[4]/div/div[2]/div/div[1]/span')\n",
    "        tm.sleep(.5)\n",
    "        if self.xpelem(bs) is not None:\n",
    "            self.ac.move_to_element(self.xpelem(bs + \"//div[@class='_2_-To']\")).perform()\n",
    "            tm.sleep(0.5)\n",
    "            self.ac.click(self.xpelem(bs + \"//span[@data-testid='down-context']\")).perform()\n",
    "            self.ac.move_to_element(self.xpelem(\"//div[@class='_2sDI2']//div[contains(text(),'Forward')]\")).click().perform()\n",
    "            self.ac.move_to_element(self.xpelem(\"//*[@data-testid='forward']\")).click().perform()\n",
    "            self.ac.send_keys(frwto).perform()\n",
    "            self.ac.reset_actions()\n",
    "            try:\n",
    "                ActionChains(self.driver).move_to_element(self.xpelem(\"(//div[@class='_199zF _3j691 _2N1Gm'])[1]\")).click().perform()\n",
    "            except:\n",
    "                ActionChains(self.driver).click(self.xpelem(\"(//div[@class='_199zF _3j691 _2N1Gm'])[1]\")).perform()\n",
    "                ActionChains(self.driver).move_to_element(self.xpelem('(//*[contains(concat( \" \", @class, \" \" ), concat( \" \", \"_2N1Gm\", \" \" ))])[1]')).click().perform()\n",
    "            self.ac.move_to_element(self.xpelem(\"//*[@data-testid='send']\")).click().perform()\n",
    "            print('forwarded success')\n",
    "        else:\n",
    "            print('forward fail')"
   ]
  },
  {
   "cell_type": "code",
   "execution_count": 141,
   "id": "a064f9f2",
   "metadata": {},
   "outputs": [
    {
     "name": "stdout",
     "output_type": "stream",
     "text": [
      "(3) WhatsApp\n"
     ]
    }
   ],
   "source": [
    "x = WhBase()\n",
    "d = x.get_driver\n",
    "ac = ActionChains(d)\n",
    "wait = WebDriverWait(d, 5)"
   ]
  },
  {
   "cell_type": "code",
   "execution_count": 142,
   "id": "da034c7a",
   "metadata": {},
   "outputs": [
    {
     "ename": "AttributeError",
     "evalue": "move_to requires a WebElement",
     "output_type": "error",
     "traceback": [
      "\u001b[1;31m---------------------------------------------------------------------------\u001b[0m",
      "\u001b[1;31mAttributeError\u001b[0m                            Traceback (most recent call last)",
      "Cell \u001b[1;32mIn[142], line 1\u001b[0m\n\u001b[1;32m----> 1\u001b[0m \u001b[43mx\u001b[49m\u001b[38;5;241;43m.\u001b[39;49m\u001b[43mforward_msg\u001b[49m\u001b[43m(\u001b[49m\u001b[38;5;124;43m\"\u001b[39;49m\u001b[38;5;124;43m(//div[@id=\u001b[39;49m\u001b[38;5;124;43m'\u001b[39;49m\u001b[38;5;124;43mmain\u001b[39;49m\u001b[38;5;124;43m'\u001b[39;49m\u001b[38;5;124;43m]//div[@class=\u001b[39;49m\u001b[38;5;124;43m'\u001b[39;49m\u001b[38;5;124;43mItfyB _3nbHh\u001b[39;49m\u001b[38;5;124;43m'\u001b[39;49m\u001b[38;5;124;43m])[last()]\u001b[39;49m\u001b[38;5;124;43m\"\u001b[39;49m\u001b[43m,\u001b[49m\u001b[43m \u001b[49m\u001b[38;5;124;43m'\u001b[39;49m\u001b[38;5;124;43monami\u001b[39;49m\u001b[38;5;124;43m'\u001b[39;49m\u001b[43m)\u001b[49m\n",
      "Cell \u001b[1;32mIn[140], line 174\u001b[0m, in \u001b[0;36mWhBase.forward_msg\u001b[1;34m(self, bs, frwto)\u001b[0m\n\u001b[0;32m    172\u001b[0m         ActionChains(\u001b[38;5;28mself\u001b[39m\u001b[38;5;241m.\u001b[39mdriver)\u001b[38;5;241m.\u001b[39mclick(\u001b[38;5;28mself\u001b[39m\u001b[38;5;241m.\u001b[39mxpelem(\u001b[38;5;124m\"\u001b[39m\u001b[38;5;124m(//div[@class=\u001b[39m\u001b[38;5;124m'\u001b[39m\u001b[38;5;124m_199zF _3j691 _2N1Gm\u001b[39m\u001b[38;5;124m'\u001b[39m\u001b[38;5;124m])[1]\u001b[39m\u001b[38;5;124m\"\u001b[39m))\u001b[38;5;241m.\u001b[39mperform()\n\u001b[0;32m    173\u001b[0m         ActionChains(\u001b[38;5;28mself\u001b[39m\u001b[38;5;241m.\u001b[39mdriver)\u001b[38;5;241m.\u001b[39mmove_to_element(\u001b[38;5;28mself\u001b[39m\u001b[38;5;241m.\u001b[39mxpelem(\u001b[38;5;124m'\u001b[39m\u001b[38;5;124m(//*[contains(concat( \u001b[39m\u001b[38;5;124m\"\u001b[39m\u001b[38;5;124m \u001b[39m\u001b[38;5;124m\"\u001b[39m\u001b[38;5;124m, @class, \u001b[39m\u001b[38;5;124m\"\u001b[39m\u001b[38;5;124m \u001b[39m\u001b[38;5;124m\"\u001b[39m\u001b[38;5;124m ), concat( \u001b[39m\u001b[38;5;124m\"\u001b[39m\u001b[38;5;124m \u001b[39m\u001b[38;5;124m\"\u001b[39m\u001b[38;5;124m, \u001b[39m\u001b[38;5;124m\"\u001b[39m\u001b[38;5;124m_2N1Gm\u001b[39m\u001b[38;5;124m\"\u001b[39m\u001b[38;5;124m, \u001b[39m\u001b[38;5;124m\"\u001b[39m\u001b[38;5;124m \u001b[39m\u001b[38;5;124m\"\u001b[39m\u001b[38;5;124m ))])[1]\u001b[39m\u001b[38;5;124m'\u001b[39m))\u001b[38;5;241m.\u001b[39mclick()\u001b[38;5;241m.\u001b[39mperform()\n\u001b[1;32m--> 174\u001b[0m     \u001b[38;5;28;43mself\u001b[39;49m\u001b[38;5;241;43m.\u001b[39;49m\u001b[43mac\u001b[49m\u001b[38;5;241;43m.\u001b[39;49m\u001b[43mmove_to_element\u001b[49m\u001b[43m(\u001b[49m\u001b[38;5;28;43mself\u001b[39;49m\u001b[38;5;241;43m.\u001b[39;49m\u001b[43mxpelem\u001b[49m\u001b[43m(\u001b[49m\u001b[38;5;124;43m\"\u001b[39;49m\u001b[38;5;124;43m//*[@data-testid=\u001b[39;49m\u001b[38;5;124;43m'\u001b[39;49m\u001b[38;5;124;43msend\u001b[39;49m\u001b[38;5;124;43m'\u001b[39;49m\u001b[38;5;124;43m]\u001b[39;49m\u001b[38;5;124;43m\"\u001b[39;49m\u001b[43m)\u001b[49m\u001b[43m)\u001b[49m\u001b[38;5;241m.\u001b[39mclick()\u001b[38;5;241m.\u001b[39mperform()\n\u001b[0;32m    175\u001b[0m     \u001b[38;5;28mprint\u001b[39m(\u001b[38;5;124m'\u001b[39m\u001b[38;5;124mforwarded success\u001b[39m\u001b[38;5;124m'\u001b[39m)\n\u001b[0;32m    176\u001b[0m \u001b[38;5;28;01melse\u001b[39;00m:\n",
      "File \u001b[1;32m~\\miniconda3\\lib\\site-packages\\selenium\\webdriver\\common\\action_chains.py:250\u001b[0m, in \u001b[0;36mActionChains.move_to_element\u001b[1;34m(self, to_element)\u001b[0m\n\u001b[0;32m    242\u001b[0m \u001b[38;5;28;01mdef\u001b[39;00m \u001b[38;5;21mmove_to_element\u001b[39m(\u001b[38;5;28mself\u001b[39m, to_element):\n\u001b[0;32m    243\u001b[0m     \u001b[38;5;124;03m\"\"\"\u001b[39;00m\n\u001b[0;32m    244\u001b[0m \u001b[38;5;124;03m    Moving the mouse to the middle of an element.\u001b[39;00m\n\u001b[0;32m    245\u001b[0m \n\u001b[0;32m    246\u001b[0m \u001b[38;5;124;03m    :Args:\u001b[39;00m\n\u001b[0;32m    247\u001b[0m \u001b[38;5;124;03m     - to_element: The WebElement to move to.\u001b[39;00m\n\u001b[0;32m    248\u001b[0m \u001b[38;5;124;03m    \"\"\"\u001b[39;00m\n\u001b[1;32m--> 250\u001b[0m     \u001b[38;5;28;43mself\u001b[39;49m\u001b[38;5;241;43m.\u001b[39;49m\u001b[43mw3c_actions\u001b[49m\u001b[38;5;241;43m.\u001b[39;49m\u001b[43mpointer_action\u001b[49m\u001b[38;5;241;43m.\u001b[39;49m\u001b[43mmove_to\u001b[49m\u001b[43m(\u001b[49m\u001b[43mto_element\u001b[49m\u001b[43m)\u001b[49m\n\u001b[0;32m    251\u001b[0m     \u001b[38;5;28mself\u001b[39m\u001b[38;5;241m.\u001b[39mw3c_actions\u001b[38;5;241m.\u001b[39mkey_action\u001b[38;5;241m.\u001b[39mpause()\n\u001b[0;32m    253\u001b[0m     \u001b[38;5;28;01mreturn\u001b[39;00m \u001b[38;5;28mself\u001b[39m\n",
      "File \u001b[1;32m~\\miniconda3\\lib\\site-packages\\selenium\\webdriver\\common\\actions\\pointer_actions.py:87\u001b[0m, in \u001b[0;36mPointerActions.move_to\u001b[1;34m(self, element, x, y, width, height, pressure, tangential_pressure, tilt_x, tilt_y, twist, altitude_angle, azimuth_angle)\u001b[0m\n\u001b[0;32m     71\u001b[0m \u001b[38;5;28;01mdef\u001b[39;00m \u001b[38;5;21mmove_to\u001b[39m(\n\u001b[0;32m     72\u001b[0m     \u001b[38;5;28mself\u001b[39m,\n\u001b[0;32m     73\u001b[0m     element,\n\u001b[1;32m   (...)\u001b[0m\n\u001b[0;32m     84\u001b[0m     azimuth_angle\u001b[38;5;241m=\u001b[39m\u001b[38;5;28;01mNone\u001b[39;00m,\n\u001b[0;32m     85\u001b[0m ):\n\u001b[0;32m     86\u001b[0m     \u001b[38;5;28;01mif\u001b[39;00m \u001b[38;5;129;01mnot\u001b[39;00m \u001b[38;5;28misinstance\u001b[39m(element, WebElement):\n\u001b[1;32m---> 87\u001b[0m         \u001b[38;5;28;01mraise\u001b[39;00m \u001b[38;5;167;01mAttributeError\u001b[39;00m(\u001b[38;5;124m\"\u001b[39m\u001b[38;5;124mmove_to requires a WebElement\u001b[39m\u001b[38;5;124m\"\u001b[39m)\n\u001b[0;32m     89\u001b[0m     \u001b[38;5;28mself\u001b[39m\u001b[38;5;241m.\u001b[39msource\u001b[38;5;241m.\u001b[39mcreate_pointer_move(\n\u001b[0;32m     90\u001b[0m         origin\u001b[38;5;241m=\u001b[39melement,\n\u001b[0;32m     91\u001b[0m         duration\u001b[38;5;241m=\u001b[39m\u001b[38;5;28mself\u001b[39m\u001b[38;5;241m.\u001b[39m_duration,\n\u001b[1;32m   (...)\u001b[0m\n\u001b[0;32m    102\u001b[0m         azimuth_angle\u001b[38;5;241m=\u001b[39mazimuth_angle,\n\u001b[0;32m    103\u001b[0m     )\n\u001b[0;32m    104\u001b[0m     \u001b[38;5;28;01mreturn\u001b[39;00m \u001b[38;5;28mself\u001b[39m\n",
      "\u001b[1;31mAttributeError\u001b[0m: move_to requires a WebElement"
     ]
    }
   ],
   "source": [
    "x.forward_msg(\"(//div[@id='main']//div[@class='ItfyB _3nbHh'])[last()]\", 'onami')\n",
    "\n"
   ]
  },
  {
   "cell_type": "code",
   "execution_count": 131,
   "id": "8a77630b",
   "metadata": {
    "scrolled": true
   },
   "outputs": [],
   "source": [
    "ac.move_to_element(x.xpelem('(//*[contains(concat( \" \", @class, \" \" ), concat( \" \", \"_2N1Gm\", \" \" ))])[1]')).click().perform()"
   ]
  },
  {
   "cell_type": "code",
   "execution_count": 133,
   "id": "45b2c8fa",
   "metadata": {},
   "outputs": [],
   "source": [
    "ac.move_to_element(x.xpelem(\"(//div[@class='_199zF _3j691 _2N1Gm'])[1]\")).click().perform()"
   ]
  },
  {
   "cell_type": "code",
   "execution_count": null,
   "id": "0003b3a8",
   "metadata": {},
   "outputs": [],
   "source": [
    "## bs = \"(//div[@id='main']//div[@class='ItfyB _3nbHh'])[last()]\"\n",
    "x.xpelem(bs + \"//span[@data-testid='down-context']\")"
   ]
  },
  {
   "cell_type": "code",
   "execution_count": null,
   "id": "570d6d62",
   "metadata": {},
   "outputs": [],
   "source": []
  },
  {
   "cell_type": "code",
   "execution_count": null,
   "id": "7c03086a",
   "metadata": {},
   "outputs": [],
   "source": [
    "\n",
    "\n"
   ]
  },
  {
   "cell_type": "code",
   "execution_count": null,
   "id": "9acb5020",
   "metadata": {},
   "outputs": [],
   "source": [
    "ac.move_to_element(x.xpelem(\"//ul[@class='_3bcLp']/div//*[contains(text(),'Forward')]\")).click().perform()"
   ]
  },
  {
   "cell_type": "code",
   "execution_count": null,
   "id": "c90dc282",
   "metadata": {},
   "outputs": [],
   "source": [
    "ac.move_to_element(x.xpelem(\"//*[@data-testid='forward']\")).click().perform()"
   ]
  },
  {
   "cell_type": "markdown",
   "id": "6f1fbb27",
   "metadata": {},
   "source": [
    "/html[@class='js serviceworker adownload cssanimations csstransitions webp exiforientation webp-alpha webp-animation webp-lossless wf-loading']/body[@class='web']/div[@id='app']/div[@class='_1Fm4m _1h2dM app-wrapper-web font-fix os-win']/span[2]/div[@class='lhggkp7q qq0sjtgm ebjesfe0 jxacihee tkdu00h0']/div[@class='snyj76hw qq0sjtgm tkdu00h0 cm280p3y ln8gz9je ppled2lx bgigc5s4 i44ccddp ag5g9lrv p1zdgkh6 _3cjY2 copyable-area']/div[@class='cm280p3y p357zi0d f8m0rgwh gndfcl4n ac2vgrno ln8gz9je s4r5ooj2 lffynu9d sdfuwbjb']/div[@class='cm280p3y p357zi0d ggj6brxn m0h2a7mj r6au09pb f8m0rgwh nhajnb67 i5tg98hk f9ovudaz przvwfww gx1rr48f gfz4du6o r7fjleex b19fvycv fe61fa5g qj4wrk6p cphhpnv8 tfm3omh7 paav9g0k g0rxnol2 kpwy2cir jnwc1y2a e2xccmyv svoq16ka agj3xlbq mtp0skmj h1tnk6gg ap935ont q1g5yed3 ciu2hny1 sz0fn9sj s7u82e91']/div[@class='g0rxnol2 ggj6brxn m0h2a7mj r6au09pb fd365im1 hmy10g0s']/div[@class='f8jlpxt4 iuhl9who']/div[@class='g6kkip0l p357zi0d f8m0rgwh ppled2lx tkdu00h0 gfz4du6o r7fjleex jv8uhy2r lhggkp7q qq0sjtgm ln8gz9je _3cjY2 copyable-area']/div[@class='g0rxnol2 thghmljt p357zi0d rjo8vgbg ggj6brxn f8m0rgwh gfz4du6o ag5g9lrv bs7a17vp']/div/div/div[@class='_2A1R8 _3YS_f']/div[@class='lhggkp7q ln8gz9je rx9719la'][2]/button[@class='i5tg98hk f9ovudaz przvwfww gx1rr48f shdiholb phqmzxqs gtscxtjd ajgl1lbb thr4l2wc cc8mgx9x eta5aym1 d9802myq e4xiuwjv g0rxnol2 ln8gz9je']/div[2]/div[@class='_199zF _3j691 _2N1Gm']"
   ]
  },
  {
   "cell_type": "code",
   "execution_count": null,
   "id": "9dcaf886",
   "metadata": {},
   "outputs": [],
   "source": []
  },
  {
   "cell_type": "code",
   "execution_count": null,
   "id": "5f68e9b7",
   "metadata": {},
   "outputs": [],
   "source": []
  },
  {
   "cell_type": "code",
   "execution_count": null,
   "id": "fa2da565",
   "metadata": {},
   "outputs": [],
   "source": []
  },
  {
   "cell_type": "code",
   "execution_count": null,
   "id": "b8266c38",
   "metadata": {},
   "outputs": [],
   "source": []
  },
  {
   "cell_type": "code",
   "execution_count": null,
   "id": "26ffbe0f",
   "metadata": {},
   "outputs": [],
   "source": [
    "x1 = lambda xp: wait.until(EC.presence_of_element_located((By.XPATH, xp)))\n",
    "ac.move_to_element(x1(\"//ul[@class='_3bcLp']/div//*[contains(text(),'Forward')]\")).click().perform()\n",
    "ac.move_to_element(x1(\"//*[@data-testid='forward']\")).click().perform()\n",
    "\n"
   ]
  },
  {
   "cell_type": "code",
   "execution_count": null,
   "id": "27e8119d",
   "metadata": {},
   "outputs": [],
   "source": []
  },
  {
   "cell_type": "code",
   "execution_count": null,
   "id": "80faad91",
   "metadata": {
    "scrolled": true
   },
   "outputs": [],
   "source": []
  },
  {
   "cell_type": "code",
   "execution_count": null,
   "id": "913049a1",
   "metadata": {},
   "outputs": [],
   "source": [
    "\n"
   ]
  },
  {
   "cell_type": "code",
   "execution_count": null,
   "id": "c2dc1d3f",
   "metadata": {},
   "outputs": [],
   "source": [
    "x.hover_click(\"(//div[@id='main']//div[@data-testid='msg-container'])[last()]\", \"(//div[@id='main']//div[@data-testid='msg-container'])[last()]//span[contains(@data-icon,'down-context')]\")\n",
    "x.move_click(\"//ul[@class='_3bcLp']/div//*[contains(text(),'Forward')]\")\n",
    "x.move_click(\"//*[@data-testid='forward']\")"
   ]
  },
  {
   "cell_type": "code",
   "execution_count": null,
   "id": "e28e990a",
   "metadata": {},
   "outputs": [],
   "source": []
  },
  {
   "cell_type": "code",
   "execution_count": null,
   "id": "603e442a",
   "metadata": {},
   "outputs": [],
   "source": []
  },
  {
   "cell_type": "code",
   "execution_count": null,
   "id": "32e04707",
   "metadata": {},
   "outputs": [],
   "source": []
  },
  {
   "cell_type": "code",
   "execution_count": null,
   "id": "63ad5d34",
   "metadata": {},
   "outputs": [],
   "source": [
    "ac.move_to_element(self.xpelem(xpt)).click().perform()"
   ]
  },
  {
   "cell_type": "code",
   "execution_count": null,
   "id": "b182b595",
   "metadata": {},
   "outputs": [],
   "source": []
  },
  {
   "cell_type": "code",
   "execution_count": null,
   "id": "7e04dfb9",
   "metadata": {},
   "outputs": [],
   "source": []
  },
  {
   "cell_type": "code",
   "execution_count": null,
   "id": "04d0187d",
   "metadata": {
    "scrolled": true
   },
   "outputs": [],
   "source": [
    "dir(x)"
   ]
  },
  {
   "cell_type": "code",
   "execution_count": null,
   "id": "cbd7dfaf",
   "metadata": {},
   "outputs": [],
   "source": []
  },
  {
   "cell_type": "code",
   "execution_count": null,
   "id": "a5e353f0",
   "metadata": {},
   "outputs": [],
   "source": []
  },
  {
   "cell_type": "code",
   "execution_count": null,
   "id": "e8e7d077",
   "metadata": {},
   "outputs": [],
   "source": [
    "def cross(x1, x2=None, text=None):\n",
    "    if x2 is None and text is None:\n",
    "        ac.move_to_element(wait.until(EC.presence_of_element_located((By.XPATH, x1)))).perform()\n",
    "    except:\n",
    "        d.find_element(By.XPATH, xp).click()\n",
    "            \n",
    "        \n",
    "def forward_message(x, to):\n",
    "    msg =lambda x : \"(//div[@id='main']//div[@class='ItfyB _3nbHh'])[\" + str(x) + \"]\"\n",
    "    msg_arrow = lambda x :  msg(x) + \"//div[@class='_3u9t-']/span\"\n",
    "    cross( msg('last()'))\n",
    "    cross( msg_arrow('last()'))\n",
    "    cross( \"//ul[@class='_3bcLp']/div//*[contains(text(),'Forward')]\" )\n",
    "    cross(\"//button[@class='_5tHAy'][4]\")\n",
    "    cross({\"(//div[contains(@role,'textbox')])[1]\":to})\n",
    "    cross(\"(//div[@class='_199zF _3j691 _2N1Gm'])[1]\")\n",
    "    cross(\"//span[contains(@data-icon,'send')]\")"
   ]
  },
  {
   "cell_type": "code",
   "execution_count": null,
   "id": "4e98ff27",
   "metadata": {},
   "outputs": [],
   "source": [
    "x1 = \"(//div[@id='main']//div[@class='ItfyB _3nbHh'])[last()]\"\n",
    "cross(x1)"
   ]
  },
  {
   "cell_type": "code",
   "execution_count": null,
   "id": "73b9d969",
   "metadata": {},
   "outputs": [],
   "source": []
  },
  {
   "cell_type": "code",
   "execution_count": null,
   "id": "275c0df3",
   "metadata": {},
   "outputs": [],
   "source": [
    "\"//*[contains(concat( \" \", @class, \" \" ), concat( \" \", \"_5tHAy\", \" \" ))][4]\""
   ]
  },
  {
   "cell_type": "code",
   "execution_count": null,
   "id": "d3409ce4",
   "metadata": {},
   "outputs": [],
   "source": []
  },
  {
   "cell_type": "code",
   "execution_count": null,
   "id": "a011dbb6",
   "metadata": {},
   "outputs": [],
   "source": [
    "def bs4_attr_info(self, html, attr, attrvalue):\n",
    "    sp = BeautifulSoup(html, \"lxml\")\n",
    "    x = sp.find(attr=attrvalue)"
   ]
  },
  {
   "cell_type": "code",
   "execution_count": null,
   "id": "9f2bccff",
   "metadata": {},
   "outputs": [],
   "source": [
    "x = WhBase()\n",
    "d = x.get_driver\n",
    "dc = x.message_read('emergency', 500)"
   ]
  },
  {
   "cell_type": "code",
   "execution_count": null,
   "id": "6c229d68",
   "metadata": {},
   "outputs": [],
   "source": [
    "print(dc)"
   ]
  },
  {
   "cell_type": "code",
   "execution_count": null,
   "id": "112672e8",
   "metadata": {},
   "outputs": [],
   "source": []
  },
  {
   "cell_type": "code",
   "execution_count": null,
   "id": "6e822866",
   "metadata": {},
   "outputs": [],
   "source": []
  },
  {
   "cell_type": "code",
   "execution_count": null,
   "id": "9eaeb62a",
   "metadata": {},
   "outputs": [],
   "source": [
    "\n",
    "\n",
    "def msg_read(n, clsobj):\n",
    "    dc, bi = msgxp(n)\n",
    "    if clsobj.xpelem(bi) is None: return None\n",
    "    else:\n",
    "        #clsobj.just_move(bi)\n",
    "        clsobj.move_click(dc['read_more_btn'])\n",
    "        msgdttm, sender = clsobj.msg_sender_dttm(n)\n",
    "        for k, v in dc.copy().items():\n",
    "            if k == 'msg_sender': dc[k] = [sender]\n",
    "            elif k == 'msg_datetime': dc[k] = [msgdttm]\n",
    "            else: dc[k] = clsobj.xptbulk(v)\n",
    "        return dc\n",
    "    "
   ]
  },
  {
   "cell_type": "code",
   "execution_count": null,
   "id": "81eda8b7",
   "metadata": {},
   "outputs": [],
   "source": []
  },
  {
   "cell_type": "code",
   "execution_count": null,
   "id": "6f86f57a",
   "metadata": {},
   "outputs": [],
   "source": []
  },
  {
   "cell_type": "code",
   "execution_count": null,
   "id": "576e28f9",
   "metadata": {},
   "outputs": [],
   "source": [
    "def msg_read_all(chat_name, clsobj=None):\n",
    "    dic, ls = defaultdict(), []\n",
    "    obj = x if clsobj is None else clsobj\n",
    "    body_msg_nav_arrow = '/html/body/div[1]/div/div/div[4]/div/div[2]/div/div[1]/span/div'\n",
    "    ret = obj.select_chat(chat_name)\n",
    "    if ret is None or ret==0: \n",
    "        print('could not select chat, please check')\n",
    "    else:\n",
    "        duplicate, i, q = 2, 1, 0\n",
    "        while duplicate==0 or duplicate<3:\n",
    "            xdc = msg_read(i, clsobj)\n",
    "            if xdc is not None and xdc['sender_text'] is not None:\n",
    "                xy = '-'.join(map(str,xdc['sender_text'] + xdc['msg_datetime']))\n",
    "                if xy not in ls:\n",
    "                    q = q + 1\n",
    "                    dic = update_key_value(dic, xdc)\n",
    "                    ls.append(xy)\n",
    "                    diplicate =0\n",
    "                    print(q, xdc['msg_sender'],'-',xdc['msg_datetime'])\n",
    "                    i = i + 1\n",
    "                else:\n",
    "                    i = 2\n",
    "                    obj.just_move(\"(//div[@id='main']//div[@data-testid='msg-container'])[\" + str(2) + \"]\")\n",
    "                    tm.sleep(1)\n",
    "            else:\n",
    "                #obj.just_move(\"(//div[@id='main']//div[@data-testid='msg-container'])[\" + str(1) + \"]\")\n",
    "                obj.scroll_by_xpath()\n",
    "                i = 2\n",
    "                tm.sleep(1)\n",
    "                duplicate = duplicate + 1\n",
    "                print('dup', duplicate)\n",
    "            \n",
    "        print('while break')\n",
    "    return dic"
   ]
  },
  {
   "cell_type": "code",
   "execution_count": null,
   "id": "20c6c5ed",
   "metadata": {},
   "outputs": [],
   "source": []
  },
  {
   "cell_type": "code",
   "execution_count": null,
   "id": "493d3728",
   "metadata": {},
   "outputs": [],
   "source": []
  },
  {
   "cell_type": "code",
   "execution_count": null,
   "id": "52d45c37",
   "metadata": {},
   "outputs": [],
   "source": []
  },
  {
   "cell_type": "code",
   "execution_count": null,
   "id": "cdc0b72a",
   "metadata": {},
   "outputs": [],
   "source": []
  },
  {
   "cell_type": "code",
   "execution_count": null,
   "id": "7dea2d0e",
   "metadata": {
    "scrolled": true
   },
   "outputs": [],
   "source": []
  },
  {
   "cell_type": "code",
   "execution_count": null,
   "id": "3234b5de",
   "metadata": {},
   "outputs": [],
   "source": [
    "dc = msg_read_all('emergency', x)\n"
   ]
  },
  {
   "cell_type": "code",
   "execution_count": null,
   "id": "6bc59a76",
   "metadata": {
    "code_folding": []
   },
   "outputs": [],
   "source": []
  },
  {
   "cell_type": "markdown",
   "id": "15e36cc8",
   "metadata": {},
   "source": []
  },
  {
   "cell_type": "code",
   "execution_count": null,
   "id": "921b0025",
   "metadata": {},
   "outputs": [],
   "source": []
  },
  {
   "cell_type": "code",
   "execution_count": null,
   "id": "32d2a05d",
   "metadata": {
    "scrolled": true
   },
   "outputs": [],
   "source": [
    "df = pd.DataFrame.from_dict(dc)\n",
    "print(df)"
   ]
  },
  {
   "cell_type": "code",
   "execution_count": null,
   "id": "bc35cdeb",
   "metadata": {},
   "outputs": [],
   "source": [
    "df.to_csv('tx.csv')"
   ]
  },
  {
   "cell_type": "code",
   "execution_count": null,
   "id": "647dd2a0",
   "metadata": {},
   "outputs": [],
   "source": []
  }
 ],
 "metadata": {
  "kernelspec": {
   "display_name": "Python 3 (ipykernel)",
   "language": "python",
   "name": "python3"
  },
  "language_info": {
   "codemirror_mode": {
    "name": "ipython",
    "version": 3
   },
   "file_extension": ".py",
   "mimetype": "text/x-python",
   "name": "python",
   "nbconvert_exporter": "python",
   "pygments_lexer": "ipython3",
   "version": "3.9.1"
  },
  "nbTranslate": {
   "displayLangs": [
    "*"
   ],
   "hotkey": "alt-t",
   "langInMainMenu": true,
   "sourceLang": "en",
   "targetLang": "fr",
   "useGoogleTranslate": true
  },
  "toc": {
   "base_numbering": 1,
   "nav_menu": {},
   "number_sections": true,
   "sideBar": true,
   "skip_h1_title": false,
   "title_cell": "Table of Contents",
   "title_sidebar": "Contents",
   "toc_cell": false,
   "toc_position": {},
   "toc_section_display": true,
   "toc_window_display": false
  }
 },
 "nbformat": 4,
 "nbformat_minor": 5
}
