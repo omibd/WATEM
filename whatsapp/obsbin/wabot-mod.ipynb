{
 "cells": [
  {
   "cell_type": "markdown",
   "id": "49deace8",
   "metadata": {},
   "source": [
    "## WATEM :: WhatsAppTEM"
   ]
  },
  {
   "cell_type": "markdown",
   "id": "364d4a28",
   "metadata": {},
   "source": [
    "### WhatsApp XPATH in Global Vars\n",
    "whatsapp has 2 section\n",
    "1. sidepane\n",
    "2. body"
   ]
  },
  {
   "cell_type": "markdown",
   "id": "84820b25",
   "metadata": {},
   "source": [
    "### Library Imports"
   ]
  },
  {
   "cell_type": "code",
   "execution_count": 25,
   "id": "096a7430",
   "metadata": {},
   "outputs": [],
   "source": [
    "import os, sys, time, subprocess\n",
    "from collections import defaultdict\n",
    "import datetime as dt\n",
    "from dateutil.parser import *\n",
    "import time as tm\n",
    "import pandas as pd\n",
    "import numpy as np\n",
    "from bs4 import BeautifulSoup\n",
    "from selenium import webdriver\n",
    "from selenium.webdriver.chrome.service import Service\n",
    "from webdriver_manager.chrome import ChromeDriverManager\n",
    "from selenium.webdriver.chrome.options import Options\n",
    "from selenium.webdriver.common.by import By\n",
    "from selenium.webdriver.support.ui import WebDriverWait\n",
    "from selenium.webdriver.support import expected_conditions as EC\n",
    "from selenium.webdriver.common.action_chains import ActionChains\n",
    "from selenium.common.exceptions import NoSuchElementException\n",
    "from selenium.common.exceptions import NoAlertPresentException\n",
    "from selenium.webdriver.common.keys import Keys\n",
    "from selenium.webdriver.common.alert import Alert\n",
    "from selenium.webdriver.support.ui import Select\n",
    "\n",
    "\n",
    "mypath = os.path.dirname(os.path.realpath('.')) #'__file__'\n",
    "sys.path.insert(0,mypath)\n",
    "#from whatsapp import *"
   ]
  },
  {
   "cell_type": "markdown",
   "id": "31075801",
   "metadata": {},
   "source": [
    "### Developed Scrap Functions "
   ]
  },
  {
   "cell_type": "code",
   "execution_count": 26,
   "id": "e514feb3",
   "metadata": {
    "code_folding": []
   },
   "outputs": [],
   "source": [
    "def xc(driver, xpt, click=True): #clickable\n",
    "    try:\n",
    "        wait = WebDriverWait(driver, 10)\n",
    "        element = wait.until(EC.element_to_be_clickable((By.XPATH, xpt)))\n",
    "        if click: element.click()\n",
    "        else: return element\n",
    "    except: return False    \n",
    "\n",
    "def xfill(driver, xpt, txt=None, search_only =True):\n",
    "    wait = WebDriverWait(driver, 10)\n",
    "    element = wait.until(EC.presence_of_element_located((By.XPATH, xpt))) if type(xpt) is str else xpt\n",
    "    if element != False:\n",
    "        element.clear()\n",
    "        ac = ActionChains(driver)\n",
    "        ac.move_to_element(element).click().perform()\n",
    "        if txt is not None and chr(10) in txt and search_only==False:\n",
    "            xx = txt.split(chr(10))\n",
    "            for line in xx:\n",
    "                ac.send_keys(line).perform()\n",
    "                ac.key_down(Keys.SHIFT).key_down(Keys.ENTER).key_up(Keys.SHIFT).key_up(Keys.ENTER).perform()\n",
    "            ac.send_keys(Keys.RETURN).perform()\n",
    "        elif txt is not None and search_only==False:\n",
    "            ac.send_keys(name).send_keys(Keys.RETURN).perform()\n",
    "        elif txt is not None and search_only==True:\n",
    "            ac.send_keys(name).perform()"
   ]
  },
  {
   "cell_type": "markdown",
   "id": "0b990a55",
   "metadata": {},
   "source": [
    "### MSG-Content Scraper (with editable xpath)"
   ]
  },
  {
   "cell_type": "code",
   "execution_count": 27,
   "id": "75fb4c07",
   "metadata": {
    "code_folding": []
   },
   "outputs": [],
   "source": [
    "def bs_div_attr(html, search_attr='data-pre-plain-text',tag=\"div\"):\n",
    "    sp = BeautifulSoup(html, \"lxml\")\n",
    "    x = sp.find_all(tag)\n",
    "    for i in x:\n",
    "        try:\n",
    "            st = i[search_attr]\n",
    "            break\n",
    "        except:pass\n",
    "    else: return None, None\n",
    "    try:\n",
    "        split_point = st.find(']')\n",
    "        sender = st[split_point+1:].replace(':','').strip(' ')\n",
    "        dttm = parse(st[1:split_point].upper())\n",
    "        return dttm.strftime(\"%Y-%m-%d %H:%M\"), sender\n",
    "    except: None, None\n",
    "        \n",
    "def xpob(driver, xpt):\n",
    "    wait = WebDriverWait(driver, 2)\n",
    "    try: return wait.until(EC.presence_of_element_located((By.XPATH, xpt)))\n",
    "    except: return False\n",
    "    \n",
    "def msg_scrap(driver, n=4, base=\"(//div[@id='main']//div[@class='ItfyB _3nbHh'])\"):\n",
    "    msgdiv = base + \"[\" + str(n) + \"]\"\n",
    "    try: ActionChains(driver).move_to_element(xpob(driver, msgdiv)).perform()\n",
    "    except: pass\n",
    "    dt_plus_sender_xpt = msgdiv + \"//div[@class='_27K43 _31p5Q']\"\n",
    "    sender_msg_xpt = msgdiv + \"//div[@class='_21Ahp']/span[1]/span\"\n",
    "    sender_msg_xpt_1 = msgdiv + \"//div[@class='_27K43 _31p5Q']//span/span\"\n",
    "    quoted_sender_xpt = msgdiv + \"//div[@class='_3pMOs yKTUI']//div[1]/span\"\n",
    "    quoted_text_xpt = msgdiv + \"//div[@class='_3pMOs yKTUI']//div[2]/span\"\n",
    "    read_more_button = msgdiv + '/div[1]/div[2]/div/div'\n",
    "    rd = xpob(d, read_more_button)\n",
    "    if type(rd) is not bool:\n",
    "        if 'more' in rd.text.lower() or 'Read' in rd.text:\n",
    "            try: ActionChains(driver).move_to_element(rd).click().perform()\n",
    "            except: pass\n",
    "            xc(driver, read_more_button)\n",
    "    \n",
    "    dttm,sender,sender_msg,quoted_sender,quoted_text = '','','','',''\n",
    "    a = xpob(driver, dt_plus_sender_xpt)\n",
    "    if type(a) is bool: return None\n",
    "    \n",
    "    b = a.get_attribute('innerHTML')\n",
    "    dttm, sender = bs_div_attr(b)\n",
    "    try:\n",
    "        sender_msg = xpob(driver, sender_msg_xpt).text\n",
    "    except:\n",
    "        sender_msg = xpob(driver, sender_msg_xpt_1).text\n",
    "    if type(xpob(d, quoted_sender_xpt)) is not bool:\n",
    "        quoted_sender = xpob(driver, quoted_sender_xpt).text\n",
    "        quoted_text = xpob(driver, quoted_text_xpt).text\n",
    "    return [dttm,sender,sender_msg,quoted_sender,quoted_text]"
   ]
  },
  {
   "cell_type": "code",
   "execution_count": 28,
   "id": "bd983ce1",
   "metadata": {},
   "outputs": [],
   "source": [
    "def sidepane_scroll_by_id(driver, initial = 1, scrolls=25):\n",
    "    for i in range(0, scrolls):\n",
    "        driver.execute_script(\"document.getElementById('pane-side').scrollTop={}\".format(initial))\n",
    "        initial += 300\n",
    "    return initial\n",
    "\n",
    "def scroll_by_xpath(driver, xpt=\"(//div[@id='main']//div[@class='ItfyB _3nbHh'])[2]\"):\n",
    "    wait = WebDriverWait(driver, 30)\n",
    "    driver.execute_script(\"arguments[0].scrollIntoView(true);\", wait.until(EC.presence_of_element_located((By.XPATH, xpt))))\n",
    "    return 1\n",
    "    \n",
    "def reload(driver, wait_sec=60):\n",
    "    wait = WebDriverWait(driver, wait_sec)\n",
    "    driver.refresh()\n",
    "    try:\n",
    "        driver.switch_to.alert.accept()\n",
    "    except:\n",
    "        pass\n",
    "    search_bar_xpt = \"/html/body/div[1]/div/div/div[3]/div/div[1]/div/div/div[2]/div/div[2]\"\n",
    "    element = wait.until(EC.presence_of_element_located((By.XPATH, search_bar_xpt)))\n",
    "    print('reloaded success')"
   ]
  },
  {
   "cell_type": "markdown",
   "id": "776b66d7",
   "metadata": {},
   "source": [
    "### Director Class"
   ]
  },
  {
   "cell_type": "code",
   "execution_count": 29,
   "id": "cb8ea8f4",
   "metadata": {},
   "outputs": [],
   "source": [
    "\n",
    "class Wakit:\n",
    "    \n",
    "    def __init__(self):\n",
    "        chrome_options = Options()\n",
    "        chrome_options.add_experimental_option(\"debuggerAddress\", \"127.0.0.1:9222\")\n",
    "        self.driver = webdriver.Chrome(service=Service(ChromeDriverManager().install()), options=chrome_options)\n",
    "        self.wait = WebDriverWait(self.driver, 5)\n",
    "        self.ac = ActionChains(self.driver)\n",
    "        self.cdata = defaultdict()\n",
    "        self.parsed_counter = 0\n",
    "        self.store_msg = pd.DataFrame(columns=['dttm','sender','sender_msg','quoted_sender','quoted_text','insert_dttm','chat_name'])\n",
    "        print(self.driver.title)\n",
    "        \n",
    "    def isPresent(self, xpt):\n",
    "        try: return self.wait.until(EC.presence_of_element_located((By.XPATH, xpt)))\n",
    "        except: return 0\n",
    "    \n",
    "    def FetchText(self, xpt):\n",
    "        try: return self.wait.until(EC.presence_of_element_located((By.XPATH, xpt))).text\n",
    "        except: return 0\n",
    "        \n",
    "    def select_chat(self, name):\n",
    "        xpt = \"/html/body/div[1]/div/div/div[3]/div/div[1]/div/div/div[2]/div/div[2]\"\n",
    "        element = self.wait.until(EC.presence_of_element_located((By.XPATH, xpt)))\n",
    "        element.clear()\n",
    "        #self.ac.send_keys(name).send_keys(Keys.RETURN).perform()\n",
    "        self.ac.move_to_element(element).click().perform()\n",
    "        self.ac.send_keys(name).send_keys(Keys.RETURN).perform()\n",
    "        #self.ac.send_keys(name).send_keys(Keys.RETURN).perform()\n",
    "        return 1\n",
    "        \n",
    "    def chain(self, xptdict):\n",
    "        ''' following xpdict argument open chat name 'onami' and send message 'HI'\n",
    "            xptdict = {\"//div[@class='_2vDPL']\" : {'cmd':'paste', 'text':'onami'},\n",
    "             \"//footer[@class='_3E8Fg']//p\": {'cmd':'paste','text':'HI'}}\n",
    "        '''\n",
    "        for xp, v in xptdict.items():\n",
    "            x1 = self.isPresent(xp)\n",
    "            if x1 != 0: \n",
    "                self.chain_1(x1, v)\n",
    "            else:\n",
    "                print(xp, ' Not Found')\n",
    "\n",
    "    def chain_1(self, x1,  v):\n",
    "        if 'click' in v['cmd']:\n",
    "            self.ac.move_to_element(x1).click().perform()\n",
    "            print('clicked')\n",
    "        elif 'paste' in v['cmd']:\n",
    "            if v['text'] is not None and chr(10) in v['text']:\n",
    "                self.write_multiline(v['text'])\n",
    "            elif v['text'] is not None:\n",
    "                self.ac.move_to_element(x1).click().perform()\n",
    "                if 'paste-only' in v['cmd']:\n",
    "                    self.ac.send_keys(v['text']).perform()\n",
    "                else:\n",
    "                    self.ac.send_keys(v['text']).send_keys(Keys.RETURN).perform()\n",
    "    \n",
    "    def write_long_msg(self, x1, text):\n",
    "        x1 = isPresent(x1) if type(x1) is str else x1\n",
    "        self.ac.move_to_element(x1).click().perform()\n",
    "        xx = text.split(chr(10))\n",
    "        for line in xx:\n",
    "            self.ac.send_keys(line).perform()\n",
    "            self.ac.key_down(Keys.SHIFT).key_down(Keys.ENTER).key_up(Keys.SHIFT).key_up(Keys.ENTER).perform()\n",
    "        else: \n",
    "            self.ac.send_keys(Keys.RETURN).perform()\n",
    "            \n",
    "    def storing_msg(self, ls):\n",
    "        if ls is not None and len(ls)>1:\n",
    "            self.store_msg.loc[len(self.store_msg.index)] = ls\n",
    "    \n",
    "    def getxpt(self, xpt):\n",
    "        wait = WebDriverWait(self.driver, 3)\n",
    "        try: return wait.until(EC.presence_of_element_located((By.XPATH, ''.join(xpt)))).text\n",
    "        except: 0\n",
    "    \n",
    "    def message_scraper(self, chat_name='emergency', msg_container=30):\n",
    "        insert_dttm = dt.datetime.now().strftime('%Y-%m-%d %H:%M')\n",
    "        if self.select_chat(chat_name) == 1: pass\n",
    "        else: return chat_name + \" selection problem\"\n",
    "        base = \"(//div[@id='main']//div[@class='ItfyB _3nbHh'])\"\n",
    "        for i in range(1, msg_container):\n",
    "            bs = base + '[' + str(msg_container) + ']'\n",
    "            while self.getxpt(bs) == 0 or self.getxpt(bs) == None or self.getxpt(bs) == '':\n",
    "                scroll_by_xpath(self.driver, xpt=\"(//div[@id='main']//div[@class='ItfyB _3nbHh'])[1]\")\n",
    "                tm.sleep(0.5)\n",
    "                try: self.ac.move_to_element(isPresent(\"(//div[@id='main']//div[@class='ItfyB _3nbHh'])[2]\"))\n",
    "                except: pass\n",
    "                bs = base + '[' + str(msg_container) + ']'\n",
    "            print('container: ', i)\n",
    "            m = msg_scrap(self.driver, i)\n",
    "            mx = m + [insert_dttm , chat_name] if m is not None else m\n",
    "            print(mx)\n",
    "            self.storing_msg(mx)\n",
    "        else:\n",
    "            self.store_msg.to_csv(chat_name + dt.datetime.now().strftime('%d-%M-%Y_%H%M') + '.csv')\n",
    "    \n",
    "    @property\n",
    "    def get_driver(self):\n",
    "        return self.driver\n",
    "    \n",
    "    def clkcross(self, cross_search_bar = [\"//div[@class='_2vDPL']\",]):\n",
    "        for ii in cross_search_bar:\n",
    "            try:\n",
    "                element = self.wait.until(EC.element_to_be_clickable((By.XPATH, ii)))\n",
    "                self.ac.move_to_element(element).click().perform()\n",
    "            except:\n",
    "                pass"
   ]
  },
  {
   "cell_type": "code",
   "execution_count": 31,
   "id": "d4536fe8",
   "metadata": {},
   "outputs": [
    {
     "name": "stdout",
     "output_type": "stream",
     "text": [
      "(10) WhatsApp\n",
      "container:  1\n",
      "['2023-01-20 19:04', 'Hosna Ara', 'Update of Site Down at 19:00 On 20-01-2023\\n\\nRegion: 2G/3G/4G\\nNational: 23/7/10\\n\\nDHK_M: 4/0/1\\nDHK_N: 0/0/0\\nDHK_S: 2/0/0\\nDHK_O: 5/0/0\\nCTG_M: 2/1/1\\nCTG_N: 1/0/0\\nCTG_S: 0/0/0\\nCOM: 1/0/0\\nNOA: 5/0/5\\nSYL: 0/0/0\\nMYM: 1/1/1\\nBAR: 0/1/0\\nKHL: 2/4/2\\nKUS: 0/0/0\\nRAJ: 0/0/0\\nRANG: 0/0/0', '', '', '2023-01-21 05:09', 'emergency']\n",
      "container:  2\n",
      "['2023-01-20 19:30', 'tawhid vai', 'Net Status 19-Jan,2023\\n\\nVLR(A): 43.45M(+39.53K)\\nVLR(R): 45.15M(+1.35K)\\nHLR: 112.22M(+0.9K)\\n4G(A): 18.71M(-31.94K)\\n4G(R): 24.44M(+53.27K)\\nEL(WD): 5.93M(+747.74K)\\nELSR: 98.77%(+1.03%)\\n\\nNetwork Performance:\\nCSSR2G: 99.24%(+0.13%)\\nCDR2G: 0.36%(-0.03%)\\nCDR3G: 0.19%(+0%)\\nPSR: 94.91%(+3.55%)\\nLUSR: 98.84%(+0.38%)\\nMTCCR: 92.6%(-0.33%)\\nSMMTSR: 59.74%(+0.78%)\\n\\nTraffic:\\nVoice:\\n2G(BH): 457.67K(-35.79K)\\n2G(WD): 5050.97K(-74.79K)\\n3G(BH): 269.36K(-12.48K)\\n3G(WD): 3119.59K(-42.88K)\\n\\nData:\\nGiDL(TP): 1164.5Gbps(-4.7Gbps)\\nGiDL(FNA): 494Gbps\\nGiDL(GGC): 256Gbps\\nGiDL(BDIX): 4.4Gbps\\n2G(WD): 13.6TB(-0.21TB)\\n3G(WD): 597.99TB(+2.47TB)\\n4G(WD): 7638.22TB(+547.77TB)\\nTotalData: 8249.81TB(+550.03TB)\\n\\nSMS:\\nSMMT(WD): 20.02M(-962.07K)\\n\\nIIG Peak Usage (Gbps) /Capacity (Gbps) /Uti (%):\\nNational(IIG):625.82/636.5/98.32\\n\\nDhaka:\\nSCL:4.22/4.5/93.78\\nAamra:90.14/97/92.93\\nLevel3: 100.72/109.5/91.98\\nBTCL: 98.18/78/125.87\\nMango: 29.25/37.5/78\\nFHL:11.47/11/104.27\\n\\nChittagong:\\nAamra: 97.32/103/94.49\\nSCL: 11.03/11/100.27\\nLevel3: 85.58/90.5/94.56\\nBTCL: 64.38/62/103.84\\nMango: 33.53/32.5/103.17\\n\\nAvailability: 2G/3G/4G\\nNational: 99.71/99.41/99.97\\n\\nSite Count (As of Jan-19, Source - TSPR report):\\n2G:  15550 \\n3G:  9108 \\n4G:  15680', '', '', '2023-01-21 05:09', 'emergency']\n",
      "container:  3\n",
      "['2023-01-20 20:01', 'Shibbir RNM', \"20-Jan'23@20:00\\nBSC CSSR: No degradation\\nVoice Traffic: No degradation\", '', '', '2023-01-21 05:09', 'emergency']\n",
      "container:  4\n",
      "['2023-01-20 20:11', 'Hosna Ara', 'Update of Site Down at 20:00 On 20-01-2023\\n\\nRegion: 2G/3G/4G\\nNational: 17/3/7\\n\\nDHK_M: 4/0/1\\nDHK_N: 0/0/0\\nDHK_S: 2/0/0\\nDHK_O: 4/0/0\\nCTG_M: 0/0/0\\nCTG_N: 1/0/0\\nCTG_S: 0/0/0\\nCOM: 0/0/0\\nNOA: 4/0/4\\nSYL: 1/0/1\\nMYM: 0/0/0\\nBAR: 0/1/0\\nKHL: 0/2/0\\nKUS: 1/0/1\\nRAJ: 0/0/0\\nRANG: 0/0/0', '', '', '2023-01-21 05:09', 'emergency']\n",
      "container:  5\n",
      "['2023-01-20 20:17', 'hasan yeaseen', 'Apu please check few 2G, may be false alarm', 'Hosna Ara', 'Update of Site Down at 20:00 On 20-01-2023\\n\\nRegion: 2G/3G/4G\\nNational: 17/3/7\\n\\nDHK_M: 4/0/1\\nDHK_N: 0/0/0\\nDHK_S: 2/0/0\\nDHK_O: 4/0/0\\nCTG_M: 0/0/0\\nCTG_N: 1/0/0\\nCTG_S: 0/0/0\\nCOM: 0/0/0\\nNOA: 4/0/4\\nSYL: 1/0/1\\nMYM: 0/0/0\\nBAR: 0/1/0\\nKHL: 0/2/0\\nKUS: 1/0/1\\nRAJ: 0/0/0\\nRANG: 0/0/0', '2023-01-21 05:09', 'emergency']\n",
      "container:  6\n",
      "['2023-01-20 20:19', 'Hosna Ara', 'checking vaia', 'hasan yeaseen', 'Apu please check few 2G, may be false alarm', '2023-01-21 05:09', 'emergency']\n",
      "container:  7\n",
      "None\n",
      "container:  8\n",
      "['2023-01-20 21:11', 'Hosna Ara', 'Update of Site Down at 21:00 On 20-01-2023\\n\\nRegion: 2G/3G/4G\\nNational: 19/4/6\\n\\nDHK_M: 4/1/2\\nDHK_N: 0/0/0\\nDHK_S: 2/0/0\\nDHK_O: 4/0/0\\nCTG_M: 1/1/0\\nCTG_N: 1/0/0\\nCTG_S: 0/0/0\\nCOM: 0/0/0\\nNOA: 3/0/3\\nSYL: 3/0/0\\nMYM: 0/0/0\\nBAR: 0/1/0\\nKHL: 0/1/0\\nKUS: 1/0/1\\nRAJ: 0/0/0\\nRANG: 0/0/0', '', '', '2023-01-21 05:09', 'emergency']\n",
      "container:  9\n",
      "None\n",
      "container:  10\n",
      "['2023-01-20 21:21', 'tawhid vai', 'Network Update\\n21:00_20/01/2023\\n\\nPDP SR found 100% in all UGWs except PB03 vUGW06 \\n\\nCurrently no Pending TT in the Core bucket\\n\\nNo Capping observed\\n\\nNo alarm found at ATIC\\n\\nNo Delay & Packet loss in Service Performance Report except Akhter-Amara to FB, Alekharchar-Aamra to Youtube, Vulta-Level3 to both FB & Youtube, Alekharchar-BTCL to Youtube, Pubail-BTCL to Youtube & Bodderhat-BTCL to Youtube\\n\\nNo critical alarms found at PSA Report\\n\\nCTO and CEBO traces are not running due to some security error\\n\\nNCEIP QoS related issue raised to TxM/Tx_FLS (15:25_20/01/23)', '', '', '2023-01-21 05:09', 'emergency']\n",
      "container:  11\n",
      "None\n",
      "container:  12\n",
      "['2023-01-20 22:04', 'Hosna Ara', 'Update of Site Down at 22:00 On 20-01-2023\\n\\nRegion: 2G/3G/4G\\nNational: 18/5/10\\n\\nDHK_M: 4/1/3\\nDHK_N: 1/0/1\\nDHK_S: 2/0/0\\nDHK_O: 4/0/0\\nCTG_M: 1/1/1\\nCTG_N: 1/0/0\\nCTG_S: 0/0/0\\nCOM: 0/0/0\\nNOA: 3/0/3\\nSYL: 1/1/1\\nMYM: 0/0/0\\nBAR: 0/1/0\\nKHL: 0/1/0\\nKUS: 1/0/1\\nRAJ: 0/0/0\\nRANG: 0/0/0', '', '', '2023-01-21 05:09', 'emergency']\n",
      "container:  13\n",
      "[None, None, '', '', '', '2023-01-21 05:09', 'emergency']\n",
      "container:  14\n",
      "['2023-01-20 22:48', 'hasan yeaseen', \"The Duty Handover to Night shift at 22:45 on 20-Jan-2023:\\n\\nSM: Shahin Vai\\nCNM: Gowrongo Da\\nTX_M: Shabbir vai\\nTX_FLS: Jubaer Vai \\nRAN_M: Mahfuz Vai\\nRAN: Baytul Vai\\n\\nBO Support Concerns for this week (15 January to 21 th January_2023)\\n\\nCN_BO: CS_ Arif & PS_ Abeer\\nTX_BO: Toriqul\\nRAN_BO: Zakeer\\nOSS: Paroma\\nIP TNO:  Abul Kashem\\nTSPR: Monoj\\nDCN_Net: Mostaq\\n\\nMajor Concern: \\n\\n1. @RANFLS/SM, please check BSC/RNC Voice Traffic degradation, CSSR degradation update email from Network. Insight regular basis. \\n@RANFLS from now on post the update every hour. \\n@SM, Keep Tableau/Network Availability Dashboard under observation.\\n\\n2. @RANFLS, don't reset any Gulshan's sites except jalal vai's consent.\\n\\n3. Please don’t open any Core site CR without Jalal Bhai’s concern.\\n(Bhaiya…\", '', '', '2023-01-21 05:09', 'emergency']\n",
      "container:  15\n",
      "None\n",
      "container:  16\n",
      "['2023-01-20 22:56', 'Alauddin Vai', '@baitul Bro, need to check this 02 site for data complaints', 'Alauddin Vai', 'Photo', '2023-01-21 05:09', 'emergency']\n",
      "container:  17\n",
      "['2023-01-20 23:10', 'Mahafuj RNM', 'Update of Site Down at 23:00 On 20-01-2023\\n\\nRegion: 2G/3G/4G\\nNational: 23/5/13\\n\\nDHK_M: 5/2/4\\nDHK_N: 1/0/1\\nDHK_S: 2/0/0\\nDHK_O: 4/0/0\\nCTG_M: 1/1/1\\nCTG_N: 2/0/1\\nCTG_S: 2/0/2\\nCOM: 0/0/0\\nNOA: 5/0/3\\nSYL: 1/1/1\\nMYM: 0/0/0\\nBAR: 0/1/0\\nKHL: 0/0/0\\nKUS: 0/0/0\\nRAJ: 0/0/0\\nRANG: 0/0/0', '', '', '2023-01-21 05:09', 'emergency']\n",
      "container:  18\n",
      "['2023-01-21 00:01', 'baitul', 'DHGUL3A\\n4G: interference observed in L09A cell. Busy hour Dl throughput observed low for L900 all cells. Need to check by SM. No ops issue found. \\n3G: from RSSI history observed RSSI is degraded whole day for 2nd sector. Need to check by SM. No ops issue observed. \\n\\nSKSDR50: No operational issue found for both 3G,4G.', 'Alauddin Vai', 'Photo', '2023-01-21 05:09', 'emergency']\n",
      "container:  19\n",
      "['2023-01-21 00:01', 'Mahafuj RNM', 'Update of Site Down at 00:00 On 21-01-2023\\n\\nRegion: 2G/3G/4G\\nNational: 16/7/14\\n\\nDHK_M: 2/1/3\\nDHK_N: 1/1/1\\nDHK_S: 1/0/0\\nDHK_O: 1/0/0\\nCTG_M: 2/1/2\\nCTG_N: 2/0/1\\nCTG_S: 2/1/2\\nCOM: 0/0/0\\nNOA: 3/0/3\\nSYL: 2/2/2\\nMYM: 0/0/0\\nBAR: 0/1/0\\nKHL: 0/0/0\\nKUS: 0/0/0\\nRAJ: 0/0/0\\nRANG: 0/0/0', '', '', '2023-01-21 05:09', 'emergency']\n"
     ]
    }
   ],
   "source": [
    "x = Wakit()\n",
    "d = x.get_driver\n",
    "x.message_scraper('emergency', 20)"
   ]
  },
  {
   "cell_type": "code",
   "execution_count": 22,
   "id": "a92018d5",
   "metadata": {},
   "outputs": [
    {
     "data": {
      "text/plain": [
       "1"
      ]
     },
     "execution_count": 22,
     "metadata": {},
     "output_type": "execute_result"
    }
   ],
   "source": [
    "x.select_chat('emergency')"
   ]
  },
  {
   "cell_type": "code",
   "execution_count": null,
   "id": "964980f0",
   "metadata": {},
   "outputs": [],
   "source": []
  },
  {
   "cell_type": "code",
   "execution_count": null,
   "id": "4c215e43",
   "metadata": {},
   "outputs": [],
   "source": []
  },
  {
   "cell_type": "code",
   "execution_count": 14,
   "id": "9b28ac0b",
   "metadata": {},
   "outputs": [
    {
     "ename": "NameError",
     "evalue": "name 'Keys' is not defined",
     "output_type": "error",
     "traceback": [
      "\u001b[1;31m---------------------------------------------------------------------------\u001b[0m",
      "\u001b[1;31mNameError\u001b[0m                                 Traceback (most recent call last)",
      "\u001b[1;32m~\\AppData\\Local\\Temp\\4\\ipykernel_10464\\2983250552.py\u001b[0m in \u001b[0;36m<module>\u001b[1;34m\u001b[0m\n\u001b[1;32m----> 1\u001b[1;33m \u001b[0mx\u001b[0m\u001b[1;33m.\u001b[0m\u001b[0mselect_chat\u001b[0m\u001b[1;33m(\u001b[0m\u001b[1;34m'emergen'\u001b[0m\u001b[1;33m)\u001b[0m\u001b[1;33m\u001b[0m\u001b[1;33m\u001b[0m\u001b[0m\n\u001b[0m",
      "\u001b[1;32m~\\AppData\\Local\\Temp\\4\\ipykernel_10464\\1972010699.py\u001b[0m in \u001b[0;36mselect_chat\u001b[1;34m(self, name)\u001b[0m\n\u001b[0;32m     24\u001b[0m         \u001b[0melement\u001b[0m \u001b[1;33m=\u001b[0m \u001b[0mself\u001b[0m\u001b[1;33m.\u001b[0m\u001b[0mwait\u001b[0m\u001b[1;33m.\u001b[0m\u001b[0muntil\u001b[0m\u001b[1;33m(\u001b[0m\u001b[0mEC\u001b[0m\u001b[1;33m.\u001b[0m\u001b[0mpresence_of_element_located\u001b[0m\u001b[1;33m(\u001b[0m\u001b[1;33m(\u001b[0m\u001b[0mBy\u001b[0m\u001b[1;33m.\u001b[0m\u001b[0mXPATH\u001b[0m\u001b[1;33m,\u001b[0m \u001b[0mxpt\u001b[0m\u001b[1;33m)\u001b[0m\u001b[1;33m)\u001b[0m\u001b[1;33m)\u001b[0m\u001b[1;33m\u001b[0m\u001b[1;33m\u001b[0m\u001b[0m\n\u001b[0;32m     25\u001b[0m         \u001b[0melement\u001b[0m\u001b[1;33m.\u001b[0m\u001b[0mclear\u001b[0m\u001b[1;33m(\u001b[0m\u001b[1;33m)\u001b[0m\u001b[1;33m\u001b[0m\u001b[1;33m\u001b[0m\u001b[0m\n\u001b[1;32m---> 26\u001b[1;33m         \u001b[0mself\u001b[0m\u001b[1;33m.\u001b[0m\u001b[0mac\u001b[0m\u001b[1;33m.\u001b[0m\u001b[0mmove_to_element\u001b[0m\u001b[1;33m(\u001b[0m\u001b[0melement\u001b[0m\u001b[1;33m)\u001b[0m\u001b[1;33m.\u001b[0m\u001b[0mclick\u001b[0m\u001b[1;33m(\u001b[0m\u001b[1;33m)\u001b[0m\u001b[1;33m.\u001b[0m\u001b[0msend_keys\u001b[0m\u001b[1;33m(\u001b[0m\u001b[0mname\u001b[0m\u001b[1;33m)\u001b[0m\u001b[1;33m.\u001b[0m\u001b[0msend_keys\u001b[0m\u001b[1;33m(\u001b[0m\u001b[0mKeys\u001b[0m\u001b[1;33m.\u001b[0m\u001b[0mRETURN\u001b[0m\u001b[1;33m)\u001b[0m\u001b[1;33m.\u001b[0m\u001b[0mperform\u001b[0m\u001b[1;33m(\u001b[0m\u001b[1;33m)\u001b[0m\u001b[1;33m\u001b[0m\u001b[1;33m\u001b[0m\u001b[0m\n\u001b[0m\u001b[0;32m     27\u001b[0m         \u001b[1;31m#self.ac.send_keys(name).send_keys(Keys.RETURN).perform()\u001b[0m\u001b[1;33m\u001b[0m\u001b[1;33m\u001b[0m\u001b[0m\n\u001b[0;32m     28\u001b[0m         \u001b[1;32mreturn\u001b[0m \u001b[1;36m1\u001b[0m\u001b[1;33m\u001b[0m\u001b[1;33m\u001b[0m\u001b[0m\n",
      "\u001b[1;31mNameError\u001b[0m: name 'Keys' is not defined"
     ]
    }
   ],
   "source": []
  },
  {
   "cell_type": "code",
   "execution_count": null,
   "id": "f71a83c4",
   "metadata": {},
   "outputs": [],
   "source": []
  },
  {
   "cell_type": "code",
   "execution_count": 8,
   "id": "bad8e270",
   "metadata": {},
   "outputs": [],
   "source": [
    "cross_search_bar = ['/html/body/div[1]/div/div/div[3]/div/div[1]/div/div/span/button/span',\n",
    "                    '/html/body/div[1]/div/div/div[3]/div/div[1]/div/div/button/div[2]/span']\n",
    "for ii in cross_search_bar:\n",
    "    try:\n",
    "        element = self.wait.until(EC.element_to_be_clickable((By.XPATH, ii)))\n",
    "        self.ac.move_to_element(element).click().perform()\n",
    "    except:\n",
    "        pass"
   ]
  },
  {
   "cell_type": "code",
   "execution_count": 11,
   "id": "6efb6ef1",
   "metadata": {
    "scrolled": true
   },
   "outputs": [
    {
     "name": "stdout",
     "output_type": "stream",
     "text": [
      "(25) WhatsApp\n"
     ]
    },
    {
     "data": {
      "text/plain": [
       "'emergency selection problem'"
      ]
     },
     "execution_count": 11,
     "metadata": {},
     "output_type": "execute_result"
    }
   ],
   "source": []
  },
  {
   "cell_type": "code",
   "execution_count": 34,
   "id": "de869e13",
   "metadata": {},
   "outputs": [],
   "source": [
    "read_more_button = \"(//div[@id='main']//div[@class='ItfyB _3nbHh'])[last()]\" + '/div[1]/div[2]/div/div'\n",
    "rd = xpob(d, read_more_button)\n",
    "if type(rd) is not bool:\n",
    "    if 'more' in rd.text.lower():\n",
    "        ac = ActionChains(d)\n",
    "        ac.move_to_element(rd).click().perform()\n",
    "        tm.sleep(1)"
   ]
  },
  {
   "cell_type": "code",
   "execution_count": null,
   "id": "4cbe78b8",
   "metadata": {},
   "outputs": [],
   "source": []
  },
  {
   "cell_type": "code",
   "execution_count": null,
   "id": "e5dd28f8",
   "metadata": {},
   "outputs": [],
   "source": []
  },
  {
   "cell_type": "code",
   "execution_count": null,
   "id": "84be09ea",
   "metadata": {},
   "outputs": [],
   "source": [
    "def bodymsg(nodeno=2, bodybase = \"(//div[@class='ItfyB _3nbHh'])\"):\n",
    "    base = bodybase + \"[\" + str(nodeno) + ']'\n",
    "    bodyxpt = {'sender':[base + '/div/div[1]'],\n",
    "               'sender_text':[ base + '/div/div[2]'],\n",
    "               'send_time':[base + '/div/div[3]'],\n",
    "               'Q_Clickable':[base + '/div[1]/div/div/div/div'],\n",
    "               'Q_Sender':[base + '//div[2]/div[1]/div/div/div/div/div[1]/span'],\n",
    "               'Q_Text':[base + '//div[2]/div[1]/div/div/div/div/div[2]/span']}\n",
    "    return bodyxpt\n",
    "\n",
    "def msgtext(div_number=2,base=\"(//div[@id='main']//div[@class='ItfyB _3nbHh'])\"):\n",
    "    b = base + '[' + str(div_number) + ']'\n",
    "    msgxpt = {'datetime': b + \"//div[@class='_27K43 _31p5Q']/div\",\n",
    "              'msg_sender' : b + \"//span[@class='_3FuDI ajgl1lbb edeob0r2 _11JPr']\",\n",
    "              'msg_text' : b + \"//div[@class='_21Ahp']//span[@class='_11JPr selectable-text copyable-text']\",\n",
    "              'Quote_Sender' : b + \"//div[@class='_1hl2r']//span[@class='_3FuDI _11JPr']\",\n",
    "              'Quote_Text' : b + \"//div[@class='_1hl2r']//div[@class='_37DQv']\"}\n",
    "    return msgxpt\n",
    "\n",
    "def getxpt(driver, xpt):\n",
    "    wait = WebDriverWait(driver, 3)\n",
    "    try: return wait.until(EC.presence_of_element_located((By.XPATH, ''.join(xpt)))).text\n",
    "    except: 0\n",
    "\n",
    "def iter_msg_container():\n",
    "    base = \"(//div[@id='main']//div[@class='ItfyB _3nbHh'])\"\n",
    "    for i in range(30, 2, -1):\n",
    "        bs = base + '[' + str(i) + ']'\n",
    "        while getxpt(d, bs) == 0 or getxpt(d, bs) == None or getxpt(d, bs) == '':\n",
    "            scroll_by_xpath(d, xpt=\"(//div[@id='main']//div[@class='ItfyB _3nbHh'])[1]\")\n",
    "            tm.sleep(3)\n",
    "        x = bodymsg(i, base)\n",
    "        for k, v in x.items():\n",
    "            print(k, ': ',getxpt(d, v))\n",
    "            print('---------------------')\n",
    "        print('##########################################')"
   ]
  },
  {
   "cell_type": "code",
   "execution_count": null,
   "id": "b2f728a5",
   "metadata": {},
   "outputs": [],
   "source": [
    "iter_msg_container()"
   ]
  },
  {
   "cell_type": "code",
   "execution_count": null,
   "id": "8f02f15a",
   "metadata": {},
   "outputs": [],
   "source": [
    "msg_arrow =lambda x : \"(//div[@id='main']//div[@class='ItfyB _3nbHh'])[\" + str(x) + \"]//div[@class='_3u9t-']/span\"\n",
    "msg_reply = lambda x: \"//ul[@class='_3bcLp']/div/li[@class='Iaqxu FCS6Q jScby'][1]\"\n",
    "msg_forward = lambda x: \"//ul[@class='_3bcLp']/div/li[@class='Iaqxu FCS6Q jScby'][4]\"\n",
    "msg_delete = lambda x: \"//ul[@class='_3bcLp']/div/li[@class='Iaqxu FCS6Q jScby'][7]\"\n",
    "msg_react = lambda x: \"//ul[@class='_3bcLp']/div/li[@class='Iaqxu FCS6Q jScby'][3]\"\n",
    "msg_react_plus_btn = \"/html/body/div[1]/div/span[4]/div/div/div/div/div/div/div[7]/div/span\""
   ]
  },
  {
   "cell_type": "code",
   "execution_count": null,
   "id": "c3ddb69e",
   "metadata": {},
   "outputs": [],
   "source": [
    "//*[contains(text(),'match')]"
   ]
  },
  {
   "cell_type": "raw",
   "id": "6e21894c",
   "metadata": {},
   "source": [
    "html_tags are -> div, span, p, h3 etc\n",
    "html_tag_attr are -> 'id, title, class' etc\n",
    "attr_value -> developed own set value to select/identify the element\n",
    "\n",
    "XPATH FORMAT: //html_tag[@html_tag_attr='attr_value']\n",
    "* = denotes for all\n",
    "\n",
    "//*[@id='main'] -> select for all tag where id == 'main'\n",
    "//div[@id='main'] -> select for all div element where id == 'main'\n",
    "\n",
    "\n",
    "//*[. = 'ABC']\n",
    "//*[text() = 'ABC']\n",
    "//div[text() = 'ABC']\n",
    "//div[contains(text(),'ABC')\n",
    "//div[contains(concat(' ',@class,' '),' foobar ')]"
   ]
  },
  {
   "cell_type": "code",
   "execution_count": null,
   "id": "9ebc9f80",
   "metadata": {},
   "outputs": [],
   "source": [
    "import pandas as pd\n",
    "df = pd.DataFrame(columns=['Col1', 'Col2', 'Col3'])"
   ]
  },
  {
   "cell_type": "code",
   "execution_count": null,
   "id": "35ab7193",
   "metadata": {},
   "outputs": [],
   "source": [
    "df.loc[len(df.index)] = ['CMSDR05', '3G', 'P2']\n",
    "df"
   ]
  },
  {
   "cell_type": "code",
   "execution_count": null,
   "id": "c66f3268",
   "metadata": {},
   "outputs": [],
   "source": [
    "df"
   ]
  },
  {
   "cell_type": "code",
   "execution_count": null,
   "id": "624027e2",
   "metadata": {},
   "outputs": [],
   "source": [
    "df.loc[len(df.index)] = ['CMSDR05', '3G', 'P2']"
   ]
  },
  {
   "cell_type": "code",
   "execution_count": null,
   "id": "71a5bf3d",
   "metadata": {},
   "outputs": [],
   "source": [
    "df"
   ]
  },
  {
   "cell_type": "code",
   "execution_count": null,
   "id": "d6830ec1",
   "metadata": {},
   "outputs": [],
   "source": [
    "# tested sucess\n",
    "# following xpdict argument open chat name 'onami' and send message 'HI'\n",
    "#c1 = {\"//div[@class='_2vDPL']\" : {'cmd':'paste', 'text':'onami'},\n",
    "#     \"//footer[@class='_3E8Fg']//p\": {'cmd':'paste','text':'HI'}}\n",
    "#x.chain(c1)"
   ]
  },
  {
   "cell_type": "code",
   "execution_count": null,
   "id": "07bb8ad1",
   "metadata": {},
   "outputs": [],
   "source": [
    "\n",
    "c1 = {\"//div[@class='_2vDPL']\" : {'cmd':'paste', 'text':'onami'}, \n",
    "      \"//footer[@class='_3E8Fg']//p\": {'cmd':'paste','text':'HI'}}\n",
    "\n",
    "c2 = {msg_arrow('last()') : {'cmd':'paste', 'text':'onami'}}"
   ]
  },
  {
   "cell_type": "code",
   "execution_count": null,
   "id": "9d399373",
   "metadata": {},
   "outputs": [],
   "source": []
  },
  {
   "cell_type": "code",
   "execution_count": null,
   "id": "55a96ed6",
   "metadata": {
    "scrolled": false
   },
   "outputs": [],
   "source": [
    "x.chain(c2)"
   ]
  },
  {
   "cell_type": "markdown",
   "id": "835aed27",
   "metadata": {},
   "source": [
    "### Develop WIP"
   ]
  },
  {
   "cell_type": "code",
   "execution_count": null,
   "id": "5531cbbc",
   "metadata": {},
   "outputs": [],
   "source": [
    "def sidepane(nodeno=2, panebase = \"(//div[@id='pane-side']//div[@class='_3OvU8'])\"):\n",
    "    base = panebase + \"[\" + str(nodeno) + \"]\"\n",
    "    panexpt = {'chat' : [base + \"//div[1]/div[1]/span\"],\n",
    "            'lastmsg' : [base + \"//div[1]/span/span[1]\"],\n",
    "            'msg_sender': [base + \"//div[2]/div[1]/span/span[3]\"],\n",
    "            'dttm' : [base + \"//div[@class='Dvjym']\"]}\n",
    "    panexpt['base'] = [base]\n",
    "    return panexpt\n",
    "\n",
    "sidepane_msg_xpt = {'chat' : [\"//div[1]/div[1]/span\"],'lastmsg' : [\"//div[1]/span/span[1]\"],\n",
    "            'msg_sender': [\"//div[2]/div[1]/span/span[3]\"],'dttm' : [\"//div[@class='Dvjym']\"]}"
   ]
  },
  {
   "cell_type": "code",
   "execution_count": null,
   "id": "eb196b6d",
   "metadata": {},
   "outputs": [],
   "source": [
    "pane_container = \"(//div[@id='pane-side']//div[@class='_8nE1Y'])\"\n",
    "pane_chat_name = (//div[@class='_8nE1Y'])[3]//div[@class='_21S-L']\n",
    "last_text = (//div[@class='_8nE1Y'])[1]//div[@class='vQ0w7']/span[1]/span[3]\n",
    "last_sender = (//div[@class='_8nE1Y'])[1]//div[@class='vQ0w7']/span[1]/span[1]\n",
    "last_msg_time = ((//div[@class='_8nE1Y'])[1]/div[@class='y_sn4']/div[@class='Dvjym']\n",
    "new_msg_notif = (//div[@class='_8nE1Y'])[1]//div[@class='Dvjym']//div[@class='_1pJ9J']/span"
   ]
  },
  {
   "cell_type": "code",
   "execution_count": null,
   "id": "4dcc655f",
   "metadata": {},
   "outputs": [],
   "source": []
  },
  {
   "cell_type": "code",
   "execution_count": null,
   "id": "87d99b47",
   "metadata": {},
   "outputs": [],
   "source": []
  },
  {
   "cell_type": "code",
   "execution_count": null,
   "id": "313efd37",
   "metadata": {},
   "outputs": [],
   "source": []
  },
  {
   "cell_type": "code",
   "execution_count": null,
   "id": "ffcbdd2f",
   "metadata": {},
   "outputs": [],
   "source": [
    "msg_scrap(d,'last()')"
   ]
  },
  {
   "cell_type": "code",
   "execution_count": null,
   "id": "3b25391f",
   "metadata": {},
   "outputs": [],
   "source": []
  },
  {
   "cell_type": "code",
   "execution_count": null,
   "id": "c46bb0d7",
   "metadata": {},
   "outputs": [],
   "source": [
    "quoted_sender"
   ]
  },
  {
   "cell_type": "code",
   "execution_count": null,
   "id": "af52c1fa",
   "metadata": {},
   "outputs": [],
   "source": []
  },
  {
   "cell_type": "code",
   "execution_count": null,
   "id": "5a2ca6e6",
   "metadata": {},
   "outputs": [],
   "source": []
  },
  {
   "cell_type": "code",
   "execution_count": null,
   "id": "00b66fe1",
   "metadata": {},
   "outputs": [],
   "source": []
  },
  {
   "cell_type": "code",
   "execution_count": null,
   "id": "de16486c",
   "metadata": {},
   "outputs": [],
   "source": []
  },
  {
   "cell_type": "code",
   "execution_count": null,
   "id": "a9a20a64",
   "metadata": {},
   "outputs": [],
   "source": []
  },
  {
   "cell_type": "code",
   "execution_count": null,
   "id": "df334383",
   "metadata": {},
   "outputs": [],
   "source": []
  },
  {
   "cell_type": "code",
   "execution_count": null,
   "id": "956e3a52",
   "metadata": {},
   "outputs": [],
   "source": [
    "x.chatparse(,bodymsg)"
   ]
  },
  {
   "cell_type": "code",
   "execution_count": null,
   "id": "43d0f9fc",
   "metadata": {},
   "outputs": [],
   "source": [
    "i = sidepane_scroll_by_id(d, initial = 1, scrolls=25)"
   ]
  },
  {
   "cell_type": "code",
   "execution_count": null,
   "id": "fd0c7337",
   "metadata": {},
   "outputs": [],
   "source": [
    "i = sidepane_scroll_by_id(d, initial = i, scrolls=25)"
   ]
  },
  {
   "cell_type": "code",
   "execution_count": null,
   "id": "51686164",
   "metadata": {},
   "outputs": [],
   "source": [
    "select_chat(d, 'sm & cn')\n"
   ]
  },
  {
   "cell_type": "code",
   "execution_count": null,
   "id": "593610ae",
   "metadata": {},
   "outputs": [],
   "source": [
    "scroll_by_xpath(d, xpt=\"(//div[@id='main']//div[@class='ItfyB _3nbHh'])[2]\")"
   ]
  },
  {
   "cell_type": "code",
   "execution_count": null,
   "id": "c3890184",
   "metadata": {},
   "outputs": [],
   "source": [
    "scroll_by_xpath(d, xpt=\"(//div[@id='main']//div[@class='ItfyB _3nbHh'])[2]\")"
   ]
  },
  {
   "cell_type": "code",
   "execution_count": null,
   "id": "7b2d7c51",
   "metadata": {},
   "outputs": [],
   "source": []
  },
  {
   "cell_type": "code",
   "execution_count": null,
   "id": "ac506847",
   "metadata": {
    "code_folding": []
   },
   "outputs": [],
   "source": [
    "\n",
    "def iterdict(driver, xpd:dict, sec=3):\n",
    "    rd = defaultdict()\n",
    "    file = 'XPT_' + dt.datetime.now().strftime(\"%H%M %Y%m%d\") + '.txt'\n",
    "    fp = open(os.getcwd() + '\\\\output\\\\' + file, 'a')\n",
    "    for k, v in xpd.items():\n",
    "        rls = []\n",
    "        for n in v:\n",
    "            wait = WebDriverWait(driver, sec)\n",
    "            try: rs = wait.until(EC.presence_of_element_located((By.XPATH, n))).text\n",
    "            except: rs = False\n",
    "            print(str(k) + chr(10) + str(n) + '::' + str(rs) + chr(10) + chr(10))\n",
    "            fp.write(str(k) + chr(10) + str(n) + '::' + str(rs) + chr(10) + chr(10))\n",
    "            rls.append(rs)\n",
    "        rd = dict_update(rd, k, rls)\n",
    "    else: \n",
    "        fp.close()\n",
    "        return rd\n",
    "            \n"
   ]
  },
  {
   "cell_type": "code",
   "execution_count": null,
   "id": "a236f1a1",
   "metadata": {},
   "outputs": [],
   "source": [
    "\n",
    "#xfill(d,\"/html/body/div[1]/div/div/div[3]/div/div[1]/div/div/div[2]/div/div[2]\",\"SM & CN_Monitoring\")\n",
    "#x.chatparse(\"(//div[@id='pane-side']//div[@class='_3OvU8'])\",sidepane_xpt)\n",
    "\n",
    "\n",
    "def iternode(driver, base_xpt, start_node, end_node, parsefn, scrollfn=None, ini=1, sc=25):\n",
    "    wait = WebDriverWait(driver, 5)\n",
    "    for n in range(start_node, end_node):\n",
    "        x = base_xpt + '[' + str(n) + ']'\n",
    "        try:\n",
    "            el = wait.until(EC.presence_of_element_located((By.XPATH, x)))\n",
    "        except:\n",
    "            ini = scrollfn(driver, initial=ini, scrolls=sc)\n",
    "            iternode(driver, base_xpt, start_node, end_node, scrollfn, ini, sc)\n",
    "    else:\n",
    "        print('data available')\n",
    "        return 1"
   ]
  },
  {
   "cell_type": "code",
   "execution_count": null,
   "id": "f818d7af",
   "metadata": {},
   "outputs": [],
   "source": []
  },
  {
   "cell_type": "code",
   "execution_count": null,
   "id": "9ff5b1fd",
   "metadata": {},
   "outputs": [],
   "source": []
  },
  {
   "cell_type": "code",
   "execution_count": null,
   "id": "40eae7fb",
   "metadata": {},
   "outputs": [],
   "source": [
    "msg_base = \"(//div[@class='ItfyB _3nbHh'])\""
   ]
  },
  {
   "cell_type": "code",
   "execution_count": null,
   "id": "6afb6cfd",
   "metadata": {},
   "outputs": [],
   "source": [
    "a = {'chat_name' : [\"//span[@class='_3q9s6']\", \"//div[@class='zoWT4']}"
   ]
  },
  {
   "cell_type": "code",
   "execution_count": null,
   "id": "b3ab4804",
   "metadata": {},
   "outputs": [],
   "source": []
  },
  {
   "cell_type": "code",
   "execution_count": null,
   "id": "6113984c",
   "metadata": {},
   "outputs": [],
   "source": []
  },
  {
   "cell_type": "code",
   "execution_count": null,
   "id": "de236a24",
   "metadata": {},
   "outputs": [],
   "source": []
  }
 ],
 "metadata": {
  "kernelspec": {
   "display_name": "Python 3 (ipykernel)",
   "language": "python",
   "name": "python3"
  },
  "language_info": {
   "codemirror_mode": {
    "name": "ipython",
    "version": 3
   },
   "file_extension": ".py",
   "mimetype": "text/x-python",
   "name": "python",
   "nbconvert_exporter": "python",
   "pygments_lexer": "ipython3",
   "version": "3.9.1"
  },
  "nbTranslate": {
   "displayLangs": [
    "*"
   ],
   "hotkey": "alt-t",
   "langInMainMenu": true,
   "sourceLang": "en",
   "targetLang": "fr",
   "useGoogleTranslate": true
  },
  "toc": {
   "base_numbering": 1,
   "nav_menu": {},
   "number_sections": true,
   "sideBar": true,
   "skip_h1_title": false,
   "title_cell": "Table of Contents",
   "title_sidebar": "Contents",
   "toc_cell": false,
   "toc_position": {},
   "toc_section_display": true,
   "toc_window_display": false
  }
 },
 "nbformat": 4,
 "nbformat_minor": 5
}
