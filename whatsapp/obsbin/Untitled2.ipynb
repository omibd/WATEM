{
 "cells": [
  {
   "cell_type": "code",
   "execution_count": null,
   "id": "5217ef39",
   "metadata": {},
   "outputs": [],
   "source": []
  },
  {
   "cell_type": "code",
   "execution_count": null,
   "id": "5dc2c7df",
   "metadata": {},
   "outputs": [],
   "source": []
  },
  {
   "cell_type": "code",
   "execution_count": null,
   "id": "1332831e",
   "metadata": {},
   "outputs": [],
   "source": [
    "from whbase import *\n",
    "from collections import *\n",
    "x = WhBase()\n",
    "d = x.get_driver"
   ]
  },
  {
   "cell_type": "code",
   "execution_count": null,
   "id": "52d26b9a",
   "metadata": {},
   "outputs": [],
   "source": [
    "e = x.xpget(\"(//div[@id='main']//div[@data-testid='msg-container'])\")"
   ]
  },
  {
   "cell_type": "code",
   "execution_count": null,
   "id": "7b62ca48",
   "metadata": {},
   "outputs": [],
   "source": [
    "y = d.find_elements(By.XPATH, \"(//div[@id='main']//div[@data-testid='msg-container'])\")"
   ]
  },
  {
   "cell_type": "code",
   "execution_count": null,
   "id": "93ff659e",
   "metadata": {
    "scrolled": true
   },
   "outputs": [],
   "source": []
  },
  {
   "cell_type": "code",
   "execution_count": null,
   "id": "d226e7f4",
   "metadata": {},
   "outputs": [],
   "source": [
    "class WaTem(WhBase):\n",
    "\n",
    "    def duplicate_none_chk(self, sdic, dc):\n",
    "        dpcount, nonecount = 0, 0\n",
    "        for k, v in dc.items():\n",
    "            if v is None: nonecount = nonecount + 1\n",
    "            else:\n",
    "                if v in list(sdic.values()): \n",
    "                    dpcount = dpcount + 1\n",
    "        else:\n",
    "            if nonecount >=3: none_flag = True\n",
    "            else: none_flag = False\n",
    "\n",
    "            if dpcount>=3: dp_flag = True\n",
    "            else: dp_flag = False\n",
    "            return none_flag, dp_flag\n",
    "\n",
    "\n",
    "    def watem_iter(self, method, start=1, end=50, step=1, sdict=defaultdict()):\n",
    "        dc_is_none = 0\n",
    "        for n in range(start, end, step):\n",
    "            dc = getattr(self, method)(n)\n",
    "            if dc is None and dc_is_none>3:\n",
    "                print('return caller sdict & n')\n",
    "                return sdict, n\n",
    "            elif dc is not None:\n",
    "                if len(sdict) == 0: sdict = dc\n",
    "                else:\n",
    "                    nf, dpf = self.duplicate_none_chk(sdict, dc)\n",
    "                    #print(nf, dpf, n, dc)\n",
    "                    if nf == False and dpf == False:\n",
    "                        sdict = update_key_value(sdict, dc)\n",
    "                        dc_is_none = 0\n",
    "                        yield dc, n\n",
    "                    else:\n",
    "                        dc_is_none = dc_is_none + 1\n",
    "            else:\n",
    "                dc_is_none = dc_is_none + 1\n",
    "                print('dc is None', dc_is_none)\n",
    "        else:\n",
    "            return sdict, n"
   ]
  },
  {
   "cell_type": "code",
   "execution_count": null,
   "id": "c5c3a3b2",
   "metadata": {},
   "outputs": [],
   "source": [
    "x = WaTem()\n",
    "\n",
    "def read_msg_action(chatname='emergency', no_of_sms=50, action_dict={'text_match':'update of site down', 'forward':'halim vai'}):\n",
    "    loop_done = 0\n",
    "    x.select_chat(chatname)\n",
    "    while comloop<=no_of_sms:\n",
    "        dd = x.watem_iter('chat_msg', start=1, end=no_of_sms, step=1, sdict=defaultdict())\n",
    "        for dc, loop_done in zip(dd):\n",
    "            print(loop_done)"
   ]
  },
  {
   "cell_type": "code",
   "execution_count": null,
   "id": "8fe95424",
   "metadata": {
    "code_folding": []
   },
   "outputs": [],
   "source": [
    "class WATEM:\n",
    "\n",
    "    def tyEx_fn(fn, *arg, **kwarg):\n",
    "        try: return fn(*arg, **kwarg)\n",
    "        except: return None\n",
    "\n",
    "    def tyEx_exp(cls, method, *arg, **kwarg):\n",
    "        try: return getattr(cls, method)(*arg, **kwarg)\n",
    "        except: return None\n",
    "\n"
   ]
  },
  {
   "cell_type": "code",
   "execution_count": null,
   "id": "7a3b8b43",
   "metadata": {},
   "outputs": [],
   "source": [
    "class WaBase:\n",
    "    \n",
    "        \n",
    "    def accessibility(self, lsxp):\n",
    "        checklist = ['title', 'pane search box', 'side-pane', 'active chat name', 'chat_write_box']"
   ]
  },
  {
   "cell_type": "code",
   "execution_count": 30,
   "id": "e473fc75",
   "metadata": {
    "code_folding": []
   },
   "outputs": [],
   "source": [
    "class WhatsApp:\n",
    "\n",
    "    def read(self):\n",
    "        pass\n",
    "\n",
    "    def send(self):\n",
    "        pass\n",
    "\n",
    "    def unread(self):\n",
    "        pass\n",
    "\n",
    "    def search(self):\n",
    "        pass\n",
    "\n",
    "    def forward(self, chatname, match_func, forward_to, from_no_of_message=20, from_lastest=True):\n",
    "        pass\n",
    "\n",
    "    def reply(self, chatname, match_func, reply_text, from_no_of_message=20, reading_lastest=True):\n",
    "        pass\n",
    "\n",
    "    def delete(self, chatname, match_func, from_no_of_message=20, from_lastest=True, delete_for_all=True):\n",
    "        pass\n",
    "\n",
    "    def reaction(self, chatname, match_func, from_no_of_message=20, from_lastest=True):\n",
    "        pass\n",
    "\n",
    "    def get_msg(self, chatname, no_of_msg=50, msg_date=None):\n",
    "        pass\n",
    "\n",
    "    def monitor_contacts(self, list_of_chats, interval=5):\n",
    "        pass\n",
    "\n",
    "    def monitor_chats(self, list_of_chats, interval=5):\n",
    "        pass\n",
    "\n",
    "    def monitor_cotent(self, list_of_chats, interval=5):\n",
    "        pass"
   ]
  },
  {
   "cell_type": "code",
   "execution_count": 31,
   "id": "703a7ecd",
   "metadata": {},
   "outputs": [],
   "source": [
    "class A:\n",
    "    \n",
    "    def __init__(self):\n",
    "        pass\n",
    "    \n",
    "    def adder(self, a,  b, c = None):\n",
    "        if c is None:\n",
    "            print(a+b)\n",
    "            return a+b\n",
    "        else:\n",
    "            return a+b+c\n",
    "        \n",
    "def adder(a,  b, c = None):\n",
    "    if c is None:\n",
    "        return a+b\n",
    "    else:\n",
    "        print(a+b+c)\n",
    "        return a+b+c\n",
    "    \n",
    "def addx(a, b):\n",
    "    print(a+b)\n",
    "            "
   ]
  },
  {
   "cell_type": "code",
   "execution_count": 33,
   "id": "2e3927b6",
   "metadata": {},
   "outputs": [
    {
     "name": "stdout",
     "output_type": "stream",
     "text": [
      "3\n",
      "3\n"
     ]
    }
   ],
   "source": [
    "x = A()\n",
    "print(tyEx_exp(x, 'adder', 1, 2))"
   ]
  },
  {
   "cell_type": "code",
   "execution_count": null,
   "id": "fd9f70ea",
   "metadata": {},
   "outputs": [],
   "source": []
  },
  {
   "cell_type": "code",
   "execution_count": null,
   "id": "26e1582b",
   "metadata": {},
   "outputs": [],
   "source": []
  }
 ],
 "metadata": {
  "kernelspec": {
   "display_name": "Python 3 (ipykernel)",
   "language": "python",
   "name": "python3"
  },
  "language_info": {
   "codemirror_mode": {
    "name": "ipython",
    "version": 3
   },
   "file_extension": ".py",
   "mimetype": "text/x-python",
   "name": "python",
   "nbconvert_exporter": "python",
   "pygments_lexer": "ipython3",
   "version": "3.9.1"
  },
  "nbTranslate": {
   "displayLangs": [
    "*"
   ],
   "hotkey": "alt-t",
   "langInMainMenu": true,
   "sourceLang": "en",
   "targetLang": "fr",
   "useGoogleTranslate": true
  },
  "toc": {
   "base_numbering": 1,
   "nav_menu": {},
   "number_sections": true,
   "sideBar": true,
   "skip_h1_title": false,
   "title_cell": "Table of Contents",
   "title_sidebar": "Contents",
   "toc_cell": false,
   "toc_position": {},
   "toc_section_display": true,
   "toc_window_display": false
  }
 },
 "nbformat": 4,
 "nbformat_minor": 5
}
