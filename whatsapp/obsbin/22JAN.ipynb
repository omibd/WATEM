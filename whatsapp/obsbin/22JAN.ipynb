{
 "cells": [
  {
   "cell_type": "code",
   "execution_count": 2,
   "id": "4a394118",
   "metadata": {},
   "outputs": [],
   "source": [
    "from imports import *"
   ]
  },
  {
   "cell_type": "code",
   "execution_count": 3,
   "id": "18e5f4b1",
   "metadata": {},
   "outputs": [],
   "source": [
    "class WhBase:\n",
    "    \n",
    "    def __init__(self,driver):\n",
    "        self.driver = driver\n",
    "        self.wait = WebDriverWait(self.driver, 5)\n",
    "        self.ac = ActionChains(self.driver)\n",
    "        print(self.driver.title)\n",
    "    \n",
    "    def xpelem(self, xpt):\n",
    "        try: return self.wait.until(EC.presence_of_element_located((By.XPATH, xpt)))\n",
    "        except: return None\n",
    "    \n",
    "    def xptext(self, xpt):\n",
    "        try: return self.driver.find_element(By.XPATH, xpt).text\n",
    "        except: return None\n",
    "        \n",
    "    def xpget(self, xpt):\n",
    "        try: return self.driver.find_element(By.XPATH, xpt)\n",
    "        except: return None\n",
    "    \n",
    "    def move_click(self, xpt):\n",
    "        try: self.ac.move_to_element(self.xpget(xp1)).click().perform()\n",
    "        except: pass\n",
    "        \n",
    "    def hover_click(self, xp1, xp2):\n",
    "        try: self.ac.move_to_element(self.xpget(xp1)).click(self.xpelem(xp2)).perform()\n",
    "        except: pass\n",
    "        \n",
    "    def click_write(self, xpt, text):\n",
    "        xp = self.xpelem(xpt) if type(xpt) is str else xpt\n",
    "        if xp is None: return None\n",
    "        xp.clear()\n",
    "        if chr(10) not in text:\n",
    "            self.ac.move_to_element(xp).click().send_keys(text).send_keys(Keys.RETURN).perform()\n",
    "        else:\n",
    "            xx = text.split(chr(10))\n",
    "            for line in xx:\n",
    "                self.ac.send_keys(line).perform()\n",
    "                self.ac.key_down(Keys.SHIFT).key_down(Keys.ENTER).key_up(Keys.SHIFT).key_up(Keys.ENTER).perform()\n",
    "            self.ac.send_keys(Keys.RETURN).perform()\n",
    "    \n",
    "    def paste_text(self, xp, text):\n",
    "        self.ac.send_keys(text).perform()\n",
    "        \n",
    "    def sidepane_scroll(self, initial = 1, scrolls=35):\n",
    "        for i in range(1, scrolls):\n",
    "            self.driver.execute_script(\"document.getElementById('pane-side').scrollTop={}\".format(initial))\n",
    "            initial = initial + i + 1\n",
    "        return initial\n",
    "\n",
    "    def scroll_by_xpath(self, xpt=\"(//div[@id='main']//div[@class='ItfyB _3nbHh'])[2]\"):\n",
    "        try:\n",
    "            xp = self.wait.until(EC.presence_of_element_located((By.XPATH, xpt)))\n",
    "            self.driver.execute_script(\"arguments[0].scrollIntoView(true);\", xp)\n",
    "            return 1\n",
    "        except:\n",
    "            print('WhBase.scroll_by_xpath(xpt) failed to scroll')\n",
    "            return 0\n",
    "            \n",
    "    def action(self, xpt, cmd='click', text=None):\n",
    "        xp = self.xpelem(xpt) if type(xpt) is str else xpt\n",
    "        if xp is None:\n",
    "            print('xpath identification failure')\n",
    "            return None\n",
    "        if cmd =='click':\n",
    "            self.ac.move_to_element(xp).click().perform()\n",
    "        elif cmd == 'hover':\n",
    "            self.ac.move_to_element(xp).perform()\n",
    "        elif cmd == 'paste' and text is not None:\n",
    "            self.ac.move_to_element(xp).click().perform()\n",
    "            xp.clear()\n",
    "            self.ac.send_keys(text).perform()\n",
    "        elif cmd == 'select_paste' and text is not None:\n",
    "            self.click_write(xp, text)\n",
    "        else:\n",
    "            self.ac.move_to_element(xp).perform()\n",
    "        return 1\n",
    "    \n",
    "    def panechat(self, n, base, dc=defaultdict()):\n",
    "        bi = base + '[' + str(n) + ']'\n",
    "        if self.xpelem(bi) is None: return None\n",
    "        if len(dc) == 0:\n",
    "            dc = {'chat_name' : bi + \"//div[@class='_21S-L']\",\n",
    "                  'last_text' : bi + \"//div[@class='vQ0w7']/span[1]/span[3]\",\n",
    "                  'last_sender' : bi + \"//div[@class='vQ0w7']/span[1]/span[1]\",\n",
    "                  'last_datetime' : bi + \"/div[@class='y_sn4']/div[@class='Dvjym']\",\n",
    "                  'new_msg_notif' : bi + \"//div[@class='Dvjym']//div[@class='_1pJ9J']/span\"}\n",
    "        for k, v in dc.items():\n",
    "            vl = [v] if type(v) is str else v\n",
    "            dc[k] = [self.xptext(j) for j in vl]\n",
    "        return dc        \n",
    "    \n",
    "    def msg_sender_dttm(self, n, base):\n",
    "        xpt = base + \"[\" + str(n) + \"]\"\n",
    "        html = self.wait.until(EC.presence_of_element_located((By.XPATH, xpt))).get_attribute('innerHTML')\n",
    "        sp = BeautifulSoup(html, \"lxml\")\n",
    "        x = sp.find_all('div')\n",
    "        for i in x:\n",
    "            try:\n",
    "                st = i['data-pre-plain-text']\n",
    "                break\n",
    "            except:pass\n",
    "        else: return None, None\n",
    "        try:\n",
    "            split_point = st.find(']')\n",
    "            sender = st[split_point+1:].replace(':','').strip(' ')\n",
    "            dttm = parse(st.upper()[1:split_point])\n",
    "            return dttm.strftime(\"%Y-%m-%d %H:%M\"), sender\n",
    "        except: None, None\n",
    "\n",
    "    def tearDown(self):\n",
    "        self.driver.close()\n",
    "        \n",
    "    @property\n",
    "    def get_driver(self):\n",
    "        return self.driver"
   ]
  },
  {
   "cell_type": "code",
   "execution_count": null,
   "id": "9564d453",
   "metadata": {},
   "outputs": [],
   "source": []
  },
  {
   "cell_type": "code",
   "execution_count": 4,
   "id": "bce699e7",
   "metadata": {},
   "outputs": [],
   "source": [
    "def dict_update(cond, ky, vl):\n",
    "    '''update dictionary values if key already exist otherwise add new into dictionary, single procedure once'''\n",
    "    if type(vl) is list:\n",
    "        cond[ky] = vl if not list(cond) else cond.get(ky, []) + vl\n",
    "    else:\n",
    "        cond[ky] = [vl] if not list(cond) else cond.get(ky, []) + [vl]\n",
    "    return cond\n",
    "\n",
    "\n",
    "def update_key_value(a, b):\n",
    "    '''updating key & values (values will be appened for existing key)'''\n",
    "    c = {}\n",
    "    tls = lambda ls : ls if type(ls) is list else [ls]\n",
    "    for k, v in a.items():\n",
    "        c[k] = tls(a[k]) + tls(b[k]) if k in list(b) else tls(a[k])\n",
    "    else: return {**b, **c}"
   ]
  },
  {
   "cell_type": "code",
   "execution_count": 13,
   "id": "78e8302d",
   "metadata": {
    "code_folding": []
   },
   "outputs": [
    {
     "ename": "SyntaxError",
     "evalue": "invalid syntax (2756602174.py, line 12)",
     "output_type": "error",
     "traceback": [
      "\u001b[1;36m  Cell \u001b[1;32mIn[13], line 12\u001b[1;36m\u001b[0m\n\u001b[1;33m    def panexp(n, base=\"(//div[@id='pane-side']//div[@class='_8nE1Y'])\")\u001b[0m\n\u001b[1;37m                                                                        ^\u001b[0m\n\u001b[1;31mSyntaxError\u001b[0m\u001b[1;31m:\u001b[0m invalid syntax\n"
     ]
    }
   ],
   "source": [
    "\n",
    "\n",
    "        \n",
    "        \n",
    "    \n",
    "\n",
    "pane_search = \"/html/body/div[1]/div/div/div[3]/div/div[1]/div/div/div[2]/div/div[2]\"\n",
    "body_chat_search_btn = \"//div[@id='main']//div[@class='_3ndVb']\"\n",
    "body_chat_name = \"//div[@id='main']//div[@class='_21nHd']\"\n",
    "body_text_area = \"//footer[@class='_3E8Fg']//p\"\n",
    "body_msg_nav_arrow = '/html/body/div[1]/div/div/div[4]/div/div[2]/div/div[1]/span/div'\n",
    "\n",
    "\n",
    "\n",
    "\n",
    "class WhatsApp(WhBase):\n",
    "\n",
    "    body_chat_search_btn = \"//div[@id='main']//div[@class='_3ndVb']\"\n",
    "    body_chat_name = \"//div[@id='main']//div[@class='_21nHd']\"\n",
    "    body_text_area = \"//footer[@class='_3E8Fg']//p\"\n",
    "    body_msg_nav_arrow = '/html/body/div[1]/div/div/div[4]/div/div[2]/div/div[1]/span/div'\n",
    "    \n",
    "    \n",
    "    body_msg_base=\"(//div[@id='main']//div[@data-testid='msg-container'])\"\n",
    "    msg_sender = \"self.msg_sender_dttm\"\n",
    "    sender_text = \"//div[@class='_21Ahp']/span[1]/span\"\n",
    "    quoted_sender = \"//div[@class='_3pMOs yKTUI']//div[1]/span\"\n",
    "    quoted_text = \"//div[@class='_3pMOs yKTUI']//div[2]/span\"\n",
    "    msg_datetime = \"self.msg_sender_dttm\"\n",
    "    read_more_btn = \"//div[@role='button'][contains(.,'Read more')]\"\n",
    "    \n",
    "    \n",
    "    pane_search = \"/html/body/div[1]/div/div/div[3]/div/div[1]/div/div/div[2]/div/div[2]\"\n",
    "    pane_base = \"(//div[@id='pane-side']//div[@class='_8nE1Y'])\"\n",
    "    pane_chat_name= \"//div[@class='_21S-L']\"\n",
    "    pane_last_msg =\"//div[@class='vQ0w7']//span[1]/span[3]\"\n",
    "    pane_last_msg_sender =\"//div[@class='vQ0w7']//span[1]/span[1]\"\n",
    "    pane_last_msg_datetime = \"/div[@class='y_sn4']/div[@class='Dvjym']\"\n",
    "    pane_new_msg_notif = \"//div[@class='Dvjym']//div[@class='_1pJ9J']/span\"\n",
    "    \n",
    "    pnitem = {'pane_chat_name' : \"//div[@class='_21S-L']\",\n",
    "        'last_text' : \"//div[@class='vQ0w7']/span[1]/span[3]\",\n",
    "        'last_sender' : \"//div[@class='vQ0w7']/span[1]/span[1]\",\n",
    "        'last_msg_time' : \"/div[@class='y_sn4']/div[@class='Dvjym']\",\n",
    "        'new_msg_notif' : \"//div[@class='Dvjym']//div[@class='_1pJ9J']/span\"}\n",
    "    \n",
    "    def __init__(self):\n",
    "        chrome_options = Options()\n",
    "        chrome_options.add_experimental_option(\"debuggerAddress\", \"127.0.0.1:9222\")\n",
    "        self.d = webdriver.Chrome(service=Service(ChromeDriverManager().install()), options=chrome_options)\n",
    "        self.read_store = defaultdict()\n",
    "        self.store_msg = pd.DataFrame([])\n",
    "        super().__init__(self.d)\n",
    "    \n",
    "    def select_chat(self, chat_name):\n",
    "        if chat_name is not None and chat_name != '':\n",
    "            x = self.action(xpt= self.pane_search, cmd='select_paste', text=chat_name)\n",
    "            y = self.xptext(self.body_chat_name)\n",
    "            if x is not None and y is not None and chat_name.lower() in y.lower():\n",
    "                print('chat selection successful')\n",
    "                return y\n",
    "            else: 0\n",
    "        else: return None\n",
    "        \n",
    "    def send_msg(self, chat_name, msg):\n",
    "        x = select_chat\n",
    "        print('selected_chat returns: ', x)\n",
    "        if x is not None or x != 0:\n",
    "            x = self.action(xpt=self.body_text_area, cmd='select_paste', text=msg)\n",
    "        return self\n",
    "    \n",
    "    def msginx(self, n, chatname=None):\n",
    "        bi = self.body_msg_base + '[' + str(n) + ']'\n",
    "        if self.xpelem(bi) is None: return None\n",
    "        self.move_click(bi + self.read_more_btn)\n",
    "        dttm, sender = self.msg_sender_dttm(n, self.body_msg_base)\n",
    "        dc = {'chat':chatname,\n",
    "              'sender': sender,\n",
    "              'time': dttm,\n",
    "              'msg': self.xptext(bi + self.sender_text),\n",
    "              'q_sender':self.xptext(bi + self.quoted_sender),\n",
    "              'q_text': self.xptext(bi + self.quoted_text),\n",
    "              'insertime': dt.datetime.now().strftime('%Y-%m-%d %H:%M')\n",
    "             }\n",
    "        return dc\n",
    "    \n",
    "    def read_msg(self, chat_name, no_of_msg):\n",
    "        selected_chat_name = self.select_chat(chat_name)\n",
    "        print('selected_chat returns: ', selected_chat_name)\n",
    "        if x is not None or x != 0:\n",
    "            avl = False\n",
    "            x.move_click(self.body_msg_nav_arrow)\n",
    "            tm.sleep(0.5)\n",
    "            for i in range(no_of_msg):\n",
    "                #y = self.xpelem(self.body_msg_base + '[' + str(no_of_msg) + ']')\n",
    "                y = None\n",
    "                while(y is None and avl==False):\n",
    "                    self.scroll_by_xpath(self.body_msg_base + \"[1]\")\n",
    "                    y = self.xpelem(self.body_msg_base + '[' + str(no_of_msg) + ']')\n",
    "                avl = True\n",
    "                print(i,':', self.msginx(i))\n",
    "                print('----------------')\n",
    "                \n",
    "    def storing_msg(self, ls):\n",
    "        if ls is not None and len(ls)>1:\n",
    "            self.store_msg.loc[len(self.store_msg.index)] = ls\n",
    "            \n",
    "    def pane_item(self, n):\n",
    "        bi = self.pane_base + '[' + str(n) + ']'\n",
    "        if self.xpelem(bi) is None: return None\n",
    "        else:\n",
    "            pane_chat_name = self.xptext(bi + self.pane_chat_name)\n",
    "            pane_last_msg = self.xptext(bi + self.pane_last_msg)\n",
    "            pane_last_msg_sender = self.xptext(bi + self.pane_last_msg_sender)\n",
    "            pane_last_msg_datetime = self.xptext(bi + self.pane_last_msg_datetime)\n",
    "            pane_new_msg_notif = self.xptext(bi + self.pane_new_msg_notif)\n",
    "            return [pane_chat_name, pane_last_msg_sender ,pane_last_msg, pane_last_msg_datetime, pane_new_msg_notif]\n",
    "\n",
    "    def paneitr(self, search=None):\n",
    "        if search is not None:\n",
    "            self.select_chat(search)\n",
    "        ls, lx = [], []\n",
    "        self.store_msg = pd.DataFrame(columns=['pane_chat_name','pane_last_msg','pane_last_msg_sender','pane_last_msg_datetime','pane_new_msg_notif','insert_dttm','chat_name'])\n",
    "        x, nonecount, init, i, whilecount = None, 0, 0, 1, 0\n",
    "        while (x is None or nonecount<4):\n",
    "            x = self.pane_item(i)\n",
    "            if x is None: \n",
    "                init = self.sidepane_scroll(init)\n",
    "                i,nonecount = 1, nonecount + 1\n",
    "            else:\n",
    "                i = i + 1\n",
    "                xs = chr(10).join(map(str,x))\n",
    "                if xs not in ls:\n",
    "                    ls.append(xs)\n",
    "                    self.storing_msg(x)\n",
    "                    whilecount = whilecount + 1\n",
    "                    nonecount = 0\n",
    "                    print(whilecount,xs)\n",
    "                    print('---------------------')\n",
    "                else:\n",
    "                    print('no count:', nonecount,'already stored')\n",
    "        print('out of while')\n",
    "        self.store_msg.to_csv('pane_' + dt.datetime.now().strftime('%d-%M-%Y_%H%M') + '.csv')\n",
    "            \n",
    "        \n",
    "    def seach_in_pane(self, text):\n",
    "        pass\n",
    "    def search_in_group(self, text):\n",
    "        pass\n",
    "    def find_forward(self):\n",
    "        pass\n",
    "    def find_reply(self):\n",
    "        pass\n",
    "    def pending_read(self):\n",
    "        pass\n",
    "    def monitor_chat(self):\n",
    "        pass\n",
    "    def find_tree(self):\n",
    "        pass"
   ]
  },
  {
   "cell_type": "code",
   "execution_count": 10,
   "id": "23f7507c",
   "metadata": {},
   "outputs": [
    {
     "data": {
      "text/plain": [
       "0"
      ]
     },
     "execution_count": 10,
     "metadata": {},
     "output_type": "execute_result"
    }
   ],
   "source": [
    "len([])"
   ]
  },
  {
   "cell_type": "code",
   "execution_count": 11,
   "id": "7d41dbf0",
   "metadata": {},
   "outputs": [
    {
     "name": "stdout",
     "output_type": "stream",
     "text": [
      "(25) WhatsApp\n"
     ]
    }
   ],
   "source": [
    "x = WhatsApp()\n",
    "d = x.get_driver"
   ]
  },
  {
   "cell_type": "code",
   "execution_count": 12,
   "id": "e289533a",
   "metadata": {
    "scrolled": false
   },
   "outputs": [
    {
     "ename": "ValueError",
     "evalue": "cannot set a row with mismatched columns",
     "output_type": "error",
     "traceback": [
      "\u001b[1;31m---------------------------------------------------------------------------\u001b[0m",
      "\u001b[1;31mValueError\u001b[0m                                Traceback (most recent call last)",
      "Cell \u001b[1;32mIn[12], line 1\u001b[0m\n\u001b[1;32m----> 1\u001b[0m \u001b[43mx\u001b[49m\u001b[38;5;241;43m.\u001b[39;49m\u001b[43mpaneitr\u001b[49m\u001b[43m(\u001b[49m\u001b[38;5;124;43m'\u001b[39;49m\u001b[38;5;124;43mpbsdr10\u001b[39;49m\u001b[38;5;124;43m'\u001b[39;49m\u001b[43m)\u001b[49m\n",
      "Cell \u001b[1;32mIn[9], line 120\u001b[0m, in \u001b[0;36mWhatsApp.paneitr\u001b[1;34m(self, search)\u001b[0m\n\u001b[0;32m    118\u001b[0m \u001b[38;5;28;01mif\u001b[39;00m xs \u001b[38;5;129;01mnot\u001b[39;00m \u001b[38;5;129;01min\u001b[39;00m ls:\n\u001b[0;32m    119\u001b[0m     ls\u001b[38;5;241m.\u001b[39mappend(xs)\n\u001b[1;32m--> 120\u001b[0m     \u001b[38;5;28;43mself\u001b[39;49m\u001b[38;5;241;43m.\u001b[39;49m\u001b[43mstoring_msg\u001b[49m\u001b[43m(\u001b[49m\u001b[43mx\u001b[49m\u001b[43m)\u001b[49m\n\u001b[0;32m    121\u001b[0m     whilecount \u001b[38;5;241m=\u001b[39m whilecount \u001b[38;5;241m+\u001b[39m \u001b[38;5;241m1\u001b[39m\n\u001b[0;32m    122\u001b[0m     nonecount \u001b[38;5;241m=\u001b[39m \u001b[38;5;241m0\u001b[39m\n",
      "Cell \u001b[1;32mIn[9], line 91\u001b[0m, in \u001b[0;36mWhatsApp.storing_msg\u001b[1;34m(self, ls)\u001b[0m\n\u001b[0;32m     89\u001b[0m \u001b[38;5;28;01mdef\u001b[39;00m \u001b[38;5;21mstoring_msg\u001b[39m(\u001b[38;5;28mself\u001b[39m, ls):\n\u001b[0;32m     90\u001b[0m     \u001b[38;5;28;01mif\u001b[39;00m ls \u001b[38;5;129;01mis\u001b[39;00m \u001b[38;5;129;01mnot\u001b[39;00m \u001b[38;5;28;01mNone\u001b[39;00m \u001b[38;5;129;01mand\u001b[39;00m \u001b[38;5;28mlen\u001b[39m(ls)\u001b[38;5;241m>\u001b[39m\u001b[38;5;241m1\u001b[39m:\n\u001b[1;32m---> 91\u001b[0m         \u001b[38;5;28mself\u001b[39m\u001b[38;5;241m.\u001b[39mstore_msg\u001b[38;5;241m.\u001b[39mloc[\u001b[38;5;28mlen\u001b[39m(\u001b[38;5;28mself\u001b[39m\u001b[38;5;241m.\u001b[39mstore_msg\u001b[38;5;241m.\u001b[39mindex)] \u001b[38;5;241m=\u001b[39m ls\n",
      "File \u001b[1;32m~\\miniconda3\\lib\\site-packages\\pandas\\core\\indexing.py:716\u001b[0m, in \u001b[0;36m_LocationIndexer.__setitem__\u001b[1;34m(self, key, value)\u001b[0m\n\u001b[0;32m    713\u001b[0m \u001b[38;5;28mself\u001b[39m\u001b[38;5;241m.\u001b[39m_has_valid_setitem_indexer(key)\n\u001b[0;32m    715\u001b[0m iloc \u001b[38;5;241m=\u001b[39m \u001b[38;5;28mself\u001b[39m \u001b[38;5;28;01mif\u001b[39;00m \u001b[38;5;28mself\u001b[39m\u001b[38;5;241m.\u001b[39mname \u001b[38;5;241m==\u001b[39m \u001b[38;5;124m\"\u001b[39m\u001b[38;5;124miloc\u001b[39m\u001b[38;5;124m\"\u001b[39m \u001b[38;5;28;01melse\u001b[39;00m \u001b[38;5;28mself\u001b[39m\u001b[38;5;241m.\u001b[39mobj\u001b[38;5;241m.\u001b[39miloc\n\u001b[1;32m--> 716\u001b[0m \u001b[43miloc\u001b[49m\u001b[38;5;241;43m.\u001b[39;49m\u001b[43m_setitem_with_indexer\u001b[49m\u001b[43m(\u001b[49m\u001b[43mindexer\u001b[49m\u001b[43m,\u001b[49m\u001b[43m \u001b[49m\u001b[43mvalue\u001b[49m\u001b[43m,\u001b[49m\u001b[43m \u001b[49m\u001b[38;5;28;43mself\u001b[39;49m\u001b[38;5;241;43m.\u001b[39;49m\u001b[43mname\u001b[49m\u001b[43m)\u001b[49m\n",
      "File \u001b[1;32m~\\miniconda3\\lib\\site-packages\\pandas\\core\\indexing.py:1685\u001b[0m, in \u001b[0;36m_iLocIndexer._setitem_with_indexer\u001b[1;34m(self, indexer, value, name)\u001b[0m\n\u001b[0;32m   1682\u001b[0m     indexer, missing \u001b[38;5;241m=\u001b[39m convert_missing_indexer(indexer)\n\u001b[0;32m   1684\u001b[0m     \u001b[38;5;28;01mif\u001b[39;00m missing:\n\u001b[1;32m-> 1685\u001b[0m         \u001b[38;5;28;43mself\u001b[39;49m\u001b[38;5;241;43m.\u001b[39;49m\u001b[43m_setitem_with_indexer_missing\u001b[49m\u001b[43m(\u001b[49m\u001b[43mindexer\u001b[49m\u001b[43m,\u001b[49m\u001b[43m \u001b[49m\u001b[43mvalue\u001b[49m\u001b[43m)\u001b[49m\n\u001b[0;32m   1686\u001b[0m         \u001b[38;5;28;01mreturn\u001b[39;00m\n\u001b[0;32m   1688\u001b[0m \u001b[38;5;66;03m# align and set the values\u001b[39;00m\n",
      "File \u001b[1;32m~\\miniconda3\\lib\\site-packages\\pandas\\core\\indexing.py:2003\u001b[0m, in \u001b[0;36m_iLocIndexer._setitem_with_indexer_missing\u001b[1;34m(self, indexer, value)\u001b[0m\n\u001b[0;32m   2000\u001b[0m     \u001b[38;5;28;01mif\u001b[39;00m is_list_like_indexer(value):\n\u001b[0;32m   2001\u001b[0m         \u001b[38;5;66;03m# must have conforming columns\u001b[39;00m\n\u001b[0;32m   2002\u001b[0m         \u001b[38;5;28;01mif\u001b[39;00m \u001b[38;5;28mlen\u001b[39m(value) \u001b[38;5;241m!=\u001b[39m \u001b[38;5;28mlen\u001b[39m(\u001b[38;5;28mself\u001b[39m\u001b[38;5;241m.\u001b[39mobj\u001b[38;5;241m.\u001b[39mcolumns):\n\u001b[1;32m-> 2003\u001b[0m             \u001b[38;5;28;01mraise\u001b[39;00m \u001b[38;5;167;01mValueError\u001b[39;00m(\u001b[38;5;124m\"\u001b[39m\u001b[38;5;124mcannot set a row with mismatched columns\u001b[39m\u001b[38;5;124m\"\u001b[39m)\n\u001b[0;32m   2005\u001b[0m     value \u001b[38;5;241m=\u001b[39m Series(value, index\u001b[38;5;241m=\u001b[39m\u001b[38;5;28mself\u001b[39m\u001b[38;5;241m.\u001b[39mobj\u001b[38;5;241m.\u001b[39mcolumns, name\u001b[38;5;241m=\u001b[39mindexer)\n\u001b[0;32m   2007\u001b[0m \u001b[38;5;28;01mif\u001b[39;00m \u001b[38;5;129;01mnot\u001b[39;00m \u001b[38;5;28mlen\u001b[39m(\u001b[38;5;28mself\u001b[39m\u001b[38;5;241m.\u001b[39mobj):\n\u001b[0;32m   2008\u001b[0m     \u001b[38;5;66;03m# We will ignore the existing dtypes instead of using\u001b[39;00m\n\u001b[0;32m   2009\u001b[0m     \u001b[38;5;66;03m#  internals.concat logic\u001b[39;00m\n",
      "\u001b[1;31mValueError\u001b[0m: cannot set a row with mismatched columns"
     ]
    }
   ],
   "source": [
    "x.paneitr('pbsdr10')"
   ]
  },
  {
   "cell_type": "code",
   "execution_count": null,
   "id": "42919b8b",
   "metadata": {},
   "outputs": [],
   "source": [
    "def pane_read(init=0, storels=[], stop_counter=0, stop_at=3, status=True):\n",
    "    ls = []\n",
    "    panediv = \"(//div[@id='pane-side']//div[@class='_8nE1Y'])\"\n",
    "    if stop_coudnter>=stop_at or status==False:\n",
    "        status = False\n",
    "        return storels\n",
    "    for n in range(1,50):\n",
    "        x = x.xpelem(panediv + '[' + str(n) + \"]//div[@class='_21S-L']\")\n",
    "        if x is None:\n",
    "            init = x.sidepane_scroll_by_id(init)\n",
    "            ln1 = len(storels)\n",
    "            stx = set(storels + ls)\n",
    "            print('len: ',len(stx), ' added:', len(stx)-ln1, ' from: ', len(ls))\n",
    "            if (len(stx)-ln1) == 0: \n",
    "                stop_counter=stop_counter + 1\n",
    "            print('stop_counter:',stop_counter)\n",
    "            return pane_read(init, list(stx), stop_counter)\n",
    "        else:\n",
    "            ls.append(x.text)\n",
    "    return list(stx)"
   ]
  },
  {
   "cell_type": "code",
   "execution_count": null,
   "id": "ab4410e1",
   "metadata": {},
   "outputs": [],
   "source": [
    "#x.pane_read()"
   ]
  },
  {
   "cell_type": "code",
   "execution_count": null,
   "id": "7b2db98e",
   "metadata": {},
   "outputs": [],
   "source": []
  },
  {
   "cell_type": "code",
   "execution_count": null,
   "id": "3eb70dbe",
   "metadata": {},
   "outputs": [],
   "source": []
  },
  {
   "cell_type": "code",
   "execution_count": null,
   "id": "6310c0e7",
   "metadata": {},
   "outputs": [],
   "source": [
    "def pane_scroll(driver, initial = 1, scrolls=32):\n",
    "    for i in range(0, scrolls):\n",
    "        driver.execute_script(\"document.getElementById('pane-side').scrollTop={}\".format(initial))\n",
    "        initial += i\n",
    "    return initial\n",
    "\n",
    "i = 1"
   ]
  },
  {
   "cell_type": "code",
   "execution_count": null,
   "id": "1c9d68b0",
   "metadata": {},
   "outputs": [],
   "source": [
    "#i = pane_scroll(d, i)"
   ]
  },
  {
   "cell_type": "code",
   "execution_count": null,
   "id": "36667e9a",
   "metadata": {},
   "outputs": [],
   "source": [
    "#i = pane_scroll(d, i)"
   ]
  },
  {
   "cell_type": "code",
   "execution_count": null,
   "id": "72787fc7",
   "metadata": {},
   "outputs": [],
   "source": [
    "#!i = pane_scroll(d, i)"
   ]
  },
  {
   "cell_type": "code",
   "execution_count": null,
   "id": "40dba442",
   "metadata": {},
   "outputs": [],
   "source": [
    "#i = pane_scroll(d, i)"
   ]
  },
  {
   "cell_type": "code",
   "execution_count": null,
   "id": "5e4ff7b0",
   "metadata": {},
   "outputs": [],
   "source": [
    "#x.msginx(8)"
   ]
  },
  {
   "cell_type": "code",
   "execution_count": null,
   "id": "5fa316ff",
   "metadata": {},
   "outputs": [],
   "source": [
    "#x.msginx(7)"
   ]
  },
  {
   "cell_type": "code",
   "execution_count": null,
   "id": "3b7fea7c",
   "metadata": {},
   "outputs": [],
   "source": [
    "#x.msginx(9)"
   ]
  },
  {
   "cell_type": "code",
   "execution_count": null,
   "id": "dbd53fb2",
   "metadata": {},
   "outputs": [],
   "source": [
    "#x.read_msg('emer', 30)"
   ]
  },
  {
   "cell_type": "code",
   "execution_count": null,
   "id": "66da7e9f",
   "metadata": {},
   "outputs": [],
   "source": [
    "#for i in range(50, 2, -1):\n",
    "#    print(i)"
   ]
  },
  {
   "cell_type": "code",
   "execution_count": null,
   "id": "c773750c",
   "metadata": {},
   "outputs": [],
   "source": []
  },
  {
   "cell_type": "code",
   "execution_count": null,
   "id": "f6047c43",
   "metadata": {},
   "outputs": [],
   "source": [
    "#x.scroll_by_xpath()"
   ]
  },
  {
   "cell_type": "code",
   "execution_count": null,
   "id": "5cd2d725",
   "metadata": {},
   "outputs": [],
   "source": []
  },
  {
   "cell_type": "code",
   "execution_count": null,
   "id": "7b1b1d69",
   "metadata": {},
   "outputs": [],
   "source": []
  },
  {
   "cell_type": "code",
   "execution_count": null,
   "id": "ea2a0aeb",
   "metadata": {},
   "outputs": [],
   "source": [
    "class WaFetch:\n",
    "    \n",
    "    def __init__(self, driver):\n",
    "        self.driver = driver\n",
    "        self.wait = WebDriverWait(self.driver, 5)\n",
    "        \n",
    "    def xptx(self, xpt):\n",
    "        try: return self.wait.until(EC.presence_of_element_located((By.XPATH, xpt))).text\n",
    "        except: return None\n",
    "        \n",
    "    def xppr(self, xpt):\n",
    "        try: return self.wait.until(EC.presence_of_element_located((By.XPATH, xpt))).text\n",
    "        except: return None\n",
    "    \n",
    "    def msg_sender_dttm(self,n, base=\"(//div[@id='main']//div[@class='ItfyB _3nbHh'])\"):\n",
    "        xpt = base + \"[\" + str(n) + \"]\"\n",
    "        html = self.driver.find_element(By.XPATH, xpt).get_attribute('innerHTML')\n",
    "        sp = BeautifulSoup(html, \"lxml\")\n",
    "        x = sp.find_all('div')\n",
    "        for i in x:\n",
    "            try:\n",
    "                st = i['data-pre-plain-text'].upper()\n",
    "                break\n",
    "            except:pass\n",
    "        else: return None, None\n",
    "        try:\n",
    "            split_point = st.find(']')\n",
    "            sender = st[split_point+1:].replace(':','').strip(' ')\n",
    "            dttm = parse(st[1:split_point].upper())\n",
    "            return dttm.strftime(\"%Y-%m-%d %H:%M\"), sender\n",
    "        except: None, None\n",
    "\n",
    "    def msg(self, n=2, base=\"(//div[@id='main']//div[@class='ItfyB _3nbHh'])\", dc=defaultdict(), fn=None, waitsec=3):\n",
    "        bi = base + '[' + str(n) + ']'\n",
    "        if xp(bi) is None: return None\n",
    "        else:\n",
    "            dttm, sender = msg_sender_dttm(driver, n)\n",
    "            dc = {'dttm' : dttm,\n",
    "                  'sender': sender,\n",
    "                  'msg' : [self.xp(bi + \"//div[@class='_21Ahp']/span[1]/span\"),\n",
    "                           xp(bi + \"//div[@class='_27K43 _31p5Q']//span/span\")],\n",
    "                  'quoted_sender' : xp(bi + \"//div[@class='_3pMOs yKTUI']//div[1]/span\"),\n",
    "                  'quoted_msg' : xp(bi + \"//div[@class='_3pMOs yKTUI']//div[2]/span\")}\n",
    "            return dc\n",
    "\n",
    "    def chat(driver, n=2, base=\"(//div[@id='pane-side']//div[@class='_8nE1Y'])\", dc=defaultdict(), waitsec=3):\n",
    "        bi = base + '[' + str(n) + ']'\n",
    "        if xp(bi) is None: return None\n",
    "        if len(dc) == 0:\n",
    "            dc = {'chat_name' : bi + \"//div[@class='_21S-L']\",\n",
    "                  'last_text' : bi + \"//div[@class='vQ0w7']/span[1]/span[3]\",\n",
    "                  'last_sender' : bi + \"//div[@class='vQ0w7']/span[1]/span[1]\",\n",
    "                  'last_msg_time' : bi + \"/div[@class='y_sn4']/div[@class='Dvjym']\",\n",
    "                  'new_msg_notif' : bi + \"//div[@class='Dvjym']//div[@class='_1pJ9J']/span\"}\n",
    "        for k, v in dc.items():\n",
    "            vl = [v] if type(v) is str else v\n",
    "            dc[k] = [xp(j) for j in vl]\n",
    "        return dc"
   ]
  },
  {
   "cell_type": "code",
   "execution_count": null,
   "id": "20ec1848",
   "metadata": {},
   "outputs": [],
   "source": [
    "#print(chat(d, 2))"
   ]
  },
  {
   "cell_type": "code",
   "execution_count": null,
   "id": "9879bd56",
   "metadata": {
    "scrolled": false
   },
   "outputs": [],
   "source": [
    "#msg(d, 8)"
   ]
  },
  {
   "cell_type": "code",
   "execution_count": null,
   "id": "7fa1e487",
   "metadata": {},
   "outputs": [],
   "source": []
  },
  {
   "cell_type": "code",
   "execution_count": null,
   "id": "e50a8c40",
   "metadata": {},
   "outputs": [],
   "source": []
  },
  {
   "cell_type": "code",
   "execution_count": null,
   "id": "d4b0ac62",
   "metadata": {},
   "outputs": [],
   "source": []
  },
  {
   "cell_type": "code",
   "execution_count": null,
   "id": "11391c6d",
   "metadata": {},
   "outputs": [],
   "source": [
    "#d.refresh()"
   ]
  },
  {
   "cell_type": "code",
   "execution_count": null,
   "id": "dfc1e57f",
   "metadata": {},
   "outputs": [],
   "source": [
    "class Action:\n",
    "    \n",
    "    def __init__(self, driver):\n",
    "        self.d = driver\n",
    "        self.w = WebDriverWait(driver, 3)\n",
    "        self.ac = ActionChains(self.driver)\n",
    "        \n",
    "    def action_click(driver, xpt, text):\n",
    "        elm = self.d.find_element(By.XPATH, xpt) if type(xpt) is str else xpt\n",
    "        elm.clear()\n",
    "        ac.move_to_element(elm).send_keys(text).send_keys(Keys.RETURN).perform()\n",
    "\n",
    "    def action_hover_click(driver, xpt1, xpt2=None):\n",
    "        elm = self.d.find_element(By.XPATH, xpt1) if type(xpt1) is str else xpt1\n",
    "        ActionChains(driver).move_to_element(elm).perform()\n",
    "        if xpt2 is not None:\n",
    "            elm = wait.until(EC.presence_of_element_located((By.XPATH, xpt2))) if type(xpt2) is str else xpt2\n",
    "            ActionChains(driver).move_to_element(elm).send_keys(Keys.RETURN).perform()"
   ]
  },
  {
   "cell_type": "code",
   "execution_count": null,
   "id": "a0675b13",
   "metadata": {},
   "outputs": [],
   "source": [
    "def element_waited(driver, xpt, waitsec=5):\n",
    "    wait = WebDriverWait(driver, waitsec)\n",
    "    try: return wait.until(EC.presence_of_element_located((By.XPATH, xpt)))\n",
    "    except: return None"
   ]
  },
  {
   "cell_type": "code",
   "execution_count": null,
   "id": "41f03ed7",
   "metadata": {},
   "outputs": [],
   "source": [
    "def element(driver, xpt):\n",
    "    try: return driver.find_element(By.XPATH, xpt)\n",
    "    except: return None"
   ]
  },
  {
   "cell_type": "code",
   "execution_count": null,
   "id": "34aa52af",
   "metadata": {},
   "outputs": [],
   "source": [
    "def attr(driver, xpt, value='innerHTML'):\n",
    "    try: return driver.find_element(By.XPATH, xpt).get_attribute('innerHTML')\n",
    "    except: return None\n",
    "\n",
    "\n",
    "#attr(d,\"(//div[@id='main']//div[@class='ItfyB _3nbHh'])[5]\")"
   ]
  },
  {
   "cell_type": "code",
   "execution_count": null,
   "id": "fbb16bf5",
   "metadata": {},
   "outputs": [],
   "source": [
    "def option_check(driver, xpt):\n",
    "    element = driver.find_element(By.XPATH, xpt)\n",
    "    all_options = element.find_elements(By.TAG_NAME, \"option\")\n",
    "    for option in all_options:\n",
    "        print(\"Value is: %s\" % option.get_attribute(\"value\"))"
   ]
  },
  {
   "cell_type": "code",
   "execution_count": null,
   "id": "70123d09",
   "metadata": {},
   "outputs": [],
   "source": []
  },
  {
   "cell_type": "code",
   "execution_count": null,
   "id": "750fad8f",
   "metadata": {},
   "outputs": [],
   "source": [
    "def itrdc(xptdc:dict, fn):\n",
    "    for k, v in xptdc.copy().items():\n",
    "        ls, lv = [], [v] if type(v) is str else v\n",
    "        for i in lv:\n",
    "            ls.append(fn(i))\n",
    "        else:\n",
    "            xptdc[k] = ls\n",
    "    else:\n",
    "        return xptdc"
   ]
  },
  {
   "cell_type": "code",
   "execution_count": null,
   "id": "fa84f139",
   "metadata": {},
   "outputs": [],
   "source": [
    "def bs_div_attr(html, search_attr='data-pre-plain-text',tag=\"div\"):\n",
    "    sp = BeautifulSoup(html, \"lxml\")\n",
    "    x = sp.find_all(tag)\n",
    "    for i in x:\n",
    "        try:\n",
    "            st = i[search_attr]\n",
    "            break\n",
    "        except:pass\n",
    "    else: return None, None\n",
    "    try:\n",
    "        split_point = st.find(']')\n",
    "        sender = st[split_point+1:].replace(':','').strip(' ')\n",
    "        dttm = parse(st[1:split_point].upper())\n",
    "        return dttm.strftime(\"%Y-%m-%d %H:%M\"), sender\n",
    "    except: None, None"
   ]
  },
  {
   "cell_type": "code",
   "execution_count": null,
   "id": "f126f8c6",
   "metadata": {},
   "outputs": [],
   "source": [
    "def xptext(wait, xpt, wsec=1):\n",
    "    wait = WebDriverWait(driver, wsec)\n",
    "    try: return wait.until(EC.presence_of_element_located((By.XPATH, xpt))).text\n",
    "    except: return None\n",
    "    \n",
    "def xp(driver, xpt, wsec=3):\n",
    "    try: return wait.until(EC.presence_of_element_located((By.XPATH, xpt)))\n",
    "    except: return None\n",
    "\n",
    "def itemsText(driver, n=2, base=\"(//div[@id='pane-side']//div[@class='_8nE1Y'])\", dc=defaultdict(), fn=None, waitsec=3):\n",
    "    def xp(xpt):\n",
    "        try: return wait.until(EC.presence_of_element_located((By.XPATH, xpt))).text\n",
    "        except: return None\n",
    "    bi = base + '[' + str(n) + ']'\n",
    "    if xp(bi) is None: return None\n",
    "    if len(dc) == 0:\n",
    "        dc = {'chat_name' : bi + \"//div[@class='_21S-L']\",\n",
    "              'last_text' : bi + \"//div[@class='vQ0w7']/span[1]/span[3]\",\n",
    "              'last_sender' : bi + \"//div[@class='vQ0w7']/span[1]/span[1]\",\n",
    "              'last_msg_time' : bi + \"/div[@class='y_sn4']/div[@class='Dvjym']\",\n",
    "              'new_msg_notif' : bi + \"//div[@class='Dvjym']//div[@class='_1pJ9J']/span\"}\n",
    "    f = fn if fn is not None else xp\n",
    "    for k, v in dc.items():\n",
    "        v = [v] if type(v) is str else v\n",
    "        dc[k] = [f(j) for j in v]\n",
    "    return dc"
   ]
  },
  {
   "cell_type": "code",
   "execution_count": null,
   "id": "8c19530b",
   "metadata": {},
   "outputs": [],
   "source": [
    "\n",
    "\n",
    "def pane_index(n, base= \"(//div[@id='pane-side']//div[@class='_8nE1Y'])\"):\n",
    "    bi = base + '[' + str(n) + ']'\n",
    "    dc = {'chat_name' : bi + \"//div[@class='_21S-L']\",\n",
    "      'last_text' : bi + \"//div[@class='vQ0w7']/span[1]/span[3]\",\n",
    "      'last_sender' : bi + \"//div[@class='vQ0w7']/span[1]/span[1]\",\n",
    "      'last_msg_time' : bi + \"/div[@class='y_sn4']/div[@class='Dvjym']\",\n",
    "      'new_msg_notif' : bi + \"//div[@class='Dvjym']//div[@class='_1pJ9J']/span\"}\n",
    "    return dc"
   ]
  },
  {
   "cell_type": "code",
   "execution_count": null,
   "id": "9cf2f3e8",
   "metadata": {},
   "outputs": [],
   "source": []
  },
  {
   "cell_type": "code",
   "execution_count": null,
   "id": "63219c94",
   "metadata": {},
   "outputs": [],
   "source": [
    "#msg = itemsText(d)"
   ]
  },
  {
   "cell_type": "code",
   "execution_count": null,
   "id": "76b9d6c6",
   "metadata": {},
   "outputs": [],
   "source": [
    "#msg(3)"
   ]
  },
  {
   "cell_type": "code",
   "execution_count": null,
   "id": "3f0cf63c",
   "metadata": {},
   "outputs": [],
   "source": [
    "#wa_msg_items + \"[last()]\" + \"//span[contains(text(),'ERT')]\""
   ]
  },
  {
   "cell_type": "code",
   "execution_count": null,
   "id": "6b56393f",
   "metadata": {},
   "outputs": [],
   "source": [
    "\n"
   ]
  },
  {
   "cell_type": "code",
   "execution_count": null,
   "id": "df0dd2ff",
   "metadata": {},
   "outputs": [],
   "source": [
    "#wa_msg_sender_dttm(d)"
   ]
  },
  {
   "cell_type": "code",
   "execution_count": null,
   "id": "4b75aba5",
   "metadata": {},
   "outputs": [],
   "source": [
    "#driver.find_element(By.XPATH, xpt).get_attribute('innerHTML')"
   ]
  },
  {
   "cell_type": "code",
   "execution_count": null,
   "id": "6dab9c38",
   "metadata": {},
   "outputs": [],
   "source": [
    "#//*[contains(concat( \" \", @class, \" \" ), concat( \" \", \"_21Ahp\", \" \" ))]"
   ]
  },
  {
   "cell_type": "code",
   "execution_count": null,
   "id": "bbaf2647",
   "metadata": {},
   "outputs": [],
   "source": [
    "#//*[contains(concat( \" \", @class, \" \" ), concat( \" \", \"_31p5Q\", \" \" ))] | //*[contains(concat( \" \", @class, \" \" ), concat( \" \", \"_21Ahp\", \" \" ))]"
   ]
  },
  {
   "cell_type": "code",
   "execution_count": null,
   "id": "74d7ea05",
   "metadata": {},
   "outputs": [],
   "source": [
    "#//*[contains(concat( \" \", @class, \" \" ), concat( \" \", \"_1yJoL\", \" \" ))]"
   ]
  },
  {
   "cell_type": "code",
   "execution_count": null,
   "id": "0f9e7bb7",
   "metadata": {},
   "outputs": [],
   "source": [
    "#!//*[contains(concat( \" \", @class, \" \" ), concat( \" \", \"_31p5Q\", \" \" ))]"
   ]
  },
  {
   "cell_type": "code",
   "execution_count": null,
   "id": "c0e54b34",
   "metadata": {},
   "outputs": [],
   "source": [
    "#//*[contains(concat( \" \", @text(), \" \" ), concat( \" \", \"restored by reset\", \" \" ))]"
   ]
  },
  {
   "cell_type": "code",
   "execution_count": null,
   "id": "930b083d",
   "metadata": {},
   "outputs": [],
   "source": [
    "#element(d, wa_msg_items + \"[last()]\").text7"
   ]
  },
  {
   "cell_type": "code",
   "execution_count": null,
   "id": "18c4990f",
   "metadata": {},
   "outputs": [],
   "source": [
    "#element(d, wa_pane_items + \"[last()]\").text\n",
    "#ActionChains(d).move_to_element(d.find_element(By.XPATH, wa_pane_search)).click().perform()\n",
    "#ActionChains(d).send_keys('onami').send_keys(Keys.RETURN).perform()"
   ]
  },
  {
   "cell_type": "code",
   "execution_count": null,
   "id": "5d675f1b",
   "metadata": {},
   "outputs": [],
   "source": [
    "HT = element(d,\"(//div[@class='_1-lf9 _3mSPV _18q-J'])[last()]\").get_attribute('innerHTML')\n",
    "HT"
   ]
  },
  {
   "cell_type": "code",
   "execution_count": null,
   "id": "bd726b29",
   "metadata": {},
   "outputs": [],
   "source": []
  },
  {
   "cell_type": "code",
   "execution_count": null,
   "id": "e8942539",
   "metadata": {},
   "outputs": [],
   "source": []
  },
  {
   "cell_type": "code",
   "execution_count": null,
   "id": "6ebfa4fd",
   "metadata": {},
   "outputs": [],
   "source": [
    "#wa_msg_items + \"[last()]\""
   ]
  },
  {
   "cell_type": "code",
   "execution_count": null,
   "id": "a5ba9b5d",
   "metadata": {},
   "outputs": [],
   "source": []
  },
  {
   "cell_type": "code",
   "execution_count": null,
   "id": "d435adcc",
   "metadata": {},
   "outputs": [],
   "source": [
    "#sidepane_item(d, n=5)"
   ]
  },
  {
   "cell_type": "code",
   "execution_count": null,
   "id": "dffeb7e7",
   "metadata": {},
   "outputs": [],
   "source": [
    "#sidepane_item(d, dc=msg_index(n=5))"
   ]
  },
  {
   "cell_type": "code",
   "execution_count": null,
   "id": "51b8a223",
   "metadata": {},
   "outputs": [],
   "source": []
  }
 ],
 "metadata": {
  "kernelspec": {
   "display_name": "Python 3 (ipykernel)",
   "language": "python",
   "name": "python3"
  },
  "language_info": {
   "codemirror_mode": {
    "name": "ipython",
    "version": 3
   },
   "file_extension": ".py",
   "mimetype": "text/x-python",
   "name": "python",
   "nbconvert_exporter": "python",
   "pygments_lexer": "ipython3",
   "version": "3.9.1"
  },
  "nbTranslate": {
   "displayLangs": [
    "*"
   ],
   "hotkey": "alt-t",
   "langInMainMenu": true,
   "sourceLang": "en",
   "targetLang": "fr",
   "useGoogleTranslate": true
  },
  "toc": {
   "base_numbering": 1,
   "nav_menu": {},
   "number_sections": true,
   "sideBar": true,
   "skip_h1_title": false,
   "title_cell": "Table of Contents",
   "title_sidebar": "Contents",
   "toc_cell": false,
   "toc_position": {},
   "toc_section_display": true,
   "toc_window_display": false
  }
 },
 "nbformat": 4,
 "nbformat_minor": 5
}
