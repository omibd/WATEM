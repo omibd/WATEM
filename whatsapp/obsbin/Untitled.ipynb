{
 "cells": [
  {
   "cell_type": "code",
   "execution_count": 14,
   "id": "e3ec3632",
   "metadata": {},
   "outputs": [
    {
     "name": "stderr",
     "output_type": "stream",
     "text": [
      "[WDM] - Downloading: 100%|████████████████████████████████████████████████████████| 6.79M/6.79M [00:05<00:00, 1.31MB/s]\n"
     ]
    },
    {
     "name": "stdout",
     "output_type": "stream",
     "text": [
      "(21) WhatsApp\n"
     ]
    }
   ],
   "source": [
    "from wabot_mod import *\n",
    "x = Wakit()\n",
    "d = x.get_driver\n",
    "ac = ActionChains(d)"
   ]
  },
  {
   "cell_type": "markdown",
   "id": "89d1105b",
   "metadata": {},
   "source": [
    "html_tags are -> div, span, p, h3 etc\n",
    "html_tag_attr are -> 'id, title, class' etc\n",
    "attr_value -> developed own set value to select/identify the element\n",
    "\n",
    "XPATH FORMAT: //html_tag[@html_tag_attr='attr_value']\n",
    "* = denotes for all\n",
    "\n",
    "//*[@id='main'] -> select for all tag where id == 'main'\n",
    "//div[@id='main'] -> select for all div element where id == 'main'\n",
    "\n",
    "\n",
    "//*[. = 'ABC']\n",
    "//*[text() = 'ABC']\n",
    "//div[text() = 'ABC']\n",
    "//div[contains(text(),'ABC')\n",
    "//div[contains(concat(' ',@class,' '),' foobar ')]"
   ]
  },
  {
   "cell_type": "code",
   "execution_count": 15,
   "id": "1ecba158",
   "metadata": {},
   "outputs": [],
   "source": [
    "def xp(xpt): #presence\n",
    "    try:\n",
    "        wait = WebDriverWait(d, 3)\n",
    "        element = wait.until(EC.presence_of_element_located((By.XPATH, xpt)))\n",
    "        return element\n",
    "    except: return None"
   ]
  },
  {
   "cell_type": "code",
   "execution_count": null,
   "id": "a69271d4",
   "metadata": {},
   "outputs": [],
   "source": []
  },
  {
   "cell_type": "code",
   "execution_count": 16,
   "id": "47a43f38",
   "metadata": {},
   "outputs": [],
   "source": []
  },
  {
   "cell_type": "code",
   "execution_count": 17,
   "id": "30cda797",
   "metadata": {},
   "outputs": [],
   "source": []
  },
  {
   "cell_type": "code",
   "execution_count": 18,
   "id": "247ab073",
   "metadata": {},
   "outputs": [],
   "source": [
    "def fwmsg(d, msgxpt,):\n",
    "    wait = WebDriverWait(d, 5)\n",
    "    ac = ActionChains(d)\n",
    "    def xp(xpt):\n",
    "        try: return wait.until(EC.presence_of_element_located((By.XPATH, xpt)))\n",
    "        except: return None\n",
    "    elm = xp(msgxpt)\n",
    "    if elm is None:\n",
    "        print('element not found')\n",
    "        return None\n",
    "    else:\n",
    "        ac.move_to_element(elm).click(xp(msgxpt + \"//span[contains(@data-testid,'down-context')]\"))\n",
    "        ac.move_to_element(xp(msgxpt + \"//ul[@class='_3bcLp']/div/li[3]\")).click()\n",
    "        tm.sleep(.5)\n",
    "        ac.click(xp(\"//div[@id='main']/span[2]/div[@class='_2IUvV']//button[4]\")\n",
    "        ac.move_to_element(xp('//*[contains(concat( \" \", @class, \" \" ), concat( \" \", \"_2vDPL\", \" \" ))]')).click()\n",
    "        ac.send_keys(text).send_keys(Keys.RETURN)\n",
    "        ac.move_to_element(xp(\"//span[contains(@data-icon,'send')]\")).click()\n",
    "        ac.perform()"
   ]
  },
  {
   "cell_type": "code",
   "execution_count": 19,
   "id": "239c488c",
   "metadata": {},
   "outputs": [],
   "source": [
    "def scroll_by_xpath(driver, xpt=\"(//div[@id='main']//div[@class='ItfyB _3nbHh'])[2]\"):\n",
    "    wait = WebDriverWait(driver, 30)\n",
    "    driver.execute_script(\"arguments[0].scrollIntoView(true);\", wait.until(EC.presence_of_element_located((By.XPATH, xpt))))\n",
    "    return 1\n",
    "def sidepane_scroll_by_id(driver, initial = 1, scrolls=32):\n",
    "    for i in range(0, scrolls):\n",
    "        driver.execute_script(\"document.getElementById('pane-side').scrollTop={}\".format(initial))\n",
    "        initial += 300\n",
    "    return initial"
   ]
  },
  {
   "cell_type": "code",
   "execution_count": null,
   "id": "020fc199",
   "metadata": {},
   "outputs": [],
   "source": []
  },
  {
   "cell_type": "code",
   "execution_count": null,
   "id": "0cc749d2",
   "metadata": {},
   "outputs": [],
   "source": []
  },
  {
   "cell_type": "code",
   "execution_count": null,
   "id": "581ae915",
   "metadata": {},
   "outputs": [],
   "source": [
    "def bs_div_attr(html, search_attr='data-pre-plain-text',tag=\"div\"):\n",
    "    sp = BeautifulSoup(html, \"lxml\")\n",
    "    x = sp.find_all(tag)\n",
    "    for i in x:\n",
    "        try:\n",
    "            st = i[search_attr]\n",
    "            break\n",
    "        except:pass\n",
    "    else: return None, None\n",
    "    try:\n",
    "        split_point = st.find(']')\n",
    "        sender = st[split_point+1:].replace(':','').strip(' ')\n",
    "        dttm = parse(st[1:split_point].upper())\n",
    "        return dttm.strftime(\"%Y-%m-%d %H:%M\"), sender\n",
    "    except: None, None\n",
    "        \n",
    "def xpob(driver, xpt):\n",
    "    wait = WebDriverWait(driver, 2)\n",
    "    try: return wait.until(EC.presence_of_element_located((By.XPATH, xpt)))\n",
    "    except: return False\n",
    "    \n",
    "def msg_scrap(driver, n=4, base=\"(//div[@id='main']//div[@class='ItfyB _3nbHh'])\",):\n",
    "    msgdiv = base + \"[\" + str(n) + \"]\"\n",
    "    try: ActionChains(driver).move_to_element(xpob(driver, msgdiv)).perform()\n",
    "    except: pass\n",
    "    dt_plus_sender_xpt = msgdiv + \"//div[@class='_27K43 _31p5Q']\"\n",
    "    sender_msg_xpt = msgdiv + \"//div[@class='_21Ahp']/span[1]/span\"\n",
    "    sender_msg_xpt_1 = msgdiv + \"//div[@class='_27K43 _31p5Q']//span/span\"\n",
    "    quoted_sender_xpt = msgdiv + \"//div[@class='_3pMOs yKTUI']//div[1]/span\"\n",
    "    quoted_text_xpt = msgdiv + \"//div[@class='_3pMOs yKTUI']//div[2]/span\"\n",
    "    read_more_button = msgdiv + '/div[1]/div[2]/div/div'\n",
    "    rd = xpob(d, read_more_button)\n",
    "    if type(rd) is not bool:\n",
    "        if 'more' in rd.text.lower() or 'Read' in rd.text:\n",
    "            try: ActionChains(driver).move_to_element(rd).click().perform()\n",
    "            except: pass\n",
    "            xc(driver, read_more_button)\n",
    "    \n",
    "    dttm,sender,sender_msg,quoted_sender,quoted_text = '','','','',''\n",
    "    a = xpob(driver, dt_plus_sender_xpt)\n",
    "    if type(a) is bool: return None\n",
    "    \n",
    "    b = a.get_attribute('innerHTML')\n",
    "    dttm, sender = bs_div_attr(b)\n",
    "    try:\n",
    "        sender_msg = xpob(driver, sender_msg_xpt).text\n",
    "    except:\n",
    "        sender_msg = xpob(driver, sender_msg_xpt_1).text\n",
    "    if type(xpob(d, quoted_sender_xpt)) is not bool:\n",
    "        quoted_sender = xpob(driver, quoted_sender_xpt).text\n",
    "        quoted_text = xpob(driver, quoted_text_xpt).text\n",
    "    return [dttm,sender,sender_msg,quoted_sender,quoted_text]"
   ]
  },
  {
   "cell_type": "code",
   "execution_count": null,
   "id": "137faa42",
   "metadata": {},
   "outputs": [],
   "source": [
    "def itritm(driver, n=2 ,dc=defaultdict(),fn=None, base=\"(//div[@id='main']//div[@class='ItfyB _3nbHh'])\"):\n",
    "    wait = WebDriverWait(driver, 2)\n",
    "    def xpadv(xpt):\n",
    "        xp = [xpt] if type(xpt) is str else xpt\n",
    "        for n in xp: #return immidiate value if not none\n",
    "            try: return wait.until(EC.presence_of_element_located((By.XPATH, xp)))\n",
    "            except: return None\n",
    "            \n",
    "    bi = base + '[' + str(n) + ']'\n",
    "    if xp(bi) is None: return None\n",
    "    for k, v in dc.items():\n",
    "        if type(v) is list:\n",
    "            tls = [xp(v1) for v1 in v]\n",
    "            dc[k] = x[0].text if xp[0] is not None else xp[1].text\n",
    "        elif type(v) is str:\n",
    "            z1 = xp(v)\n",
    "            dc[k] = z1 if z1 is None else z1.text\n",
    "        elif type(v) is tuple:\n",
    "            try: ActionChains(driver).move_to_element(xp(driver, v[0])).click().perform()\n",
    "            except: pass\n",
    "        "
   ]
  },
  {
   "cell_type": "code",
   "execution_count": null,
   "id": "0d419ace",
   "metadata": {},
   "outputs": [],
   "source": []
  },
  {
   "cell_type": "code",
   "execution_count": null,
   "id": "433ea22d",
   "metadata": {},
   "outputs": [],
   "source": [
    "\n",
    "bodydc = {'dttm' : msgdiv + \"//div[@class='_27K43 _31p5Q']\",\n",
    "          'sender': msgdiv + \"//div[@class='_27K43 _31p5Q']\",\n",
    "          'sender_msg_xpt' : [msgdiv + \"//div[@class='_21Ahp']/span[1]/span\", msgdiv + \"//div[@class='_27K43 _31p5Q']//span/span\"],\n",
    "          'quoted_sender_xpt' : msgdiv + \"//div[@class='_3pMOs yKTUI']//div[1]/span\",\n",
    "          'quoted_text_xpt' : msgdiv + \"//div[@class='_3pMOs yKTUI']//div[2]/span\",\n",
    "          'read_more_button' : msgdiv + '/div[1]/div[2]/div/div'}"
   ]
  },
  {
   "cell_type": "code",
   "execution_count": null,
   "id": "727f4dcb",
   "metadata": {},
   "outputs": [],
   "source": []
  },
  {
   "cell_type": "code",
   "execution_count": null,
   "id": "ec3cf50f",
   "metadata": {},
   "outputs": [],
   "source": []
  },
  {
   "cell_type": "code",
   "execution_count": 46,
   "id": "7afe917a",
   "metadata": {},
   "outputs": [
    {
     "name": "stdout",
     "output_type": "stream",
     "text": [
      "{'pane_chat_name': 'ROBI HAMIDA', 'last_text': 'Tonight HTL Central  Poc  Mr. Rasel 01722374286  Any problem Direct call him. Duration 11.00PM to 6.00AM.', 'last_sender': '+880 1922-203199', 'last_msg_time': 'yesterday', 'new_msg_notif': '2'}\n"
     ]
    }
   ],
   "source": [
    "def sidepane_item(driver, base=\"(//div[@id='pane-side']//div[@class='_8nE1Y'])\",dc=defaultdict(), n=2):\n",
    "    wait = WebDriverWait(driver, 1)\n",
    "    def xp(xpt):\n",
    "        try: return wait.until(EC.presence_of_element_located((By.XPATH, xpt)))\n",
    "        except: return None\n",
    "    bi = base + '[' + str(n) + ']'\n",
    "    if xp(bi) is None: return None\n",
    "    if len(dc) == 0:\n",
    "        dc = {'chat_name' : bi + \"//div[@class='_21S-L']\",\n",
    "              'last_text' : bi + \"//div[@class='vQ0w7']/span[1]/span[3]\",\n",
    "              'last_sender' : bi + \"//div[@class='vQ0w7']/span[1]/span[1]\",\n",
    "              'last_msg_time' : bi + \"/div[@class='y_sn4']/div[@class='Dvjym']\",\n",
    "              'new_msg_notif' : bi + \"//div[@class='Dvjym']//div[@class='_1pJ9J']/span\"}\n",
    "    for k, v in dc.items():\n",
    "        v = [v] if type(v) is str else v\n",
    "        x = [xp(j) for j in v]\n",
    "        dc[k] = [None if x is None for j in x else j.text]\n",
    "    return pnitem\n",
    "        \n",
    "print(sidepane_item(driver=d, base=\"(//div[@id='pane-side']//div[@class='_8nE1Y'])\", n=2))"
   ]
  },
  {
   "cell_type": "code",
   "execution_count": 42,
   "id": "0f5e39f8",
   "metadata": {},
   "outputs": [
    {
     "data": {
      "text/plain": [
       "{'pane_chat_name': 'ROBI HAMIDA',\n",
       " 'last_text': 'Tonight HTL Central  Poc  Mr. Rasel 01722374286  Any problem Direct call him. Duration 11.00PM to 6.00AM.',\n",
       " 'last_sender': '+880 1922-203199',\n",
       " 'last_msg_time': 'yesterday',\n",
       " 'new_msg_notif': '2'}"
      ]
     },
     "execution_count": 42,
     "metadata": {},
     "output_type": "execute_result"
    }
   ],
   "source": [
    "def xpitem(driver, base, dic, fn):\n",
    "    wait = WebDriverWait(driver, 2)\n",
    "    def xp(xpt):\n",
    "        try: return wait.until(EC.presence_of_element_located((By.XPATH, xpt)))\n",
    "        except: return None\n",
    "    if xp(base) is None: return None\n",
    "    else:\n",
    "        for k, v in dic.items():\n",
    "            x = fn(bs=base, dv=v, fnx=xp)\n",
    "            dic[k] =  None if x is None else x.text\n",
    "        return dic\n",
    "    \n",
    "pnitem = {'pane_chat_name' : \"//div[@class='_21S-L']\",\n",
    "        'last_text' : \"//div[@class='vQ0w7']/span[1]/span[3]\",\n",
    "        'last_sender' : \"//div[@class='vQ0w7']/span[1]/span[1]\",\n",
    "        'last_msg_time' : \"/div[@class='y_sn4']/div[@class='Dvjym']\",\n",
    "        'new_msg_notif' : \"//div[@class='Dvjym']//div[@class='_1pJ9J']/span\"}\n",
    "\n",
    "def fn(**i):\n",
    "    return i['fnx'](i['bs'] + i['dv'])\n",
    "\n",
    "xpitem(d, \"(//div[@id='pane-side']//div[@class='_8nE1Y'])[5]\", pnitem, fn)"
   ]
  },
  {
   "cell_type": "code",
   "execution_count": null,
   "id": "69947898",
   "metadata": {},
   "outputs": [],
   "source": []
  },
  {
   "cell_type": "code",
   "execution_count": 11,
   "id": "e0ba6c8d",
   "metadata": {},
   "outputs": [],
   "source": [
    "msg_section = '/html/body/div[1]/div/div/div[3]/div/div[2]/div[2]/div/div'\n",
    "#\"(//div[@id='pane-side']//div[@class='_8nE1Y'])\"\n",
    "def pane_iter(basexpt, fnxpt, store_txt=[], loopst=1, loopend=30):\n",
    "    ls = []\n",
    "    for n in range(loopst,loopend):\n",
    "        bs = basexpt + '[' + str(n) + \"]\"\n",
    "        if xp(bs) is not None:\n",
    "            fetchxpt = fnxpt(bs)\n",
    "            for k, v in fetchxpt.items():\n",
    "                try:\n",
    "                    fetchxpt[k] = xp(v).text\n",
    "                except:\n",
    "                    fetchxpt[k] = 'None'\n",
    "            else: ls.append(fetchxpt)\n",
    "        else:\n",
    "            ln = len(ls)\n",
    "            stx = list(set(store_txt + ls))\n",
    "            if len(lx) == len(stx)"
   ]
  },
  {
   "cell_type": "code",
   "execution_count": 13,
   "id": "90c8fd65",
   "metadata": {},
   "outputs": [
    {
     "data": {
      "text/plain": [
       "[{'pane_chat_name': 'Alauddin Vai',\n",
       "  'last_text': 'None',\n",
       "  'last_sender': 'Photo',\n",
       "  'last_msg_time': '10:20 pm',\n",
       "  'new_msg_notif': 'None'},\n",
       " {'pane_chat_name': 'SOC-RO',\n",
       "  'last_text': 'Update of Site Down at 23:00 On 21-01-2023 Region: 2G/3G/4G National: 12/6/13 DHK_M: 2/0/2 DHK_N: 0/0/1 DHK_S: 2/1/1 DHK_O: 1/1/1 CTG_M: 0/0/0 CTG_N: 2/1/2 CTG_S: 0/0/0 COM: 0/0/0 NOA: 2/0/2 SYL: 1/1/1 MYM: 0/0/0 BAR: 1/1/1 KHL: 0/1/1 KUS: 0/0/0 RAJ: 0/0/0 RANG: 1/0/1',\n",
       "  'last_sender': 'hasan',\n",
       "  'last_msg_time': '11:11 pm',\n",
       "  'new_msg_notif': '1'},\n",
       " {'pane_chat_name': 'Change Management',\n",
       "  'last_text': 'Please approve',\n",
       "  'last_sender': '+880 1817-181462',\n",
       "  'last_msg_time': '11:17 pm',\n",
       "  'new_msg_notif': '6'},\n",
       " {'pane_chat_name': 'OPS & RO',\n",
       "  'last_text': 'Update of Site Down at 23:00 On 21-01-2023 Region: 2G/3G/4G National: 12/6/13 DHK_M: 2/0/2 DHK_N: 0/0/1 DHK_S: 2/1/1 DHK_O: 1/1/1 CTG_M: 0/0/0 CTG_N: 2/1/2 CTG_S: 0/0/0 COM: 0/0/0 NOA: 2/0/2 SYL: 1/1/1 MYM: 0/0/0 BAR: 1/1/1 KHL: 0/1/1 KUS: 0/0/0 RAJ: 0/0/0 RANG: 1/0/1',\n",
       "  'last_sender': 'hasan',\n",
       "  'last_msg_time': '11:11 pm',\n",
       "  'new_msg_notif': '1'},\n",
       " {'pane_chat_name': 'Support_BTCL fiber O&M',\n",
       "  'last_text': 'Fiber break now bhaia.',\n",
       "  'last_sender': 'Ammar',\n",
       "  'last_msg_time': '11:34 pm',\n",
       "  'new_msg_notif': '8'},\n",
       " {'pane_chat_name': 'Robi & e.co Ops',\n",
       "  'last_text': 'Update of Site Down at 23:00 On 21-01-2023 Region: 2G/3G/4G National: 12/6/13 DHK_M: 2/0/2 DHK_N: 0/0/1 DHK_S: 2/1/1 DHK_O: 1/1/1 CTG_M: 0/0/0 CTG_N: 2/1/2 CTG_S: 0/0/0 COM: 0/0/0 NOA: 2/0/2 SYL: 1/1/1 MYM: 0/0/0 BAR: 1/1/1 KHL: 0/1/1 KUS: 0/0/0 RAJ: 0/0/0 RANG: 1/0/1',\n",
       "  'last_sender': 'hasan',\n",
       "  'last_msg_time': '11:11 pm',\n",
       "  'new_msg_notif': '1'},\n",
       " {'pane_chat_name': 'Technology Operations',\n",
       "  'last_text': 'There is no dwdm , only site. pls correct it ..',\n",
       "  'last_sender': 'Rahim',\n",
       "  'last_msg_time': '11:10 pm',\n",
       "  'new_msg_notif': '8'},\n",
       " {'pane_chat_name': 'RolloutProjectCR Followup',\n",
       "  'last_text': 'Done',\n",
       "  'last_sender': 'Mahafuj',\n",
       "  'last_msg_time': '11:29 pm',\n",
       "  'new_msg_notif': '13'},\n",
       " {'pane_chat_name': 'ROBI IIG Forum',\n",
       "  'last_text': 'ICMP Delay & Packet Loss Update 21/01/2023 22:00',\n",
       "  'last_sender': 'Eshtiuk',\n",
       "  'last_msg_time': '10:01 pm',\n",
       "  'new_msg_notif': 'None'},\n",
       " {'pane_chat_name': 'Emergency SOC Group',\n",
       "  'last_text': \"21-Jan'23@22:45 BSC CSSR: No degradation Voice Traffic: No degradation\",\n",
       "  'last_sender': 'Yousuf Vai',\n",
       "  'last_msg_time': '11:38 pm',\n",
       "  'new_msg_notif': 'None'},\n",
       " {'pane_chat_name': 'baitul',\n",
       "  'last_text': 'None',\n",
       "  'last_sender': 'HO: Yousuf bhai',\n",
       "  'last_msg_time': '10:06 pm',\n",
       "  'new_msg_notif': 'None'},\n",
       " {'pane_chat_name': 'O&M actions Robi_BTCL',\n",
       "  'last_text': 'Dear Ammar, Tomorrow morning, pls concall with khogen da and our implementation team.',\n",
       "  'last_sender': 'Monir',\n",
       "  'last_msg_time': '11:32 pm',\n",
       "  'new_msg_notif': '15'},\n",
       " {'pane_chat_name': 'Network Operations',\n",
       "  'last_text': 'Update of Site Down at 23:00 On 21-01-2023 Region: 2G/3G/4G National: 12/6/13 DHK_M: 2/0/2 DHK_N: 0/0/1 DHK_S: 2/1/1 DHK_O: 1/1/1 CTG_M: 0/0/0 CTG_N: 2/1/2 CTG_S: 0/0/0 COM: 0/0/0 NOA: 2/0/2 SYL: 1/1/1 MYM: 0/0/0 BAR: 1/1/1 KHL: 0/1/1 KUS: 0/0/0 RAJ: 0/0/0 RANG: 1/0/1',\n",
       "  'last_sender': 'Mahafuj',\n",
       "  'last_msg_time': '11:04 pm',\n",
       "  'new_msg_notif': '2'},\n",
       " {'pane_chat_name': 'Robi Own Fiber O&M.',\n",
       "  'last_text': 'Tonight HTL Central  Poc  Mr. Rasel 01722374286  Any problem Direct call him. Duration 11.00PM to 6.00AM.',\n",
       "  'last_sender': '+880 1922-203199',\n",
       "  'last_msg_time': '11:39 pm',\n",
       "  'new_msg_notif': '13'},\n",
       " {'pane_chat_name': 'ROBI HAMIDA',\n",
       "  'last_text': 'Tonight HTL Central  Poc  Mr. Rasel 01722374286  Any problem Direct call him. Duration 11.00PM to 6.00AM.',\n",
       "  'last_sender': '+880 1922-203199',\n",
       "  'last_msg_time': '11:39 pm',\n",
       "  'new_msg_notif': '2'},\n",
       " {'pane_chat_name': 'Sajal',\n",
       "  'last_text': 'None',\n",
       "  'last_sender': 'Shabbir vai.',\n",
       "  'last_msg_time': '10:10 pm',\n",
       "  'new_msg_notif': 'None'},\n",
       " {'pane_chat_name': 'Operations',\n",
       "  'last_text': 'ICMP Delay & Packet Loss Update 21/01/2023 23:00',\n",
       "  'last_sender': 'tawhid',\n",
       "  'last_msg_time': '11:16 pm',\n",
       "  'new_msg_notif': '4'},\n",
       " {'pane_chat_name': 'Jalal Vaia',\n",
       "  'last_text': 'None',\n",
       "  'last_sender': 'Vaia, this is done.',\n",
       "  'last_msg_time': 'yesterday',\n",
       "  'new_msg_notif': 'None'},\n",
       " {'pane_chat_name': 'RCO_12th Floor',\n",
       "  'last_text': 'This message was deleted',\n",
       "  'last_sender': 'Ashiq',\n",
       "  'last_msg_time': '11:24 pm',\n",
       "  'new_msg_notif': '2'},\n",
       " {'pane_chat_name': 'Eshtiuk Hossain',\n",
       "  'last_text': 'None',\n",
       "  'last_sender': 'Towhid vaia',\n",
       "  'last_msg_time': '10:11 pm',\n",
       "  'new_msg_notif': 'None'}]"
      ]
     },
     "execution_count": 13,
     "metadata": {},
     "output_type": "execute_result"
    }
   ],
   "source": [
    "lx"
   ]
  },
  {
   "cell_type": "code",
   "execution_count": null,
   "id": "6f54a601",
   "metadata": {},
   "outputs": [],
   "source": []
  },
  {
   "cell_type": "code",
   "execution_count": null,
   "id": "58293248",
   "metadata": {},
   "outputs": [],
   "source": []
  },
  {
   "cell_type": "code",
   "execution_count": 10,
   "id": "d0ebbd1b",
   "metadata": {},
   "outputs": [],
   "source": [
    "def pane_read(init=0, storels=[], stop_counter=0, stop_at=3, status=True):\n",
    "    ls = []\n",
    "    if stop_coudnter>=stop_at or status==False:\n",
    "        status = False\n",
    "        return storels\n",
    "    for n in range(1,50):\n",
    "        x = xp(panediv + '[' + str(n) + \"]//div[@class='_21S-L']\")\n",
    "        if x is None:\n",
    "            init = sidepane_scroll_by_id(d,init)\n",
    "            ln1 = len(storels)\n",
    "            stx = set(storels + ls)\n",
    "            print('len: ',len(stx), ' added:', len(stx)-ln1, ' from: ', len(ls))\n",
    "            if (len(stx)-ln1) == 0: \n",
    "                stop_counter=stop_counter + 1\n",
    "            print('stop_counter:',stop_counter)\n",
    "            a = pane_read(init, list(stx), stop_counter)\n",
    "        else:\n",
    "            ls.append(x.text)\n",
    "    return list(stx)"
   ]
  },
  {
   "cell_type": "code",
   "execution_count": null,
   "id": "2c3255b6",
   "metadata": {},
   "outputs": [
    {
     "name": "stdout",
     "output_type": "stream",
     "text": [
      "len:  20  added: 20  from:  20\n",
      "stop_counter: 0\n",
      "len:  40  added: 20  from:  20\n",
      "stop_counter: 0\n",
      "len:  60  added: 20  from:  20\n",
      "stop_counter: 0\n",
      "len:  79  added: 19  from:  19\n",
      "stop_counter: 0\n",
      "len:  79  added: 0  from:  18\n",
      "stop_counter: 1\n",
      "len:  79  added: 0  from:  18\n",
      "stop_counter: 2\n",
      "len:  79  added: 0  from:  18\n",
      "stop_counter: 3\n",
      "len:  79  added: 0  from:  18\n",
      "stop_counter: 4\n",
      "len:  79  added: 0  from:  18\n",
      "stop_counter: 5\n",
      "len:  79  added: 0  from:  18\n",
      "stop_counter: 6\n",
      "len:  79  added: 0  from:  18\n",
      "stop_counter: 7\n",
      "len:  79  added: 0  from:  18\n",
      "stop_counter: 8\n",
      "len:  79  added: 0  from:  18\n",
      "stop_counter: 9\n",
      "len:  79  added: 0  from:  18\n",
      "stop_counter: 10\n",
      "len:  79  added: 0  from:  18\n",
      "stop_counter: 11\n",
      "len:  79  added: 0  from:  18\n",
      "stop_counter: 12\n"
     ]
    }
   ],
   "source": [
    "def omiter():"
   ]
  },
  {
   "cell_type": "code",
   "execution_count": null,
   "id": "cfe61799",
   "metadata": {},
   "outputs": [],
   "source": [
    "msg = \"(//div[@id='main']//div[@class='ItfyB _3nbHh'])[last()]\""
   ]
  },
  {
   "cell_type": "code",
   "execution_count": null,
   "id": "2167d00b",
   "metadata": {},
   "outputs": [],
   "source": [
    "\n",
    "        \n",
    "            \n",
    "            "
   ]
  },
  {
   "cell_type": "code",
   "execution_count": null,
   "id": "57838414",
   "metadata": {},
   "outputs": [],
   "source": []
  },
  {
   "cell_type": "code",
   "execution_count": null,
   "id": "457722c6",
   "metadata": {},
   "outputs": [],
   "source": []
  },
  {
   "cell_type": "code",
   "execution_count": null,
   "id": "48116e52",
   "metadata": {},
   "outputs": [],
   "source": []
  },
  {
   "cell_type": "code",
   "execution_count": null,
   "id": "a40f32ae",
   "metadata": {},
   "outputs": [],
   "source": []
  },
  {
   "cell_type": "code",
   "execution_count": null,
   "id": "92850e32",
   "metadata": {},
   "outputs": [],
   "source": []
  }
 ],
 "metadata": {
  "kernelspec": {
   "display_name": "Python 3 (ipykernel)",
   "language": "python",
   "name": "python3"
  },
  "language_info": {
   "codemirror_mode": {
    "name": "ipython",
    "version": 3
   },
   "file_extension": ".py",
   "mimetype": "text/x-python",
   "name": "python",
   "nbconvert_exporter": "python",
   "pygments_lexer": "ipython3",
   "version": "3.9.1"
  },
  "nbTranslate": {
   "displayLangs": [
    "*"
   ],
   "hotkey": "alt-t",
   "langInMainMenu": true,
   "sourceLang": "en",
   "targetLang": "fr",
   "useGoogleTranslate": true
  },
  "toc": {
   "base_numbering": 1,
   "nav_menu": {},
   "number_sections": true,
   "sideBar": true,
   "skip_h1_title": false,
   "title_cell": "Table of Contents",
   "title_sidebar": "Contents",
   "toc_cell": false,
   "toc_position": {},
   "toc_section_display": true,
   "toc_window_display": false
  }
 },
 "nbformat": 4,
 "nbformat_minor": 5
}
