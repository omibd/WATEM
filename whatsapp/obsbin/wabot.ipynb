{
 "cells": [
  {
   "cell_type": "code",
   "execution_count": 3,
   "id": "096a7430",
   "metadata": {},
   "outputs": [
    {
     "name": "stdout",
     "output_type": "stream",
     "text": [
      "[      ____  __  __   _          \n",
      "      / __ \\|  \\/  | | |         \n",
      "     | |  | | \\  / | | |         \n",
      "     | |  | | |\\/| | | |         \n",
      "     | |__| | |  | | | |         \n",
      "      \\____/\\_|  |_| |_|        ]\n",
      "\n",
      "---------------------------------\n"
     ]
    }
   ],
   "source": [
    "import os, sys, time, subprocess\n",
    "from collections import defaultdict\n",
    "import datetime as dt\n",
    "from selenium import webdriver\n",
    "from selenium.webdriver.chrome.service import Service\n",
    "from webdriver_manager.chrome import ChromeDriverManager\n",
    "from selenium.webdriver.chrome.options import Options\n",
    "from selenium.webdriver.common.by import By\n",
    "from selenium.webdriver.support.ui import WebDriverWait\n",
    "from selenium.webdriver.support import expected_conditions as EC\n",
    "from selenium.webdriver.common.action_chains import ActionChains\n",
    "from selenium.common.exceptions import NoSuchElementException\n",
    "from selenium.common.exceptions import NoAlertPresentException\n",
    "mypath = os.path.dirname(os.path.realpath('.')) #'__file__'\n",
    "sys.path.insert(0,mypath)\n",
    "from whatsapp import *"
   ]
  },
  {
   "cell_type": "code",
   "execution_count": 4,
   "id": "e514feb3",
   "metadata": {
    "code_folding": []
   },
   "outputs": [],
   "source": [
    "\n",
    "def sidepane_scroll_by_id(driver, initial = 1, scrolls=25):\n",
    "    for i in range(0, scrolls):\n",
    "        driver.execute_script(\"document.getElementById('pane-side').scrollTop={}\".format(initial))\n",
    "        initial += 300\n",
    "    return initial\n",
    "\n",
    "def scroll_by_xpath(driver, xpt=\"(//div[@id='main']//div[@class='ItfyB _3nbHh'])[2]\"):\n",
    "    wait = WebDriverWait(driver, 30)\n",
    "    driver.execute_script(\"arguments[0].scrollIntoView(true);\", wait.until(EC.presence_of_element_located((By.XPATH, xpt))))\n",
    "    return 1\n",
    "    \n",
    "def reload(driver, wait_sec=60):\n",
    "    wait = WebDriverWait(driver, wait_sec)\n",
    "    driver.refresh()\n",
    "    search_bar_xpt = \"/html/body/div[1]/div/div/div[3]/div/div[1]/div/div/div[2]/div/div[2]\"\n",
    "    element = wait.until(EC.presence_of_element_located((By.XPATH, search_bar_xpt)))\n",
    "    print('reload success, whatsapp ready')\n",
    "\n",
    "def xp(driver, xpt): #presence\n",
    "    try:\n",
    "        wait = WebDriverWait(driver, 10)\n",
    "        element = wait.until(EC.presence_of_element_located((By.XPATH, xpt)))\n",
    "        return element\n",
    "    except: return False\n",
    "\n",
    "def xfill(driver, xpt, txt=None, search_only =True):\n",
    "    wait = WebDriverWait(driver, 10)\n",
    "    element = wait.until(EC.presence_of_element_located((By.XPATH, xpt))) if type(xpt) is str else xpt\n",
    "    if element != False:\n",
    "        element.clear()\n",
    "        ac = ActionChains(driver)\n",
    "        ac.move_to_element(element).click().perform()\n",
    "        if txt is not None and chr(10) in txt and search_only==False:\n",
    "            xx = txt.split(chr(10))\n",
    "            for line in xx:\n",
    "                ac.send_keys(line).perform()\n",
    "                ac.key_down(Keys.SHIFT).key_down(Keys.ENTER).key_up(Keys.SHIFT).key_up(Keys.ENTER).perform()\n",
    "            ac.send_keys(Keys.RETURN).perform()\n",
    "        elif txt is not None and search_only==False:\n",
    "            ac.send_keys(name).send_keys(Keys.RETURN).perform()\n",
    "        elif txt is not None and search_only==True:\n",
    "            ac.send_keys(name).perform()\n",
    "            \n",
    "def select_chat(driver, name, search_bar_xpt = \"/html/body/div[1]/div/div/div[3]/div/div[1]/div/div/div[2]/div/div[2]\"):\n",
    "    wait = WebDriverWait(driver, 10)\n",
    "    element = wait.until(EC.presence_of_element_located((By.XPATH, search_bar_xpt)))\n",
    "    element.clear()\n",
    "    ac = ActionChains(driver)\n",
    "    ac.move_to_element(element).click().perform()\n",
    "    ac.send_keys(name).send_keys(Keys.RETURN).perform()\n",
    "    \n",
    "\n",
    "def ca(driver, xpath:dict):\n",
    "    wait = WebDriverWait(driver, 3)\n",
    "    ac = ActionChains(driver)\n",
    "    def xpg(xpt):\n",
    "        try: return wait.until(EC.presence_of_element_located((By.XPATH, xpt)))\n",
    "        except: return None\n",
    "    for xpt, cmd in xpath.items():\n",
    "        el = xpg(xpt)\n",
    "        if el is not None:\n",
    "            a = cmd[0]\n",
    "            if a =='hover-click'or a == 1:\n",
    "                ac.move_to_element(el).click(xpg(cmd[1])).perform()\n",
    "            elif a =='click' or a == 2 and (ac is None or ac ==''):\n",
    "                ac.move_to_element(el).click()\n",
    "            elif a =='paste enter' or a==3 and ac is not None :\n",
    "                ac.send_keys(a[1]).send_keys(Keys.RETURN).perform()\n",
    "            elif a =='paste-only' or a == 4 and ac is not None:\n",
    "                ac.send_keys(a[1]).perform()\n",
    "            else: pass\n",
    "\n",
    "        \n",
    "def xc(driver, xpt, click=True): #clickable\n",
    "    try:\n",
    "        wait = WebDriverWait(driver, 10)\n",
    "        element = wait.until(EC.element_to_be_clickable((By.XPATH, xpt)))\n",
    "        if click: element.click()\n",
    "        else: return element\n",
    "    except: return False\n",
    "\n",
    "def xp(driver, xpt): #presence\n",
    "    try:\n",
    "        wait = WebDriverWait(driver, 10)\n",
    "        element = wait.until(EC.presence_of_element_located((By.XPATH, xpt)))\n",
    "        print('element found and returned')\n",
    "        return element\n",
    "    except: return False\n",
    "\n",
    "def xt(driver, xpt):\n",
    "    try:\n",
    "        wait = WebDriverWait(driver, 10)\n",
    "        element = wait.until(EC.presence_of_element_located((By.XPATH, xpt))).text\n",
    "        print(xpt, \" Text: \", element)\n",
    "        return element\n",
    "    except: return False\n",
    "    \n",
    "\n",
    "panexpt = {'chat' : [\"//div[1]/div[1]/span\"],\n",
    "        'lastmsg' : [\"//div[1]/span/span[1]\"],\n",
    "        'msg_sender': [\"//div[2]/div[1]/span/span[3]\"],\n",
    "        'dttm' : [\"//div[@class='Dvjym']\"]}\n",
    "\n"
   ]
  },
  {
   "cell_type": "code",
   "execution_count": 5,
   "id": "75fb4c07",
   "metadata": {
    "code_folding": []
   },
   "outputs": [],
   "source": [
    "def dict_update(cond, ky, vl):\n",
    "    '''update dictionary values if key already exist otherwise add new into dictionary, single procedure once'''\n",
    "    if type(vl) is list:\n",
    "        cond[ky] = vl if not list(cond) else cond.get(ky, []) + vl\n",
    "    else:\n",
    "        cond[ky] = [vl] if not list(cond) else cond.get(ky, []) + [vl]\n",
    "    return cond\n",
    "\n",
    "\n",
    "def update_key_value(a, b):\n",
    "    '''updating key & values (values will be appened for existing key)'''\n",
    "    c = {}\n",
    "    tls = lambda ls : ls if type(ls) is list else [ls]\n",
    "    for k, v in a.items():\n",
    "        c[k] = tls(a[k]) + tls(b[k]) if k in list(b) else tls(a[k])\n",
    "    else: return {**b, **c}"
   ]
  },
  {
   "cell_type": "code",
   "execution_count": 6,
   "id": "cb8ea8f4",
   "metadata": {},
   "outputs": [],
   "source": [
    "\n",
    "\n",
    "class Wakit(whapp):\n",
    "    \n",
    "    def __init__(self):\n",
    "        chrome_options = Options()\n",
    "        chrome_options.add_experimental_option(\"debuggerAddress\", \"127.0.0.1:9222\")\n",
    "        self.driver = webdriver.Chrome(service=Service(ChromeDriverManager().install()), options=chrome_options)\n",
    "        self.wait = WebDriverWait(self.driver, 5)\n",
    "        self.cdata = defaultdict()\n",
    "        self.parsed_counter = 0\n",
    "        print(self.driver.title)\n",
    "        \n",
    "    def isPresent(self, xpt):\n",
    "        try: return self.wait.until(EC.presence_of_element_located((By.XPATH, xpt)))\n",
    "        except: return False\n",
    "    \n",
    "    def FetchText(self, xpt):\n",
    "        try: return self.wait.until(EC.presence_of_element_located((By.XPATH, xpt))).text\n",
    "        except: return None\n",
    "        \n",
    "    def writer(self, data, method='a+'):\n",
    "        if data is not None:\n",
    "            data = data.replace(char(10),char(164))\n",
    "            file = 'XPT_' + str(dt.datetime.now()) + '.txt'\n",
    "            fp = open('output\\\\' + file, method)\n",
    "            fp.write(data + \"##\" + chr(10))\n",
    "            fp.close()\n",
    "        \n",
    "    def iterchat(self, basexpt, xptfn, start_index= 2, required=20):\n",
    "        miss = 0\n",
    "        for n in range(start_index, required):\n",
    "            xpd = xptfn(n, basexpt)            \n",
    "            t = self.FetchText(xpd['base'])\n",
    "            \n",
    "            if t == False:\n",
    "                if miss>3: return 1\n",
    "                else: miss = miss + 1\n",
    "            elif t is not None and t not in self.btext:\n",
    "                self.btext.append(t)\n",
    "                for k, v in xpd.items():\n",
    "                    for n in v:\n",
    "                        opt = [str(n) + \"::\" + str(self.FetchText(n)) for n in v]\n",
    "                        self.cdata = update_key_value(self.cdata,k,opt)\n",
    "                        self.writer(k + ':::' + opt)\n",
    "                        self.parsed_counter = self.parsed_counter + 1\n",
    "                        miss = 0\n",
    "            else:\n",
    "                pass\n",
    "        \n",
    "    def chatparse(self, basexpt, xptfn, start_index= 2, required=20):\n",
    "        self.parsed_counter = 0\n",
    "        self.btext = []\n",
    "        while self.parsed_counter < required:\n",
    "            s = self.iterchat(basexpt, xptfn, start_index, required)\n",
    "            scroll_by_xpath(basexpt + '[2]')\n",
    "        print('parsed: ', self.parsed_counter)\n",
    "    \n",
    "    @property\n",
    "    def get_driver(self):\n",
    "        return self.driver\n",
    "            \n",
    "        "
   ]
  },
  {
   "cell_type": "code",
   "execution_count": 7,
   "id": "6efb6ef1",
   "metadata": {},
   "outputs": [
    {
     "name": "stderr",
     "output_type": "stream",
     "text": [
      "[WDM] - Downloading: 100%|████████████████████████████████████████████████████████▋| 6.55M/6.58M [00:05<00:00, 651kB/s]"
     ]
    },
    {
     "name": "stdout",
     "output_type": "stream",
     "text": [
      "(26) WhatsApp\n",
      "element found\n"
     ]
    },
    {
     "name": "stderr",
     "output_type": "stream",
     "text": [
      "\r",
      "[WDM] - Downloading: 100%|█████████████████████████████████████████████████████████| 6.58M/6.58M [00:20<00:00, 651kB/s]"
     ]
    }
   ],
   "source": [
    "x = Wakit()\n",
    "d = x.get_driver\n",
    "reload(d)"
   ]
  },
  {
   "cell_type": "code",
   "execution_count": null,
   "id": "e9f9e1ed",
   "metadata": {},
   "outputs": [],
   "source": [
    "df = pd.DataFrame({'Squares':[4, 9, 16, 25 ],'Cubes':[8, 27, 64, 125]})\n",
    "for i in range(6,10):\n",
    "    df=df.append({'Squares': i**2, 'Cubes': i**3}, ignore_index=True)"
   ]
  },
  {
   "cell_type": "code",
   "execution_count": null,
   "id": "956e3a52",
   "metadata": {},
   "outputs": [],
   "source": []
  },
  {
   "cell_type": "code",
   "execution_count": 25,
   "id": "43d0f9fc",
   "metadata": {},
   "outputs": [],
   "source": [
    "i = sidepane_scroll_by_id(d, initial = 1, scrolls=25)"
   ]
  },
  {
   "cell_type": "code",
   "execution_count": 26,
   "id": "fd0c7337",
   "metadata": {},
   "outputs": [],
   "source": [
    "i = sidepane_scroll_by_id(d, initial = i, scrolls=25)"
   ]
  },
  {
   "cell_type": "code",
   "execution_count": 24,
   "id": "51686164",
   "metadata": {},
   "outputs": [
    {
     "data": {
      "text/plain": [
       "1"
      ]
     },
     "execution_count": 24,
     "metadata": {},
     "output_type": "execute_result"
    }
   ],
   "source": [
    "select_chat(d, 'emergency')\n",
    "scroll_by_xpath(d, xpt=\"(//div[@id='main']//div[@class='ItfyB _3nbHh'])[1]\")"
   ]
  },
  {
   "cell_type": "code",
   "execution_count": 21,
   "id": "593610ae",
   "metadata": {},
   "outputs": [
    {
     "data": {
      "text/plain": [
       "1"
      ]
     },
     "execution_count": 21,
     "metadata": {},
     "output_type": "execute_result"
    }
   ],
   "source": [
    "scroll_by_xpath(d, xpt=\"(//div[@id='main']//div[@class='ItfyB _3nbHh'])[2]\")"
   ]
  },
  {
   "cell_type": "code",
   "execution_count": 22,
   "id": "c3890184",
   "metadata": {},
   "outputs": [
    {
     "data": {
      "text/plain": [
       "1"
      ]
     },
     "execution_count": 22,
     "metadata": {},
     "output_type": "execute_result"
    }
   ],
   "source": [
    "scroll_by_xpath(d, xpt=\"(//div[@id='main']//div[@class='ItfyB _3nbHh'])[2]\")"
   ]
  },
  {
   "cell_type": "code",
   "execution_count": null,
   "id": "7b2d7c51",
   "metadata": {},
   "outputs": [],
   "source": []
  },
  {
   "cell_type": "code",
   "execution_count": null,
   "id": "ac506847",
   "metadata": {
    "code_folding": []
   },
   "outputs": [],
   "source": [
    "def bodymsg(nodeno=2, bodybase = \"(//div[@class='ItfyB _3nbHh'])\"):\n",
    "    base = bodybase + \"[\" + str(nodeno) + ']'\n",
    "    bodyxpt = {'sender':[base + '/div/div[1]'],\n",
    "               'sender_text':[ base + '/div/div[2]'],\n",
    "               'send_time':[base + '/div/div[3]'],\n",
    "               'Q_Clickable':[base + '/div[1]/div/div/div/div'],\n",
    "               'Q_Sender':[base + '//div[2]/div[1]/div/div/div/div/div[1]/span'],\n",
    "               'Q_Text':[base + '//div[2]/div[1]/div/div/div/div/div[2]/span']}\n",
    "    bodyxpt['base'] = [base]\n",
    "    return bodyxpt\n",
    "\n",
    "def sidepane(nodeno=2, panebase = \"(//div[@id='pane-side']//div[@class='_3OvU8'])\"):\n",
    "    base = panebase + \"[\" + str(nodeno) + \"]\"\n",
    "    panexpt = {'chat' : [base + \"//div[1]/div[1]/span\"],\n",
    "            'lastmsg' : [base + \"//div[1]/span/span[1]\"],\n",
    "            'msg_sender': [base + \"//div[2]/div[1]/span/span[3]\"],\n",
    "            'dttm' : [base + \"//div[@class='Dvjym']\"]}\n",
    "    panexpt['base'] = [base]\n",
    "    return panexpt\n",
    "\n",
    "def iterdict(driver, xpd:dict, sec=3):\n",
    "    rd = defaultdict()\n",
    "    file = 'XPT_' + dt.datetime.now().strftime(\"%H%M %Y%m%d\") + '.txt'\n",
    "    fp = open(os.getcwd() + '\\\\output\\\\' + file, 'a')\n",
    "    for k, v in xpd.items():\n",
    "        rls = []\n",
    "        for n in v:\n",
    "            wait = WebDriverWait(driver, sec)\n",
    "            try: rs = wait.until(EC.presence_of_element_located((By.XPATH, n))).text\n",
    "            except: rs = False\n",
    "            print(str(k) + chr(10) + str(n) + '::' + str(rs) + chr(10) + chr(10))\n",
    "            fp.write(str(k) + chr(10) + str(n) + '::' + str(rs) + chr(10) + chr(10))\n",
    "            rls.append(rs)\n",
    "        rd = dict_update(rd, k, rls)\n",
    "    else: \n",
    "        fp.close()\n",
    "        return rd\n",
    "            \n"
   ]
  },
  {
   "cell_type": "code",
   "execution_count": null,
   "id": "a236f1a1",
   "metadata": {},
   "outputs": [],
   "source": [
    "\n",
    "#xfill(d,\"/html/body/div[1]/div/div/div[3]/div/div[1]/div/div/div[2]/div/div[2]\",\"SM & CN_Monitoring\")\n",
    "#x.chatparse(\"(//div[@id='pane-side']//div[@class='_3OvU8'])\",sidepane_xpt)\n",
    "\n",
    "\n",
    "def iternode(driver, base_xpt, start_node, end_node, parsefn, scrollfn=None, ini=1, sc=25):\n",
    "    wait = WebDriverWait(driver, 5)\n",
    "    for n in range(start_node, end_node):\n",
    "        x = base_xpt + '[' + str(n) + ']'\n",
    "        try:\n",
    "            el = wait.until(EC.presence_of_element_located((By.XPATH, x)))\n",
    "        except:\n",
    "            ini = scrollfn(driver, initial=ini, scrolls=sc)\n",
    "            iternode(driver, base_xpt, start_node, end_node, scrollfn, ini, sc)\n",
    "    else:\n",
    "        print('data available')\n",
    "        return 1"
   ]
  },
  {
   "cell_type": "code",
   "execution_count": null,
   "id": "f818d7af",
   "metadata": {},
   "outputs": [],
   "source": []
  },
  {
   "cell_type": "code",
   "execution_count": null,
   "id": "9ff5b1fd",
   "metadata": {},
   "outputs": [],
   "source": []
  },
  {
   "cell_type": "code",
   "execution_count": null,
   "id": "40eae7fb",
   "metadata": {},
   "outputs": [],
   "source": [
    "msg_base = \"(//div[@class='ItfyB _3nbHh'])\""
   ]
  },
  {
   "cell_type": "code",
   "execution_count": null,
   "id": "6afb6cfd",
   "metadata": {},
   "outputs": [],
   "source": [
    "a = {'chat_name' : [\"//span[@class='_3q9s6']\", \"//div[@class='zoWT4']}"
   ]
  },
  {
   "cell_type": "code",
   "execution_count": null,
   "id": "b3ab4804",
   "metadata": {},
   "outputs": [],
   "source": []
  },
  {
   "cell_type": "code",
   "execution_count": null,
   "id": "6113984c",
   "metadata": {},
   "outputs": [],
   "source": []
  },
  {
   "cell_type": "code",
   "execution_count": null,
   "id": "de236a24",
   "metadata": {},
   "outputs": [],
   "source": []
  }
 ],
 "metadata": {
  "kernelspec": {
   "display_name": "Python 3 (ipykernel)",
   "language": "python",
   "name": "python3"
  },
  "language_info": {
   "codemirror_mode": {
    "name": "ipython",
    "version": 3
   },
   "file_extension": ".py",
   "mimetype": "text/x-python",
   "name": "python",
   "nbconvert_exporter": "python",
   "pygments_lexer": "ipython3",
   "version": "3.9.1"
  },
  "nbTranslate": {
   "displayLangs": [
    "*"
   ],
   "hotkey": "alt-t",
   "langInMainMenu": true,
   "sourceLang": "en",
   "targetLang": "fr",
   "useGoogleTranslate": true
  },
  "toc": {
   "base_numbering": 1,
   "nav_menu": {},
   "number_sections": true,
   "sideBar": true,
   "skip_h1_title": false,
   "title_cell": "Table of Contents",
   "title_sidebar": "Contents",
   "toc_cell": false,
   "toc_position": {},
   "toc_section_display": true,
   "toc_window_display": false
  }
 },
 "nbformat": 4,
 "nbformat_minor": 5
}
