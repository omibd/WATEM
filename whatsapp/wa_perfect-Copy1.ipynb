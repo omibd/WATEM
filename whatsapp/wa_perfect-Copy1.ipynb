{
 "cells": [
  {
   "cell_type": "markdown",
   "id": "7b821906",
   "metadata": {},
   "source": [
    "## WATEM::WhastApp"
   ]
  },
  {
   "cell_type": "markdown",
   "id": "bf6c3c36",
   "metadata": {},
   "source": [
    "### Imports"
   ]
  },
  {
   "cell_type": "code",
   "execution_count": 1,
   "id": "da40da6c",
   "metadata": {
    "scrolled": true
   },
   "outputs": [
    {
     "name": "stderr",
     "output_type": "stream",
     "text": [
      "[WDM] - Downloading:  95%|█████████████████████████████████████████████████████▎  | 6.46M/6.79M [00:06<00:00, 1.27MB/s]"
     ]
    },
    {
     "name": "stdout",
     "output_type": "stream",
     "text": [
      "(4) WhatsApp\n"
     ]
    }
   ],
   "source": [
    "from wabs import *\n",
    "import xbuilder as xb\n",
    "import wa_actions as wact\n",
    "import wa_main as wm\n",
    "\n",
    "xx = WABS()\n",
    "dd = xx.get_driver"
   ]
  },
  {
   "cell_type": "markdown",
   "id": "dda0d897",
   "metadata": {},
   "source": [
    "### Decorator & Closer for general use"
   ]
  },
  {
   "cell_type": "code",
   "execution_count": 14,
   "id": "5008838a",
   "metadata": {},
   "outputs": [
    {
     "name": "stdout",
     "output_type": "stream",
     "text": [
      "function Name:  av\n",
      "Running from:  __main__\n",
      "arbitary arg >> number: 0 | value: 2 | <class 'int'>\n",
      "arbitary arg >> number: 1 | value: 3 | <class 'int'>\n",
      "av result  6\n",
      "Result: 6\n",
      "calculated result: 6\n"
     ]
    }
   ],
   "source": [
    "from functools import wraps\n",
    "import subprocess\n",
    "\n",
    "def outer_function(arg):\n",
    "    def debug(func):\n",
    "        @wraps(func)\n",
    "        def wrapper(*args, **kwargs):\n",
    "            print('function Name: ', func.__name__)\n",
    "            print('Running from: ', func.__module__)\n",
    "            for n, i in enumerate(args):\n",
    "                print('arbitary arg >> number:',n ,'| value:', i, '|', type(i))\n",
    "            for k, n in kwargs.items():\n",
    "                print('keyword arg: name:', k, '| value: ', n, '|', type(i))\n",
    "            result = func(*args, **kwargs)\n",
    "            print('Result:', result)\n",
    "            return arg + str(result)\n",
    "        return wrapper\n",
    "    return debug\n",
    "\n",
    "#@outer_function('calculated result: ')\n",
    "#def av(a1,a2):\n",
    "#    print('av result ', a1*a2)\n",
    "#    return a1*a2\n",
    "#q = av(2,3)\n",
    "#print(q)\n",
    "\n",
    "def totxt(fp:str, data:str, method='a+'):\n",
    "    with open(fp, method) as f:\n",
    "        f.write(data)\n",
    "\n",
    "def tex(f):\n",
    "    @wraps(f)\n",
    "    def te(*a, **k):\n",
    "        try: return f(*a, **k)\n",
    "        except: return 0\n",
    "    return te\n",
    "\n",
    "def closr(f):\n",
    "    def inn(*a, **k):\n",
    "        return f(*a, **k)\n",
    "    return inn\n",
    "\n",
    "def subp_execute(cmd):\n",
    "    command = cmd.split(' ') if type(cmd) is not list and ' ' in cmd else cmd\n",
    "    process = subprocess.Popen(command, stdout=subprocess.PIPE, stderr=subprocess.PIPE)\n",
    "    return str(process.stdout.read())"
   ]
  },
  {
   "cell_type": "markdown",
   "id": "03504cb2",
   "metadata": {},
   "source": [
    "### Selenium Required Functions"
   ]
  },
  {
   "cell_type": "code",
   "execution_count": 11,
   "id": "f813e66e",
   "metadata": {},
   "outputs": [],
   "source": [
    "def sidepane_scroll(d, initial = 1, scrolls=50):\n",
    "    for i in range(1, scrolls):\n",
    "        d.execute_script(\"document.getElementById('pane-side').scrollTop={}\".format(initial))\n",
    "        initial = initial + i + 1\n",
    "    return initial\n",
    "\n",
    "def msg_scoll_up(d):\n",
    "    d.find_element(By.XPATH, \"//div[@class='_5kRIK']\").send_keys(Keys.HOME)\n",
    "    tm.sleep(2)\n",
    "    \n",
    "def wtx(d, xpt, wt=1):\n",
    "    try: return d.find_element(By.XPATH, xpt).text\n",
    "    except: return None\n",
    "\n",
    "def ww(d, xpt, sec=2):\n",
    "    wait = WebDriverWait(d, sec)\n",
    "    try: return wait.until(EC.presence_of_element_located((By.XPATH, xpt)))\n",
    "    except: return None\n",
    "    \n",
    "def wx(d, xpt, elements=None, wait=None, text=None, click=None):\n",
    "    try:\n",
    "        if elements is not None:\n",
    "            return d.find_elements(By.XPATH, xpt)\n",
    "        elif wait is not none: \n",
    "            y = ww(d, xpt, wait)   \n",
    "        else:\n",
    "            y = d.find_element(By.XPATH, xpt)\n",
    "        if text is not None: return y.text\n",
    "        elif click is not None: \n",
    "            y.click()\n",
    "            return 1\n",
    "        else: return y\n",
    "    except: return None\n",
    "\n",
    "def xpbulk(d, xpt):\n",
    "    try:\n",
    "        if type(xpt) is str: return wtx(d, xpt)\n",
    "        elif type(xpt) is list: return [wtx(d, xpt) for n in xpt]\n",
    "        elif type(xpt) is dict:\n",
    "            return {k : [wtx(d, xpt) for n in v] if type(v) is list else wtx(d, xpt) for k, v in xpt.items()}\n",
    "        else: return None\n",
    "    except:\n",
    "        return None\n",
    "        \n",
    "def write_msg(d, xpt, text):\n",
    "    ac = ActionChains(d)\n",
    "    ac.move_to_element(ww(d,xpt)).click().perform()\n",
    "    if chr(10) not in text:\n",
    "        ac.send_keys(text).send_keys(Keys.RETURN).perform()\n",
    "    else:\n",
    "        xx = text.split(chr(10))\n",
    "        for line in xx:\n",
    "            ac.send_keys(line).perform()\n",
    "            ac.key_down(Keys.SHIFT).key_down(Keys.ENTER).key_up(Keys.SHIFT).key_up(Keys.ENTER).perform()\n",
    "        ac.send_keys(Keys.RETURN).perform()\n",
    "    \n",
    "def action(d, k, v):\n",
    "    ac = ActionChains(d)\n",
    "    if '_sendtxt_' in k: write_msg(d, v[0], v[1])\n",
    "    elif 'key_to_element': ac.send_keys_to_element(ww(d,v[0]), v[1]).send_keys(Keys.RETURN).perform()\n",
    "    elif '_clk_' in k: ac.click(ww(d, v[0])).perform()\n",
    "    elif '_justmove_' in k: ac.move_to_element(ww(d, v[0])).perform()\n",
    "    elif '_hoverclick_' in k: \n",
    "        ac.move_to_element(ww(d, v[0])).pause(.5).perform()\n",
    "        ac.click(ww(v[1])).perform()\n",
    "    elif '_moveclick_' in k: ac.move_to_element(ww(d, v[0])).pause(1).click().perform()\n",
    "    else: return None"
   ]
  },
  {
   "cell_type": "markdown",
   "id": "7cc7f109",
   "metadata": {},
   "source": [
    "### General Python Self Built Method"
   ]
  },
  {
   "cell_type": "code",
   "execution_count": 12,
   "id": "14a3e825",
   "metadata": {},
   "outputs": [],
   "source": [
    "def update_dict_values(a, b):\n",
    "    '''updating key & values using append then set procedure'''\n",
    "    c = {}\n",
    "    for k, v in a.items():\n",
    "        if k in list(b):\n",
    "            c[k] = list(set(a[k] + b[k]))\n",
    "        else:\n",
    "            c[k] = a[k]\n",
    "    return {**b, **c}\n",
    "\n",
    "def update_key_value(a, b):\n",
    "    '''updating key & values (values will be appened for existing key)'''\n",
    "    c = {}\n",
    "    if len(a) == 0: return b\n",
    "    tls = lambda ls : ls if type(ls) is list else [ls]\n",
    "    for k, v in a.items():\n",
    "        c[k] = tls(a[k]) + tls(b[k]) if k in list(b) else tls(a[k])\n",
    "    else: return {**b, **c}\n",
    "    \n",
    "def value_already_exist(dc, ky, val):\n",
    "    try:\n",
    "        a = dc.get(ky, val)\n",
    "        return True\n",
    "    except: return false\n",
    "    \n",
    "def dict_to_df(self, dc, out=None):\n",
    "    x = dt.datetime.now().strftime('%b%d%Y_%H%M')\n",
    "    opt = x  + '.csv' if out is None else x + '_' + out + '.csv'\n",
    "    df = pd.DataFrame.from_dict(dc).to_csv(opt)\n",
    "    return df"
   ]
  },
  {
   "cell_type": "markdown",
   "id": "c92d6fbc",
   "metadata": {},
   "source": [
    "### WhatsApp Specific Functions"
   ]
  },
  {
   "cell_type": "code",
   "execution_count": 13,
   "id": "407e395a",
   "metadata": {
    "code_folding": []
   },
   "outputs": [
    {
     "ename": "IndentationError",
     "evalue": "expected an indented block (2586682795.py, line 28)",
     "output_type": "error",
     "traceback": [
      "\u001b[1;36m  Cell \u001b[1;32mIn[13], line 28\u001b[1;36m\u001b[0m\n\u001b[1;33m    except: return False\u001b[0m\n\u001b[1;37m    ^\u001b[0m\n\u001b[1;31mIndentationError\u001b[0m\u001b[1;31m:\u001b[0m expected an indented block\n"
     ]
    }
   ],
   "source": [
    "msgbase = \"(//div[@id='main']//div[@data-testid='msg-container'])\"\n",
    "msgbs = \"//div[@class='ItfyB _3nbHh']\"\n",
    "\n",
    "def search_msg_bytext(text = [('@class','_21Ahp'), 'omi'], index=None):\n",
    "    txtm = '(' + contains_gen(contains, text,'div') \n",
    "    txtm = txtm + \"[\" + str(index) + \"]\" if type(index) is not None else txtm\n",
    "    fxpt = txtm + \"/ancestor::div[@data-testid='msg-container']\"\n",
    "    return fxpt\n",
    "\n",
    "def search_msg_by_sender_text(sender='omi', text=None, index=None):\n",
    "    txtm = \"(//div[@class='ItfyB _3nbHh'])[\" + starts_with_no_attr(sender) + ']'\n",
    "    axes=\"/ancestor::div[@data-testid='msg-container']\"\n",
    "    if text is not None:\n",
    "        for n in text:\n",
    "            nd = tuple(n) if n is str else n\n",
    "            txtm = contains_add(contains, txtm, nd , 'starts-with')\n",
    "    xptx = txtm + '[' + str(index) + ']'  + axes if index is not None else txtm + axes\n",
    "    return xptx\n",
    "\n",
    "pnbase =\"(//div[@id='pane-side']//div[@data-testid='cell-frame-container'])\"\n",
    "pnbs = \"//div[@class='_8nE1Y']\"\n",
    "pane_chat_byname = lambda chatname: \"//div[@class='y_sn4']//span\" + \"[contains(.,'\" + chatname + \"')]//ancestor::\" + pnbase\n",
    "pane_chat_unread_byname = lambda chatname : pane_chat_byname(chatname) + \"//span[@data-testid='icon-unread-count']\"\n",
    "\n",
    "def wapane_chat_type(d, bs):\n",
    "    xpt = bs + \"//div[@data-testid='chatlist-status-v3-ring']\"\n",
    "    if ww(d, xpt.strip(' ')) is None: return 'group'\n",
    "    else: return 'contact'\n",
    "    \n",
    "def chatinfo(d, n=None, pane_base=\"//div[@id='pane-side']//div[@data-testid='cell-frame-container']\"):\n",
    "    base = '(' + pane_base + \"//div[@class='_8nE1Y'])\" if '_8nE1Y' not in pane_base else pane_base\n",
    "    bi = base + '[' + str(n) + ']' if n is not None else base\n",
    "    bi4ctype = '(' + pane_base + ')[' + str(n) + ']' if n is not None else pane_base \n",
    "    if ww(d, bi) is None: return None\n",
    "    print('pane coll xpt not none: ', bi)\n",
    "    dc = {'chat_type': [wapane_chat_type(d, bi4ctype)],\n",
    "        'chat_name' : [bi + \"//div[@class='y_sn4']//span\"],\n",
    "        'last_text' : [bi + \"//div[@class='vQ0w7']//span[@dir='ltr']\"],\n",
    "        'last_sender' : [bi + \"//div[@class='vQ0w7']//span[@dir='auto']\"],\n",
    "        'time' : [bi + \"/div[@class='y_sn4']//div[@class='Dvjym']\"],\n",
    "        'new_msg_notif' : [bi + \"//span[@data-testid='icon-unread-count']\"]}\n",
    "    for k, v in dc.items():\n",
    "        v = [v] if type(v) is str else v\n",
    "        dc[k] = [wtx(d, j) for j in v]\n",
    "    return dc\n",
    "\n",
    "def msg_sender_dttm(d, xpt):\n",
    "    elm = ww(d, xpt) if type(xpt) is str else xpt\n",
    "    html = elm.get_attribute('innerHTML')\n",
    "    sp = BeautifulSoup(html, \"lxml\")\n",
    "    x = sp.find_all('div')\n",
    "    for i in x:\n",
    "        try:\n",
    "            st = i['data-pre-plain-text']\n",
    "            break\n",
    "        except:pass\n",
    "    else: return None, None\n",
    "    try:\n",
    "        split_point = st.find(']')\n",
    "        sender = st[split_point+1:].replace(':','').strip(' ')\n",
    "        dttm = parse(st.upper()[1:split_point])\n",
    "        return dttm.strftime(\"%Y-%m-%d %H:%M\"), sender\n",
    "    except: None, None\n",
    "\n",
    "def msginfo(d, n=None, base=\"(//div[@id='main']//div[@data-testid='msg-container'])\"):\n",
    "    bi = base + '[' + str(n) + ']' if n is not None else base\n",
    "    print('msgbase is being collecting:', bi)\n",
    "    elm = ww(d, bi)\n",
    "    if elm is None: return None\n",
    "    else:\n",
    "        try: ActionChains(d).move_to_element(ww(d, bi + \"//div[@role='button'][contains(text(),'Read more')]\")).click().perform()\n",
    "        except: pass\n",
    "        dttm, sender = msg_sender_dttm(d, elm)\n",
    "        dc = {'sender' : [sender],\n",
    "              'text' : [wtx(d, bi + \"//div[@class='_21Ahp']/span[1]/span\")],\n",
    "              'q_sender' : [wtx(d, bi + \"//div[@class='_3pMOs yKTUI']//div[1]/span\")],\n",
    "              'q_text' : [wtx(d, bi + \"//div[@class='_3pMOs yKTUI']//div[2]/span\")],\n",
    "              'datetime' : [dttm],\n",
    "              'sender_visible': [wtx(d, bi + \"//div[@class='_27K43 _31p5Q']/div[1]//span[@dir='auto']\")],\n",
    "              'time': [wtx(d, bi + \"//div[@data-testid='msg-meta']/span\")]\n",
    "              }\n",
    "        dc['img'] = 'image' if ww(d, bi + \"//div[@data-testid='image-thumb']\", 1) is not None else 'NoImage'\n",
    "        return dc\n",
    "    \n"
   ]
  },
  {
   "cell_type": "markdown",
   "id": "2fd8a093",
   "metadata": {},
   "source": [
    "### The Perfect Iterator"
   ]
  },
  {
   "cell_type": "code",
   "execution_count": null,
   "id": "e27396ec",
   "metadata": {},
   "outputs": [],
   "source": [
    "def search_in(d, func, scroll_func, scroll_arg=None, xpt=None, last=False, chat=None):\n",
    "    if chat is not None: \n",
    "        if wact.select_chat(d, chat) == 0: return \"none\"\n",
    "    dc, i, scroll_limit = defaultdict(list), 1, 0\n",
    "    while scroll_limit<10:\n",
    "        if last==True: xp = func(d,'last()-'+str(i),xpt) if xpt is not None else func(d,'last()-'+str(i))\n",
    "        else: xp = func(d,i,xpt) if xpt is not None else func(d,i)\n",
    "        if xp is not None:\n",
    "            yield xp, i, scroll_limit\n",
    "            i, scroll_limit = i + 1, 0\n",
    "        else:\n",
    "            if scroll_limit>1:\n",
    "                scroll_arg = scroll_func(d, scroll_arg) if scroll_arg is not None else scroll_func(d)\n",
    "                i = 1 if scroll_arg is not None else i\n",
    "            scroll_limit = scroll_limit + 1\n",
    "\n",
    "msg = search_in(d=dd, func=wm.msginfo, xpt=\"(//div[@id='main']//div[@data-testid='msg-container'])\", \n",
    "               scroll_func=wm.just_move, scroll_arg=None, chat='Emergency')\n",
    "\n",
    "pane = search_in(d=dd, func=wm.side_pane, scroll_func=wm.sidepane_scroll, scroll_arg=1)"
   ]
  },
  {
   "cell_type": "code",
   "execution_count": null,
   "id": "5f444ee4",
   "metadata": {},
   "outputs": [],
   "source": [
    "for i in ab:\n",
    "    dc, inx, scroll = i\n",
    "    print(dc)\n",
    "    if inx > 20: break\n",
    "print('nice job')"
   ]
  },
  {
   "cell_type": "code",
   "execution_count": null,
   "id": "2be139e9",
   "metadata": {
    "scrolled": true
   },
   "outputs": [],
   "source": []
  },
  {
   "cell_type": "code",
   "execution_count": null,
   "id": "c43cd870",
   "metadata": {},
   "outputs": [],
   "source": []
  }
 ],
 "metadata": {
  "kernelspec": {
   "display_name": "Python 3 (ipykernel)",
   "language": "python",
   "name": "python3"
  },
  "language_info": {
   "codemirror_mode": {
    "name": "ipython",
    "version": 3
   },
   "file_extension": ".py",
   "mimetype": "text/x-python",
   "name": "python",
   "nbconvert_exporter": "python",
   "pygments_lexer": "ipython3",
   "version": "3.9.1"
  },
  "nbTranslate": {
   "displayLangs": [
    "*"
   ],
   "hotkey": "alt-t",
   "langInMainMenu": true,
   "sourceLang": "en",
   "targetLang": "fr",
   "useGoogleTranslate": true
  },
  "toc": {
   "base_numbering": 1,
   "nav_menu": {},
   "number_sections": true,
   "sideBar": true,
   "skip_h1_title": false,
   "title_cell": "Table of Contents",
   "title_sidebar": "Contents",
   "toc_cell": false,
   "toc_position": {},
   "toc_section_display": true,
   "toc_window_display": false
  }
 },
 "nbformat": 4,
 "nbformat_minor": 5
}
