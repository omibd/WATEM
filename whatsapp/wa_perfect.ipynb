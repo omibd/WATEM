{
 "cells": [
  {
   "cell_type": "markdown",
   "id": "4b9fd43e",
   "metadata": {},
   "source": [
    "## WATEM::WhastApp"
   ]
  },
  {
   "cell_type": "code",
   "execution_count": 1,
   "id": "f259b4ab",
   "metadata": {
    "ExecuteTime": {
     "end_time": "2023-02-08T23:35:27.361113Z",
     "start_time": "2023-02-08T23:35:26.014571Z"
    }
   },
   "outputs": [],
   "source": [
    "from omlib_super import *\n",
    "from wabs import *"
   ]
  },
  {
   "cell_type": "markdown",
   "id": "04ac1489",
   "metadata": {},
   "source": [
    "### Selenium Driver Provider Class\n",
    "- __class__: WHP\n",
    "- Method: NA\n",
    "- Property: get_driver, reload"
   ]
  },
  {
   "cell_type": "code",
   "execution_count": 2,
   "id": "93534bd2",
   "metadata": {
    "ExecuteTime": {
     "end_time": "2023-02-08T23:35:33.757409Z",
     "start_time": "2023-02-08T23:35:27.365118Z"
    }
   },
   "outputs": [
    {
     "name": "stdout",
     "output_type": "stream",
     "text": [
      "(9) WhatsApp\n"
     ]
    }
   ],
   "source": [
    "class WHP:\n",
    "\n",
    "    def __init__(self, url=None):\n",
    "        chrome_options = Options()\n",
    "        chrome_options.add_experimental_option(\"debuggerAddress\", \"127.0.0.1:9222\")\n",
    "        self.url = 'whatsapp.com' if url is None else url\n",
    "        self.driver = webdriver.Chrome(service=Service(ChromeDriverManager().install()), options=chrome_options)\n",
    "        self.wait = WebDriverWait(self.driver, 5)\n",
    "        self.ac = ActionChains(self.driver)\n",
    "        print(self.driver.title)\n",
    "    \n",
    "    @property\n",
    "    def get_driver(self):\n",
    "        return self.driver\n",
    "    \n",
    "    @property\n",
    "    def reload(self):\n",
    "        wait = WebDriverWait(self.driver, 60)\n",
    "        self.driver.refresh()\n",
    "        search_bar_xpt = \"/html/body/div[1]/div/div/div[3]/div/div[1]/div/div/div[2]/div/div[2]\"\n",
    "        element = wait.until(EC.presence_of_element_located((By.XPATH, search_bar_xpt)))\n",
    "        print('reload success, whatsapp ready')\n",
    "        return self\n",
    "    \n",
    "xx = WHP()\n",
    "dd = xx.get_driver"
   ]
  },
  {
   "cell_type": "markdown",
   "id": "76c85bba",
   "metadata": {},
   "source": [
    "### Selenium Required Functions\n",
    "- sidepane_scroll(d, initial = 1, scrolls=50)\n",
    "- msg_scoll_up(d):\n",
    "- wtx(d, xpt, wt=1):\n",
    "- ww(d, xpt, sec=2):\n",
    "- wx(d, xpt, elements=None, wait=None, text=None, click=None):\n",
    "- write_msg(d, xpt, text):\n",
    "- msg_sender_dttm(d, xpt):\n",
    "- just_move(d, xpt=\"(//div[@data-testid='conversation-panel-body'])[2]\"):"
   ]
  },
  {
   "cell_type": "code",
   "execution_count": 3,
   "id": "3b4c0a31",
   "metadata": {
    "ExecuteTime": {
     "end_time": "2023-02-08T23:35:33.805409Z",
     "start_time": "2023-02-08T23:35:33.761411Z"
    }
   },
   "outputs": [],
   "source": [
    "def sidepane_scroll(d, initial = 1, scrolls=50):\n",
    "    for i in range(1, scrolls):\n",
    "        d.execute_script(\"document.getElementById('pane-side').scrollTop={}\".format(initial))\n",
    "        initial = initial + i + 1\n",
    "    return initial\n",
    "\n",
    "def msg_scoll_up(d):\n",
    "    d.find_element(By.XPATH, \"//div[@class='_5kRIK']\").send_keys(Keys.HOME)\n",
    "    tm.sleep(2)\n",
    "    \n",
    "def wtx(d, xpt, wt=1):\n",
    "    try: return d.find_element(By.XPATH, xpt).text\n",
    "    except: return None\n",
    "\n",
    "def ww(d, xpt, sec=2):\n",
    "    wait = WebDriverWait(d, sec)\n",
    "    try: return wait.until(EC.presence_of_element_located((By.XPATH, xpt)))\n",
    "    except: return None\n",
    "    \n",
    "def wx(d, xpt, elements=None, wait=None, text=None, click=None):\n",
    "    try:\n",
    "        if elements is not None:\n",
    "            return d.find_elements(By.XPATH, xpt)\n",
    "        elif wait is not none: \n",
    "            y = ww(d, xpt, wait)   \n",
    "        else:\n",
    "            y = d.find_element(By.XPATH, xpt)\n",
    "        if text is not None: return y.text\n",
    "        elif click is not None: \n",
    "            y.click()\n",
    "            return 1\n",
    "        else: return y\n",
    "    except: return None\n",
    "        \n",
    "def write_msg(d, xpt, text):\n",
    "    ac = ActionChains(d)\n",
    "    ac.move_to_element(ww(d,xpt)).click().perform()\n",
    "    if chr(10) not in text:\n",
    "        ac.send_keys(text).send_keys(Keys.RETURN).perform()\n",
    "    else:\n",
    "        xx = text.split(chr(10))\n",
    "        for line in xx:\n",
    "            ac.send_keys(line).perform()\n",
    "            ac.key_down(Keys.SHIFT).key_down(Keys.ENTER).key_up(Keys.SHIFT).key_up(Keys.ENTER).perform()\n",
    "        ac.send_keys(Keys.RETURN).perform()\n",
    "\n",
    "def msg_sender_dttm(d, xpt):\n",
    "    elm = ww(d, xpt) if type(xpt) is str else xpt\n",
    "    html = elm.get_attribute('innerHTML')\n",
    "    sp = BeautifulSoup(html, \"lxml\")\n",
    "    x = sp.find_all('div')\n",
    "    for i in x:\n",
    "        try:\n",
    "            st = i['data-pre-plain-text']\n",
    "            break\n",
    "        except:pass\n",
    "    else: return None, None\n",
    "    try:\n",
    "        split_point = st.find(']')\n",
    "        sender = st[split_point+1:].replace(':','').strip(' ')\n",
    "        dttm = parse(st.upper()[1:split_point])\n",
    "        return dttm.strftime(\"%Y-%m-%d %H:%M\"), sender\n",
    "    except: None, None\n",
    "        \n",
    "def just_move(d, xpt=\"(//div[@data-testid='conversation-panel-body'])[2]\"):\n",
    "    try:\n",
    "        ActionChains(d).move_to_element(ww(d, xpt, 3)).perform()\n",
    "        tm.sleep(1)\n",
    "        return 1\n",
    "    except: \n",
    "        print('just move calling msg_scoll_up')\n",
    "        return msg_scoll_up(d)"
   ]
  },
  {
   "cell_type": "markdown",
   "id": "66e2a1c1",
   "metadata": {},
   "source": [
    "### WhatsApp Specific Functions"
   ]
  },
  {
   "cell_type": "markdown",
   "id": "673b07f5",
   "metadata": {},
   "source": [
    "#### whatsapp  XPATH bulilt and global\n",
    "\n",
    "- msgbase = \"(//div[@id='main']//div[@data-testid='msg-container'])\"\n",
    "- msgbs = \"//div[@class='ItfyB _3nbHh']\"\n",
    "- pnbase =\"(//div[@id='pane-side']//div[@data-testid='cell-frame-container'])\"\n",
    "- pnbs = \"//div[@class='_8nE1Y']\"\n",
    "- search_msg_bytext(text = [('@class','_21Ahp'), 'omi'], index=None):\n",
    "- search_msg_by_sender_text(sender='omi', text=None, index=None):\n",
    "- pane_chat_byname(chatname)\n",
    "- pane_chat_unread_byname(chatname"
   ]
  },
  {
   "cell_type": "code",
   "execution_count": 33,
   "id": "a809e558",
   "metadata": {
    "ExecuteTime": {
     "end_time": "2023-02-08T23:49:56.454154Z",
     "start_time": "2023-02-08T23:49:56.425162Z"
    }
   },
   "outputs": [],
   "source": [
    "from xbuilder import *\n",
    "\n",
    "pane_search = \"/html/body/div[1]/div/div/div[3]/div/div[1]/div/div/div[2]/div/div[2]\"\n",
    "body_chat_search_btn = \"//div[@id='main']//div[@class='_3ndVb']\"\n",
    "body_msg_nav_arrow = '/html/body/div[1]/div/div/div[4]/div/div[2]/div/div[1]/span/div'\n",
    "init_info = \"//div[@data-testid='intro-text'][contains(.,'Use WhatsApp on up to 4 linked devices ')]\"\n",
    "pane_search = \"//div[@id='side']//div[@data-testid='chat-list-search']\"\n",
    "pane_search_back =\"//div[@id='side']//span[@data-testid='search']\"\n",
    "pane_search_cancel = \"//div[@id='side']//span[contains(@data-testid,'x-alt')]\"\n",
    "pane_search_filter = \"//div[@id='side']//button[@aria-label='Unread chats filter']\"\n",
    "active_chat_title = \"//div[@id='main']//span[@data-testid='conversation-info-header-chat-title']\"\n",
    "active_chat_search = \"//div[@id='main']//span[@data-testid='search-alt']\"\n",
    "msg_menu = '//*[contains(concat( \" \", @class, \" \" ), concat( \" \", \"_3bcLp\", \" \" ))'\n",
    "\n",
    "msgbase = \"(//div[@id='main']//div[@data-testid='msg-container'])\"\n",
    "msgbs = \"//div[@class='ItfyB _3nbHh']\"\n",
    "msg_byindex = lambda i : msgbase + '[' + str(i) + ']'\n",
    "\n",
    "def search_msg_bytext(text = [('@class','_21Ahp'), 'omi'], index=None):\n",
    "    txtm = '(' + contains_gen(contains, text,'div') \n",
    "    txtm = txtm + \"[\" + str(index) + \"]\" if type(index) is not None else txtm\n",
    "    fxpt = txtm + \"/ancestor::div[@data-testid='msg-container']\"\n",
    "    return fxpt\n",
    "\n",
    "def search_msg_by_sender_text(sender='omi', text=None, index=None):\n",
    "    txtm = \"(//div[@class='ItfyB _3nbHh'])[\" + starts_with_no_attr(sender) + ']'\n",
    "    axes=\"/ancestor::div[@data-testid='msg-container']\"\n",
    "    if text is not None:\n",
    "        for n in text:\n",
    "            nd = tuple(n) if n is str else n\n",
    "            txtm = contains_add(contains, txtm, nd , 'starts-with')\n",
    "    xptx = txtm + '[' + str(index) + ']'  + axes if index is not None else txtm + axes\n",
    "    return xptx\n",
    "\n",
    "pnbase =\"div[@data-testid='cell-frame-container'])\"\n",
    "pnbs = \"div[@class='_8nE1Y']\"\n",
    "pane_chat_byname = lambda chatname: \"//div[@class='y_sn4']//span\" + \"[contains(.,'\" + chatname + \"')]//ancestor::\" + pnbase\n",
    "pane_chat_unread_byname = lambda chatname : pane_chat_byname(chatname) + \"//span[@data-testid='icon-unread-count']\""
   ]
  },
  {
   "cell_type": "markdown",
   "id": "362364a7",
   "metadata": {
    "heading_collapsed": true
   },
   "source": [
    "#### Section:1 (Methods):\n",
    "- **select_chat**(d, chat_name)\n",
    "- __chatinfo__ (d, n=None, pane_base=\"//div[@id='pane-side']//div[@data-testid='cell-frame-container']\")\n",
    "- __msginfo__ (d, n=None, base=\"(//div[@id='main']//div[@data-testid='msg-container'])\")"
   ]
  },
  {
   "cell_type": "code",
   "execution_count": 5,
   "id": "8babb6d3",
   "metadata": {
    "ExecuteTime": {
     "end_time": "2023-02-08T23:35:33.884411Z",
     "start_time": "2023-02-08T23:35:33.843413Z"
    },
    "hidden": true
   },
   "outputs": [],
   "source": [
    "def select_chat(d, chat_name):\n",
    "    if chat_name is not None and chat_name != '':\n",
    "        convtitle = \"//div[@id='main']//span[@data-testid='conversation-info-header-chat-title']\"\n",
    "        xx = wtx(d, convtitle)\n",
    "        if xx is not None and chat_name.lower() in xx.lower(): \n",
    "            print('already selected')\n",
    "            wx(d,'/html/body/div[1]/div/div/div[4]/div/div[2]/div/div[1]/span/div/span[2]', click=True)\n",
    "            return 1\n",
    "        else:\n",
    "            if wx(d, pane_chat_byname(chat_name), click=True) == 0:\n",
    "                print('chat has no communication')\n",
    "                ActionChains(d).send_keys_to_element(ww(d,\"/html/body/div[1]/div/div/div[3]/div/div[1]/div/div/div[2]/div/div[2]\"),chat_name).send_keys(Keys.RETURN).pause(1).perform()\n",
    "            y = wtx(d, convtitle)\n",
    "            print('chat body name: ', y)\n",
    "            if chat_name.lower() in y.lower():\n",
    "                print('chat selection successful')\n",
    "                wx(d,\"//div[@id='side']//span[contains(@data-testid,'x-alt')]\", click=True)\n",
    "                wx(d,\"//div[@id='side']//button[@aria-label='Unread chats filter']\", click=True)\n",
    "            else: 0\n",
    "    else: return 0\n",
    "\n",
    "def wapane_chat_type(d, bs):\n",
    "    xpt = bs + \"//div[@data-testid='chatlist-status-v3-ring']\"\n",
    "    if ww(d, xpt.strip(' ')) is None: \n",
    "        return 'group'\n",
    "    else: \n",
    "        return 'contact'\n",
    "    \n",
    "def chatinfo(d, n=None, pane_base=\"//div[@id='pane-side']//div[@data-testid='cell-frame-container']\"):\n",
    "    base = '(' + pane_base + \"//div[@class='_8nE1Y'])\" if '_8nE1Y' not in pane_base else pane_base\n",
    "    bi = base + '[' + str(n) + ']' if n is not None else base\n",
    "    bi4ctype = '(' + pane_base + ')[' + str(n) + ']' if n is not None else pane_base \n",
    "    if ww(d, bi) is None: return None\n",
    "    print('pane coll xpt not none: ', bi)\n",
    "    dc = {'chat_type': [wapane_chat_type(d, bi4ctype)],\n",
    "        'chat_name' : [bi + \"//div[@class='y_sn4']//span\"],\n",
    "        'last_text' : [bi + \"//div[@class='vQ0w7']//span[@dir='ltr']\"],\n",
    "        'last_sender' : [bi + \"//div[@class='vQ0w7']//span[@dir='auto']\"],\n",
    "        'time' : [bi + \"/div[@class='y_sn4']//div[@class='Dvjym']\"],\n",
    "        'new_msg_notif' : [bi + \"//span[@data-testid='icon-unread-count']\"]}\n",
    "    for k, v in dc.items():\n",
    "        v = [v] if type(v) is str else v\n",
    "        dc[k] = [wtx(d, j) for j in v]\n",
    "    return dc\n",
    "\n",
    "def msginfo(d, n=None, base=\"(//div[@id='main']//div[@data-testid='msg-container'])\"):\n",
    "    bi = base + '[' + str(n) + ']' if n is not None else base\n",
    "    print('msgbase is being collecting:', bi)\n",
    "    elm = ww(d, bi)\n",
    "    if elm is None: return None\n",
    "    else:\n",
    "        try: ActionChains(d).move_to_element(ww(d, bi + \"//div[@role='button'][contains(text(),'Read more')]\")).click().perform()\n",
    "        except: pass\n",
    "        dttm, sender = msg_sender_dttm(d, elm)\n",
    "        dc = {'sender' : [sender],\n",
    "              'text' : [wtx(d, bi + \"//div[@class='_21Ahp']/span[1]/span\")],\n",
    "              'q_sender' : [wtx(d, bi + \"//div[@class='_3pMOs yKTUI']//div[1]/span\")],\n",
    "              'q_text' : [wtx(d, bi + \"//div[@class='_3pMOs yKTUI']//div[2]/span\")],\n",
    "              'datetime' : [dttm],\n",
    "              'sender_visible': [wtx(d, bi + \"//div[@class='_27K43 _31p5Q']/div[1]//span[@dir='auto']\")],\n",
    "              'time': [wtx(d, bi + \"//div[@data-testid='msg-meta']/span\")]\n",
    "              }\n",
    "        dc['img'] = 'image' if ww(d, bi + \"//div[@data-testid='image-thumb']\", 1) is not None else 'NoImage'\n",
    "        return dc"
   ]
  },
  {
   "cell_type": "markdown",
   "id": "9bfad306",
   "metadata": {},
   "source": [
    "### Actions\n",
    "- action(d, k, v):  '_sendtxt_', 'key_to_element', '_clk_','_justmove_','_hoverclick_', '_moveclick_'"
   ]
  },
  {
   "cell_type": "code",
   "execution_count": 6,
   "id": "fe969570",
   "metadata": {
    "ExecuteTime": {
     "end_time": "2023-02-08T23:35:33.915407Z",
     "start_time": "2023-02-08T23:35:33.890413Z"
    },
    "code_folding": []
   },
   "outputs": [],
   "source": [
    "import wa_actions as wact\n",
    "  \n",
    "def pending_jobs(d, action_dic, check_from_key = None):\n",
    "    '''check key and return pending jobs'''\n",
    "    key_found, dc = False, {}\n",
    "    for k, v in action_dic.items():\n",
    "        if check_from_key is not None and key_found==False:\n",
    "            if k == check_from_key: \n",
    "                key_found = True\n",
    "                dc = {k:v}\n",
    "        else:\n",
    "            dc[k] = v\n",
    "    else: return dc\n",
    "\n",
    "def rjobs(d, action_dic):\n",
    "    '''check action dictionary reversely and returns key but returns 1 while last key is present'''\n",
    "    for i in reversed(list(action_dic)):\n",
    "        print(i, action_dic[i][0])\n",
    "        elm = ww(d, action_dic[i][0])\n",
    "        if elm is not None:\n",
    "            if 'present' in i: return 1\n",
    "            else: return i\n",
    "        else: \n",
    "            print(action_dic[i][0])"
   ]
  },
  {
   "cell_type": "markdown",
   "id": "56b7f4dc",
   "metadata": {},
   "source": [
    "### Iterator"
   ]
  },
  {
   "cell_type": "markdown",
   "id": "73bb30d7",
   "metadata": {
    "heading_collapsed": true
   },
   "source": [
    "#### The perfect iterator\n",
    "- **search_in**(d, func, scroll_func, scroll_arg=None, xpt=None, last=False, chat=None)\n",
    "- **msg** = search_in(d=dd, func=wm.msginfo, xpt=\"(//div[@id='main']//div[@data-testid='msg-container'])\", scroll_func=wm.just_move, scroll_arg=None, chat='Emergency')\n",
    "- **pane** = search_in(d=dd, func=wm.side_pane, scroll_func=wm.sidepane_scroll, scroll_arg=1)"
   ]
  },
  {
   "cell_type": "code",
   "execution_count": 7,
   "id": "bdab8ae8",
   "metadata": {
    "ExecuteTime": {
     "end_time": "2023-02-08T23:35:33.946409Z",
     "start_time": "2023-02-08T23:35:33.920413Z"
    },
    "code_folding": [],
    "hidden": true
   },
   "outputs": [],
   "source": [
    "def search_in(d, func, scroll_func, scroll_arg=None, xpt=None, last=False, chat=None):\n",
    "    if chat is not None: \n",
    "        if wact.select_chat(d, chat) == 0: return \"none\"\n",
    "    dc, i, scroll_limit = defaultdict(list), 1, 0\n",
    "    while scroll_limit<10:\n",
    "        if last==True: xp = func(d,'last()-'+str(i),xpt) if xpt is not None else func(d,'last()-'+str(i))\n",
    "        else: xp = func(d,i,xpt) if xpt is not None else func(d,i)\n",
    "        if xp is not None:\n",
    "            yield xp, i, scroll_limit\n",
    "            i, scroll_limit = i + 1, 0\n",
    "        else:\n",
    "            if scroll_limit>1:\n",
    "                scroll_arg = scroll_func(d, scroll_arg) if scroll_arg is not None else scroll_func(d)\n",
    "                i = 1 if scroll_arg is not None else i\n",
    "            scroll_limit = scroll_limit + 1\n",
    "\n",
    "msg = search_in(d=dd, func=msginfo, xpt=\"(//div[@id='main']//div[@data-testid='msg-container'])\", \n",
    "               scroll_func=just_move, scroll_arg=None, chat='Emergency')\n",
    "\n",
    "pane = search_in(d=dd, func=chatinfo, scroll_func=sidepane_scroll, scroll_arg=1)\n",
    "#for i in ab:\n",
    "    #dc, inx, scroll = i\n",
    "    #print(dc)\n",
    "    #if inx > 20: break\n",
    "#print('nice job')"
   ]
  },
  {
   "cell_type": "markdown",
   "id": "a6188bc7",
   "metadata": {
    "heading_collapsed": true
   },
   "source": [
    "#### message search in chat\n",
    "- search_msg_in_chat(d, chat_name, search_xpath):"
   ]
  },
  {
   "cell_type": "code",
   "execution_count": 8,
   "id": "190e125f",
   "metadata": {
    "ExecuteTime": {
     "end_time": "2023-02-08T23:35:33.977408Z",
     "start_time": "2023-02-08T23:35:33.952412Z"
    },
    "hidden": true
   },
   "outputs": [],
   "source": [
    "def search_msg_in_chat(d, chat_name, search_xpath):\n",
    "    no_of_items, same_elm_count, i = defaultdict(list), 0, 0\n",
    "    while same_elm_count<=5:\n",
    "        el = ww(d, search_xpath)\n",
    "        if el is not None:\n",
    "            no_elm = len(d.find_elements(By.XPATH, search_xpath))\n",
    "            if no_elm == (i+1): \n",
    "                yield el\n",
    "                i = i + 1\n",
    "            else:\n",
    "                for m in range(i+1, item):\n",
    "                    yield m\n",
    "                    i = i + 1\n",
    "        else:\n",
    "            print(just_move(d))\n",
    "        pre_no_of_items = no_of_items\n",
    "        no_of_items = len(d.find_elements(By.XPATH, \"(//div[@id='main']//div[@data-testid='msg-container'])\"))\n",
    "        if no_of_items == pre_no_of_items: same_elm_count = same_elm_count + 1\n",
    "        else: same_elm_count = 0\n",
    "    print(same_elm_count, ' is 3/3+ so, seems there is no more content to scroll')"
   ]
  },
  {
   "cell_type": "markdown",
   "id": "ab78bb80",
   "metadata": {
    "heading_collapsed": true
   },
   "source": [
    "### BS4"
   ]
  },
  {
   "cell_type": "code",
   "execution_count": 8,
   "id": "c631170d",
   "metadata": {
    "hidden": true
   },
   "outputs": [],
   "source": [
    "def bs_attr_inner_text(html, tag='div', attr='data-pre-plain-text'):\n",
    "    elm = ww(d, xpt) if type(xpt) is str else xpt\n",
    "    html = elm.get_attribute('innerHTML')\n",
    "    sp = BeautifulSoup(html, \"lxml\")\n",
    "    x = sp.find_all('div')\n",
    "    for i in x:\n",
    "        try: return i['data-pre-plain-text']\n",
    "        except: pass\n",
    "    else:\n",
    "        print(attr , ' --> not found')\n"
   ]
  },
  {
   "cell_type": "code",
   "execution_count": null,
   "id": "eba246b1",
   "metadata": {
    "hidden": true
   },
   "outputs": [],
   "source": []
  },
  {
   "cell_type": "code",
   "execution_count": null,
   "id": "e3aeb117",
   "metadata": {
    "hidden": true
   },
   "outputs": [],
   "source": []
  },
  {
   "cell_type": "markdown",
   "id": "6ef0c1ba",
   "metadata": {},
   "source": [
    "### WIP Development"
   ]
  },
  {
   "cell_type": "code",
   "execution_count": 9,
   "id": "ad4ed68b",
   "metadata": {
    "ExecuteTime": {
     "end_time": "2023-02-08T23:35:33.993410Z",
     "start_time": "2023-02-08T23:35:33.982413Z"
    }
   },
   "outputs": [],
   "source": [
    "#fw_selections(d, fw_actions,contacts_and_xpath=[('omi','xpath')]):"
   ]
  },
  {
   "cell_type": "code",
   "execution_count": 52,
   "id": "fe5dc46c",
   "metadata": {
    "ExecuteTime": {
     "end_time": "2023-02-08T23:54:38.016311Z",
     "start_time": "2023-02-08T23:54:37.998311Z"
    }
   },
   "outputs": [],
   "source": [
    "def x_action(d, k, v):\n",
    "    print('from x_action')\n",
    "    ac = ActionChains(d)\n",
    "    if k in '_sendtxt_': write_msg(d, v[0], v[1])\n",
    "    elif k in 'key_to_element': ac.send_keys_to_element(ww(d,v[0]), v[1]).send_keys(Keys.RETURN).perform()\n",
    "    elif k in '_clk_': ActionChains(d).click(ww(d, v[0])).perform()\n",
    "    elif k in '_justmove_': ac.move_to_element(ww(d, v[0])).perform()\n",
    "    elif k in '_hoverclick_': \n",
    "        ac.move_to_element(ww(d, v[0])).pause(.5).perform()\n",
    "        ac.click(ww(d, v[1])).perform()\n",
    "    elif k in '_moveclick_': ac.move_to_element(ww(d, v[0])).pause(1).click().perform()\n",
    "    else: \n",
    "        print('action print from else')\n",
    "        return None\n",
    "    \n",
    "forward = lambda d, chatname, search_xpath, text : \\\n",
    "        {'func': {\n",
    "            'function': select_chat(d, chatname),\n",
    "            'move_func': search_xpath\n",
    "            },\n",
    "         'clicking':{\n",
    "            'clk_1': [\"//span[@data-testid='down-context']\"],\n",
    "            'clk_2': [\"//ul//li[contains(.,'Forward message')]\"],\n",
    "            'clk_3': [\"//button[@title='Forward message']\"],\n",
    "            'is_present':[\"//h1[text()='Forward message to']\"]\n",
    "         }}"
   ]
  },
  {
   "cell_type": "code",
   "execution_count": 53,
   "id": "ab276ea5",
   "metadata": {
    "ExecuteTime": {
     "end_time": "2023-02-08T23:54:38.570311Z",
     "start_time": "2023-02-08T23:54:38.558312Z"
    },
    "run_control": {
     "marked": true
    }
   },
   "outputs": [
    {
     "data": {
      "text/plain": [
       "\"//div[@class='y_sn4']//span[contains(.,'Emergency SOC')]//ancestor::div[@data-testid='cell-frame-container'])\""
      ]
     },
     "execution_count": 53,
     "metadata": {},
     "output_type": "execute_result"
    }
   ],
   "source": [
    "pane_chat_byname('Emergency SOC')"
   ]
  },
  {
   "cell_type": "code",
   "execution_count": 54,
   "id": "c6175bcc",
   "metadata": {
    "ExecuteTime": {
     "end_time": "2023-02-08T23:54:38.804838Z",
     "start_time": "2023-02-08T23:54:38.719841Z"
    }
   },
   "outputs": [
    {
     "name": "stdout",
     "output_type": "stream",
     "text": [
      "from x_action\n"
     ]
    }
   ],
   "source": [
    "x_action(dd, 'clk', [\"//div[@class='y_sn4']//span[contains(.,'Emergency SOC')]//ancestor::(//div[@id='pane-side']//div[@data-testid='cell-frame-container'])\"])"
   ]
  },
  {
   "cell_type": "code",
   "execution_count": 55,
   "id": "2be139e9",
   "metadata": {
    "ExecuteTime": {
     "end_time": "2023-02-08T23:54:38.913841Z",
     "start_time": "2023-02-08T23:54:38.870839Z"
    },
    "scrolled": true
   },
   "outputs": [
    {
     "name": "stdout",
     "output_type": "stream",
     "text": [
      "from x_action\n"
     ]
    }
   ],
   "source": [
    "x_action(dd, 'clk',[pane_chat_byname('Emergency SOC')])"
   ]
  },
  {
   "cell_type": "code",
   "execution_count": 56,
   "id": "4dd59006",
   "metadata": {
    "ExecuteTime": {
     "end_time": "2023-02-08T23:54:39.008838Z",
     "start_time": "2023-02-08T23:54:38.997836Z"
    }
   },
   "outputs": [],
   "source": [
    "x_action(dd, 'hover', [msg_byindex('last()'),\"//span[@data-testid='down-context']\"])"
   ]
  },
  {
   "cell_type": "code",
   "execution_count": 57,
   "id": "b8045b3f",
   "metadata": {
    "ExecuteTime": {
     "end_time": "2023-02-08T23:54:39.560840Z",
     "start_time": "2023-02-08T23:54:39.550845Z"
    }
   },
   "outputs": [
    {
     "data": {
      "text/plain": [
       "\"//span[@data-testid='down-context']\""
      ]
     },
     "execution_count": 57,
     "metadata": {},
     "output_type": "execute_result"
    }
   ],
   "source": [
    "x_action(dd, 'move', [msg_byindex('last()'),\"//span[@data-testid='down-context']\"])"
   ]
  },
  {
   "cell_type": "code",
   "execution_count": 58,
   "id": "f3d17de3",
   "metadata": {
    "ExecuteTime": {
     "end_time": "2023-02-08T23:54:41.399196Z",
     "start_time": "2023-02-08T23:54:40.159839Z"
    }
   },
   "outputs": [
    {
     "name": "stdout",
     "output_type": "stream",
     "text": [
      "from x_action\n"
     ]
    }
   ],
   "source": []
  },
  {
   "cell_type": "code",
   "execution_count": null,
   "id": "c43cd870",
   "metadata": {
    "ExecuteTime": {
     "end_time": "2023-02-08T23:52:32.681859Z",
     "start_time": "2023-02-08T23:52:32.681859Z"
    }
   },
   "outputs": [],
   "source": [
    "waxpath"
   ]
  },
  {
   "cell_type": "code",
   "execution_count": null,
   "id": "8f1bc0dd",
   "metadata": {},
   "outputs": [],
   "source": []
  },
  {
   "cell_type": "code",
   "execution_count": null,
   "id": "0e502d01",
   "metadata": {},
   "outputs": [],
   "source": []
  }
 ],
 "metadata": {
  "kernelspec": {
   "display_name": "Python 3 (ipykernel)",
   "language": "python",
   "name": "python3"
  },
  "language_info": {
   "codemirror_mode": {
    "name": "ipython",
    "version": 3
   },
   "file_extension": ".py",
   "mimetype": "text/x-python",
   "name": "python",
   "nbconvert_exporter": "python",
   "pygments_lexer": "ipython3",
   "version": "3.9.1"
  },
  "nbTranslate": {
   "displayLangs": [
    "*"
   ],
   "hotkey": "alt-t",
   "langInMainMenu": true,
   "sourceLang": "en",
   "targetLang": "fr",
   "useGoogleTranslate": true
  },
  "toc": {
   "base_numbering": 1,
   "nav_menu": {},
   "number_sections": true,
   "sideBar": true,
   "skip_h1_title": false,
   "title_cell": "Table of Contents",
   "title_sidebar": "Contents",
   "toc_cell": true,
   "toc_position": {
    "height": "calc(100% - 180px)",
    "left": "10px",
    "top": "150px",
    "width": "287.1px"
   },
   "toc_section_display": true,
   "toc_window_display": true
  }
 },
 "nbformat": 4,
 "nbformat_minor": 5
}
