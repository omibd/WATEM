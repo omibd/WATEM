{
 "cells": [
  {
   "cell_type": "code",
   "execution_count": null,
   "id": "5217ef39",
   "metadata": {},
   "outputs": [],
   "source": []
  },
  {
   "cell_type": "code",
   "execution_count": 20,
   "id": "ac029de9",
   "metadata": {
    "code_folding": [
     66,
     70,
     72,
     80,
     86,
     92,
     98,
     102,
     115,
     121,
     130,
     148,
     157,
     161,
     173,
     175,
     184
    ]
   },
   "outputs": [],
   "source": [
    "from whbase import *\n",
    "from collections import *\n",
    "\n",
    "def update_key_value(a, b):\n",
    "    '''updating key & values (values will be appened for existing key)'''\n",
    "    c = {}\n",
    "    if len(a) == 0: return b\n",
    "    tls = lambda ls : ls if type(ls) is list else [ls]\n",
    "    for k, v in a.items():\n",
    "        c[k] = tls(a[k]) + tls(b[k]) if k in list(b) else tls(a[k])\n",
    "    else: return {**b, **c}\n",
    "\n",
    "class WhBase:\n",
    "    \n",
    "    pane_search = \"/html/body/div[1]/div/div/div[3]/div/div[1]/div/div/div[2]/div/div[2]\"\n",
    "    body_chat_search_btn = \"//div[@id='main']//div[@class='_3ndVb']\"\n",
    "    body_chat_name = \"//div[@id='main']//div[@class='_21nHd']\"\n",
    "    body_text_area = \"//footer[@class='_3E8Fg']//p\"\n",
    "    body_msg_nav_arrow = '/html/body/div[1]/div/div/div[4]/div/div[2]/div/div[1]/span/div'\n",
    "    init_info = \"//div[@data-testid='intro-text'][contains(.,'Use WhatsApp on up to 4 linked devices and 1 phone at the same time.')]\"\n",
    "    \n",
    "    pane_search = \"//div[@id='side']//div[@data-testid='chat-list-search']\"\n",
    "    pane_search_back =\"//div[@id='side']//span[@data-testid='search']\"\n",
    "    pane_search_cancel = \"//div[@id='side']//span[contains(@data-testid,'x-alt')]\"\n",
    "    pane_search_filter = \"//div[@id='side']//button[@aria-label='Unread chats filter']\"\n",
    "    \n",
    "    active_chat_title = \"//div[@id='main']//span[@data-testid='conversation-info-header-chat-title']\"\n",
    "    active_chat_search = \"//div[@id='main']//span[@data-testid='search-alt']\"\n",
    "    \n",
    "    msg_menu = '//*[contains(concat( \" \", @class, \" \" ), concat( \" \", \"_3bcLp\", \" \" ))'\n",
    "\n",
    "    \n",
    "    def __init__(self, url=None):\n",
    "        chrome_options = Options()\n",
    "        chrome_options.add_experimental_option(\"debuggerAddress\", \"127.0.0.1:9222\")\n",
    "        self.url = 'whatsapp.com' if url is None else url\n",
    "        self.driver = webdriver.Chrome(service=Service(ChromeDriverManager().install()), options=chrome_options)\n",
    "        self.wait = WebDriverWait(self.driver, 5)\n",
    "        self.ac = ActionChains(self.driver)\n",
    "        self.read_store = defaultdict()\n",
    "        self.store_msg = pd.DataFrame([])\n",
    "        self.pane_data = defaultdict()\n",
    "        self.chat_data = defaultdict()\n",
    "        print(self.driver.title)\n",
    "    \n",
    "    @property\n",
    "    def get_driver(self):\n",
    "        return self.driver\n",
    "    \n",
    "    @property\n",
    "    def reload_get(self):\n",
    "        wait = WebDriverWait(self.driver, 60)\n",
    "        self.driver.refresh()\n",
    "        search_bar_xpt = \"/html/body/div[1]/div/div/div[3]/div/div[1]/div/div/div[2]/div/div[2]\"\n",
    "        element = wait.until(EC.presence_of_element_located((By.XPATH, search_bar_xpt)))\n",
    "        print('reload success, whatsapp ready')\n",
    "        return self.driver\n",
    "    \n",
    "    def xpelem(self, xpt):\n",
    "        try: return self.wait.until(EC.presence_of_element_located((By.XPATH, xpt)))\n",
    "        except: return None\n",
    "    \n",
    "    def xptext(self, xpt):\n",
    "        try: return self.driver.find_element(By.XPATH, xpt).text\n",
    "        except: return None\n",
    "        \n",
    "    def xpget(self, xpt):\n",
    "        try: return self.driver.find_element(By.XPATH, xpt)\n",
    "        except: return None\n",
    "    \n",
    "    def click(self, xpt):\n",
    "        xp = self.xpelem(xpt) if type(xpt) is str else xpt\n",
    "        if xp is None: \n",
    "            print(\"xpath not present\")\n",
    "            return None\n",
    "        try:\n",
    "            xp.click()\n",
    "            return 1\n",
    "        except: return 0\n",
    "    \n",
    "    def move_click(self, xpt):\n",
    "        try: \n",
    "            self.ac.move_to_element(self.xpget(xpt)).click(xpt).perform()\n",
    "            return 1\n",
    "        except: return 0\n",
    "        \n",
    "    def hover_click(self, xp1, xp2):\n",
    "        try: \n",
    "            self.ac.move_to_element(self.xpelem(xp1)).click(self.xpelem(xp2)).perform()\n",
    "            return 1\n",
    "        except: return 0\n",
    "    \n",
    "    def just_move(self, xp1):\n",
    "        try:\n",
    "            self.ac.move_to_element(self.xpget(xp1)).perform()\n",
    "            return 1\n",
    "        except: return 0\n",
    "        \n",
    "    def paste_text(self, text):\n",
    "        try: self.ac.send_keys(text).perform()\n",
    "        except: pass\n",
    "        \n",
    "    def click_write_enter(self, xpt, text):\n",
    "        xp = self.xpelem(xpt) if type(xpt) is str else xpt\n",
    "        if xp is None: return None\n",
    "        xp.clear()\n",
    "        if chr(10) not in text:\n",
    "            self.ac.move_to_element(xp).click().send_keys(text).send_keys(Keys.RETURN).perform()\n",
    "        else:\n",
    "            xx = text.split(chr(10))\n",
    "            for line in xx:\n",
    "                self.ac.send_keys(line).perform()\n",
    "                self.ac.key_down(Keys.SHIFT).key_down(Keys.ENTER).key_up(Keys.SHIFT).key_up(Keys.ENTER).perform()\n",
    "            self.ac.send_keys(Keys.RETURN).perform()\n",
    "    \n",
    "    def sidepane_scroll(self, initial = 1, scrolls=35):\n",
    "        for i in range(1, scrolls):\n",
    "            self.driver.execute_script(\"document.getElementById('pane-side').scrollTop={}\".format(initial))\n",
    "            initial = initial + i + 1\n",
    "        return initial\n",
    "\n",
    "    def scroll_by_xpath(self, xpt=\"(//div[@id='main']//div[@class='ItfyB _3nbHh'])[2]\"):\n",
    "        try:\n",
    "            xp = self.wait.until(EC.presence_of_element_located((By.XPATH, xpt)))\n",
    "            self.driver.execute_script(\"arguments[0].scrollIntoView(true);\", xp)\n",
    "            return 1\n",
    "        except:\n",
    "            print('WhBase.scroll_by_xpath(xpt) failed to scroll')\n",
    "            return 0\n",
    "        \n",
    "    def msg_sender_dttm(self, n, base=\"(//div[@id='main']//div[@data-testid='msg-container'])\"):\n",
    "        xpt = base + \"[\" + str(n) + \"]\"\n",
    "        html = self.wait.until(EC.presence_of_element_located((By.XPATH, xpt))).get_attribute('innerHTML')\n",
    "        sp = BeautifulSoup(html, \"lxml\")\n",
    "        x = sp.find_all('div')\n",
    "        for i in x:\n",
    "            try:\n",
    "                st = i['data-pre-plain-text']\n",
    "                break\n",
    "            except:pass\n",
    "        else: return None, None\n",
    "        try:\n",
    "            split_point = st.find(']')\n",
    "            sender = st[split_point+1:].replace(':','').strip(' ')\n",
    "            dttm = parse(st.upper()[1:split_point])\n",
    "            return dttm.strftime(\"%Y-%m-%d %H:%M\"), sender\n",
    "        except: None, None\n",
    "            \n",
    "    def xpbulk(self, xpt):\n",
    "        try:\n",
    "            if type(xpt) is str: return self.xptext(xpt)\n",
    "            elif type(xpt) is list: return [self.xptext(n) for n in xpt]\n",
    "            elif type(xpt) is dict: return {k : [self.xptext(n) for n in v] if type(v) is list else self.xptext(v) for k, v in xpt.items()}\n",
    "            else: return None\n",
    "        except:\n",
    "            return None\n",
    "        \n",
    "    def pane_search_clear(self):\n",
    "        self.click(self.pane_search_cancel)\n",
    "        self.click(self.pane_search_back)\n",
    "        \n",
    "    def select_chat(self, chat_name):\n",
    "        if chat_name is not None and chat_name != '':\n",
    "            x = self.click_write_enter(xpt=self.pane_search, text=chat_name)\n",
    "            y = self.xptext(self.active_chat_title)\n",
    "            print('chat body name: ', y)\n",
    "            if chat_name.lower() in y.lower():\n",
    "                print('chat selection successful')\n",
    "                self.pane_search_clear()\n",
    "                return 1\n",
    "            else: 0\n",
    "        else: return None\n",
    "        \n",
    "    def send_message(self, chat_names, text):\n",
    "        cn = [chat_names] if type(chat_names) is str else chat_names\n",
    "        for n in cn:\n",
    "            x = self.select_chat(n)\n",
    "            if x is not None or x !=0:\n",
    "                self.click_write_enter(text)\n",
    "                print('message send to ', str(n), ' sucessfully')\n",
    "                tm.sleep(.5)\n",
    "            else:\n",
    "                print('message send failed, chat: ', str(n))\n",
    "    \n",
    "    def dict_to_df(self, dc, out=None):\n",
    "        x = dt.datetime.now().strftime('%b%d%Y_%H%M')\n",
    "        opt = x  + '.csv' if out is None else x + '_' + out + '.csv'\n",
    "        df = pd.DataFrame.from_dict(dc).to_csv(opt)\n",
    "        return df\n",
    "    \n",
    "    def chat_msg(self, n, base=\"(//div[@id='main']//div[@data-testid='msg-container'])\", xpt_print=False):\n",
    "        bi = base + '[' + str(n) + ']'\n",
    "        if self.xpelem(bi) is None: return None\n",
    "        else:\n",
    "            self.move_click(bi + \"//div[@role='button'][contains(.,'Read more')]\")\n",
    "            dttm, sender = self.msg_sender_dttm(n)\n",
    "            dc = {'sender' : [sender],\n",
    "                  'text' : [self.xptext(bi + \"//div[@class='_21Ahp']/span[1]/span\")],\n",
    "                  'q_sender' : [self.xptext(bi + \"//div[@class='_3pMOs yKTUI']//div[1]/span\")],\n",
    "                  'q_text' : [self.xptext(bi + \"//div[@class='_3pMOs yKTUI']//div[2]/span\")],\n",
    "                  'datetime' : [dttm]}\n",
    "            return dc\n",
    "   \n",
    "    def side_pane(self, n=2, base=\"(//div[@id='pane-side']//div[@class='_8nE1Y'])\"):\n",
    "        bi = base + '[' + str(n) + ']'\n",
    "        if self.xpelem(bi) is None: return None\n",
    "        dc = {'chat_name' : bi + \"//div[@class='_21S-L']//span[@dir='auto']\",\n",
    "              'last_text' : bi + \"//span[@data-testid='last-msg-status']\",\n",
    "              'last_sender' : [bi + \"//div[@class='vQ0w7']//span[@dir='auto']\", \n",
    "                               bi + \"//span[@data-testid='status-dblcheck']\"],\n",
    "              'last_msg_time' : bi + \"/div[@class='y_sn4']/div[@class='Dvjym']\",\n",
    "              'new_msg_notif' : bi + \"//div[@class='Dvjym']//span[@data-testid='icon-unread-count']\"}\n",
    "        for k, v in dc.items():\n",
    "            v = [v] if type(v) is str else v\n",
    "            dc[k] = [self.xptext(j) for j in v]\n",
    "        return dc"
   ]
  },
  {
   "cell_type": "code",
   "execution_count": 5,
   "id": "1b167a21",
   "metadata": {},
   "outputs": [],
   "source": [
    "class WA(WhBase):\n",
    "    \n",
    "    def __init__(self):\n",
    "        super().__init__()\n",
    "        \n",
    "    def xe(self, xpt, click=False, text=False):\n",
    "        try:\n",
    "            x = self.wait.until(EC.presence_of_element_located((By.XPATH, xpt)))\n",
    "            if click == True: x.click()\n",
    "            if text == False: return x\n",
    "            else: return x.text\n",
    "        except: return None\n",
    "        \n",
    "    def xes(self, xpt):\n",
    "        try: return self.driver.find_elements(By.XPATH, xpt)\n",
    "        except: return None\n",
    "        \n",
    "    def read_unread(self, chatname, match_action:dict):\n",
    "        chat_name_notif = \"//div[@class='_21S-L']//span[@dir='auto' and contains(text(),\" + chatname + \\\n",
    "        \")]//ancestor::div[@class='_8nE1Y']//div[@class='Dvjym']//span[@data-testid='icon-unread-count']\"\n",
    "\n",
    "    def send(self):\n",
    "        pass\n",
    "\n",
    "    def get_unread_chats(self):\n",
    "        ls = \"//div[@id='pane-side']//div[@class='_21S-L']//span[@dir='auto']\"\n",
    "\n",
    "    def search(self):\n",
    "        pass\n",
    "\n",
    "    def forward(self, chatname, match_func, forward_to, from_no_of_message=20, from_lastest=True):\n",
    "        pass\n",
    "\n",
    "    def reply(self, chatname, match_func, reply_text, from_no_of_message=20, reading_lastest=True):\n",
    "        pass\n",
    "\n",
    "    def delete(self, chatname, match_func, from_no_of_message=20, from_lastest=True, delete_for_all=True):\n",
    "        pass\n",
    "\n",
    "    def reaction(self, chatname, match_func, from_no_of_message=20, from_lastest=True):\n",
    "        pass\n",
    "\n",
    "    def get_msg(self, chatname, no_of_msg=50, msg_date=None):\n",
    "        pass\n",
    "\n",
    "    def monitor_contacts(self, list_of_chats, interval=5):\n",
    "        pass\n",
    "\n",
    "    def monitor_chats(self, list_of_chats, interval=5):\n",
    "        pass\n",
    "\n",
    "    def monitor_cotent(self, list_of_chats, interval=5):\n",
    "        pass\n",
    "    \n",
    "    def xptext_dic(self, dc:dict):\n",
    "        for k, v in dc.copy().items():\n",
    "            dc[k] = [self.xe(n, text=True) for n in v] if type(v) is list else self.xe(v, text=True)\n",
    "        else: return dc\n",
    "     \n"
   ]
  },
  {
   "cell_type": "code",
   "execution_count": 15,
   "id": "a07a1d52",
   "metadata": {},
   "outputs": [
    {
     "name": "stdout",
     "output_type": "stream",
     "text": [
      "(4) WhatsApp\n"
     ]
    }
   ],
   "source": [
    "x = WA()\n",
    "d = x.driver"
   ]
  },
  {
   "cell_type": "code",
   "execution_count": 19,
   "id": "9af33993",
   "metadata": {},
   "outputs": [
    {
     "data": {
      "text/plain": [
       "1"
      ]
     },
     "execution_count": 19,
     "metadata": {},
     "output_type": "execute_result"
    }
   ],
   "source": [
    "def forward(d, x, fwto='onami', msgxpt=\"(//div[@id='main']//div[@data-testid='msg-container'])[last()]\")\n",
    "    a1 = x.xpelem(msgxpt)\n",
    "    ActionChains(d).move_to_element(a1).perform()\n",
    "    x.click(x.xpelem(\"(//div[@data-testid='msg-container'])[last()]//span[@data-testid='down-context']\"))\n",
    "    tm.sleep(1)\n",
    "    x.click(\"//ul//li[contains(.,'Forward')]\")\n",
    "    tm.sleep(1)\n",
    "    x.click(\"//div[@class='_2IUvV']//span[@data-testid='forward']\")\n",
    "    xpel  = x.xpelem(\"(//div[contains(@role,'textbox')])[1]\")\n",
    "    ActionChains(d).move_to_element(xpel).click().perform()\n",
    "    tm.sleep(1)\n",
    "    ActionChains(d).send_keys_to_element(xpel, fwto).perform()\n",
    "    tm.sleep(2)\n",
    "    x.click(\"(//div[@class='_199zF _3j691 _2N1Gm'])[1]\")\n",
    "    tm.sleep(1)\n",
    "    x.click(\"//span[@data-testid='send']\")"
   ]
  },
  {
   "cell_type": "code",
   "execution_count": 18,
   "id": "61d89005",
   "metadata": {},
   "outputs": [
    {
     "data": {
      "text/plain": [
       "1"
      ]
     },
     "execution_count": 18,
     "metadata": {},
     "output_type": "execute_result"
    }
   ],
   "source": [
    "x.click(\"//span[@data-testid='send']\")"
   ]
  },
  {
   "cell_type": "code",
   "execution_count": null,
   "id": "cdb7baf7",
   "metadata": {},
   "outputs": [],
   "source": [
    "tm.sleep(2)\n",
    "x.click(\"(//div[@class='_199zF _3j691 _2N1Gm'])[1]\")\n",
    "tm.sleep(2)\n",
    "x.click(\"//*[@data-testid='send']\")"
   ]
  },
  {
   "cell_type": "code",
   "execution_count": 6,
   "id": "af7f7e26",
   "metadata": {},
   "outputs": [],
   "source": [
    "msgdiv=\"(//div[@id='main']//div[@data-testid='msg-container'])[last()]\"\n",
    "acc = ActionChains(d)\n",
    "msgtime, msgarrow = msgdiv + \"//div[@class='_2_-To']\", msgdiv + \"//span[@data-testid='down-context']\"\n",
    "ActionChains(d).move_to_element(x.xpelem(msgtime)).perform()\n",
    "ActionChains(d).click(x.xpelem(msgarrow)).perform()\n"
   ]
  },
  {
   "cell_type": "code",
   "execution_count": null,
   "id": "67a02be9",
   "metadata": {},
   "outputs": [],
   "source": []
  },
  {
   "cell_type": "code",
   "execution_count": null,
   "id": "943c3951",
   "metadata": {
    "code_folding": [],
    "scrolled": true
   },
   "outputs": [],
   "source": [
    "x.click(\"//div[@class='_2sDI2']//div[contains(text(),'Forward')]\")\n",
    "tm.sleep(.5)\n",
    "x.click(\"//div[@class='_2IUvV']//span[@data-testid='forward']\")\n",
    "xx = \"(//div[contains(@role,'textbox')])[1]\"\n",
    "ActionChains(d).send_keys_to_element(xx, 'sakib').perform()\n",
    "x.click(\"(//div[@class='_199zF _3j691 _2N1Gm'])[1]\")\n",
    "x.click(\"//*[@data-testid='send']\")"
   ]
  },
  {
   "cell_type": "code",
   "execution_count": null,
   "id": "e5f7b3b3",
   "metadata": {},
   "outputs": [],
   "source": [
    "        tm.sleep(.5)\n",
    "        if self.click(\"//div[@class='_2sDI2']//div[contains(text(),'Forward')]\") == 1:\n",
    "            time.sleep(.5)\n",
    "            if self.click(\"//div[@class='_2IUvV']//span[@data-testid='forward']\") == 1:\n",
    "                time.sleep(.5)\n",
    "                xpel  = self.xpelem(\"(//div[contains(@role,'textbox')])[1]\")\n",
    "                acc.move_to_element(xpel).click().send_keys_to_element(xpel, forward_to).perform()\n",
    "                tm.sleep(1)\n",
    "                if self.click(\"(//div[@class='_199zF _3j691 _2N1Gm'])[1]\") == 1:\n",
    "                    tm.sleep(1)\n",
    "                    if self.click(\"//*[@data-testid='send']\") == 1:\n",
    "                        print('forward success')\n",
    "                else: print('cound not select')\n",
    "            else: print('forward button from foter not found')\n",
    "        else:  print('msg additional menu not found')"
   ]
  },
  {
   "cell_type": "code",
   "execution_count": null,
   "id": "54a4625a",
   "metadata": {},
   "outputs": [],
   "source": [
    "xpt_by_chatname = lambda chatname: \"//div[@class='_21S-L']//span[@dir='auto' and contains(text(),'\" + chatname + \"')]//ancestor::div[@class='_8nE1Y']\"\n",
    "\n",
    "def pane_xpt(index=None, parent = \"(//div[@id='pane-side']//div[@class='_8nE1Y'])\", chatname=None):\n",
    "    if index is not None and parent is not None:\n",
    "        bi = parent + \"[\" + str(index) + \"]\"\n",
    "    elif parent is None and chatname is not None:\n",
    "        bi = \"//div[@id='pane-side']//div[@class='_21S-L']//span[@dir='auto' and contains(text(),'\" + chatname + \"')]//ancestor::\" + parent\n",
    "    else:\n",
    "        bi = parent\n",
    "    dc = {'chat_name' : bi + \"//div[@class='_21S-L']//span[@dir='auto']\",\n",
    "          'last_text' : bi + \"//span[@data-testid='last-msg-status']\",\n",
    "          'last_sender' : bi + \"//div[@class='vQ0w7']//span[@dir='auto']\",\n",
    "          'last_msg_time' : bi + \"/div[@class='y_sn4']/div[@class='Dvjym']\",\n",
    "          'new_msg_notif' : bi + \"//div[@class='Dvjym']//span[@data-testid='icon-unread-count']\"}\n",
    "    return dc\n",
    "\n",
    "def pane_chat_info(store_dc = defaultdict(), bs=\"//div[@id='pane-side']//div[@class='_21S-L']//span[@dir='auto']\"):\n",
    "    'fetch available chats info from pane without scroll'\n",
    "    lschat = y.xes(bs)\n",
    "    for i in lschat:\n",
    "        bychat = xpt_by_chatname(i.text)\n",
    "        dc = pane_xpt(parent=bychat)\n",
    "        for k, v in dc.copy().items():\n",
    "            q = y.xptext(v)\n",
    "            dc[k] = q if q is not None else ''\n",
    "        store_dc = update_key_value(store_dc, dc)\n",
    "    else: return y.dict_to_df(store_dc)\n",
    "    \n",
    "def get_unread_msg(chatname='Emergency SOC Group',store_dc = defaultdict(),msgbase=\"(//div[@id='main']//div[@data-testid='msg-container'])\"):\n",
    "    'fetch unread available msg inside group without scroll'\n",
    "    chatxpt = xpt_by_chatname(chatname)\n",
    "    dc = pane_xpt(parent=chatxpt)\n",
    "    print('chatname: ', chatname, 'unread_sms: ',  y.xptext(dc['new_msg_notif']))\n",
    "    if y.xptext(\"//div[@id='main']//span[@data-testid='conversation-info-header-chat-title']\") not in chatname:\n",
    "        y.click(chatxpt)\n",
    "    avmsg = y.xes(msgbase)\n",
    "    for n in range(len(avmsg)):\n",
    "        dc = y.chat_msg('last()-' + str(n))\n",
    "        store_dc = update_key_value(store_dc, dc)\n",
    "    else:\n",
    "        df = y.dict_to_df(store_dc, chatname)\n",
    "        return store_dc, df\n",
    "    \n",
    "'''\n",
    "//*[contains(@class,'head')]\n",
    "//*[contains(text(),'abcd')]\n",
    "//*[contains(normalize-space(text()),'abcd')]\n",
    "//div[contains(@class, 'measure-tab') and contains(.//span, 'someText')]\n",
    "//div[contains(@class, 'measure-tab') and contains(.,'someText')]\n",
    "//div[@class='credit_summary_item' and contains(., 'Professor')]\n",
    "//div[@class='credit_summary_item' and text()='Professor']\n",
    "//*[text() = 'qwerty' and not(text()[2])]\n",
    "//*[starts-with(@class,'head')] \n",
    "//*[ends-with(@class,\"head\")]\n",
    "//*[starts-with(name(), 'him')]\n",
    "\n",
    "//button[text()='Submit']\n",
    "//button[normalize-space(text())='Submit']\n",
    "//button/text()\n",
    "//table[count(tr)=1]\n",
    "//ol/li[position()=2]\n",
    "//form[@id='myform']//input[@type='submit']\n",
    "'''"
   ]
  },
  {
   "cell_type": "raw",
   "id": "5501c86a",
   "metadata": {},
   "source": [
    "keyText_1 = (//div[@class='_21Ahp'])[contains(.,'Net Status') and contains(.,'11:13 pm')]\n",
    "\n",
    "[data-testid='image-thumb']\n",
    "[aria-label='Forward media']\n",
    "[data-testid='forward-chat']\n",
    "[data-testid='msg-met']\n"
   ]
  },
  {
   "cell_type": "code",
   "execution_count": null,
   "id": "72e232a0",
   "metadata": {},
   "outputs": [],
   "source": [
    "(//*[contains(normalize-space(text()) , 'Update of Site Down')]/ancestor::div[@data-testid='msg-container'])[last()]\n",
    "(//*[contains(normalize-space(text()) , 'Update of Site Down') and contains(., 'Region: 2G/3G/4G')]/ancestor::div[@data-testid='msg-container'])[last()]"
   ]
  },
  {
   "cell_type": "code",
   "execution_count": null,
   "id": "463cd753",
   "metadata": {},
   "outputs": [],
   "source": [
    "contain_text = lambda value: \"contains(normalize-space( text() ) , '\" + value + \"')\"\n",
    "contain_dot = lambda value: \"contains(., '\" + value + \"')\"\n",
    "start_with = lambda value: \"starts-with(normalize-space( text() ), '\" + value + \"')\""
   ]
  },
  {
   "cell_type": "code",
   "execution_count": null,
   "id": "ebf6ceac",
   "metadata": {},
   "outputs": [],
   "source": [
    "match = lambda value: \"matches(normalize-space( text() ) , '\" + value + \"')\""
   ]
  },
  {
   "cell_type": "code",
   "execution_count": null,
   "id": "5ee75bed",
   "metadata": {},
   "outputs": [],
   "source": [
    "(//*[matches(normalize-space(text()) , 'Update of Site Down') and matches(., 'Region: 2G/3G/4G')]/ancestor::div[@data-testid='msg-container'])[last()]"
   ]
  },
  {
   "cell_type": "code",
   "execution_count": null,
   "id": "0385ea4f",
   "metadata": {},
   "outputs": [],
   "source": [
    "match_criteria = {'msg_contains' = ['Update of Site Down at','Region: 2G/3G/4G'], 'sender':[], 'time':[]}\n",
    "action = {'func':'forward_to','receipient':['onami']}"
   ]
  },
  {
   "cell_type": "code",
   "execution_count": null,
   "id": "62b3ac8a",
   "metadata": {},
   "outputs": [],
   "source": [
    "\"//div[contains(concat(' ',normalize-space(@class),' '),' foobar ')]\"\"\n",
    "\"//*[contains(text(),'Power shutdown ongoing') and contains(.,'3:56 pm')]\""
   ]
  },
  {
   "cell_type": "code",
   "execution_count": null,
   "id": "417beec9",
   "metadata": {
    "scrolled": true
   },
   "outputs": [],
   "source": [
    "def xpgen(tag, attr, value):\n",
    "    tag = tag if tag is not None else \"*\"\n",
    "    attr = attr if attr is not None else \".\"\n",
    "    value = value if tag is not None else \",\" + str(value)\n",
    "    contain = tag + \"[ contains(@\"+ attr + \",'\" + str(value) + \"') ]\"\n",
    "    print(contain)\n",
    "xpgen('div', 'class', 'i am')"
   ]
  },
  {
   "cell_type": "code",
   "execution_count": null,
   "id": "e91f0940",
   "metadata": {},
   "outputs": [],
   "source": [
    "tag + \"[text()=\" + value + \"]\"\n",
    "tag = \"[starts-with(name(), \" + value & \"]\"\n",
    "tag + \"[@id='\" + value + \"' and position()=\" + str(2) + ']'\n",
    "\n",
    "\"div[(x and y) or not(z)]'\n",
    "\"div[@class=\"head\"][@id=\"top\"]\"\n",
    "\"section[.//h1[@id='hi']]\""
   ]
  },
  {
   "cell_type": "markdown",
   "id": "6b8e8ece",
   "metadata": {},
   "source": [
    "\n",
    "\n",
    "count()                    # //table[count(tr)=1]\n",
    "position()                 # //ol/li[position()=2]\n",
    "\n",
    "//section[.//h1[@id='hi']]  #This returns <section> if it has an <h1> descendant with id='hi'."
   ]
  },
  {
   "cell_type": "code",
   "execution_count": null,
   "id": "9eb82b8a",
   "metadata": {},
   "outputs": [],
   "source": [
    "y = WA()\n",
    "d = y.get_driver"
   ]
  },
  {
   "cell_type": "code",
   "execution_count": null,
   "id": "2fb7bc51",
   "metadata": {
    "scrolled": true
   },
   "outputs": [],
   "source": [
    "#indexed_chat_info(y.xes(\"(//div[@id='pane-side']//div[@class='_8nE1Y'])\"))"
   ]
  },
  {
   "cell_type": "code",
   "execution_count": null,
   "id": "65b5f800",
   "metadata": {},
   "outputs": [],
   "source": [
    "#d = get_chat_info()"
   ]
  },
  {
   "cell_type": "code",
   "execution_count": null,
   "id": "3c7d03bc",
   "metadata": {},
   "outputs": [],
   "source": [
    "(//*[starts-with(text(),'Update of Site Down')])not(//*[contains(.,'Hosna Ara')])"
   ]
  },
  {
   "cell_type": "code",
   "execution_count": null,
   "id": "4462644d",
   "metadata": {},
   "outputs": [],
   "source": [
    "//*[contains(normalize-space(text()) , 'Hasib')]\n",
    "//*[contains(normalize-space(text()) , 'Update of Site Down')]"
   ]
  },
  {
   "cell_type": "code",
   "execution_count": null,
   "id": "9ba580d3",
   "metadata": {},
   "outputs": [],
   "source": []
  },
  {
   "cell_type": "code",
   "execution_count": null,
   "id": "d385c85a",
   "metadata": {
    "scrolled": true
   },
   "outputs": [],
   "source": [
    "msg = get_unread('Robi & ABHT')"
   ]
  },
  {
   "cell_type": "code",
   "execution_count": null,
   "id": "cde36fa4",
   "metadata": {},
   "outputs": [],
   "source": [
    "for q in msg:\n",
    "    m, n = q[0], q[1]\n",
    "    print(type(m['text']), n)\n"
   ]
  },
  {
   "cell_type": "code",
   "execution_count": null,
   "id": "69e0e94c",
   "metadata": {},
   "outputs": [],
   "source": []
  },
  {
   "cell_type": "code",
   "execution_count": null,
   "id": "7d6cb178",
   "metadata": {},
   "outputs": [],
   "source": [
    "chatname = 'Emergency SOC Group'\n",
    "msglist = get_unread(chatname)\n",
    "print(len(msglist))\n",
    "if y.xptext(\"//div[@id='main']//span[@data-testid='conversation-info-header-chat-title']\") in chatname:\n",
    "    print('already selected correct chat', chatname)"
   ]
  },
  {
   "cell_type": "code",
   "execution_count": null,
   "id": "17984fca",
   "metadata": {},
   "outputs": [],
   "source": [
    "for i in msglist:\n",
    "    print(i.text)\n"
   ]
  },
  {
   "cell_type": "code",
   "execution_count": null,
   "id": "30f4e406",
   "metadata": {},
   "outputs": [],
   "source": [
    "ls = \n",
    "for i in ls:\n",
    "    bychat = xpt_by_chatname(i.text)\n",
    "    dc = pane_xpt(parent=bychat)\n",
    "    for k, v in dc.copy().items():\n",
    "        q = y.xptext(v)\n",
    "        dc[k] = q if q is not None else ''\n",
    "    print(dc)\n",
    "    print('-------------')\n"
   ]
  },
  {
   "cell_type": "code",
   "execution_count": null,
   "id": "9b88cce6",
   "metadata": {},
   "outputs": [],
   "source": []
  },
  {
   "cell_type": "code",
   "execution_count": null,
   "id": "1f92a831",
   "metadata": {},
   "outputs": [],
   "source": [
    "#chat_name_notif = \"//div[@class='_21S-L']//span[@dir='auto' and contains(text(),\" + chatname + \\\n",
    "#\")]//ancestor::div[@class='_8nE1Y']//div[@class='Dvjym']//span[@data-testid='icon-unread-count']\""
   ]
  },
  {
   "cell_type": "code",
   "execution_count": null,
   "id": "87fea8cc",
   "metadata": {},
   "outputs": [],
   "source": [
    "unread_only=True, match_str= [], forward=['onami','omi'], start=None, end=None"
   ]
  },
  {
   "cell_type": "code",
   "execution_count": null,
   "id": "6f8b4ea6",
   "metadata": {},
   "outputs": [],
   "source": [
    "\n",
    "            "
   ]
  },
  {
   "cell_type": "code",
   "execution_count": null,
   "id": "af99ea57",
   "metadata": {},
   "outputs": [],
   "source": []
  },
  {
   "cell_type": "code",
   "execution_count": null,
   "id": "a038f26e",
   "metadata": {},
   "outputs": [],
   "source": [
    "d.find_element(By.XPATH, \"(//div[@id='pane-side']//div[@class='_8nE1Y'])\")"
   ]
  },
  {
   "cell_type": "code",
   "execution_count": null,
   "id": "691b8bbe",
   "metadata": {},
   "outputs": [],
   "source": [
    "xe = lambda xpt: d.find_elements(By.XPATH, xpt)"
   ]
  },
  {
   "cell_type": "code",
   "execution_count": null,
   "id": "c8469f51",
   "metadata": {},
   "outputs": [],
   "source": []
  },
  {
   "cell_type": "code",
   "execution_count": null,
   "id": "64cd5f4e",
   "metadata": {},
   "outputs": [],
   "source": []
  },
  {
   "cell_type": "code",
   "execution_count": null,
   "id": "559a88ef",
   "metadata": {},
   "outputs": [],
   "source": [
    "print(x)"
   ]
  },
  {
   "cell_type": "code",
   "execution_count": null,
   "id": "6fa44ce1",
   "metadata": {},
   "outputs": [],
   "source": []
  },
  {
   "cell_type": "code",
   "execution_count": null,
   "id": "0109ea52",
   "metadata": {},
   "outputs": [],
   "source": [
    "ls = \"//div[@id='pane-side']//div[@class='_21S-L']//span[@dir='auto']\""
   ]
  },
  {
   "cell_type": "code",
   "execution_count": null,
   "id": "7a955bc4",
   "metadata": {},
   "outputs": [],
   "source": [
    "match_action_1 = {'msg_contains': ['Update of Site Down at','Region: 2G/3G/4G'], \n",
    "                'from_contact':[], \n",
    "                'action_func' :'forward_msg',\n",
    "                'action_func_arg':{'forward_to':['Robi & e.co Ops','OPS & RO']}}\n",
    "\n",
    "match_action_2 = {'msg_contains': ['ICMP Delay & Packet Loss Update'], \n",
    "                'from_contact':[], \n",
    "                'action_func' :'forward_msg',\n",
    "                'action_func_arg':{'forward_to':['operations']}}\n",
    "\n",
    "match_action_3 = {'msg_contains': ['Network Update','CTO and CEBO traces','NCEIP QoS related issue'], \n",
    "                'from_contact':[], \n",
    "                'action_func' :'forward_msg',\n",
    "                'action_func_arg':{'forward_to':['SM & CN_Monitoring']}}\n",
    "\n",
    "m_action = [match_action_1, match_action_2, match_action_3]"
   ]
  },
  {
   "cell_type": "code",
   "execution_count": null,
   "id": "5690e581",
   "metadata": {},
   "outputs": [],
   "source": []
  },
  {
   "cell_type": "code",
   "execution_count": null,
   "id": "4e1cb0a5",
   "metadata": {},
   "outputs": [],
   "source": [
    "x.select_chat('emergency')"
   ]
  },
  {
   "cell_type": "code",
   "execution_count": null,
   "id": "2d93d694",
   "metadata": {},
   "outputs": [],
   "source": [
    "x.chat_msg('last()')"
   ]
  },
  {
   "cell_type": "code",
   "execution_count": null,
   "id": "acdd53d1",
   "metadata": {},
   "outputs": [],
   "source": []
  },
  {
   "cell_type": "code",
   "execution_count": null,
   "id": "52d26b9a",
   "metadata": {},
   "outputs": [],
   "source": [
    "e = x.xpget(\"(//div[@id='main']//div[@data-testid='msg-container'])\")"
   ]
  },
  {
   "cell_type": "code",
   "execution_count": null,
   "id": "7b62ca48",
   "metadata": {},
   "outputs": [],
   "source": [
    "y = d.find_elements(By.XPATH, \"(//div[@id='main']//div[@data-testid='msg-container'])\")"
   ]
  },
  {
   "cell_type": "code",
   "execution_count": null,
   "id": "93ff659e",
   "metadata": {
    "scrolled": true
   },
   "outputs": [],
   "source": []
  },
  {
   "cell_type": "code",
   "execution_count": null,
   "id": "d226e7f4",
   "metadata": {},
   "outputs": [],
   "source": [
    "class WaTem(WhBase):\n",
    "\n",
    "    def duplicate_none_chk(self, sdic, dc):\n",
    "        dpcount, nonecount = 0, 0\n",
    "        for k, v in dc.items():\n",
    "            if v is None: nonecount = nonecount + 1\n",
    "            else:\n",
    "                if v in list(sdic.values()): \n",
    "                    dpcount = dpcount + 1\n",
    "        else:\n",
    "            if nonecount >=3: none_flag = True\n",
    "            else: none_flag = False\n",
    "\n",
    "            if dpcount>=3: dp_flag = True\n",
    "            else: dp_flag = False\n",
    "            return none_flag, dp_flag\n",
    "\n",
    "\n",
    "    def watem_iter(self, method, start=1, end=50, step=1, sdict=defaultdict()):\n",
    "        dc_is_none = 0\n",
    "        for n in range(start, end, step):\n",
    "            dc = getattr(self, method)(n)\n",
    "            if dc is None and dc_is_none>3:\n",
    "                print('return caller sdict & n')\n",
    "                return sdict, n\n",
    "            elif dc is not None:\n",
    "                if len(sdict) == 0: sdict = dc\n",
    "                else:\n",
    "                    nf, dpf = self.duplicate_none_chk(sdict, dc)\n",
    "                    #print(nf, dpf, n, dc)\n",
    "                    if nf == False and dpf == False:\n",
    "                        sdict = update_key_value(sdict, dc)\n",
    "                        dc_is_none = 0\n",
    "                        yield dc, n\n",
    "                    else:\n",
    "                        dc_is_none = dc_is_none + 1\n",
    "            else:\n",
    "                dc_is_none = dc_is_none + 1\n",
    "                print('dc is None', dc_is_none)\n",
    "        else:\n",
    "            return sdict, n"
   ]
  },
  {
   "cell_type": "code",
   "execution_count": null,
   "id": "c5c3a3b2",
   "metadata": {},
   "outputs": [],
   "source": [
    "x = WaTem()\n",
    "\n",
    "def read_msg_action(chatname='emergency', no_of_sms=50, action_dict={'text_match':'update of site down', 'forward':'halim vai'}):\n",
    "    loop_done = 0\n",
    "    x.select_chat(chatname)\n",
    "    while comloop<=no_of_sms:\n",
    "        dd = x.watem_iter('chat_msg', start=1, end=no_of_sms, step=1, sdict=defaultdict())\n",
    "        for dc, loop_done in zip(dd):\n",
    "            print(loop_done)"
   ]
  },
  {
   "cell_type": "code",
   "execution_count": null,
   "id": "8fe95424",
   "metadata": {
    "code_folding": []
   },
   "outputs": [],
   "source": [
    "class WATEM:\n",
    "\n",
    "    def tyEx_fn(fn, *arg, **kwarg):\n",
    "        try: return fn(*arg, **kwarg)\n",
    "        except: return None\n",
    "\n",
    "    def tyEx_exp(cls, method, *arg, **kwarg):\n",
    "        try: return getattr(cls, method)(*arg, **kwarg)\n",
    "        except: return None\n",
    "\n"
   ]
  },
  {
   "cell_type": "code",
   "execution_count": null,
   "id": "7a3b8b43",
   "metadata": {},
   "outputs": [],
   "source": [
    "class WaBase:\n",
    "    \n",
    "        \n",
    "    def accessibility(self, lsxp):\n",
    "        checklist = ['title', 'pane search box', 'side-pane', 'active chat name', 'chat_write_box']"
   ]
  },
  {
   "cell_type": "code",
   "execution_count": null,
   "id": "e473fc75",
   "metadata": {
    "code_folding": []
   },
   "outputs": [],
   "source": []
  },
  {
   "cell_type": "code",
   "execution_count": null,
   "id": "bf44c7dc",
   "metadata": {},
   "outputs": [],
   "source": []
  },
  {
   "cell_type": "code",
   "execution_count": null,
   "id": "a978395f",
   "metadata": {},
   "outputs": [],
   "source": []
  },
  {
   "cell_type": "code",
   "execution_count": null,
   "id": "b5c4b318",
   "metadata": {},
   "outputs": [],
   "source": []
  },
  {
   "cell_type": "code",
   "execution_count": null,
   "id": "521c8239",
   "metadata": {},
   "outputs": [],
   "source": []
  },
  {
   "cell_type": "code",
   "execution_count": null,
   "id": "703a7ecd",
   "metadata": {},
   "outputs": [],
   "source": [
    "class A:\n",
    "    \n",
    "    def __init__(self):\n",
    "        pass\n",
    "    \n",
    "    def adder(self, a,  b, c = None):\n",
    "        if c is None:\n",
    "            print(a+b)\n",
    "            return a+b\n",
    "        else:\n",
    "            return a+b+c\n",
    "        \n",
    "def adder(a,  b, c = None):\n",
    "    if c is None:\n",
    "        return a+b\n",
    "    else:\n",
    "        print(a+b+c)\n",
    "        return a+b+c\n",
    "    \n",
    "def addx(a, b):\n",
    "    print(a+b)\n",
    "            "
   ]
  },
  {
   "cell_type": "code",
   "execution_count": null,
   "id": "2e3927b6",
   "metadata": {},
   "outputs": [],
   "source": [
    "x = A()\n",
    "print(tyEx_exp(x, 'adder', 1, 2))"
   ]
  },
  {
   "cell_type": "code",
   "execution_count": null,
   "id": "fd9f70ea",
   "metadata": {},
   "outputs": [],
   "source": []
  },
  {
   "cell_type": "code",
   "execution_count": null,
   "id": "26e1582b",
   "metadata": {},
   "outputs": [],
   "source": []
  }
 ],
 "metadata": {
  "kernelspec": {
   "display_name": "Python 3 (ipykernel)",
   "language": "python",
   "name": "python3"
  },
  "language_info": {
   "codemirror_mode": {
    "name": "ipython",
    "version": 3
   },
   "file_extension": ".py",
   "mimetype": "text/x-python",
   "name": "python",
   "nbconvert_exporter": "python",
   "pygments_lexer": "ipython3",
   "version": "3.9.1"
  },
  "nbTranslate": {
   "displayLangs": [
    "*"
   ],
   "hotkey": "alt-t",
   "langInMainMenu": true,
   "sourceLang": "en",
   "targetLang": "fr",
   "useGoogleTranslate": true
  },
  "toc": {
   "base_numbering": 1,
   "nav_menu": {},
   "number_sections": true,
   "sideBar": true,
   "skip_h1_title": false,
   "title_cell": "Table of Contents",
   "title_sidebar": "Contents",
   "toc_cell": false,
   "toc_position": {},
   "toc_section_display": true,
   "toc_window_display": false
  }
 },
 "nbformat": 4,
 "nbformat_minor": 5
}
