{
 "cells": [
  {
   "cell_type": "code",
   "execution_count": 172,
   "id": "019c9225",
   "metadata": {
    "code_folding": []
   },
   "outputs": [],
   "source": [
    "from wabs import *\n",
    "\n",
    "def sidepane_scroll(d, initial = 1, scrolls=50):\n",
    "    for i in range(1, scrolls):\n",
    "        d.execute_script(\"document.getElementById('pane-side').scrollTop={}\".format(initial))\n",
    "        initial = initial + i + 1\n",
    "    return initial\n",
    "\n",
    "def msg_scoll_up(d):\n",
    "    d.find_element(By.XPATH, \"//div[@class='_5kRIK']\").send_keys(Keys.HOME)\n",
    "    tm.sleep(2)\n",
    "    return 1\n",
    "\n",
    "def just_move(d, xpt=\"(//div[@data-testid='conversation-panel-body'])[2]\"):\n",
    "    try:\n",
    "        ActionChains(d).move_to_element(ww(d, xpt)).perform()\n",
    "        tm.sleep(1)\n",
    "        return 1\n",
    "    except: return msg_scoll_up(d)\n",
    "    \n",
    "def wtx(d, xpt, wt=1):\n",
    "    try: return d.find_element(By.XPATH, xpt).text\n",
    "    except: return None\n",
    "\n",
    "def ww(d, xpt, sec=2):\n",
    "    wait = WebDriverWait(d, sec)\n",
    "    try: return wait.until(EC.presence_of_element_located((By.XPATH, xpt)))\n",
    "    except: return None\n",
    "\n",
    "def move_click(d, xp1, xp2):\n",
    "    ac = ActionChains(d)\n",
    "    ac.move_to_element(ww(d,xp1)).perform()\n",
    "    ac.pause(1).click(ww(d,xp2)).perform()\n",
    "    \n",
    "def wclk(d, xpt):\n",
    "    elm = ww(d, xpt) if type(xpt) is str else xpt\n",
    "    if elm is None:\n",
    "        print(xpt, ' not found')\n",
    "        return None\n",
    "    else:\n",
    "        try:\n",
    "            elm.click()\n",
    "            print('click success')\n",
    "            return 1\n",
    "        except: return 0\n",
    "\n",
    "def write_msg(d, xpt, text):\n",
    "    ac = ActionChains(d)\n",
    "    ac.move_to_element(xpt).click().perform()\n",
    "    if chr(10) not in text:\n",
    "        ac.send_keys(text).send_keys(Keys.RETURN).perform()\n",
    "    else:\n",
    "        xx = text.split(chr(10))\n",
    "        for line in xx:\n",
    "            ac.send_keys(line).perform()\n",
    "            ac.key_down(Keys.SHIFT).key_down(Keys.ENTER).key_up(Keys.SHIFT).key_up(Keys.ENTER).perform()\n",
    "        ac.send_keys(Keys.RETURN).perform()\n",
    "\n",
    "def update_dict_values(a, b):\n",
    "    '''updating key & values using append then set procedure'''\n",
    "    c = {}\n",
    "    for k, v in a.items():\n",
    "        if k in list(b):\n",
    "            c[k] = list(set(a[k] + b[k]))\n",
    "        else:\n",
    "            c[k] = a[k]\n",
    "    return {**b, **c}\n",
    "\n",
    "def update_key_value(a, b):\n",
    "    '''updating key & values (values will be appened for existing key)'''\n",
    "    c = {}\n",
    "    if len(a) == 0: return b\n",
    "    tls = lambda ls : ls if type(ls) is list else [ls]\n",
    "    for k, v in a.items():\n",
    "        c[k] = tls(a[k]) + tls(b[k]) if k in list(b) else tls(a[k])\n",
    "    else: return {**b, **c}\n",
    "\n",
    "def search_msg_in_chat(d, chat_name, search_xpath, base):\n",
    "    dc, no_of_items, same_elm_count = defaultdict(list), 0\n",
    "    while found_same_element_count<=3:\n",
    "        pre_no_of_items = no_of_items\n",
    "        no_of_items = len(d.find_elements(By.XPATH, base))\n",
    "        if no_of_items == pre_no_of_items: same_elm_count = same_elm_count + 1\n",
    "        else: same_elm_count = 0\n",
    "        el = ww(d, search_xpath)\n",
    "        if el is not None: \n",
    "            yield el\n",
    "        msg_scoll_up(d)\n",
    "    print(same_elm_count, ' is 3/3+ so, seems there is no more content to scroll')\n",
    "        \n",
    "        \n",
    "def is_duplicate(dmain, dnew, key_list=['chat_name', 'last_text']):\n",
    "    try:\n",
    "        duplicate = []\n",
    "        for n in key_list:\n",
    "            if dnew[n] in dmain[n]: duplicate.append(True)\n",
    "            else: pass\n",
    "        if len(key_list) == len(duplicate): return True\n",
    "        else: return False\n",
    "    except: return False\n",
    "\n",
    "def wapane_chat_type(d, bs):\n",
    "    xpt = bs + \"//div[@data-testid='chatlist-status-v3-ring']\"\n",
    "    if ww(d, xpt.strip(' ')) is None: \n",
    "        return 'group'\n",
    "    else: \n",
    "        return 'contact'\n",
    "    \n",
    "def side_pane(d, n=None, pane_base=\"//div[@id='pane-side']//div[@data-testid='cell-frame-container']\"):\n",
    "    base = '(' + pane_base + \"//div[@class='_8nE1Y'])\" if '_8nE1Y' not in pane_base else pane_base\n",
    "    bi = base + '[' + str(n) + ']' if n is not None else base\n",
    "    bi4ctype = '(' + pane_base + ')[' + str(n) + ']' if n is not None else pane_base \n",
    "    if ww(d, bi) is None: return None\n",
    "    print('pane coll xpt not none: ', bi)\n",
    "    dc = {'chat_type': [wapane_chat_type(d, bi4ctype)],\n",
    "        'chat_name' : [bi + \"//div[@class='y_sn4']//span\"],\n",
    "        'last_text' : [bi + \"//div[@class='vQ0w7']//span[@dir='ltr']\"],\n",
    "        'last_sender' : [bi + \"//div[@class='vQ0w7']//span[@dir='auto']\"],\n",
    "        'time' : [bi + \"/div[@class='y_sn4']//div[@class='Dvjym']\"],\n",
    "        'new_msg_notif' : [bi + \"//span[@data-testid='icon-unread-count']\"]}\n",
    "    for k, v in dc.items():\n",
    "        v = [v] if type(v) is str else v\n",
    "        dc[k] = [wtx(d, j) for j in v]\n",
    "    return dc\n",
    "\n",
    "def msg_sender_dttm(d, xpt):\n",
    "    elm = ww(d, xpt) if type(xpt) is str else xpt\n",
    "    html = elm.get_attribute('innerHTML')\n",
    "    sp = BeautifulSoup(html, \"lxml\")\n",
    "    x = sp.find_all('div')\n",
    "    for i in x:\n",
    "        try:\n",
    "            st = i['data-pre-plain-text']\n",
    "            break\n",
    "        except:pass\n",
    "    else: return None, None\n",
    "    try:\n",
    "        split_point = st.find(']')\n",
    "        sender = st[split_point+1:].replace(':','').strip(' ')\n",
    "        dttm = parse(st.upper()[1:split_point])\n",
    "        return dttm.strftime(\"%Y-%m-%d %H:%M\"), sender\n",
    "    except: None, None\n",
    "\n",
    "def msginfo(d, n=None, base=\"(//div[@id='main']//div[@data-testid='msg-container'])\"):\n",
    "    bi = base + '[' + str(n) + ']' if n is not None else base\n",
    "    print('msgbase is being collecting:', bi)\n",
    "    elm = ww(d, bi)\n",
    "    if elm is None: return None\n",
    "    else:\n",
    "        move_click(d, bi + \"//div[@role='button'][contains(.,'Read more')]\")\n",
    "        dttm, sender = msg_sender_dttm(d, elm)\n",
    "        dc = {'sender' : [sender],\n",
    "              'text' : [wtx(d, bi + \"//div[@class='_21Ahp']/span[1]/span\")],\n",
    "              'q_sender' : [wtx(d, bi + \"//div[@class='_3pMOs yKTUI']//div[1]/span\")],\n",
    "              'q_text' : [wtx(d, bi + \"//div[@class='_3pMOs yKTUI']//div[2]/span\")],\n",
    "              'datetime' : [dttm],\n",
    "              'sender_visible': [wtx(d, bi + \"//div[@class='_27K43 _31p5Q']/div[1]//span[@dir='auto']\")],\n",
    "              'time': [wtx(d, bi + \"//div[@data-testid='msg-meta']/span\")]\n",
    "              }\n",
    "        dc['img'] = 'image' if ww(d, bi + \"//div[@data-testid='image-thumb']\", 1) is not None else 'NoImage'\n",
    "        return dc\n",
    "\n",
    "def iwh(d, func, end=20, start=1, from_last=False, base=None, where='pane', sdc=defaultdict(list)):\n",
    "    n, nc, sc, sdclen = start, 0, 1, 0\n",
    "    while end > sdclen and nc<5 :\n",
    "        inx = n if from_last == False else 'last()-' + str(n)\n",
    "        dc = func(d, inx, base) if base is not None else func(d, inx)\n",
    "        if dc is not None:\n",
    "            if len(sdc) == 0: sdc = dc\n",
    "            else:\n",
    "                if where == 'pane':\n",
    "                    sdc = update_dict_values(sdc, dc)\n",
    "                    nc, n = 0, n+1\n",
    "                elif where == 'msg':\n",
    "                    if is_duplicate(sdc, dc) == False:\n",
    "                        sdc = update_key_value(sdc, dc)\n",
    "                        nc, n = 0, n+1\n",
    "                    else:\n",
    "                        if nc>1 and n<2: x.just_move(base + '[' + str(2) +']')\n",
    "                        else: msg_scoll_up(d)\n",
    "                        nc = nc + 1\n",
    "                else: \n",
    "                    print('please where args, exiting')\n",
    "                    return None\n",
    "                sdclen = len(sdc['time'])\n",
    "                print('sdc_length:', sdclen)\n",
    "        else:\n",
    "            if where == 'pane':\n",
    "                sc = sidepane_scroll(d,sc)\n",
    "                n = 1\n",
    "            elif where == 'msg':\n",
    "                msg_scoll_up(d)\n",
    "            nc = nc + 1\n",
    "    print('none found consecutive even 4 scroll is 3/3+ so, seems there is no more content to scroll')\n",
    "    return sdc\n",
    "\n",
    "def current_chat_title(d):\n",
    "     return wtx(d, \"//div[@id='main']//span[@data-testid='conversation-info-header-chat-title']\")\n",
    "\n",
    "def loop_read(d, x, chatname=None, end=20, start=1, from_last=None, base=None, where='pane', sdc=defaultdict()):\n",
    "    if chatname is not None:\n",
    "        last = True if from_last is None else False\n",
    "        y = current_chat_title(d)\n",
    "        if y is not None and chatname.lower() in y.lower():\n",
    "            dd =  iwh(d, msginfo, end, start, last, base,'msg',defaultdict(list))\n",
    "            return dd\n",
    "        else:\n",
    "            if x.select_chat(chatname) == 1:\n",
    "                dd =  iwh(d, msginfo, end, start, last, base,'msg',defaultdict(list))\n",
    "                return dd\n",
    "            else:\n",
    "                print(chatname, ' not selected')\n",
    "    else:\n",
    "        last = False if from_last is None else True\n",
    "        dd =  iwh(d, side_pane, end, start, last, base,'pane',defaultdict(list))\n",
    "        return dd\n"
   ]
  },
  {
   "cell_type": "code",
   "execution_count": 173,
   "id": "0b70cb1e",
   "metadata": {},
   "outputs": [
    {
     "name": "stdout",
     "output_type": "stream",
     "text": [
      "(1) WhatsApp\n"
     ]
    }
   ],
   "source": [
    "xx = WABS()\n",
    "dd = xx.get_driver\n"
   ]
  },
  {
   "cell_type": "code",
   "execution_count": 174,
   "id": "5805f78c",
   "metadata": {
    "scrolled": true
   },
   "outputs": [],
   "source": [
    "#a = loop_read(dd,xx,chatname='O&M actions Robi_BTCL', end=25)\n",
    "#xx.dict_to_df(a)"
   ]
  },
  {
   "cell_type": "code",
   "execution_count": 175,
   "id": "1ce91b46",
   "metadata": {},
   "outputs": [],
   "source": [
    "#xx.paste_text\n",
    "#xx.move_click_send_text\n",
    "#xx.hover_click"
   ]
  },
  {
   "cell_type": "code",
   "execution_count": null,
   "id": "bc0dce81",
   "metadata": {},
   "outputs": [],
   "source": []
  },
  {
   "cell_type": "code",
   "execution_count": null,
   "id": "36bb80c7",
   "metadata": {
    "scrolled": true
   },
   "outputs": [],
   "source": []
  },
  {
   "cell_type": "code",
   "execution_count": null,
   "id": "dcca3ece",
   "metadata": {},
   "outputs": [],
   "source": []
  },
  {
   "cell_type": "code",
   "execution_count": null,
   "id": "969bd849",
   "metadata": {},
   "outputs": [],
   "source": []
  },
  {
   "cell_type": "code",
   "execution_count": 176,
   "id": "c28514c7",
   "metadata": {
    "code_folding": []
   },
   "outputs": [],
   "source": [
    "contains = lambda attr, value: \"contains(\" + attr + \",'\" + value + \"')\"\n",
    "starts_with = lambda attr, value: \"starts-with(normalize-space(\" + attr + \"),'\" + value + \"')\"\n",
    "ends_with = lambda attr, value: \"ends-with(normalize-space(\" + attr + \"),'\" + value + \"')\"\n",
    "\n",
    "contains_no_attr = lambda value: \"contains(.,'\" + value + \"')\"\n",
    "starts_with_no_attr = lambda value: \"starts-with(normalize-space(),'\" + value + \"')\"\n",
    "ends_with_no_attr = lambda value: \"ends-with(normalize-space(),'\" + value + \"')\"\n",
    "\n",
    "text_equal = lambda value : \"contains(normalize-space(text())='\" + value + \"')\"\n",
    "not_contains = lambda attr, value: 'not(' + contains(attr, value) + ')'\n",
    "\n",
    "def contains_tuple(func, n:tuple=('div','@class','_3wQ5i')):\n",
    "    if type(n) is str: return None,func('.', n)\n",
    "    elif len(n)==2:return None,func(n[0], n[1])\n",
    "    elif len(n)==3:return n[0],func(n[1], n[2])\n",
    "    else:\n",
    "        print('function contains_mix_tuple(n:tuple): can only handdle 3 element as (tag, attr, value)')\n",
    "        return None, n\n",
    "\n",
    "def contains_gen(func, text=[('@class', '_21Ahp'),('text()','Net Status'), '11:13 pm'], tag='*'):\n",
    "    ls = text if type(text) is list else [text]\n",
    "    x = [contains_tuple(contains, n)[1] if type(n) is tuple else contains('.', n)  for n in ls]\n",
    "    return \"//\" + tag + '[' + ' and '.join(x) + ']'\n",
    "\n",
    "def contains_add(func, xpath:str, new_item:tuple=('attr', 'attr_value'), str_search='contains'):\n",
    "    '''xpath : existing xpath, tuple_arg: conition that transform and add into exting contains\n",
    "    call :: contains_add(\"//span[contains(@class,'YESTERDAY')]\",('.','TODAY'), not_expr)\n",
    "    return :: \n",
    "    '''\n",
    "    if xpath.rfind('contains') == -1:\n",
    "        mid1, mid2 = contains_tuple(func, new_item)\n",
    "        if mid1 is None: return xpath + ' | *['+ mid2 + ']'\n",
    "        else: return xpath + ' | ' + mid1 + '[' + mid2 + ']'\n",
    "    else:\n",
    "        start = xpath[:xpath.find(']',xpath.rfind(str_search))]\n",
    "        mid1, mid2 = contains_tuple(func, new_item)\n",
    "        end = xpath[xpath.find(']',xpath.rfind(str_search)):]\n",
    "        nwxpt = start + ' and '+ mid2 + end\n",
    "        return nwxpt.replace('(.)','()')\n",
    "\n",
    "def x_contains(func, xpath:str, new_item:tuple=('attr', 'attr_value'), str_search='contains'):\n",
    "    if type(new_item) is tuple: return contains_add(func, xpath, new_item, str_search)\n",
    "    if type(new_item) is list:\n",
    "        for x in new_item:\n",
    "            if type(x) is tuple:\n",
    "                xpath = contains_add(func, xpath, x, str_search)\n",
    "        else: return xpath\n",
    "\n",
    "    \n",
    "#xp = contains_gen(contains, tag='div')\n",
    "#contains_add(func=starts_with, xpath=xp, new_item=('.','sdfhous'), str_search='contains')"
   ]
  },
  {
   "cell_type": "code",
   "execution_count": null,
   "id": "49841cb7",
   "metadata": {},
   "outputs": [],
   "source": []
  },
  {
   "cell_type": "code",
   "execution_count": null,
   "id": "16fb55a0",
   "metadata": {},
   "outputs": [],
   "source": []
  },
  {
   "cell_type": "code",
   "execution_count": 177,
   "id": "23c2b697",
   "metadata": {},
   "outputs": [],
   "source": [
    "def pause_click(d, xp1, xp2):\n",
    "    return ActionChains(d).move_to_element(ww(d, xp1)).pause(1).click(ww(d,xp2)).perform()"
   ]
  },
  {
   "cell_type": "code",
   "execution_count": null,
   "id": "bd4f3aee",
   "metadata": {
    "code_folding": []
   },
   "outputs": [],
   "source": []
  },
  {
   "cell_type": "code",
   "execution_count": 226,
   "id": "42a4fb00",
   "metadata": {},
   "outputs": [],
   "source": []
  },
  {
   "cell_type": "code",
   "execution_count": 243,
   "id": "a7f7ffba",
   "metadata": {},
   "outputs": [],
   "source": [
    "\n",
    "\n"
   ]
  },
  {
   "cell_type": "code",
   "execution_count": 249,
   "id": "28cf2a15",
   "metadata": {},
   "outputs": [
    {
     "name": "stdout",
     "output_type": "stream",
     "text": [
      "is_present //h1[text()='Forward message to']\n",
      "//h1[text()='Forward message to']\n",
      "clk_3 //button[@title='Forward message']\n",
      "success\n",
      "success\n",
      "is_present //h1[text()='Forward message to']\n",
      "fw selection action processing\n",
      "fw selection ok\n"
     ]
    },
    {
     "data": {
      "text/plain": [
       "1"
      ]
     },
     "execution_count": 249,
     "metadata": {},
     "output_type": "execute_result"
    }
   ],
   "source": []
  },
  {
   "cell_type": "code",
   "execution_count": 237,
   "id": "6449625d",
   "metadata": {},
   "outputs": [
    {
     "data": {
      "text/plain": [
       "\"//div[@class='y_sn4']//span[contains(.,'OPS & RO') and contains(attr,'attr_value')]//ancestor::div[@data-testid='cell-frame-container']\""
      ]
     },
     "execution_count": 237,
     "metadata": {},
     "output_type": "execute_result"
    }
   ],
   "source": [
    "contains_add(contains, )"
   ]
  },
  {
   "cell_type": "code",
   "execution_count": 239,
   "id": "9a138fb3",
   "metadata": {},
   "outputs": [
    {
     "data": {
      "text/plain": [
       "\"//div[@class='y_sn4']//span[contains(.,'omi')]//ancestor::div[@data-testid='cell-frame-container']\""
      ]
     },
     "execution_count": 239,
     "metadata": {},
     "output_type": "execute_result"
    }
   ],
   "source": []
  },
  {
   "cell_type": "code",
   "execution_count": null,
   "id": "a5247379",
   "metadata": {},
   "outputs": [],
   "source": [
    "ww(dd,\"//h1[text()='Forward message to']\")"
   ]
  },
  {
   "cell_type": "code",
   "execution_count": 203,
   "id": "6a787d54",
   "metadata": {},
   "outputs": [
    {
     "name": "stdout",
     "output_type": "stream",
     "text": [
      "click success\n"
     ]
    },
    {
     "data": {
      "text/plain": [
       "1"
      ]
     },
     "execution_count": 203,
     "metadata": {},
     "output_type": "execute_result"
    }
   ],
   "source": [
    "wclk(dd,\"//button[@title='Forward message']\")"
   ]
  },
  {
   "cell_type": "code",
   "execution_count": 186,
   "id": "155685c5",
   "metadata": {},
   "outputs": [
    {
     "data": {
      "text/plain": [
       "<selenium.webdriver.remote.webelement.WebElement (session=\"a64729c768a88d91eadfa6a1cf9f83f2\", element=\"24c109b3-ffbe-483b-b405-a1376f890fcd\")>"
      ]
     },
     "execution_count": 186,
     "metadata": {},
     "output_type": "execute_result"
    }
   ],
   "source": [
    " ww(dd, \"//div[@class='_2vDPL']\")"
   ]
  },
  {
   "cell_type": "code",
   "execution_count": 231,
   "id": "8aab492c",
   "metadata": {
    "scrolled": true
   },
   "outputs": [
    {
     "data": {
      "text/plain": [
       "\"//div[@class='y_sn4']//span[contains(.,'Operations')]//ancestor::div[@data-testid='cell-frame-container']\""
      ]
     },
     "execution_count": 231,
     "metadata": {},
     "output_type": "execute_result"
    }
   ],
   "source": [
    "\n",
    "yy"
   ]
  },
  {
   "cell_type": "code",
   "execution_count": null,
   "id": "16a4e8ec",
   "metadata": {},
   "outputs": [],
   "source": [
    "#action(dd, 'clk', yy)"
   ]
  },
  {
   "cell_type": "code",
   "execution_count": null,
   "id": "34c55c59",
   "metadata": {},
   "outputs": [],
   "source": [
    "yyy = '(' + wpn.xpath_dict['msgbs'] + ')[last()-2]'\n",
    "x = move_click(dd, yyy  ,yyy + \"//*[@class='_3u9t-']\")\n",
    "x = move_click(dd, \"//ul//li[contains(.,'Forward message')]\", \"//ul//li[contains(.,'Forward message')]\")\n",
    "tm.sleep(1)\n",
    "x = wclk(dd, \"//button[@title='Forward message']\")\n"
   ]
  },
  {
   "cell_type": "code",
   "execution_count": 117,
   "id": "8fcf902c",
   "metadata": {},
   "outputs": [],
   "source": [
    "\"//div[@id='app']/div[1]/span[2]/div[1]/div[1]/div[1]/div[1]/div[1]/div[1]/div[1]/span[1]/div[1]\"\n",
    "\"//span[@data-testid='search']\"\n",
    "\n",
    "\n"
   ]
  },
  {
   "cell_type": "code",
   "execution_count": 118,
   "id": "9d1fbdf3",
   "metadata": {},
   "outputs": [],
   "source": [
    "\n",
    "                                                     "
   ]
  },
  {
   "cell_type": "code",
   "execution_count": 151,
   "id": "a667d121",
   "metadata": {},
   "outputs": [],
   "source": [
    "\n",
    "        "
   ]
  },
  {
   "cell_type": "code",
   "execution_count": null,
   "id": "6c7e5efe",
   "metadata": {},
   "outputs": [],
   "source": []
  },
  {
   "cell_type": "code",
   "execution_count": 142,
   "id": "1c02816c",
   "metadata": {},
   "outputs": [],
   "source": []
  },
  {
   "cell_type": "code",
   "execution_count": null,
   "id": "edb731ba",
   "metadata": {},
   "outputs": [],
   "source": [
    "if move > 0:\n",
    "    print('executute clicking operation')\n",
    "    x.click(\"//span[@data-testid='down-context']\")\n",
    "    tm.sleep(.5)\n",
    "    if self.xpelem(\"//ul//li\") is None:\n",
    "        q = self.ensure_click_attempt(a2, a2 + \"//span[@data-testid='down-context']\", \"//ul//li\")\n",
    "        if q == 0:\n",
    "            print('msg ul/li not found.. run again')\n",
    "            return 0\n",
    "    if forward is not None and len(forward)>1:\n",
    "        print('msg forward init')\n",
    "        x.click(\"//ul//li[contains(.,'Forward message')]\")\n",
    "        x.click(\"//button[@title='Forward message']\")\n",
    "        #x.move_click_send_text(\"//div[@data-testid='chat-list-search']\",\"SM POOL\")\n",
    "        x.paste_text(\"//div[@data-testid='chat-list-search']\",forward)\n",
    "        if x.click(select_chat_(forward)) != 0:\n",
    "            tm.sleep(.5)\n",
    "            x.click(\"//span[@data-testid='send']\")\n",
    "            return 1\n",
    "        else:\n",
    "            q = self.click(\"(//div[contains(@class,'_199zF _3j691') and contains(.,'\" + forward + \"')])\")\n",
    "            if x.click(\"//span[@data-testid='send']\") == 1:\n",
    "                print('forward success')\n",
    "            else: print('forward fail')\n",
    "    elif reply is not None and len(reply) > 1:\n",
    "        x.click(\"//ul//li[contains(.,'Reply')]\")\n",
    "        x.click_write_enter(msg_write_area, reply)\n",
    "        return 1\n",
    "    elif react is not None:\n",
    "        x.click(\"//ul//li[contains(.,'React')]\")\n",
    "        x.click(\"//div[@data-testid='reactions-option-0']\")\n",
    "        return 1"
   ]
  },
  {
   "cell_type": "code",
   "execution_count": null,
   "id": "e05b5dec",
   "metadata": {},
   "outputs": [],
   "source": []
  }
 ],
 "metadata": {
  "kernelspec": {
   "display_name": "Python 3 (ipykernel)",
   "language": "python",
   "name": "python3"
  },
  "language_info": {
   "codemirror_mode": {
    "name": "ipython",
    "version": 3
   },
   "file_extension": ".py",
   "mimetype": "text/x-python",
   "name": "python",
   "nbconvert_exporter": "python",
   "pygments_lexer": "ipython3",
   "version": "3.9.1"
  },
  "nbTranslate": {
   "displayLangs": [
    "*"
   ],
   "hotkey": "alt-t",
   "langInMainMenu": true,
   "sourceLang": "en",
   "targetLang": "fr",
   "useGoogleTranslate": true
  },
  "toc": {
   "base_numbering": 1,
   "nav_menu": {},
   "number_sections": true,
   "sideBar": true,
   "skip_h1_title": false,
   "title_cell": "Table of Contents",
   "title_sidebar": "Contents",
   "toc_cell": false,
   "toc_position": {},
   "toc_section_display": true,
   "toc_window_display": false
  }
 },
 "nbformat": 4,
 "nbformat_minor": 5
}
