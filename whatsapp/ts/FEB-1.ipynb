{
 "cells": [
  {
   "cell_type": "code",
   "execution_count": 3,
   "id": "993a3162",
   "metadata": {},
   "outputs": [],
   "source": [
    "from wabs import *\n",
    "import yaml\n",
    "\n",
    "def yml(filepath='xpath.yml'):\n",
    "    with open(filepath, 'r') as stream:\n",
    "        try:\n",
    "            parsed_yaml=yaml.safe_load(stream)\n",
    "            return parsed_yaml\n",
    "        except yaml.YAMLError as exc:\n",
    "            print(exc)\n",
    "            return 0"
   ]
  },
  {
   "cell_type": "markdown",
   "id": "2fac6db2",
   "metadata": {},
   "source": []
  },
  {
   "cell_type": "code",
   "execution_count": 4,
   "id": "e78586cd",
   "metadata": {},
   "outputs": [],
   "source": [
    "class Watem:\n",
    "    \n",
    "    def __init__(self, url=None):\n",
    "        chrome_options = Options()\n",
    "        chrome_options.add_experimental_option(\"debuggerAddress\", \"127.0.0.1:9222\")\n",
    "        self.url = 'whatsapp.com' if url is None else url\n",
    "        self.driver = webdriver.Chrome(service=Service(ChromeDriverManager().install()), options=chrome_options)\n",
    "        self.w = WebDriverWait(self.driver, 10)\n",
    "        print(self.driver.title)\n",
    "    \n",
    "    @property\n",
    "    def get_driver(self):\n",
    "        return self.driver"
   ]
  },
  {
   "cell_type": "code",
   "execution_count": 15,
   "id": "836fff3c",
   "metadata": {},
   "outputs": [],
   "source": [
    "class W2(WhBase):\n",
    "    \n",
    "    def msg_xpath_by_text_last_index(self, text, get_text=False):\n",
    "        txtm = \"(//div[contains(@class,'_21Ahp') and contains(., '\" + text + \"')])[last()]\"\n",
    "        fxpt = txtm + \"/ancestor::div[@data-testid='msg-container']\"\n",
    "        return fxpt if get_text==False else self.chat_msg(base=fxpt)\n",
    "    \n",
    "    def msg_xpath_by_text_time(self, text, time, get_text=False):\n",
    "        txtm = \"//div[contains(@class,'_21Ahp') and contains(., '\" + text + \"') and contains(.,'\" + str(time) + \"')]\"\n",
    "        fxpt = txtm + \"/ancestor::div[@data-testid='msg-container']\"\n",
    "        return fxpt if get_text==False else self.chat_msg(base=fxpt)\n",
    "\n",
    "    def msg_info_by_text_time(self, text, time):\n",
    "        msg_xpath = self.msg_xpath_by_text_time(text, time)\n",
    "        return self.chat_msg(base=msg_xpath)\n",
    "        \n",
    "    def msg_yield_get_by_sender(self, name=None, base=\"(//div[@data-testid='msg-container'])\"):\n",
    "        bi = base + \"[contains(.,'\" + name + \"')]\" if name is not None else base\n",
    "        i, nonecount = 0, 0\n",
    "        while nonecount<10:\n",
    "            if i > 0: inx='last()-' + str(i)\n",
    "            else: inx = 'last()'\n",
    "            xpdic = self.chat_msg(base = bi + \"[\" + inx + \"]\")\n",
    "            if xpdic is None: \n",
    "                nonecount = nonecount + 1\n",
    "                self.just_move()\n",
    "                tm.sleep(1)\n",
    "            else: nonecount = 0\n",
    "            yield xpdic, i, nonecount\n",
    "            i = i + 1\n",
    "    \n",
    "    def pane_dyn_xpath(self, by_chatname=None, by_msgtxt=None, by_last_sender=None, get_text=False):\n",
    "        contain = []\n",
    "        if by_chatname is not None: \n",
    "            contain.append(\"contains(@title,'\" + by_chatname + \"')\")\n",
    "        if by_msgtxt is not None: \n",
    "            contain.append(\"contains(@data-testid='last-msg-status') and contains(.,'\" + by_msgtxt + \"')\")\n",
    "        if by_last_sender is not None: \n",
    "            contain.append(\"contains(@dir='auto') and contains(., '\" + by_last_sender + \"')\")\n",
    "        fxpt = \"(//div[@id='pane-side'])//*[\" + ' and '.join(map(str,contain)) + \"]\" + \"//ancestor::div[@class='_8nE1Y']\"\n",
    "        rs = fxpt if get_text==False else self.side_pane(base=fxpt)\n",
    "        return rs\n",
    "    \n",
    "    def general_inspection(self):\n",
    "        dc = {\n",
    "            'pn_search_textarea' : \"/html/body/div[1]/div/div/div[3]/div/div[1]/div/div/div[2]/div/div[2]\",\n",
    "            'pn_search' : \"//div[@id='side']//div[@data-testid='chat-list-search']\",\n",
    "            'pn_search_filter' : \"//div[@id='side']//button[@aria-label='Unread chats filter']\",\n",
    "            'chat_title' : \"//div[@id='main']//span[@data-testid='conversation-info-header-chat-title']\",\n",
    "            'chat_text_area' : \"//footer[@class='_3E8Fg']//p\",\n",
    "            'msg_base' : \"(//div[@id='main']//div[@data-testid='msg-container'])\"\n",
    "        }\n",
    "    \n",
    "    def ensure_click_attempt(self, hover_xpt, click_xpt, required_visibility_xpt):\n",
    "        q = self.xpelem(hover_xpt)\n",
    "        if q is not None:\n",
    "            ActionChains(self.driver).move_to_element(q).pause(1).click(self.xpelem(click_xpt)).perform()\n",
    "        else:\n",
    "            self.just_move()\n",
    "            tm.sleep(1)\n",
    "            ActionChains(self.driver).move_to_element(self.xpelem(hover_xpt)).pause(.5).click(self.xpelem(click_xpt)).perform()\n",
    "        p = self.xpelem(required_visibility_xpt)\n",
    "        if p is not None: return p\n",
    "        else: \n",
    "            print('ensure_click_attempt fail')\n",
    "            self.reload\n",
    "            return 0\n",
    "            \n",
    "    def action(self, chat_name='OPS & RO', search_text=\"battery backup degraded?\", msg_time=None, forward=None,\n",
    "               reply=None, react=None):\n",
    "        x = self\n",
    "        clk_1 = \"//span[@data-testid='down-context']\"\n",
    "        clk_2=\"//ul//li[contains(.,'Forward message')]\"\n",
    "        clk_3= \"//button[@title='Forward message']\"\n",
    "        select_chat_= lambda _chat_ : \"(//div[@class='_8nE1Y' and contains(.,'\" + _chat_ + \"')])/\" + \\\n",
    "        \"ancestor::div[@class='lhggkp7q ln8gz9je rx9719la']\"\n",
    "        write_txt = \"//div[@data-testid='chat-list-search']\"\n",
    "        clk_send_btn = \"//span[@data-testid='send']\"\n",
    "        msg_write_area = \"//footer[@class='_3E8Fg']//p\"\n",
    "\n",
    "        chat_selected, while_counter = False, 0\n",
    "        a1 = x.pane_dyn_xpath(by_chatname=chat_name)\n",
    "        if x.click(a1) == 0:\n",
    "            tm.sleep(.5)\n",
    "            if x.select_chat(chat_name) != 0:\n",
    "                chat_selected = True\n",
    "        else:\n",
    "            chat_selected = True\n",
    "        print('chat_selected; ', chat_selected)\n",
    "        if chat_selected == True:\n",
    "            if msg_time is not None: a2 = x.msg_xpath_by_text_time(search_text,msg_time)\n",
    "            else: a2 = x.msg_xpath_by_text_last_index(search_text)\n",
    "            print('Time is None, selecting by last index')\n",
    "            move = 1 if x.just_move(a2) is None else 0\n",
    "            while move == 0 or move > -5 and move !=1:\n",
    "                while_counter= while_counter + 1\n",
    "                x.just_move(\"(//div[@id='main']//div[@data-testid='msg-container'])[2]\")\n",
    "                if x.just_move(a2) == 0:\n",
    "                    move = move - 1\n",
    "                else:\n",
    "                    move = 1\n",
    "                    break\n",
    "                print('while_counter:', while_counter,' inside while Move: ',move)\n",
    "            print('move Outside: ', move)\n",
    "            if move > 0:\n",
    "                print('executute clicking operation')\n",
    "                x.click(\"//span[@data-testid='down-context']\")\n",
    "                tm.sleep(.5)\n",
    "                if self.xpelem(\"//ul//li\") is None:\n",
    "                    q = self.ensure_click_attempt(a2, a2 + \"//span[@data-testid='down-context']\", \"//ul//li\")\n",
    "                    if q == 0:\n",
    "                        print('msg ul/li not found.. run again')\n",
    "                        return 0\n",
    "                if forward is not None and len(forward)>1:\n",
    "                    print('msg forward init')\n",
    "                    x.click(\"//ul//li[contains(.,'Forward message')]\")\n",
    "                    x.click(\"//button[@title='Forward message']\")\n",
    "                    #x.move_click_send_text(\"//div[@data-testid='chat-list-search']\",\"SM POOL\")\n",
    "                    x.paste_text(\"//div[@data-testid='chat-list-search']\",forward)\n",
    "                    if x.click(select_chat_(forward)) != 0:\n",
    "                        tm.sleep(.5)\n",
    "                        x.click(\"//span[@data-testid='send']\")\n",
    "                        return 1\n",
    "                    else:\n",
    "                        print('forward failed')\n",
    "                elif reply is not None and len(reply) > 1:\n",
    "                    x.click(\"//ul//li[contains(.,'Reply')]\")\n",
    "                    x.click_write_enter(msg_write_area, reply)\n",
    "                    return 1\n",
    "                elif react is not None:\n",
    "                    x.click(\"//ul//li[contains(.,'React')]\")\n",
    "                    x.click(\"//div[@data-testid='reactions-option-0']\")\n",
    "                    return 1\n",
    "            "
   ]
  },
  {
   "cell_type": "code",
   "execution_count": 16,
   "id": "cbc44553",
   "metadata": {},
   "outputs": [
    {
     "name": "stdout",
     "output_type": "stream",
     "text": [
      "WhatsApp\n",
      "reload success, whatsapp ready\n"
     ]
    }
   ],
   "source": [
    "x = W2()\n",
    "x.reload\n",
    "d = x.get_driver"
   ]
  },
  {
   "cell_type": "code",
   "execution_count": 17,
   "id": "6e90e719",
   "metadata": {},
   "outputs": [],
   "source": [
    "#x.action(chat_name='SOC SM', search_text=\"Network Update\", msg_time=None, react='yes')"
   ]
  },
  {
   "cell_type": "code",
   "execution_count": 18,
   "id": "e5a67e64",
   "metadata": {},
   "outputs": [],
   "source": [
    "n = x.msg_yield_get_by_sender('Jalal Vaia')"
   ]
  },
  {
   "cell_type": "code",
   "execution_count": 19,
   "id": "06ea3fef",
   "metadata": {},
   "outputs": [
    {
     "data": {
      "text/plain": [
       "(None, 0, 1)"
      ]
     },
     "execution_count": 19,
     "metadata": {},
     "output_type": "execute_result"
    }
   ],
   "source": [
    "n.__next__()"
   ]
  },
  {
   "cell_type": "code",
   "execution_count": 20,
   "id": "7686539d",
   "metadata": {},
   "outputs": [
    {
     "data": {
      "text/plain": [
       "(None, 1, 2)"
      ]
     },
     "execution_count": 20,
     "metadata": {},
     "output_type": "execute_result"
    }
   ],
   "source": [
    "n.__next__()"
   ]
  },
  {
   "cell_type": "code",
   "execution_count": 21,
   "id": "256b470a",
   "metadata": {},
   "outputs": [
    {
     "data": {
      "text/plain": [
       "(None, 2, 3)"
      ]
     },
     "execution_count": 21,
     "metadata": {},
     "output_type": "execute_result"
    }
   ],
   "source": [
    "n.__next__()"
   ]
  },
  {
   "cell_type": "code",
   "execution_count": 22,
   "id": "30541954",
   "metadata": {},
   "outputs": [
    {
     "data": {
      "text/plain": [
       "(None, 4, 5)"
      ]
     },
     "execution_count": 22,
     "metadata": {},
     "output_type": "execute_result"
    }
   ],
   "source": [
    "n.__next__()\n",
    "n.__next__()"
   ]
  },
  {
   "cell_type": "code",
   "execution_count": 28,
   "id": "7736b71a",
   "metadata": {},
   "outputs": [
    {
     "data": {
      "text/plain": [
       "0"
      ]
     },
     "execution_count": 28,
     "metadata": {},
     "output_type": "execute_result"
    }
   ],
   "source": [
    "x.just_move(\"(//div[@data-testid='conversation-panel-body'])//span[contains(.,'YESTERDAY')]\")"
   ]
  },
  {
   "cell_type": "code",
   "execution_count": 39,
   "id": "a7f8ba54",
   "metadata": {},
   "outputs": [],
   "source": [
    "\n",
    "\n",
    "def action(d, k, v): \n",
    "    ac = ActionChains(d)\n",
    "    if '_sendtxt_' in k: ac.move_to_element(v[0]).click().send_keys(v[1]).send_keys(Keys.RETURN).perform()\n",
    "    elif '_clk_' in k: ac.click(xpelem(v[0])).perform()\n",
    "    elif '_moveto_' in k: ac.move_to_element(xpelem(v[0])).perform()\n",
    "    elif '_hoverclk_' in k: ac.move_to_element(xpelem(v[0])).click(xpelem(v[1])).perform()\n",
    "    elif '_moveclk_' in k: ac.move_to_element(xpelem(v[0])).click().perform()\n",
    "    else: return 0"
   ]
  },
  {
   "cell_type": "code",
   "execution_count": 40,
   "id": "a9ba37c3",
   "metadata": {},
   "outputs": [
    {
     "data": {
      "text/plain": [
       "\"(//div[@class='_8nE1Y' and contains(.,'SM POOL')])/ancestor::div[@class='lhggkp7q ln8gz9je rx9719la']\""
      ]
     },
     "execution_count": 40,
     "metadata": {},
     "output_type": "execute_result"
    }
   ],
   "source": [
    "select_chat_(\"SM POOL\")"
   ]
  },
  {
   "cell_type": "code",
   "execution_count": 47,
   "id": "51a9c747",
   "metadata": {
    "code_folding": [],
    "scrolled": true
   },
   "outputs": [
    {
     "name": "stdout",
     "output_type": "stream",
     "text": [
      "chat_selected;  True\n",
      "move Outside:  1\n",
      "executute clicking operation\n"
     ]
    }
   ],
   "source": [
    "def action(self, chat_name='OPS & RO', msg_text=\"battery backup degraded?\", msg_time=\"6:33\", forward='SM POOL',\n",
    "          reply=None, delete=None):\n",
    "    x = self\n",
    "    clk_1 = \"//span[@data-testid='down-context']\"\n",
    "    clk_2=\"//ul//li[contains(.,'Forward message')]\"\n",
    "    clk_3= \"//button[@title='Forward message']\"\n",
    "    select_chat_= lambda _chat_ : \"(//div[@class='_8nE1Y' and contains(.,'\" + _chat_ + \"')])/\" + \\\n",
    "    \"ancestor::div[@class='lhggkp7q ln8gz9je rx9719la']\"\n",
    "    write_txt = \"//div[@data-testid='chat-list-search']\"\n",
    "    clk_send_btn = \"//span[@data-testid='send']\"\n",
    "    \n",
    "    msg_write_area = \"//footer[@class='_3E8Fg']//p\"\n",
    "\n",
    "    chat_selected, while_counter = False, 0\n",
    "    a1 = x.pane_dyn_xpath(by_chatname='OPS & RO')\n",
    "    if x.click(a1) == 0:\n",
    "        tm.sleep(.5)\n",
    "        if x.select_chat('OPS & RO') != 0:\n",
    "            chat_selected = True\n",
    "    else:\n",
    "        chat_selected = True\n",
    "    print('chat_selected; ', chat_selected)\n",
    "    if chat_selected == True:\n",
    "        a2 = x.msg_xpath_by_text_time(\"battery backup degraded?\",\"6:33\")\n",
    "        move = 1 if x.just_move(a2) is None else 0\n",
    "        while move == 0 or move > -5 and move !=1:\n",
    "            while_counter= while_counter + 1\n",
    "            x.just_move(\"(//div[@id='main']//div[@data-testid='msg-container'])[2]\")\n",
    "            if x.just_move(a2) == 0:\n",
    "                move = move - 1\n",
    "            else:\n",
    "                move = 1\n",
    "                break\n",
    "            print('while_counter:', while_counter,' inside while Move: ',move)\n",
    "        print('move Outside: ', move)\n",
    "        if move > 0:\n",
    "            print('executute clicking operation')\n",
    "            x.click(\"//span[@data-testid='down-context']\")\n",
    "            if forward is not None and len(forward)>1:\n",
    "                print('msg forward init')\n",
    "                x.click(\"//ul//li[contains(.,'Forward message')]\")\n",
    "                x.click(\"//button[@title='Forward message']\")\n",
    "                #x.move_click_send_text(\"//div[@data-testid='chat-list-search']\",\"SM POOL\")\n",
    "                x.paste_text(\"//div[@data-testid='chat-list-search']\",\"SM POOL\")\n",
    "                if x.click(select_chat_(\"SM POOL\")) != 0:\n",
    "                    tm.sleep(.5)\n",
    "                    x.click(\"//span[@data-testid='send']\")\n",
    "                else:\n",
    "                    print('forward failed')\n",
    "            elif reply is not None and len(reply) > 1:\n",
    "                x.click(\"//ul//li[contains(.,'Reply')]\")\n",
    "                x.click_write_enter(msg_write_area, reply)\n",
    "            elif react is not None:\n",
    "                x.click(\"//ul//li[contains(.,'React')]\")\n",
    "                x.click(\"div[@data-testid='reactions-option-0']\")\n",
    "        "
   ]
  },
  {
   "cell_type": "code",
   "execution_count": 48,
   "id": "9398518f",
   "metadata": {},
   "outputs": [
    {
     "data": {
      "text/plain": [
       "1"
      ]
     },
     "execution_count": 48,
     "metadata": {},
     "output_type": "execute_result"
    }
   ],
   "source": [
    "x.click(\"//div[@data-testid='content']\")"
   ]
  },
  {
   "cell_type": "code",
   "execution_count": null,
   "id": "8decf78d",
   "metadata": {},
   "outputs": [],
   "source": []
  },
  {
   "cell_type": "code",
   "execution_count": 15,
   "id": "4754ce4c",
   "metadata": {},
   "outputs": [
    {
     "data": {
      "text/plain": [
       "1"
      ]
     },
     "execution_count": 15,
     "metadata": {},
     "output_type": "execute_result"
    }
   ],
   "source": [
    "x.click(\"(//div[@class='_8nE1Y' and contains(.,'Jalal Vaia')])/ancestor::div[@class='lhggkp7q ln8gz9je rx9719la']\")"
   ]
  },
  {
   "cell_type": "code",
   "execution_count": 16,
   "id": "61c80941",
   "metadata": {},
   "outputs": [],
   "source": []
  },
  {
   "cell_type": "code",
   "execution_count": 21,
   "id": "606becf8",
   "metadata": {},
   "outputs": [
    {
     "data": {
      "text/plain": [
       "1"
      ]
     },
     "execution_count": 21,
     "metadata": {},
     "output_type": "execute_result"
    }
   ],
   "source": [
    "x.click(\"(//div[@class='_8nE1Y' and contains(.,'SM POOL')])/ancestor::div[@class='lhggkp7q ln8gz9je rx9719la']\")"
   ]
  },
  {
   "cell_type": "code",
   "execution_count": null,
   "id": "9f12fc25",
   "metadata": {},
   "outputs": [],
   "source": []
  },
  {
   "cell_type": "code",
   "execution_count": 73,
   "id": "706742c7",
   "metadata": {
    "code_folding": []
   },
   "outputs": [],
   "source": [
    "def log(xpt, rs):\n",
    "    tm = dt.datetime.now().strftime('%H:%M %Y-%m-%d')\n",
    "    tx = \"present\" if rs is not None else \"NF\"\n",
    "    fp = open('commands_output.txt', 'a+')\n",
    "    fp.write(xpt + ',' + tx + ',' + tm)\n",
    "    fp.close()\n",
    "\n",
    "\n",
    "def xpe(d, xpt, wait=5):\n",
    "    w = WebDriverWait(d, wait)\n",
    "    try: return w.until(EC.presence_of_element_located((By.XPATH, xpt))).text\n",
    "    except: return None\n",
    "\n",
    "def itr(d, xpt):\n",
    "    if type(xpt) is str: return xpe(d, xpt)\n",
    "    elif type(xpt) is list: return [xpe(n) for n in xpt]\n",
    "    elif type(xpt) is dict:\n",
    "        return {k : [xpe(d, n) for n in v] if type(v) is list else xpe(d, v) for k, v in xpt.items()}\n",
    "    else:\n",
    "        print('xpt is not str or list or dict')\n",
    "        return xpt"
   ]
  },
  {
   "cell_type": "code",
   "execution_count": 80,
   "id": "7ef7742d",
   "metadata": {},
   "outputs": [
    {
     "name": "stdout",
     "output_type": "stream",
     "text": [
      "(9) WhatsApp\n"
     ]
    }
   ],
   "source": [
    "obj = W2()\n",
    "d = obj.get_driver"
   ]
  },
  {
   "cell_type": "code",
   "execution_count": null,
   "id": "03122cad",
   "metadata": {},
   "outputs": [],
   "source": [
    "itr(d, )"
   ]
  },
  {
   "cell_type": "code",
   "execution_count": null,
   "id": "5563db47",
   "metadata": {},
   "outputs": [],
   "source": [
    "dc = {'sender' : [sender],\n",
    "      'text' : [self.xptext(bi + \"//div[@class='_21Ahp']/span[1]/span\")],\n",
    "      'q_sender' : [self.xptext(bi + \"//div[@class='_3pMOs yKTUI']//div[1]/span\")],\n",
    "      'q_text' : [self.xptext(bi + \"//div[@class='_3pMOs yKTUI']//div[2]/span\")],\n",
    "      'datetime' : [dttm]}"
   ]
  },
  {
   "cell_type": "code",
   "execution_count": 81,
   "id": "51872104",
   "metadata": {},
   "outputs": [],
   "source": [
    "wa_home = init_info = \"//div[@data-testid='intro-text'][contains(.,'Use WhatsApp on up to 4 linked devices and 1 phone at the same time.')]\"\n",
    "\n",
    "pnbs = \"(//div[@id='pane-side']//div[@class='_8nE1Y'])\"\n",
    "pn_search_textarea = \"/html/body/div[1]/div/div/div[3]/div/div[1]/div/div/div[2]/div/div[2]\"\n",
    "pn_search = \"//div[@id='side']//div[@data-testid='chat-list-search']\"\n",
    "pn_search_back =\"//div[@id='side']//span[@data-testid='search']\"\n",
    "#pn_search_cancel = \"//div[@id='side']//span[contains(@data-testid,'x-alt')]\"\n",
    "pn_search_filter = \"//div[@id='side']//button[@aria-label='Unread chats filter']\"\n",
    "pn_chat_name = lambda i : pnbs + '[' + str(i) + ']' + \"//div[@class='_21S-L']//span[@dir='auto']\"\n",
    "pn_last_text = lambda i : pnbs + '[' + str(i) + ']' + \"//span[@data-testid='last-msg-status']\"\n",
    "pn_last_sender = lambda i : pnbs + '[' + str(i) + ']' + \"//div[@class='vQ0w7']//span[@dir='auto']\"\n",
    "pn_last_msg_time = lambda i : pnbs + '[' + str(i) + ']' + \"/div[@class='y_sn4']/div[@class='Dvjym']\"\n",
    "pn_msg_unread_count = lambda i : pnbs + '[' + str(i) + ']' + \"//div[@class='Dvjym']//span[@data-testid='icon-unread-count']\"\n",
    "pnbs_by_chatname = lambda arg : \"//div[@class='_21S-L']//span[@dir='auto' and contains(.,'\" + arg + \"')]//ancestor::div[@class='_8nE1Y']\"\n",
    "pnbs_by_last_text = \"\"\n",
    "pnbs_by_last_text_sender = \"\"\n",
    "pnbs_by_time = \"\"\n",
    "pn_unread_msg_by_chatname = lambda chatname: \"//div[@class='_21S-L']//span[@dir='auto' and contains(text(),'\" + chatname + \"']//ancestor::div[@class='_8nE1Y']//div[@class='Dvjym']//span[@data-testid='icon-unread-count']\""
   ]
  },
  {
   "cell_type": "code",
   "execution_count": 105,
   "id": "cbb35bf5",
   "metadata": {},
   "outputs": [],
   "source": [
    "\n",
    "pn_search_textarea = \"/html/body/div[1]/div/div/div[3]/div/div[1]/div/div/div[2]/div/div[2]\"\n",
    "pn_search_filter = \"//div[@id='side']//button[@aria-label='Unread chats filter']\"\n",
    "            "
   ]
  },
  {
   "cell_type": "code",
   "execution_count": 106,
   "id": "d3c73e5b",
   "metadata": {},
   "outputs": [],
   "source": [
    "#(//div[contains(@class,'_27K43 _31p5Q') or contains(@class, 'ItfyB _3nbHh _1mRgz') or contains(@class, 'ItfyB _3nbHh')])[contains(.,'Jalal Vai')]"
   ]
  },
  {
   "cell_type": "code",
   "execution_count": 107,
   "id": "1ddc0145",
   "metadata": {
    "scrolled": true
   },
   "outputs": [
    {
     "data": {
      "text/plain": [
       "\"(//div[@data-testid='msg-container']/div)[contains(.,'jalal Vai')][last()-3]\""
      ]
     },
     "execution_count": 107,
     "metadata": {},
     "output_type": "execute_result"
    }
   ],
   "source": [
    "msg_bysender('jalal Vai')"
   ]
  },
  {
   "cell_type": "code",
   "execution_count": 111,
   "id": "8f50084e",
   "metadata": {
    "code_folding": []
   },
   "outputs": [
    {
     "ename": "SyntaxError",
     "evalue": "invalid syntax (3498806707.py, line 18)",
     "output_type": "error",
     "traceback": [
      "\u001b[1;36m  Cell \u001b[1;32mIn[111], line 18\u001b[1;36m\u001b[0m\n\u001b[1;33m    if by_msgtxt is not\u001b[0m\n\u001b[1;37m                        ^\u001b[0m\n\u001b[1;31mSyntaxError\u001b[0m\u001b[1;31m:\u001b[0m invalid syntax\n"
     ]
    }
   ],
   "source": [
    "chat_title = \"//div[@id='main']//span[@data-testid='conversation-info-header-chat-title']\"\n",
    "msg_menu = \"//div[@class='_2sDI2']/ul//li\"\n",
    "\n",
    "def pane_chat_by_name(chatname):\n",
    "    a1 = \"//div[@class='_21S-L']//span[@dir='auto' and contains(.,'\" + chatname + \"')]\"\n",
    "    a2 = \"//ancestor::div[@class='_8nE1Y']\"\n",
    "    dc = {\n",
    "        'chatdiv' : a1 + a2,\n",
    "        'chatname': a1,\n",
    "        'unread_msg' : a1 + a2 + \"//div[@class='Dvjym']//span[@data-testid='icon-unread-count']\",\n",
    "        'last_text' : a1 + a2 + \"//span[@data-testid='last-msg-status']\",\n",
    "        'last_sender' : a1 + a2 + \"//div[@class='vQ0w7']//span[@dir='auto']\",\n",
    "        'last_msg_time' : a1 + a2 + \"/div[@class='y_sn4']/div[@class='Dvjym']\"\n",
    "    }\n",
    "    return dc\n",
    "\n",
    "def pane_chat_by_text(text): \"//span[@data-testid='last-msg-status' and contains(.,'\" + text + \"')]\"\n",
    "    a1 = \"//span[@data-testid='last-msg-status' and contains(.,'\" + text + \"')]\"\n",
    "    a2 = \"//ancestor::\" + base\n",
    "    dc = {\n",
    "        'chatdiv' : a1 + a2,\n",
    "        'chatname': a1,\n",
    "        'unread_msg' : a1 + a2 + \"//div[@class='Dvjym']//span[@data-testid='icon-unread-count']\",\n",
    "        'last_text' : a1 + a2 + \"//span[@data-testid='last-msg-status']\",\n",
    "        'last_sender' : a1 + a2 + \"//div[@class='vQ0w7']//span[@dir='auto']\",\n",
    "        'last_msg_time' : a1 + a2 + \"/div[@class='y_sn4']/div[@class='Dvjym']\"\n",
    "    }\n",
    "    print(dc)\n",
    "    return dc"
   ]
  },
  {
   "cell_type": "code",
   "execution_count": 92,
   "id": "409f0d89",
   "metadata": {
    "scrolled": true
   },
   "outputs": [
    {
     "name": "stdout",
     "output_type": "stream",
     "text": [
      "{'chatdiv': \"//span[@data-testid='last-msg-status' and contains(.,'Update')]//ancestor::div[@class='_8nE1Y']\", 'chatname': \"//span[@data-testid='last-msg-status' and contains(.,'Update')]\", 'unread_msg': \"//span[@data-testid='last-msg-status' and contains(.,'Update')]//ancestor::div[@class='_8nE1Y']//div[@class='Dvjym']//span[@data-testid='icon-unread-count']\", 'last_text': \"//span[@data-testid='last-msg-status' and contains(.,'Update')]//ancestor::div[@class='_8nE1Y']//span[@data-testid='last-msg-status']\", 'last_sender': \"//span[@data-testid='last-msg-status' and contains(.,'Update')]//ancestor::div[@class='_8nE1Y']//div[@class='vQ0w7']//span[@dir='auto']\", 'last_msg_time': \"//span[@data-testid='last-msg-status' and contains(.,'Update')]//ancestor::div[@class='_8nE1Y']/div[@class='y_sn4']/div[@class='Dvjym']\"}\n"
     ]
    },
    {
     "data": {
      "text/plain": [
       "{'chatdiv': 'Network Operations\\n6:06 pm\\nMahafuj\\n: \\nUpdate of Site Down at 18:00 On 02-02-2023 Region: 2G/3G/4G National: 40/23/49 DHK_M: 7/8/9 DHK_N: 1/1/2 DHK_S: 0/0/1 DHK_O: 2/2/2 CTG_M: 2/2/4 CTG_N: 3/0/3 CTG_S: 7/1/7 COM: 3/3/3 NOA: 0/0/0 SYL: 2/0/2 MYM: 4/1/5 BAR: 3/2/4 KHL: 1/2/1 KUS: 1/1/1 RAJ: 3/0/3 RANG: 1/0/2\\n13',\n",
       " 'chatname': 'Mahafuj\\n: \\nUpdate of Site Down at 18:00 On 02-02-2023 Region: 2G/3G/4G National: 40/23/49 DHK_M: 7/8/9 DHK_N: 1/1/2 DHK_S: 0/0/1 DHK_O: 2/2/2 CTG_M: 2/2/4 CTG_N: 3/0/3 CTG_S: 7/1/7 COM: 3/3/3 NOA: 0/0/0 SYL: 2/0/2 MYM: 4/1/5 BAR: 3/2/4 KHL: 1/2/1 KUS: 1/1/1 RAJ: 3/0/3 RANG: 1/0/2',\n",
       " 'unread_msg': '13',\n",
       " 'last_text': 'Mahafuj\\n: \\nUpdate of Site Down at 18:00 On 02-02-2023 Region: 2G/3G/4G National: 40/23/49 DHK_M: 7/8/9 DHK_N: 1/1/2 DHK_S: 0/0/1 DHK_O: 2/2/2 CTG_M: 2/2/4 CTG_N: 3/0/3 CTG_S: 7/1/7 COM: 3/3/3 NOA: 0/0/0 SYL: 2/0/2 MYM: 4/1/5 BAR: 3/2/4 KHL: 1/2/1 KUS: 1/1/1 RAJ: 3/0/3 RANG: 1/0/2',\n",
       " 'last_sender': 'Mahafuj',\n",
       " 'last_msg_time': '6:06 pm'}"
      ]
     },
     "execution_count": 92,
     "metadata": {},
     "output_type": "execute_result"
    }
   ],
   "source": [
    "itr(d, pane_chat_by_text('Update'))"
   ]
  },
  {
   "cell_type": "code",
   "execution_count": null,
   "id": "e9c155f3",
   "metadata": {},
   "outputs": [],
   "source": []
  },
  {
   "cell_type": "code",
   "execution_count": null,
   "id": "35ca5251",
   "metadata": {},
   "outputs": [],
   "source": []
  },
  {
   "cell_type": "code",
   "execution_count": 47,
   "id": "79e2f2e7",
   "metadata": {},
   "outputs": [
    {
     "name": "stdout",
     "output_type": "stream",
     "text": [
      "(14) WhatsApp\n"
     ]
    }
   ],
   "source": []
  },
  {
   "cell_type": "code",
   "execution_count": 49,
   "id": "db189754",
   "metadata": {},
   "outputs": [
    {
     "data": {
      "text/plain": [
       "\"//div[@class='_21S-L']//span[@dir='auto' and contains(.,'Halim Vai')]//ancestor::div[@class='_8nE1Y']\""
      ]
     },
     "execution_count": 49,
     "metadata": {},
     "output_type": "execute_result"
    }
   ],
   "source": [
    "//div[@class='_2KKXC']"
   ]
  },
  {
   "cell_type": "code",
   "execution_count": null,
   "id": "3f1dc185",
   "metadata": {},
   "outputs": [],
   "source": []
  },
  {
   "cell_type": "code",
   "execution_count": 60,
   "id": "aa565cdf",
   "metadata": {},
   "outputs": [
    {
     "ename": "AttributeError",
     "evalue": "'NoneType' object has no attribute 'text'",
     "output_type": "error",
     "traceback": [
      "\u001b[1;31m---------------------------------------------------------------------------\u001b[0m",
      "\u001b[1;31mAttributeError\u001b[0m                            Traceback (most recent call last)",
      "Cell \u001b[1;32mIn[60], line 1\u001b[0m\n\u001b[1;32m----> 1\u001b[0m z \u001b[38;5;241m=\u001b[39m \u001b[43mxpe\u001b[49m\u001b[43m(\u001b[49m\u001b[43md\u001b[49m\u001b[43m,\u001b[49m\u001b[43m \u001b[49m\u001b[43mpn_unread_msg_by_chatname\u001b[49m\u001b[43m(\u001b[49m\u001b[38;5;124;43m'\u001b[39;49m\u001b[38;5;124;43mSOC-RAN Ops Collaboration\u001b[39;49m\u001b[38;5;124;43m'\u001b[39;49m\u001b[43m)\u001b[49m\u001b[43m)\u001b[49m\u001b[38;5;241;43m.\u001b[39;49m\u001b[43mtext\u001b[49m\n\u001b[0;32m      2\u001b[0m z\n",
      "\u001b[1;31mAttributeError\u001b[0m: 'NoneType' object has no attribute 'text'"
     ]
    }
   ],
   "source": [
    "z = xpe(d, pn_unread_msg_by_chatname('SOC-RAN Ops Collaboration')).text\n",
    "z"
   ]
  },
  {
   "cell_type": "code",
   "execution_count": 57,
   "id": "4c71b485",
   "metadata": {},
   "outputs": [],
   "source": [
    "\n",
    "pane_select_chat_ = lambda _chat_: \"//div[@class='_21S-L']//span[@dir='auto' and contains(.,'\" + _chat_ + \\\n",
    "\"')]//ancestor::div[@class='_8nE1Y']\"\n",
    "\n",
    "getmsg_txt_ = lambda _txt_ : \"(//div[@class='_21Ahp'])[contains(.,'\" + _txt_ + \"')]\" + \\\n",
    "\"[last()]/ancestor::div[@data-testid='msg-container'])[last()]\"\n",
    "\n",
    "clk_1 = \"//span[@data-testid='down-context']\"\n",
    "clk_2=\"//ul//li[contains(.,'Forward message')]\",\n",
    "clk_3= \"//button[@title='Forward message']\"\n",
    "select_chat_= lambda _chat_ : \"(//div[@class='_8nE1Y' and contains(.,'\" + _chat_ + \"')])/\" + \\\n",
    "\"ancestor::div[@class='lhggkp7q ln8gz9je rx9719la']//div[@data-testid='visual-checkbox']\"\n",
    "write_txt = \"//div[@data-testid='chat-list-search']\"\n",
    "clk_send_btn = \"//span[@data-testid='send']\""
   ]
  },
  {
   "cell_type": "code",
   "execution_count": null,
   "id": "58460146",
   "metadata": {},
   "outputs": [],
   "source": []
  },
  {
   "cell_type": "code",
   "execution_count": null,
   "id": "1348bf9e",
   "metadata": {},
   "outputs": [],
   "source": [
    "\n",
    "chat_search = \"//div[@id='main']//span[@data-testid='search-alt']\"\n",
    "chat_search_btn = \"//div[@id='main']//div[@class='_3ndVb']\"\n",
    "chat_text_area = \"//footer[@class='_3E8Fg']//p\"\n",
    "msg_base = \"(//div[@id='main']//div[@data-testid='msg-container'])\"\n",
    "mbs1 = \"(//div[@id='main']//div[@class='ItfyB _3nbHh'])[2]\"\n",
    "mbs2 = \"(//div[@id='main']//div[@class='ItfyB _3nbHh'])[last()]\"\n",
    "msg_arrow = \"(//div[@data-testid='msg-container'])[last()]//span[@data-testid='down-context']\"\n",
    "msg_menu_select = lambda bytext : \"//ul//li[contains(.,'\" + bytext + \"')]\""
   ]
  },
  {
   "cell_type": "code",
   "execution_count": null,
   "id": "8d778053",
   "metadata": {},
   "outputs": [],
   "source": [
    "wh = W2()\n",
    "ws = wh.reload\n",
    "d = wh.get_driver\n",
    "\n",
    "\n",
    "\n",
    "#div[@data-testid=\"chat-list\"]\n",
    "#    - aria-label=\"Chat list\", aria-rowcount= number\n",
    "#data-testid=\"lock-small-v2\n",
    "#data-testid=\"conversation-header\"\n",
    "#data-testid=\"conversation-panel-body\"\n",
    "#    - \"div[@data-testid='conversation-panel-messages']\", \"div[@class = '_5kRIK']\"\n",
    "#    - div[@class='_35lRO']  \n",
    "#data-testid=\"conversation-info-header\"\n",
    "#data-testid=\"chat-subtitle\"\n",
    "#msg_nav_arrow = \"div[@class='pboYv']/span\"\n",
    "#id=\"hard_expire_time\"\n",
    "#data-time=\"1690306368.855\"\n",
    "#unix_time = '1690306368.855\"\n",
    "#data-testid=\"drawer-middle\"\n",
    "#data-testid=\"drawer-left\""
   ]
  },
  {
   "cell_type": "code",
   "execution_count": null,
   "id": "f96813eb",
   "metadata": {},
   "outputs": [],
   "source": [
    "webElement.isEnabled()\n",
    "webElement.isDisplayed()"
   ]
  },
  {
   "cell_type": "code",
   "execution_count": 5,
   "id": "c4f0f245",
   "metadata": {},
   "outputs": [],
   "source": [
    "# if any string enclosed with understore menning it need to replaced with desirable. _x_ - means _x_ is in value as string so replace with your desire\n",
    "#if _and_ then generally fuction call  that return 2 value\n",
    "# istrue = check true\n",
    "# isfalse = check false\n",
    "# string contains ||| &&& have to splited for checking condition\n",
    "# xFC: name of function, arg, kwarg\n",
    "# xMT: class object, method name, arg, kwargs\n",
    "#if _name_ in key then replace _name_ with desire for every value\n",
    "#if _i_ in key then replace _i_ with index for every value\n",
    "#if _txt_ in key then replace _txt_ with desired for value\n",
    "#if clk in key then perform clk operation after above 3\n",
    "#if sendenter in then first send_keys and finally enter\n",
    "#if sendkey in key then perform send_keys operation\n",
    "#if sendtxt in key then perform send_keys operation\n",
    "#if move in key then perform move_to_element operation\n",
    "#if info in key then element.text operation\n",
    "#if break in key and value is true then loop break\n",
    "#if nothing match then get webelement and return"
   ]
  },
  {
   "cell_type": "code",
   "execution_count": 4,
   "id": "48814320",
   "metadata": {
    "code_folding": []
   },
   "outputs": [],
   "source": [
    "\n",
    "\n",
    "\n",
    "        \n",
    "\n",
    "        \n",
    "        \n",
    "        "
   ]
  },
  {
   "cell_type": "code",
   "execution_count": null,
   "id": "5b0d398d",
   "metadata": {},
   "outputs": [],
   "source": []
  }
 ],
 "metadata": {
  "kernelspec": {
   "display_name": "Python 3 (ipykernel)",
   "language": "python",
   "name": "python3"
  },
  "language_info": {
   "codemirror_mode": {
    "name": "ipython",
    "version": 3
   },
   "file_extension": ".py",
   "mimetype": "text/x-python",
   "name": "python",
   "nbconvert_exporter": "python",
   "pygments_lexer": "ipython3",
   "version": "3.9.1"
  },
  "nbTranslate": {
   "displayLangs": [
    "*"
   ],
   "hotkey": "alt-t",
   "langInMainMenu": true,
   "sourceLang": "en",
   "targetLang": "fr",
   "useGoogleTranslate": true
  },
  "toc": {
   "base_numbering": 1,
   "nav_menu": {},
   "number_sections": true,
   "sideBar": true,
   "skip_h1_title": false,
   "title_cell": "Table of Contents",
   "title_sidebar": "Contents",
   "toc_cell": false,
   "toc_position": {},
   "toc_section_display": true,
   "toc_window_display": false
  }
 },
 "nbformat": 4,
 "nbformat_minor": 5
}
