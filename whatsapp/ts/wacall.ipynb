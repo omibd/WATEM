{
 "cells": [
  {
   "cell_type": "code",
   "execution_count": 2,
   "id": "c902fc0a",
   "metadata": {},
   "outputs": [
    {
     "name": "stdout",
     "output_type": "stream",
     "text": [
      "(16) WhatsApp\n",
      "reload success, whatsapp ready\n"
     ]
    },
    {
     "data": {
      "text/plain": [
       "<wabs.WABS at 0x11969179160>"
      ]
     },
     "execution_count": 2,
     "metadata": {},
     "output_type": "execute_result"
    }
   ],
   "source": [
    "from wabs import *\n",
    "\n",
    "xx = WABS()\n",
    "dd = xx.get_driver\n",
    "ww = WebDriverWait(dd, 5)\n",
    "xx.reload"
   ]
  },
  {
   "cell_type": "code",
   "execution_count": 3,
   "id": "2f3a5404",
   "metadata": {
    "scrolled": true
   },
   "outputs": [
    {
     "name": "stdout",
     "output_type": "stream",
     "text": [
      "(//div[@id='pane-side']//div[@class='_8nE1Y'])[2]//div[@data-testid='chatlist-status-v3-ring']\n"
     ]
    },
    {
     "data": {
      "text/plain": [
       "{'chat_type': 'group',\n",
       " 'chat_name': [None],\n",
       " 'last_update_time': [None],\n",
       " 'last_sender': [None],\n",
       " 'last_msg': [None],\n",
       " 'unread_count': [None]}"
      ]
     },
     "execution_count": 3,
     "metadata": {},
     "output_type": "execute_result"
    }
   ],
   "source": [
    "xx.pane_chat_get(2)"
   ]
  },
  {
   "cell_type": "code",
   "execution_count": 3,
   "id": "3bf597e7",
   "metadata": {},
   "outputs": [],
   "source": []
  },
  {
   "cell_type": "code",
   "execution_count": 4,
   "id": "ea046d96",
   "metadata": {},
   "outputs": [],
   "source": []
  },
  {
   "cell_type": "code",
   "execution_count": 20,
   "id": "410f86bf",
   "metadata": {
    "code_folding": []
   },
   "outputs": [],
   "source": [
    "def xp(xpt, is_present=False, text=False, click=False):\n",
    "    try: \n",
    "        x1 = ww.until(EC.presence_of_element_located((By.XPATH, xpt)))\n",
    "        if text == True:\n",
    "            try: \n",
    "                print('xpt text: ', x1.text)\n",
    "                return x1.text\n",
    "            except: print('xpt.text failed')\n",
    "        elif click == True:\n",
    "            try: \n",
    "                x1.click()\n",
    "                print('click success: ')\n",
    "            except: print('click failed')\n",
    "        elif is_present == True:\n",
    "            print('xpt present - ', xpt)\n",
    "            return True\n",
    "        else:\n",
    "            return x1\n",
    "    except: \n",
    "        print(xpt, '- not found')\n",
    "        return 0\n",
    "\n",
    "def xpts(xpt, text=True):\n",
    "    try:\n",
    "        if type(xpt) is str: \n",
    "            return xp(xpt,text=True)\n",
    "        elif type(xpt) is list: \n",
    "            return [xp(n,text=True) for n in xpt]\n",
    "        elif type(xpt) is dict: \n",
    "            return {k : [xp(n,text=True) for n in v] if type(v) is list else xp(v,text=True) for k, v in xpt.items()}\n",
    "        else: return None\n",
    "    except:\n",
    "        return None\n",
    "    \n",
    "def xpg(xpt):\n",
    "    try: return dd.find_elements(By.XPATH, xpt)\n",
    "    except: return 0\n",
    "\n"
   ]
  },
  {
   "cell_type": "code",
   "execution_count": 21,
   "id": "6b627d3a",
   "metadata": {},
   "outputs": [],
   "source": [
    "msg = [\"(//div[@id='main']//div[@data-testid='msg-container'])\"]"
   ]
  },
  {
   "cell_type": "code",
   "execution_count": 1,
   "id": "25874add",
   "metadata": {
    "code_folding": []
   },
   "outputs": [
    {
     "data": {
      "text/plain": [
       "\"div[contains(@class,'abc') and contains(@id,'sdfsd')]\""
      ]
     },
     "execution_count": 1,
     "metadata": {},
     "output_type": "execute_result"
    }
   ],
   "source": [
    "contains = lambda attr, value: \"contains(\" + attr + \",'\" + value + \"')\"\n",
    "starts_with = lambda attr, value: \"starts-with(normalize-space(\" + attr + \"),'\" + value + \"')\"\n",
    "ends_with = lambda attr, value: \"ends-with(normalize-space(\" + attr + \"),'\" + value + \"')\"\n",
    "\n",
    "def xpgen_1(fn, tag='*', attr=['.'], value=['TEXT']):\n",
    "    ls = lambda x: x if type(x) is list else [x]\n",
    "    tag = tag if tag is not None else \"*\"\n",
    "    attr, value = ls(attr), ls(value)\n",
    "    lx = []\n",
    "    for a, b in zip(attr, value):\n",
    "        if a.find('.') != -1: lx.append(fn(a, b))\n",
    "        else: lx.append(fn('@' + a, b))\n",
    "    xpg = tag + \"[\" + ' and '.join(lx) + \"]\"\n",
    "    return xpg\n",
    "\n",
    "def xpgen_2(base):\n",
    "    def xpg(index=None, before=None, after=None):\n",
    "        bi = base + \"[\" + str(index) + \"]\" if index is not None else base\n",
    "        bi = str(before) + bi if before is not None else bi\n",
    "        bi = bi + str(after) if after is not None else bi\n",
    "        return bi\n",
    "    return xpg\n",
    "\n",
    "xpgen_1(contains, 'div', ['class','id'], ['abc','sdfsd'])"
   ]
  },
  {
   "cell_type": "code",
   "execution_count": 33,
   "id": "d75f762f",
   "metadata": {},
   "outputs": [
    {
     "data": {
      "text/plain": [
       "\"(//div[@id='main']//div[@data-testid='msg-container'])[2]\""
      ]
     },
     "execution_count": 33,
     "metadata": {},
     "output_type": "execute_result"
    }
   ],
   "source": [
    "u = xpgen_2(\"(//div[@id='main']//div[@data-testid='msg-container'])\")\n",
    "u(2)"
   ]
  },
  {
   "cell_type": "code",
   "execution_count": null,
   "id": "accce693",
   "metadata": {},
   "outputs": [],
   "source": [
    "chat_title = \"//div[@id='main']//span[@data-testid='conversation-info-header-chat-title']\"\n",
    "msg_menu = \"//div[@class='_2sDI2']/ul//li\"\n",
    "\n",
    "def pane_chat_by_name(chatname):\n",
    "    a1 = \"//div[@class='_21S-L']//span[@dir='auto' and contains(.,'\" + chatname + \"')]\"\n",
    "    a2 = \"//ancestor::div[@class='_8nE1Y']\"\n",
    "    dc = {\n",
    "        'chatdiv' : a1 + a2,\n",
    "        'chatname': a1,\n",
    "        'unread_msg' : a1 + a2 + \"//div[@class='Dvjym']//span[@data-testid='icon-unread-count']\",\n",
    "        'last_text' : a1 + a2 + \"//span[@data-testid='last-msg-status']\",\n",
    "        'last_sender' : a1 + a2 + \"//div[@class='vQ0w7']//span[@dir='auto']\",\n",
    "        'last_msg_time' : a1 + a2 + \"/div[@class='y_sn4']/div[@class='Dvjym']\"\n",
    "    }\n",
    "    return dc\n",
    "\n",
    "def pane_chat_by_text(text): \"//span[@data-testid='last-msg-status' and contains(.,'\" + text + \"')]\"\n",
    "    a1 = \"//span[@data-testid='last-msg-status' and contains(.,'\" + text + \"')]\"\n",
    "    a2 = \"//ancestor::\" + base\n",
    "    dc = {\n",
    "        'chatdiv' : a1 + a2,\n",
    "        'chatname': a1,\n",
    "        'unread_msg' : a1 + a2 + \"//div[@class='Dvjym']//span[@data-testid='icon-unread-count']\",\n",
    "        'last_text' : a1 + a2 + \"//span[@data-testid='last-msg-status']\",\n",
    "        'last_sender' : a1 + a2 + \"//div[@class='vQ0w7']//span[@dir='auto']\",\n",
    "        'last_msg_time' : a1 + a2 + \"/div[@class='y_sn4']/div[@class='Dvjym']\"\n",
    "    }\n",
    "    print(dc)\n",
    "    return dc"
   ]
  },
  {
   "cell_type": "code",
   "execution_count": 34,
   "id": "a63b6ea0",
   "metadata": {},
   "outputs": [],
   "source": [
    "chat_name_notif = lambda chatname :\"//div[@class='_21S-L']//span[@dir='auto' and contains(text(),\" + chatname + \\\n",
    "\")]//ancestor::div[@class='_8nE1Y']//div[@class='Dvjym']//span[@data-testid='icon-unread-count']\""
   ]
  },
  {
   "cell_type": "code",
   "execution_count": 22,
   "id": "7fa8a5d0",
   "metadata": {
    "code_folding": []
   },
   "outputs": [],
   "source": [
    "match_action_1 = {'msg_contains': ['Update of Site Down at','Region: 2G/3G/4G'], \n",
    "                'from_contact':[], \n",
    "                'action_func' :'forward_msg',\n",
    "                'action_func_arg':{'forward_to':['Robi & e.co Ops','OPS & RO']}}"
   ]
  },
  {
   "cell_type": "code",
   "execution_count": 23,
   "id": "03df98d7",
   "metadata": {},
   "outputs": [],
   "source": [
    "b1=\"(//div[@data-testid='conversation-panel-body'])//span[contains(.,'YESTERDAY')]\""
   ]
  },
  {
   "cell_type": "code",
   "execution_count": 24,
   "id": "eccf9c44",
   "metadata": {},
   "outputs": [],
   "source": [
    "chat = [\"//div[@data-testid='chat-list']\", \"//div[@aria-label='Chat list']\", \"//div[@aria-rowcount]\"]"
   ]
  },
  {
   "cell_type": "code",
   "execution_count": null,
   "id": "1b8d8e8f",
   "metadata": {},
   "outputs": [],
   "source": []
  },
  {
   "cell_type": "code",
   "execution_count": null,
   "id": "31d849f9",
   "metadata": {},
   "outputs": [],
   "source": []
  },
  {
   "cell_type": "code",
   "execution_count": 4,
   "id": "82b0e052",
   "metadata": {
    "scrolled": true
   },
   "outputs": [
    {
     "data": {
      "text/plain": [
       "{'chat_name': \"(//div[@id='pane-side']//div[@class='_8nE1Y'])//div[@class='_21S-L']//span[@dir='auto']\",\n",
       " 'last_text': \"(//div[@id='pane-side']//div[@class='_8nE1Y'])//span[@data-testid='last-msg-status']\",\n",
       " 'last_sender': \"(//div[@id='pane-side']//div[@class='_8nE1Y'])//div[@class='vQ0w7']//span[@dir='auto']\",\n",
       " 'last_msg_time': \"(//div[@id='pane-side']//div[@class='_8nE1Y'])/div[@class='y_sn4']/div[@class='Dvjym']\",\n",
       " 'new_msg_notif': \"(//div[@id='pane-side']//div[@class='_8nE1Y'])//div[@class='Dvjym']//span[@data-testid='icon-unread-count']\"}"
      ]
     },
     "execution_count": 4,
     "metadata": {},
     "output_type": "execute_result"
    }
   ],
   "source": [
    "pane_xpt(chatname=\"Sobuj RNM\")"
   ]
  },
  {
   "cell_type": "code",
   "execution_count": 5,
   "id": "73493190",
   "metadata": {},
   "outputs": [
    {
     "ename": "NameError",
     "evalue": "name 'xp' is not defined",
     "output_type": "error",
     "traceback": [
      "\u001b[1;31m---------------------------------------------------------------------------\u001b[0m",
      "\u001b[1;31mNameError\u001b[0m                                 Traceback (most recent call last)",
      "Cell \u001b[1;32mIn[5], line 1\u001b[0m\n\u001b[1;32m----> 1\u001b[0m \u001b[43mxp\u001b[49m(xpt_by_chatname(\u001b[38;5;124m\"\u001b[39m\u001b[38;5;124mNetwork Operations\u001b[39m\u001b[38;5;124m\"\u001b[39m), click\u001b[38;5;241m=\u001b[39m\u001b[38;5;28;01mTrue\u001b[39;00m)\n",
      "\u001b[1;31mNameError\u001b[0m: name 'xp' is not defined"
     ]
    }
   ],
   "source": [
    "xp(xpt_by_chatname(\"Network Operations\"), click=True)"
   ]
  },
  {
   "cell_type": "code",
   "execution_count": null,
   "id": "e934cab5",
   "metadata": {},
   "outputs": [],
   "source": [
    "def pane_dyn_xpath(self, by_chatname=None, by_msgtxt=None, by_last_sender=None, get_text=False):\n",
    "    contain = []\n",
    "    if by_chatname is not None: \n",
    "        contain.append(\"contains(@title,'\" + by_chatname + \"')\")\n",
    "    if by_msgtxt is not None: \n",
    "        contain.append(\"contains(@data-testid='last-msg-status') and contains(.,'\" + by_msgtxt + \"')\")\n",
    "    if by_last_sender is not None: \n",
    "        contain.append(\"contains(@dir='auto') and contains(., '\" + by_last_sender + \"')\")\n",
    "    fxpt = \"(//div[@id='pane-side'])//*[\" + ' and '.join(map(str,contain)) + \"]\" + \"//ancestor::div[@class='_8nE1Y']\"\n",
    "    rs = fxpt if get_text==False else self.side_pane(base=fxpt)\n",
    "    return rs"
   ]
  },
  {
   "cell_type": "code",
   "execution_count": 7,
   "id": "75f44796",
   "metadata": {},
   "outputs": [],
   "source": [
    "contains = lambda attr, value: \"contains(\" + attr + \",'\" + value + \"')\"\n"
   ]
  },
  {
   "cell_type": "code",
   "execution_count": 8,
   "id": "89469b6c",
   "metadata": {},
   "outputs": [
    {
     "data": {
      "text/plain": [
       "\"contains(.,'omi') and contains(.,'5:30')\""
      ]
     },
     "execution_count": 8,
     "metadata": {},
     "output_type": "execute_result"
    }
   ],
   "source": [
    "contain(['omi','5:30'])"
   ]
  },
  {
   "cell_type": "code",
   "execution_count": null,
   "id": "fb3a54a1",
   "metadata": {},
   "outputs": [],
   "source": []
  },
  {
   "cell_type": "code",
   "execution_count": null,
   "id": "a8c089ba",
   "metadata": {},
   "outputs": [],
   "source": []
  }
 ],
 "metadata": {
  "kernelspec": {
   "display_name": "Python 3 (ipykernel)",
   "language": "python",
   "name": "python3"
  },
  "language_info": {
   "codemirror_mode": {
    "name": "ipython",
    "version": 3
   },
   "file_extension": ".py",
   "mimetype": "text/x-python",
   "name": "python",
   "nbconvert_exporter": "python",
   "pygments_lexer": "ipython3",
   "version": "3.9.1"
  },
  "nbTranslate": {
   "displayLangs": [
    "*"
   ],
   "hotkey": "alt-t",
   "langInMainMenu": true,
   "sourceLang": "en",
   "targetLang": "fr",
   "useGoogleTranslate": true
  },
  "toc": {
   "base_numbering": 1,
   "nav_menu": {},
   "number_sections": true,
   "sideBar": true,
   "skip_h1_title": false,
   "title_cell": "Table of Contents",
   "title_sidebar": "Contents",
   "toc_cell": false,
   "toc_position": {},
   "toc_section_display": true,
   "toc_window_display": false
  },
  "vscode": {
   "interpreter": {
    "hash": "cd9bc9dfe55b83b964e3739147757be76cffe511b6a0719228191b886ca6a6c7"
   }
  }
 },
 "nbformat": 4,
 "nbformat_minor": 5
}
