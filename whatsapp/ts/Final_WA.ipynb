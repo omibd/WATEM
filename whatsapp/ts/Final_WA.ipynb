{
 "cells": [
  {
   "cell_type": "code",
   "execution_count": null,
   "id": "bc051178",
   "metadata": {},
   "outputs": [],
   "source": [
    "from wabs import *\n",
    "x = WABS()\n",
    "d = xx.get_driver\n",
    "wait = WebDriverWait(dd, 5)"
   ]
  },
  {
   "cell_type": "code",
   "execution_count": null,
   "id": "6fd450f7",
   "metadata": {
    "scrolled": true
   },
   "outputs": [],
   "source": [
    "#xx.select_chat('Emergency')\n",
    "#xx.click(\"//span[@class='_28HTg']\")\n",
    "#dx = xx.msgrd(10)"
   ]
  },
  {
   "cell_type": "markdown",
   "id": "5104996a",
   "metadata": {},
   "source": [
    "### Selenium & Xpath general"
   ]
  },
  {
   "cell_type": "code",
   "execution_count": null,
   "id": "1f6fad79",
   "metadata": {
    "code_folding": [],
    "scrolled": true
   },
   "outputs": [],
   "source": [
    "def update_dict_values(a, b):\n",
    "    '''updating key & values using append then set procedure'''\n",
    "    c = {}\n",
    "    for k, v in a.items():\n",
    "        if k in list(b):\n",
    "            c[k] = list(set(a[k] + b[k]))\n",
    "        else:\n",
    "            c[k] = a[k]\n",
    "    return {**b, **c}\n",
    "\n",
    "def sidepane_scroll(d, initial = 1, scrolls=50):\n",
    "    for i in range(1, scrolls):\n",
    "        d.execute_script(\"document.getElementById('pane-side').scrollTop={}\".format(initial))\n",
    "        initial = initial + i + 1\n",
    "    return initial\n",
    "\n",
    "def msg_scoll_up(d):\n",
    "    d.find_element(By.XPATH, \"//div[@class='_5kRIK']\").send_keys(Keys.HOME)\n",
    "    tm.sleep(2)\n",
    "    \n",
    "def wtx(d, xpt, wt=1):\n",
    "    try: return d.find_element(By.XPATH, xpt).text\n",
    "    except: return None\n",
    "\n",
    "def ww(d, xpt, sec=2):\n",
    "    wait = WebDriverWait(d, sec)\n",
    "    try: return wait.until(EC.presence_of_element_located((By.XPATH, xpt)))\n",
    "    except: return None\n",
    "    \n",
    "def wx(d, xpt, elements=None, wait=None, text=None, click=None):\n",
    "    try:\n",
    "        if elements is not None:\n",
    "            return d.find_elements(By.XPATH, xpt)\n",
    "        elif wait is not none: \n",
    "            y = ww(d, xpt, wait)   \n",
    "        else: wait is None: \n",
    "            y = d.find_element(By.XPATH, xpt)\n",
    "        if text is not None: return y.text\n",
    "        elif click is not None: \n",
    "            y.click()\n",
    "            return 1\n",
    "        else: return y\n",
    "    except: return None\n",
    "        \n",
    "def write_msg(d, xpt, text):\n",
    "    ac = ActionChains(d)\n",
    "    ac.move_to_element(ww(d,xpt)).click().perform()\n",
    "    if chr(10) not in text:\n",
    "        ac.send_keys(text).send_keys(Keys.RETURN).perform()\n",
    "    else:\n",
    "        xx = text.split(chr(10))\n",
    "        for line in xx:\n",
    "            ac.send_keys(line).perform()\n",
    "            ac.key_down(Keys.SHIFT).key_down(Keys.ENTER).key_up(Keys.SHIFT).key_up(Keys.ENTER).perform()\n",
    "        ac.send_keys(Keys.RETURN).perform()\n",
    "    \n",
    "def action(d, k, v):\n",
    "    ac = ActionChains(d)\n",
    "    if '_sendtxt_' in k: write_msg(d, v[0], v[1])\n",
    "    elif 'key_to_element': ac.send_keys_to_element(ww(d,v[0]), v[1]).send_keys(Keys.RETURN).perform()\n",
    "    elif '_clk_' in k: ac.click(ww(d, v[0])).perform()\n",
    "    elif '_justmove_' in k: ac.move_to_element(ww(d, v[0])).perform()\n",
    "    elif '_hoverclick_' in k: \n",
    "        ac.move_to_element(ww(d, v[0])).pause(.5).perform()\n",
    "        ac.click(ww(v[1])).perform()\n",
    "    elif '_moveclick_' in k: ac.move_to_element(ww(d, v[0])).pause(1).click().perform()\n",
    "    else: return None\n",
    "    \n"
   ]
  },
  {
   "cell_type": "markdown",
   "id": "323db582",
   "metadata": {},
   "source": [
    "### XPATH Factory"
   ]
  },
  {
   "cell_type": "code",
   "execution_count": 119,
   "id": "02e3e083",
   "metadata": {
    "code_folding": [
     11,
     24,
     40,
     43,
     50,
     59,
     65
    ]
   },
   "outputs": [
    {
     "data": {
      "text/plain": [
       "['(',\n",
       " \"//div[@data-testid='cell-frame-container']\",\n",
       " \"//div[@class='_8nE1Y']\",\n",
       " ')',\n",
       " '[last()]/span/div[1]']"
      ]
     },
     "execution_count": 119,
     "metadata": {},
     "output_type": "execute_result"
    }
   ],
   "source": [
    "contains = lambda attr, value: \"contains(\" + attr + \",'\" + value + \"')\"\n",
    "starts_with = lambda attr, value: \"starts-with(normalize-space(\" + attr + \"),'\" + value + \"')\"\n",
    "ends_with = lambda attr, value: \"ends-with(normalize-space(\" + attr + \"),'\" + value + \"')\"\n",
    "\n",
    "contains_no_attr = lambda value: \"contains(.,'\" + value + \"')\"\n",
    "starts_with_no_attr = lambda value: \"starts-with(normalize-space(),'\" + value + \"')\"\n",
    "ends_with_no_attr = lambda value: \"ends-with(normalize-space(),'\" + value + \"')\"\n",
    "\n",
    "text_equal = lambda value : \"contains(normalize-space(text())='\" + value + \"')\"\n",
    "not_contains = lambda attr, value: 'not(' + contains(attr, value) + ')'\n",
    "\n",
    "def contains_tuple(func, n:tuple=('div','@class','_3wQ5i')):\n",
    "    if type(n) is str: return None,func('.', n)\n",
    "    elif len(n)==2:return None,func(n[0], n[1])\n",
    "    elif len(n)==3:return n[0],func(n[1], n[2])\n",
    "    else:\n",
    "        print('function contains_mix_tuple(n:tuple): can only handdle 3 element as (tag, attr, value)')\n",
    "        return None, n\n",
    "\n",
    "def contains_attr(list_str_tuple=[('@class', '_21Ahp'),('text()','Net Status'), '11:13 pm'], tag='*'):\n",
    "    ls = list_str_tuple if type(list_str_tuple) is list else [list_str_tuple]\n",
    "    x = [contains_tuple(contains, n)[1] if type(n) is tuple else contains('.', n)  for n in ls]\n",
    "    return \"//\" + tag + '[' + ' and '.join(x) + ']'\n",
    "\n",
    "def contains_add(xpath:str, tuple_arg:tuple=('attr', 'attr_value'), with_function:object=contains):\n",
    "    '''xpath : existing xpath, tuple_arg: conition that transform and add into exting contains\n",
    "    call :: contains_add(\"//span[contains(@class,'YESTERDAY')]\",('.','TODAY'), not_expr)\n",
    "    return :: \n",
    "    '''\n",
    "    if xpath.rfind('contains') == -1:\n",
    "        mid1, mid2 = contains_tuple(tuple_arg)\n",
    "        print(mid1, mid2)\n",
    "        if mid1 is None: return xpath + ' | *['+ mid2 + ']'\n",
    "        else: return xpath + ' | ' + mid1 + '[' + mid2 + ']'\n",
    "    else:\n",
    "        start = xpath[:xpath.rfind(']',xpath.rfind('contains'))]\n",
    "        mid1, mid2 = contains_tuple(with_function, tuple_arg)\n",
    "        end = xpath[xpath.rfind(']',xpath.rfind('contains')):]\n",
    "        return start + ' and '+ mid2 + end\n",
    "\n",
    "def xpath_item(tag='*', attr='@class', attr_value='xyz'):\n",
    "    return tag + '[' + attr + \"='\" + attr_value + \"']\"\n",
    "\n",
    "def xpath_bulid(lsxp=[('div','@id', 'value'), ('span','@class', 'value')]):\n",
    "    lx = []\n",
    "    for n in lsxp:\n",
    "        t, a, v = n\n",
    "        lx.append(xpath_normal(t, a, v))\n",
    "    else: return '//' + '//'.join(lx)\n",
    "\n",
    "def xptgen_1(xpath_func, tag='*', attr=['.'], value=['TEXT']):\n",
    "    ''' call: xptgen_1(contains, 'tag', ['attr','sdf'], ['value','231rq'])\n",
    "        return: \"tag[contains(@attr,'value') and contains(@sdf,'231rq')]\"\n",
    "        xpath_func are [contains, starts_with, ends_with, text_equal]\n",
    "    '''\n",
    "    ls = lambda x: x if type(x) is list else [x]\n",
    "    tag = tag if tag is not None else \"*\"\n",
    "    attr, value = ls(attr), ls(value)\n",
    "    lx = []\n",
    "    for a, b in zip(attr, value):\n",
    "        if a.find('.') != -1: lx.append(xpath_func(a, b))\n",
    "        else: lx.append(xpath_func('@' + a, b))\n",
    "    xpg = tag + \"[\" + ' and '.join(lx) + \"]\"\n",
    "    return xpg\n",
    "\n",
    "def contains_attr_tag(list_str_tuple=[('@class', '_21Ahp'),('text()','Net Status'), '11:13 pm']):\n",
    "    '''\n",
    "    call: contains_mix([('@class', '_21Ahp'),('text()','Net Status'), '11:13 pm'])\n",
    "    return: \"//*[contains(@class,'_21Ahp') and contains(text(),'Net Status') and contains(.,'11:13 pm')]\"\n",
    "    '''\n",
    "    ls = list_str_tuple if type(list_str_tuple) is list else [list_str_tuple]\n",
    "    lc1, lc2 = [],  []\n",
    "    for n in ls:\n",
    "        if type(n) is tuple:\n",
    "            r1, r2 = contains_mix_tuple(n)\n",
    "            lc1.append(r1)\n",
    "            if r2 is not None: lc2.append(r2)\n",
    "        elif type(n) is str: lc1.append(contains('.',n))\n",
    "        else: print(\"argument: 'list_str_tuple' can be string or list'\")\n",
    "    else: return lc1, lc2\n",
    "\n",
    "\n",
    "\n",
    "def build(lstext, own, base, axes=None):\n",
    "    '''contains_ls = [('@class', '_21Ahp'),('text()','Net Status'), '11:13 pm']'''\n",
    "    anc = 'ancestor::' + base if axes is None else 'ancestor::' + axes\n",
    "    return \"\\\\\" + base + contains_attr(own, contains_ls, contains)\n",
    "\n"
   ]
  },
  {
   "cell_type": "code",
   "execution_count": 118,
   "id": "f65c1bd8",
   "metadata": {},
   "outputs": [
    {
     "data": {
      "text/plain": [
       "['(',\n",
       " \"//div[@data-testid='cell-frame-container']\",\n",
       " \"//div[@class='_8nE1Y']\",\n",
       " ')',\n",
       " '[last()]/span/div[1]',\n",
       " \"//div[@class='_MX']\",\n",
       " '[7]',\n",
       " \"//ancestor::div[@data-testid='msg-container']\"]"
      ]
     },
     "execution_count": 118,
     "metadata": {},
     "output_type": "execute_result"
    }
   ],
   "source": [
    "xpath_chunk(\"(//div[@data-testid='cell-frame-container']//div[@class='_8nE1Y'])[last()]/span/div[1]//div[@class='_MX'][7]//ancestor::div[@data-testid='msg-container']\")\n"
   ]
  },
  {
   "cell_type": "code",
   "execution_count": 116,
   "id": "ab9f09ff",
   "metadata": {},
   "outputs": [
    {
     "data": {
      "text/plain": [
       "('//div[', \"@class='_21Ahp'\", ']')"
      ]
     },
     "execution_count": 116,
     "metadata": {},
     "output_type": "execute_result"
    }
   ],
   "source": [
    "pickmid()"
   ]
  },
  {
   "cell_type": "markdown",
   "id": "9a6606ef",
   "metadata": {},
   "source": [
    "### sr"
   ]
  },
  {
   "cell_type": "code",
   "execution_count": 106,
   "id": "6fadc079",
   "metadata": {
    "scrolled": true
   },
   "outputs": [
    {
     "data": {
      "text/plain": [
       "['(',\n",
       " \"//div[@data-testid='cell-frame-container']\",\n",
       " \"//div[@class='_8nE1Y']\",\n",
       " ')',\n",
       " '[last()]/span/div[1]',\n",
       " \"//div[@class='_MX']\",\n",
       " '[7]',\n",
       " '(',\n",
       " \"//ancestor::div[@data-testid='msg-container']\",\n",
       " ')']"
      ]
     },
     "execution_count": 106,
     "metadata": {},
     "output_type": "execute_result"
    }
   ],
   "source": [
    "x="
   ]
  },
  {
   "cell_type": "code",
   "execution_count": 70,
   "id": "39025750",
   "metadata": {},
   "outputs": [],
   "source": [
    "def pickmid(s:str, start_key:str, upto_key:str):\n",
    "    n1 = s.find(start_key)\n",
    "    n2 = s.find(upto_key, n1)\n",
    "    return s[:n1], s[n1:n2], s[n2:]"
   ]
  },
  {
   "cell_type": "code",
   "execution_count": 71,
   "id": "c0459b3b",
   "metadata": {},
   "outputs": [
    {
     "data": {
      "text/plain": [
       "('//div[', \"@data-testid='cell-frame-container'\", ']')"
      ]
     },
     "execution_count": 71,
     "metadata": {},
     "output_type": "execute_result"
    }
   ],
   "source": [
    "pickmid(\"//div[@data-testid='cell-frame-container']\",'@',']')"
   ]
  },
  {
   "cell_type": "code",
   "execution_count": 57,
   "id": "0800b303",
   "metadata": {
    "scrolled": true
   },
   "outputs": [
    {
     "name": "stdout",
     "output_type": "stream",
     "text": [
      "//div - [@data-testid='cell-frame-container'] - \n"
     ]
    }
   ],
   "source": [
    "q = \"//div[@data-testid='cell-frame-container']\"\n",
    "if q.startswith(\"//\") and q.endswith(\"]\") and q.find('=') == q.rfind('='):\n",
    "    n1 = q.find('@')\n",
    "    n2 = q.find(']',n1)\n",
    "    q1 = q[:n1-1]\n",
    "    q2 = q[n1-1:n2+1]\n",
    "    q3= q[n2+1:]\n",
    "    print(q1,'-', q2,'-', q3)"
   ]
  },
  {
   "cell_type": "code",
   "execution_count": 58,
   "id": "dc515590",
   "metadata": {},
   "outputs": [],
   "source": []
  },
  {
   "cell_type": "code",
   "execution_count": 48,
   "id": "83d05bfc",
   "metadata": {},
   "outputs": [
    {
     "name": "stdout",
     "output_type": "stream",
     "text": [
      "contains(@class,'_8nE1Y')\n"
     ]
    }
   ],
   "source": [
    "qq = \"@class='_8nE1Y'\"\n",
    "print(\"contains(\" + qq.replace('=',',') + ')')"
   ]
  },
  {
   "cell_type": "code",
   "execution_count": null,
   "id": "1f64741e",
   "metadata": {},
   "outputs": [],
   "source": [
    "    if n is str:\n",
    "        nx = n.replace('()',\"*\").replace(')','$)$').split('$').replace('*').replace('()')\n",
    "        print(nx)\n",
    "    else:\n",
    "        print('ls:', n)"
   ]
  },
  {
   "cell_type": "code",
   "execution_count": 158,
   "id": "3b48e345",
   "metadata": {},
   "outputs": [],
   "source": [
    "#contains_add(\"(//div[@id='main']//div[@data-testid='msg-container'])\", ('@class','_11JPr'), contains)"
   ]
  },
  {
   "cell_type": "code",
   "execution_count": 160,
   "id": "a369ecaf",
   "metadata": {},
   "outputs": [],
   "source": [
    "#build(['Update','8:44'],\"//div[@class='_21Ahp']//span[@dir='ltr']\",\"(//div[@id='main']//div[@data-testid='msg-container'])\")"
   ]
  },
  {
   "cell_type": "code",
   "execution_count": null,
   "id": "ae430d53",
   "metadata": {},
   "outputs": [],
   "source": [
    "msg_container = \"\"\n",
    "msg_container_except_quote = \"//div[@class='ItfyB _3nbHh']\"\n",
    "msg = \"//div[@class='_21Ahp']//span[@dir='ltr']\"\n",
    "msg_quote_sender = \"//div[@data-testid='quoted-message']/div/div/div/div[1]/span\"\n",
    "msg_quote_text = \"//div[@data-testid='quoted-message']//div[@dir='ltr']\""
   ]
  },
  {
   "cell_type": "code",
   "execution_count": null,
   "id": "596c5bfa",
   "metadata": {},
   "outputs": [],
   "source": [
    "\"(//div[contains(@id='main') and contains(@data-testid='msg-container')]\""
   ]
  },
  {
   "cell_type": "code",
   "execution_count": null,
   "id": "5aa40006",
   "metadata": {},
   "outputs": [],
   "source": [
    "\"//div[contains(@data-testid,'quoted-message')]\""
   ]
  },
  {
   "cell_type": "code",
   "execution_count": null,
   "id": "ca599691",
   "metadata": {},
   "outputs": [],
   "source": [
    "\"//div[@data-testid='quoted-message']/div/div/div/div[contains(position(),'1')]/span\"\n",
    "\"//div[@data-testid='quoted-message']/div/div/div/div[contains(position(),'1') and span]\""
   ]
  },
  {
   "cell_type": "code",
   "execution_count": null,
   "id": "5fea4f91",
   "metadata": {},
   "outputs": [],
   "source": [
    "alt_plus_k_search_textarea = ('div','@class','_3wQ5i')"
   ]
  },
  {
   "cell_type": "code",
   "execution_count": null,
   "id": "6c161cff",
   "metadata": {},
   "outputs": [],
   "source": [
    "#output = div[contains(@class,'_27K43 _31p5Q') and  ]"
   ]
  },
  {
   "cell_type": "code",
   "execution_count": null,
   "id": "58de0dcc",
   "metadata": {},
   "outputs": [],
   "source": [
    "not_expr(starts_with,'.','text')"
   ]
  },
  {
   "cell_type": "code",
   "execution_count": null,
   "id": "8bb422e8",
   "metadata": {},
   "outputs": [],
   "source": [
    "xpath_spliter()"
   ]
  },
  {
   "cell_type": "code",
   "execution_count": null,
   "id": "d5647dba",
   "metadata": {
    "code_folding": []
   },
   "outputs": [],
   "source": [
    "print(xpath_spliter())"
   ]
  },
  {
   "cell_type": "code",
   "execution_count": null,
   "id": "3c5913da",
   "metadata": {},
   "outputs": [],
   "source": [
    "xptgen_1(contains, 'tag', ['attr','sdf'], ['value','231rq'])"
   ]
  },
  {
   "cell_type": "code",
   "execution_count": null,
   "id": "8373f590",
   "metadata": {},
   "outputs": [],
   "source": [
    "for i in x5:\n",
    "     xl.insert(0, xpath_items_split(i))\n",
    "else: return xl"
   ]
  },
  {
   "cell_type": "code",
   "execution_count": null,
   "id": "768c57a0",
   "metadata": {},
   "outputs": [],
   "source": [
    "a = [('@class', '_21Ahp'),'Net Status', '11:13 pm']\n",
    "for i in a:\n",
    "    if type(i) is tuple:\n",
    "        print()\n",
    "    else:\n",
    "        print(contains(i, '.'))"
   ]
  },
  {
   "cell_type": "markdown",
   "id": "0a2ed57c",
   "metadata": {},
   "source": [
    "### msg panel functions"
   ]
  },
  {
   "cell_type": "code",
   "execution_count": null,
   "id": "83ba40b2",
   "metadata": {},
   "outputs": [],
   "source": [
    "msg_base = \"(//div[@id='main']//div[@data-testid='msg-container'])\"\n",
    "msgbs = \"//div[@class='ItfyB _3nbHh']\"\n",
    "msgrow = \"/html/body/div[1]/div/div/div[4]/div/div[2]/div/div[2]/div[3]/div[6]\"\n",
    "msg_text = '_21Ahp'\n",
    "msg_quote = '_1hl2r'\n",
    "msg_main_sender = \"//div[@class='_27K43 _31p5Q']/div[1]//span[@dir='auto']\"\n",
    "mss = \"//div[@class='_27K43 _31p5Q']/div[1]//span[@dir='auto']\"\n",
    "msg_main_text = \"//div[@class='_21Ahp']//span[@dir='ltr']\"\n",
    "msg_main_time = \"//div[@data-testid='msg-meta']\"\n",
    "msg_main_contain_image = \"//div[@data-testid='image-thumb']\"\n",
    "msg_quote_sender = \"//div[@data-testid='quoted-message']/div/div/div/div[1]/span\"\n",
    "msg_quote_msisdn = \"//div[@data-testid='quoted-message']//span[@class='WJuYU']\"\n",
    "msg_quote_text = \"//div[@data-testid='quoted-message']//div[@dir='ltr']\"\n",
    "msg_container_axes = \"//ancestor::div[@data-testid='msg-container']\"\n",
    "conversation_weekday_str = \"//span[@class='_11JPr']\"\n",
    "weekday_by_text = lambda text : \"//span[contains(@class,'_11JPr') and contains(.,'\" + str(text) + \"')]\"\n",
    "\n",
    "self_msg = \"//span[@aria-label='You:']\"\n",
    "others = \"//span[@aria-label]\"\n",
    "\n",
    "msg_by_sender = lambda name : \"(//div[@class='_27K43 _31p5Q'])/div[1]/span[contains(@dir,'auto') and contains(., '\" + name + \"')]\"\n",
    "msg_by_text_time = lambda text, time : \"//div[contains(@class,'_21Ahp') and contains(., '\" + text + \"') and contains(.,'\" + str(time) + \"')]\"\n",
    "msg_container_by_sender = lambda name : msg_by_sender(name) + \"//ancestor::div[@data-testid='msg-container']\"\n",
    "msg_container_by_text_time = lambda text, time : msg_by_text_time(text, time) + \"//ancestor::div[@data-testid='msg-container']\"\n",
    "\n",
    "def msginfo(d, n=None, base=\"(//div[@id='main']//div[@data-testid='msg-container'])\"):\n",
    "    bi = base + '[' + str(n) + ']' if n is not None else base\n",
    "    print('msgbase is being collecting:', bi)\n",
    "    if ww(d, bi) is None: return None\n",
    "    else:\n",
    "        x.move_click(bi + \"//div[@role='button'][contains(.,'Read more')]\")\n",
    "        dttm, sender = xx.msg_sender_dttm(bi)\n",
    "        dc = {'sender' : [sender],\n",
    "              'text' : [wtx(d, bi + \"//div[@class='_21Ahp']/span[1]/span\")],\n",
    "              'q_sender' : [wtx(d, bi + \"//div[@class='_3pMOs yKTUI']//div[1]/span\")],\n",
    "              'q_text' : [wtx(d, bi + \"//div[@class='_3pMOs yKTUI']//div[2]/span\")],\n",
    "              'datetime' : [dttm],\n",
    "              'sender_visible': [d, wtx(bi + \"//div[@class='_27K43 _31p5Q']/div[1]//span[@dir='auto']\")],\n",
    "              'time': [wtx(d, bi + \"//div[@data-testid='msg-meta']/span\")]\n",
    "              }\n",
    "        dc['img'] = 'image' if wtx(d, bi + \"//div[@data-testid='image-thumb']\") is not None else 'NoImage'\n",
    "        return dc\n",
    "\n",
    "def iloop(d, loop_end=20, loop_st=1, dc = defaultdict(list)):\n",
    "    nc = 0\n",
    "    for n in range(loop_st, loop_end):\n",
    "        dic = msginfo(d, 'last()-' + str(n))\n",
    "        if dic is not None:\n",
    "            if len(dc) == 0 : dc = dic\n",
    "            else: dc = update_key_value(dc, dic)\n",
    "            nc = 0\n",
    "        else: \n",
    "            if nc>2: x.msg_scoll_up()\n",
    "            if nc>1: x.just_move()\n",
    "            elif nc>3: return dc\n",
    "            else: print('nc: ', nc)\n",
    "            nc = nc + 1\n",
    "    else: return dc"
   ]
  },
  {
   "cell_type": "markdown",
   "id": "abbc9adc",
   "metadata": {},
   "source": [
    "### SIDE-PANE"
   ]
  },
  {
   "cell_type": "code",
   "execution_count": null,
   "id": "10678a20",
   "metadata": {},
   "outputs": [],
   "source": [
    "pane_chat = \"//div[@id='pane-side']\"\n",
    "pane_chat_base = \"//div[@data-testid='cell-frame-container']\"\n",
    "pane_chat_text_base = \"//div[@class='_8nE1Y']\"\n",
    "pane_chat_name = \"//div[@class='y_sn4']//span\"\n",
    "pane_chat_last_time = \"//div[@class='y_sn4']//div[2]\"\n",
    "pane_chat_last_msg = \"//div[@class='vQ0w7']//span[@dir='ltr']\"\n",
    "pane_chat_group_last_msg_sender = \"//div[@class='vQ0w7']//span[@dir='auto']\"\n",
    "pane_chat_unread_count = \"//span[@data-testid='icon-unread-count']\"\n",
    "pane_chat_axes = \"//ancestor::\" + pane_chat_base.replace('//','')\n",
    "pane_chat_by_name = lambda chatname: pane_chat_name + \"[contains(.,'\" + chatname + \"')]//ancestor::\" + wapane_chat_base.replace('//','')\n",
    "wp_chat_name = lambda chatname : pane_chat_by_name(chatname)\n",
    "wp_chat_last_msg = lambda chatname : pane_chat_by_name(chatname) + pane_chat_last_msg\n",
    "wp_chat_last_msg_time = lambda chatname : pane_chat_by_name(chatname) + pane_chat_last_time\n",
    "wp_chat_unread_count_byname = lambda chatname : pane_chat_by_name(chatname) + pane_chat_unread_count\n",
    "wapane_chat_by_text = lambda text: \"(\" + pane_chat_base + pane_chat_text_base + \")[contains(.,'\" + text + \"')]\"\n",
    "wapane_chat_by_name_4select = lambda chatname: pane_chat_name + \"[contains(.,'\" + chatname + \"')]\"\n",
    "\n",
    "def update_key_value(a, b):\n",
    "    '''updating key & values (values will be appened for existing key)'''\n",
    "    c = {}\n",
    "    if len(a) == 0: return b\n",
    "    tls = lambda ls : ls if type(ls) is list else [ls]\n",
    "    for k, v in a.items():\n",
    "        c[k] = tls(a[k]) + tls(b[k]) if k in list(b) else tls(a[k])\n",
    "    else: return {**b, **c}\n",
    "    \n",
    "xpt_by_chatname = lambda chatname: \"//div[@class='_21S-L']//span[@dir='auto' and contains(text(),'\" + chatname + \"')]//ancestor::div[@class='_8nE1Y']\"\n",
    "\n",
    "def wapane_chat_type(d, bs):\n",
    "    xpt = bs + \"//div[@data-testid='chatlist-status-v3-ring']\"\n",
    "    if ww(d, xpt.strip(' ')) is None: return 'group'\n",
    "    else: return 'contact'\n",
    "    \n",
    "def side_pane(d, n=None, pane_base=\"//div[@id='pane-side']//div[@data-testid='cell-frame-container']\"):\n",
    "    base = '(' + pane_base + \"//div[@class='_8nE1Y'])\" if '_8nE1Y' not in pane_base else pane_base\n",
    "    bi = base + '[' + str(n) + ']' if n is not None else base\n",
    "    if ww(d, bi) is None: \n",
    "        return None\n",
    "    else: print('! ', wtx(d,bi))\n",
    "    dc = {'chat_type': [wapane_chat_type(d, '(' + pane_base + ')' + '[' + str(n) + ']')],\n",
    "        'chat_name' : [bi + \"//div[@class='y_sn4']//span\"],\n",
    "        'last_text' : [bi + \"//div[@class='vQ0w7']//span[@dir='ltr']\"],\n",
    "        'last_sender' : [bi + \"//div[@class='vQ0w7']//span[@dir='auto']\"],\n",
    "        'last_msg_time' : [bi + \"/div[@class='y_sn4']//div[@class='Dvjym']\"],\n",
    "        'new_msg_notif' : [bi + \"//span[@data-testid='icon-unread-count']\"]}\n",
    "    for k, v in dc.items():\n",
    "        v = [v] if type(v) is str else v\n",
    "        dc[k] = [wtx(d, j) for j in v]\n",
    "    return dc\n",
    "\n",
    "\n",
    "def is_duplicate(dmain, dnew, key_list=['chat_name', 'last_text']):\n",
    "    try:\n",
    "        duplicate = []\n",
    "        for n in key_list:\n",
    "            if dnew[n] in dmain[n]: duplicate.append(True)\n",
    "            else: pass\n",
    "        if len(key_list) == len(duplicate): return True\n",
    "        else: return False\n",
    "    except: return False\n",
    "    \n",
    "\n",
    "def iwhile(d, x, end=20, start=1, base=None, from_last=False, sdc=defaultdict()):\n",
    "    n, nc, sc = 1, 0, 1\n",
    "    while end > n:\n",
    "        inx = n if from_last == False else 'last()' - str(n)\n",
    "        dc = side_pane(d, n=inx, pane_base=base) if base is not None else side_pane(d, n=inx)\n",
    "        print(dc)\n",
    "        if dc is not None:\n",
    "            if len(sdc) == 0: sdc = dc\n",
    "            else:\n",
    "                if is_duplicate(sdc, dc) == False:\n",
    "                    sdc = update_dict_values(sdc, dc)\n",
    "                    nc, n = 0, n+1\n",
    "                else:\n",
    "                    if nc>1: x.just_move()\n",
    "                    nc = nc + 1\n",
    "        else:\n",
    "            if nc>2 and nc<3:\n",
    "                sc = sidepane_scroll(d,sc)\n",
    "                n = 1\n",
    "            elif nc>4: return dc\n",
    "            nc = nc + 1\n",
    "    print('ret')\n",
    "    return dc"
   ]
  },
  {
   "cell_type": "code",
   "execution_count": null,
   "id": "738af353",
   "metadata": {},
   "outputs": [],
   "source": [
    "wapane_chat_type(d, \"(//div[@id='pane-side']//div[@data-testid='cell-frame-container']\")"
   ]
  },
  {
   "cell_type": "code",
   "execution_count": null,
   "id": "7405dd65",
   "metadata": {
    "scrolled": false
   },
   "outputs": [],
   "source": [
    "iwhile(dd, xx, 5009)"
   ]
  },
  {
   "cell_type": "raw",
   "id": "6059a29f",
   "metadata": {},
   "source": [
    "ixx.sidepane_scroll(1)"
   ]
  },
  {
   "cell_type": "code",
   "execution_count": null,
   "id": "285a4df2",
   "metadata": {},
   "outputs": [],
   "source": [
    "sidepane_scroll(d)"
   ]
  },
  {
   "cell_type": "code",
   "execution_count": null,
   "id": "3346a903",
   "metadata": {},
   "outputs": [],
   "source": [
    "\"/html/body/div[1]/div/div/div[4]/div/div[2]/div/div[2]/div[3]/div[10]/div/div/div[2]/div[1]\"\n",
    "/html/body/div[1]/div/div/div[4]/div/div[2]/div/div[2]/div[3]/div[10]/div/div/div[2]/div[1]/div[1]\n",
    "/html/body/div[1]/div/div/div[4]/div/div[2]/div/div[2]/div[3]/div[10]/div/div/div[2]/div[1]/div[2]/div[1]/div/div/div\n",
    "/html/body/div[1]/div/div/div[4]/div/div[2]/div/div[2]/div[3]/div[10]/div/div/div[2]/div[1]/div[2]/div[1]/div/div/div/div/div[1]\n",
    "/html/body/div[1]/div/div/div[4]/div/div[2]/div/div[2]/div[3]/div[10]/div/div/div[2]/div[1]/div[2]/div[1]/div/div/div/div/div[2]\n",
    "/html/body/div[1]/div/div/div[4]/div/div[2]/div/div[2]/div[3]/div[10]/div/div/div[2]/div[1]/div[2]/div[2]/span[1]/span\n",
    "/html/body/div[1]/div/div/div[4]/div/div[2]/div/div[2]/div[3]/div[10]/div/div/div[2]/div[1]/div[3]/div/span"
   ]
  },
  {
   "cell_type": "code",
   "execution_count": null,
   "id": "bfa73ef8",
   "metadata": {},
   "outputs": [],
   "source": [
    "xx.xpbulk({'text': \"/html/body/div[1]/div/div/div[4]/div/div[2]/div/div[2]/div[3]/div[9]/div/div/div[2]/div[1]/div[2]/div[2]/span[1]/span\",\n",
    "'time': \"/html/body/div[1]/div/div/div[4]/div/div[2]/div/div[2]/div[3]/div[7]/div/div/div[2]/div[1]/div/div[5]/div/span\",\n",
    "'qs': \"/html/body/div[1]/div/div/div[4]/div/div[2]/div/div[2]/div[3]/div[7]/div/div/div[2]/div[1]/div/div[2]/div/div/div/div/div[2]\",\n",
    "'qt': \"/html/body/div[1]/div/div/div[4]/div/div[2]/div/div[2]/div[3]/div[7]/div/div/div[2]/div[1]/div/div[2]/div/div/div/div/div[1]\",\n",
    "'sn': \"/html/body/div[1]/div/div/div[4]/div/div[2]/div/div[2]/div[3]/div[7]/div/div/div[2]/div[1]/div/div[1]/div\"})"
   ]
  },
  {
   "cell_type": "code",
   "execution_count": null,
   "id": "7a0f4549",
   "metadata": {
    "code_folding": []
   },
   "outputs": [],
   "source": [
    "aq = {'te': \"(//div[@id='main']//div[@data-testid='msg-container'])/div[4]/div/span[1]/span\",\n",
    "    'ti': \"(//div[@id='main']//div[@data-testid='msg-container'])/div[5]/div/span\",\n",
    "    'qs': \"(//div[@id='main']//div[@data-testid='msg-container'])/div[2]/div/div/div/div/div[2]\",\n",
    "    'qt': \"(//div[@id='main']//div[@data-testid='msg-container'])/div[2]/div/div/div/div/div[1]\",\n",
    "    'sn': \"(//div[@id='main']//div[@data-testid='msg-container'])/div[1]/div\"}"
   ]
  },
  {
   "cell_type": "code",
   "execution_count": null,
   "id": "671663f4",
   "metadata": {},
   "outputs": [],
   "source": [
    "xx.action('Emergency SOC Group', 'High fiber loss pending update',forward='Operations')"
   ]
  },
  {
   "cell_type": "code",
   "execution_count": null,
   "id": "839b8494",
   "metadata": {
    "scrolled": true
   },
   "outputs": [],
   "source": [
    "xx.action('Emergency SOC Group', 'Update of Site Down',forward='OPS & RO')"
   ]
  },
  {
   "cell_type": "code",
   "execution_count": null,
   "id": "1b506120",
   "metadata": {},
   "outputs": [],
   "source": [
    "xp = dd.find_element(By.XPATH, \"(//div[@id='main']//div[@data-testid='msg-container'])[last()-2]\").get_attribute('innerHTML')\n",
    "tree = etree.fromstring(xp)"
   ]
  },
  {
   "cell_type": "code",
   "execution_count": null,
   "id": "3c2155ba",
   "metadata": {},
   "outputs": [],
   "source": [
    "from lxml.html import fromstring\n",
    "soup = BeautifulSoup(xp, 'lxml')\n",
    "dom = etree.HTML(str(soup))"
   ]
  },
  {
   "cell_type": "code",
   "execution_count": null,
   "id": "c3e7d1e7",
   "metadata": {},
   "outputs": [],
   "source": [
    "root = fromstring(xp)"
   ]
  },
  {
   "cell_type": "code",
   "execution_count": null,
   "id": "ac0d1fe6",
   "metadata": {},
   "outputs": [],
   "source": [
    "x  = root.xpath(\"//div[@class='_21Ahp']\")\n",
    "for i in x:\n",
    "    print(i.get_text())"
   ]
  },
  {
   "cell_type": "code",
   "execution_count": null,
   "id": "7231e9d6",
   "metadata": {},
   "outputs": [],
   "source": [
    "[item.strip().get_text for item in root.xpath(\"(//div[@class='_21Ahp'])\")"
   ]
  },
  {
   "cell_type": "code",
   "execution_count": null,
   "id": "8617a033",
   "metadata": {},
   "outputs": [],
   "source": [
    "for i in c:\n",
    "    print(i.text)"
   ]
  },
  {
   "cell_type": "code",
   "execution_count": null,
   "id": "b3482e2a",
   "metadata": {},
   "outputs": [],
   "source": []
  }
 ],
 "metadata": {
  "kernelspec": {
   "display_name": "Python 3 (ipykernel)",
   "language": "python",
   "name": "python3"
  },
  "language_info": {
   "codemirror_mode": {
    "name": "ipython",
    "version": 3
   },
   "file_extension": ".py",
   "mimetype": "text/x-python",
   "name": "python",
   "nbconvert_exporter": "python",
   "pygments_lexer": "ipython3",
   "version": "3.9.1"
  },
  "nbTranslate": {
   "displayLangs": [
    "*"
   ],
   "hotkey": "alt-t",
   "langInMainMenu": true,
   "sourceLang": "en",
   "targetLang": "fr",
   "useGoogleTranslate": true
  },
  "toc": {
   "base_numbering": 1,
   "nav_menu": {},
   "number_sections": true,
   "sideBar": true,
   "skip_h1_title": false,
   "title_cell": "Table of Contents",
   "title_sidebar": "Contents",
   "toc_cell": false,
   "toc_position": {},
   "toc_section_display": true,
   "toc_window_display": false
  }
 },
 "nbformat": 4,
 "nbformat_minor": 5
}
