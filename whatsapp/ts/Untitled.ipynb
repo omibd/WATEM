{
 "cells": [
  {
   "cell_type": "code",
   "execution_count": 1,
   "id": "3fee0cee",
   "metadata": {
    "scrolled": true
   },
   "outputs": [],
   "source": [
    "from wabs import *\n",
    "import xpathfuct as fn\n",
    "\n",
    "\n",
    "class WaTem(WABS):\n",
    "    \n",
    "    def __init__(self):\n",
    "        super().__init__()\n",
    "        \n",
    "    def duplicate_none_chk(self, sdic, dc):\n",
    "        dpcount, nonecount = 0, 0\n",
    "        for k, v in dc.items():\n",
    "            if v is None: nonecount = nonecount + 1\n",
    "            else:\n",
    "                if v in list(sdic.values()): \n",
    "                    dpcount = dpcount + 1\n",
    "        else:\n",
    "            if nonecount >=3: none_flag = True\n",
    "            else: none_flag = False\n",
    "\n",
    "            if dpcount>=3: dp_flag = True\n",
    "            else: dp_flag = False\n",
    "            return none_flag, dp_flag\n",
    "\n",
    "\n",
    "    def watem_iter(self, method, start=1, end=50, step=1, sdict=defaultdict()):\n",
    "        dc_is_none = 0\n",
    "        for n in range(start, end, step):\n",
    "            dc = getattr(self, method)(n)\n",
    "            if dc is None and dc_is_none>3:\n",
    "                print('return caller sdict & n')\n",
    "                return sdict, n\n",
    "            elif dc is not None:\n",
    "                if len(sdict) == 0: sdict = dc\n",
    "                else:\n",
    "                    nf, dpf = self.duplicate_none_chk(sdict, dc)\n",
    "                    if nf == False and dpf == False:\n",
    "                        sdict = update_key_value(sdict, dc)\n",
    "                        dc_is_none = 0\n",
    "                        yield dc, n\n",
    "                    else:\n",
    "                        dc_is_none = dc_is_none + 1\n",
    "            else:\n",
    "                dc_is_none = dc_is_none + 1\n",
    "                print('dc is None', dc_is_none)\n",
    "        else:\n",
    "            return sdict, n"
   ]
  },
  {
   "cell_type": "code",
   "execution_count": 2,
   "id": "16095980",
   "metadata": {},
   "outputs": [
    {
     "name": "stdout",
     "output_type": "stream",
     "text": [
      "(18) WhatsApp\n"
     ]
    }
   ],
   "source": [
    "ob = WaTem()\n",
    "dr = ob.get_driver\n",
    "dc = ob.inspect()"
   ]
  },
  {
   "cell_type": "code",
   "execution_count": 3,
   "id": "07022bb4",
   "metadata": {},
   "outputs": [
    {
     "data": {
      "text/plain": [
       "{'pn_search_textarea': True,\n",
       " 'pn_search': True,\n",
       " 'pn_search_filter': True,\n",
       " 'chat_title': 'Emergency SOC Group',\n",
       " 'chat_text_area': True,\n",
       " 'msg_base': True}"
      ]
     },
     "execution_count": 3,
     "metadata": {},
     "output_type": "execute_result"
    }
   ],
   "source": [
    "dc"
   ]
  },
  {
   "cell_type": "code",
   "execution_count": 4,
   "id": "e447609f",
   "metadata": {},
   "outputs": [],
   "source": [
    "def itx(bs=\"(//div[@id='main']//div[@data-testid='msg-container'])\"):\n",
    "    i, nn = 0, 0\n",
    "    while True:\n",
    "        bsinx = bs + '[last()]' if i == 0 else bs + '[last()-' + str(i) + ']'\n",
    "        rs = ob.msginfo(base=bsinx)\n",
    "        if rs is not None:\n",
    "            i, nn = i + 1, 0\n",
    "        else:\n",
    "            nn = nn + 1\n",
    "            ob.just_move(bs + \"[1]\")\n",
    "        yield rs, i, nn\n",
    "    \n",
    "\n"
   ]
  },
  {
   "cell_type": "code",
   "execution_count": null,
   "id": "a1c4b74b",
   "metadata": {},
   "outputs": [
    {
     "name": "stdout",
     "output_type": "stream",
     "text": [
      "(//div[@id='main']//div[@data-testid='msg-container'])[last()]\n",
      "({'sender': ['Sobuj RNM'], 'text': ['Update of Site Down at 19:00 On 05-02-2023\\n\\nRegion: 2G/3G/4G\\nNational: 11/6/21\\n\\nDHK_M: 0/1/0\\nDHK_N: 0/0/2\\nDHK_S: 0/0/0\\nDHK_O: 1/0/2\\nCTG_M: 2/1/2\\nCTG_N: 0/0/2\\nCTG_S: 2/0/2\\nCOM: 0/1/2\\nNOA: 0/0/0\\nSYL: 2/1/2\\nMYM: 2/0/3\\nBAR: 0/0/0\\nKHL: 0/1/1\\nKUS: 2/1/3\\nRAJ: 0/0/0\\nRANG: 0/0/0'], 'q_sender': [None], 'q_text': [None], 'datetime': ['2023-05-02 19:06'], 'sender_visible': [None], 'time': [None], 'img': 'No Image'}, 1, 0)\n",
      "(//div[@id='main']//div[@data-testid='msg-container'])[last()-1]\n",
      "({'sender': ['Eric Amit Dada'], 'text': ['PDP SR Update of Pubail UGW06 @ 19:00\\n\\n2G/3G PDP SR 98.242%\\n4G PDP SR 99.722%'], 'q_sender': [None], 'q_text': [None], 'datetime': ['2023-05-02 19:03'], 'sender_visible': [None], 'time': [None], 'img': 'No Image'}, 2, 0)\n",
      "(//div[@id='main']//div[@data-testid='msg-container'])[last()-2]\n",
      "({'sender': ['Eric Amit Dada'], 'text': ['ICMP Delay & Packet Loss Update at 19:00_05/02/2023'], 'q_sender': [None], 'q_text': [None], 'datetime': ['2023-05-02 19:01'], 'sender_visible': [None], 'time': [None], 'img': 'No Image'}, 3, 0)\n",
      "(//div[@id='main']//div[@data-testid='msg-container'])[last()-3]\n",
      "({'sender': ['Eric Amit Dada'], 'text': ['Net Status 04-Feb,2023\\n\\nVLR(A): 43.75M(+21.5K)\\nVLR(R): 45.44M(-38.15K)\\nHLR: 113.39M(+896.64K)\\n4G(A): 18.98M(+163.74K)\\n4G(R): 24.68M(+18.27K)\\nEL(WD): 5.82M(+803.65K)\\nELSR: 98.42%(+0.25%)\\n\\nNetwork Performance:\\nCSSR2G: 99.16%(+0.08%)\\nCDR2G: 0.39%(+0.02%)\\nCDR3G: 0.16%(+0.01%)\\nPSR: 94.9%(+0.73%)\\nLUSR: 98.86%(+0.06%)\\nMTCCR: 92.48%(+0.09%)\\nSMMTSR: 59.39%(+4.15%)\\n\\nTraffic:\\nVoice:\\n2G(BH): 460.31K(-14.15K)\\n2G(WD): 4742.28K(-150.83K)\\n3G(BH): 257.35K(-6.4K)\\n3G(WD): 2961.91K(+73.02K)\\n\\nData:\\nGiTotal(TP): 1399.33Gbps(-4.45Gbps)\\nGiDL(FNA): 516.71Gbps\\nGiDL(GGC): 285.72Gbps\\nGiDL(BDIX): 6.62Gbps\\n2G(WD): 12.37TB(-0.73TB)\\n3G(WD): 582.75TB(-36.54TB)\\n4G(WD): 8011.5TB(+84.54TB)\\nTotalData: 8606.62TB(+47.28TB)\\n\\nSMS:\\nSMMT(WD): 22M(+4352.03K)\\n\\nIIG Peak Usage (Gbps) /Capacity (Gbps) /Ut…'], 'q_sender': [None], 'q_text': [None], 'datetime': ['2023-05-02 18:31'], 'sender_visible': [None], 'time': [None], 'img': 'No Image'}, 4, 0)\n",
      "(//div[@id='main']//div[@data-testid='msg-container'])[last()-4]\n",
      "({'sender': ['Txmonitoring'], 'text': ['High fiber loss pending update 18:00_05/02'], 'q_sender': [None], 'q_text': [None], 'datetime': ['2023-05-02 18:23'], 'sender_visible': [None], 'time': [None], 'img': 'No Image'}, 5, 0)\n",
      "(//div[@id='main']//div[@data-testid='msg-container'])[last()-5]\n",
      "({'sender': ['Txmonitoring'], 'text': ['Fiber incident update at 18:00_05/02'], 'q_sender': [None], 'q_text': [None], 'datetime': ['2023-05-02 18:22'], 'sender_visible': [None], 'time': [None], 'img': 'No Image'}, 6, 0)\n",
      "(//div[@id='main']//div[@data-testid='msg-container'])[last()-6]\n",
      "({'sender': ['Eric Amit Dada'], 'text': ['ICMP Delay & Packet Loss Update at 18:00_05/02/2023'], 'q_sender': [None], 'q_text': [None], 'datetime': ['2023-05-02 18:12'], 'sender_visible': [None], 'time': [None], 'img': 'No Image'}, 7, 0)\n",
      "(//div[@id='main']//div[@data-testid='msg-container'])[last()-7]\n",
      "({'sender': ['Eric Amit Dada'], 'text': ['Network Update\\n18:00_05/02/2023\\n\\nPDP SR found 100% in all UGWs (Pubail PDP issue solved now)\\n\\nCurrently no Pending TT in the Core bucket\\n\\nNo capping issue observed at any IIG Link\\n\\nNo alarm found at ATIC\\n\\nDelay/Packet loss are reported at Service Performance Report\\n\\n1 Critical alarms found in PSA Report\\n\\nCTO and CEBO traces are not running due to some security error\\n\\nNCEIP QoS related issue raised to TxM/Tx_FLS (09:00_05/02/23)'], 'q_sender': [None], 'q_text': [None], 'datetime': ['2023-05-02 18:10'], 'sender_visible': [None], 'time': [None], 'img': 'No Image'}, 8, 0)\n",
      "(//div[@id='main']//div[@data-testid='msg-container'])[last()-8]\n",
      "({'sender': ['Eric Amit Dada'], 'text': ['Pending Incidents at 18:00_05/02\\n\\nFiber Network:\\n\\n1. DHPTN42(Dhaka 2) to NGBND30(NG2110) Robi DWDM,OSN and DHMJH28(Twin Tower IBS) to NGSNG01(Kachpur) and DHGUL58(Uday) to NGSNG01(Kachpur)  Robi DWDM and DHMJH23(Eunoos_Center) to NGSNG01(Kachpur) Robi OSN fibers are down\\nImpact: No outage (Robi-Alekharchar to SCL Secondary IIG route, BDIX Secondary link, Bohaddarhat to Uday 2*100G and BTCL ICX route of Dhaka are down)\\nSeverity: C-3\\nFT: 15:41_05/02\\nERT: Yet to share\\nUnit: Fiber Ops\\nVendor: Hamida(Robi Own)\\n\\n2. NSBLB02(Narayanpur) to BMSDR04(Bhudunti) BTCL DWDM fiber is up but still high loss persists\\nImpact: No outage\\nSeverity: C-3\\nFT: 11:30_27/01\\nERT: Yet to share\\nUnit: Fiber Ops\\nVendor: BTCL\\n\\n3. SYBLG34(SL6135) to SYSDRD4(CRSLMGW1) Robi IRU DWDM fiber is do…'], 'q_sender': [None], 'q_text': [None], 'datetime': ['2023-05-02 18:08'], 'sender_visible': [None], 'time': [None], 'img': 'No Image'}, 9, 0)\n",
      "(//div[@id='main']//div[@data-testid='msg-container'])[last()-9]\n",
      "({'sender': ['Sobuj RNM'], 'text': ['Update of Site Down at 18:00 On 05-02-2023\\n\\nRegion: 2G/3G/4G\\nNational: 24/12/31\\n\\nDHK_M: 0/2/2\\nDHK_N: 3/2/4\\nDHK_S: 0/0/0\\nDHK_O: 1/0/2\\nCTG_M: 3/1/2\\nCTG_N: 1/0/1\\nCTG_S: 1/0/1\\nCOM: 0/1/2\\nNOA: 1/0/1\\nSYL: 4/0/4\\nMYM: 6/4/6\\nBAR: 1/0/1\\nKHL: 0/1/1\\nKUS: 2/1/3\\nRAJ: 0/0/0\\nRANG: 1/0/1'], 'q_sender': [None], 'q_text': [None], 'datetime': ['2023-05-02 18:06'], 'sender_visible': [None], 'time': [None], 'img': 'No Image'}, 10, 0)\n",
      "(//div[@id='main']//div[@data-testid='msg-container'])[last()-10]\n",
      "({'sender': ['Sobuj RNM'], 'text': ['Close Notification:\\n7 2G & 7 4G Sites in Rangpur are up\\nSeverity: C3\\nFT: 16:41_05/02\\nRT: 17:45_05/02\\nDUR: 01:04\\nCause: Power issue at NPSDP10\\nAction: ULKA team resolved the issue\\nArea: Parbatipur, Saidpur & Taraganj\\nUnit: ULKA\\nTT: INC000017991935'], 'q_sender': [None], 'q_text': [None], 'datetime': ['2023-05-02 17:55'], 'sender_visible': [None], 'time': [None], 'img': 'No Image'}, 11, 0)\n",
      "(//div[@id='main']//div[@data-testid='msg-container'])[last()-11]\n",
      "(None, 11, 1)\n",
      "(//div[@id='main']//div[@data-testid='msg-container'])[last()-11]\n",
      "({'sender': ['Baten Vai'], 'text': [\"05-Feb'23@17:00\\nBSC CSSR: No degradation\\nVoice Traffic: No degradation\"], 'q_sender': [None], 'q_text': [None], 'datetime': ['2023-05-02 17:52'], 'sender_visible': [None], 'time': [None], 'img': 'No Image'}, 12, 0)\n",
      "(//div[@id='main']//div[@data-testid='msg-container'])[last()-12]\n",
      "({'sender': ['Shifat'], 'text': ['Welcome vaia'], 'q_sender': [None], 'q_text': [None], 'datetime': ['2023-05-02 17:45'], 'sender_visible': [None], 'time': [None], 'img': 'No Image'}, 13, 0)\n",
      "(//div[@id='main']//div[@data-testid='msg-container'])[last()-13]\n",
      "({'sender': ['Alauddin Vai'], 'text': ['Thanks'], 'q_sender': [None], 'q_text': [None], 'datetime': ['2023-05-02 17:45'], 'sender_visible': [None], 'time': [None], 'img': 'No Image'}, 14, 0)\n",
      "(//div[@id='main']//div[@data-testid='msg-container'])[last()-14]\n",
      "({'sender': ['Tanveer Vai TX'], 'text': ['Ping ok'], 'q_sender': [None], 'q_text': [None], 'datetime': ['2023-05-02 17:41'], 'sender_visible': [None], 'time': [None], 'img': 'No Image'}, 15, 0)\n",
      "(//div[@id='main']//div[@data-testid='msg-container'])[last()-15]\n",
      "({'sender': ['Eric Amit Dada'], 'text': ['PDP SR Degradation at Pubail UGW06:\\n\\nObserving 2G/3G PDP SR degradation to 96.653% at Pubail03_UGW06 due to address since 2023-02-05 17:05:00. 4G PDP SR is still OK. Issue informed & mailed to PS Core Ops Abeer Bhai and he is checking now.'], 'q_sender': [None], 'q_text': [None], 'datetime': ['2023-05-02 17:40'], 'sender_visible': [None], 'time': [None], 'img': 'No Image'}, 16, 0)\n",
      "(//div[@id='main']//div[@data-testid='msg-container'])[last()-16]\n",
      "({'sender': ['Shifat'], 'text': ['Dear vaia, please have the feedback: \\n\\nCGLHG11(Edotco): Found up and taking traffic \\n\\nCPSDRA6(Edotco): Found up and taking traffic \\n\\nCPUMT34(AT): CPUMT34B02 BB O&M down, need to check form TX end. CPUMT34_01 BB up and taking traffic \\n\\nBHMNP05(Edotco): All the cells are down with \"Board Not Securely Installed (Board Type=UBBP)\" need to check on site.\\n\\nNPSDP10(AT): NE is disconnected with DC LOW  alarm. Need to check power issue'], 'q_sender': [None], 'q_text': [None], 'datetime': ['2023-05-02 17:40'], 'sender_visible': [None], 'time': [None], 'img': 'No Image'}, 17, 0)\n",
      "(//div[@id='main']//div[@data-testid='msg-container'])[last()-17]\n"
     ]
    },
    {
     "name": "stdout",
     "output_type": "stream",
     "text": [
      "({'sender': ['Tanveer Vai TX'], 'text': ['ok'], 'q_sender': [None], 'q_text': [None], 'datetime': ['2023-05-02 17:40'], 'sender_visible': [None], 'time': [None], 'img': 'No Image'}, 18, 0)\n",
      "(//div[@id='main']//div[@data-testid='msg-container'])[last()-18]\n",
      "({'sender': ['Alauddin Vai'], 'text': ['@Tanveer Vai TX vi, plz check Shaymoly wic Ping status'], 'q_sender': [None], 'q_text': [None], 'datetime': ['2023-05-02 17:39'], 'sender_visible': [None], 'time': [None], 'img': 'No Image'}, 19, 0)\n",
      "(//div[@id='main']//div[@data-testid='msg-container'])[last()-19]\n",
      "({'sender': ['Alauddin Vai'], 'text': ['DG sites update at 17:00 on 05-02-2023\\n\\nCC:3\\nCGLHG11(Edotco): 17:03 05-02-23\\nCPSDRA6(Edotco): 17:02 05-02-23\\nCPUMT34(AT): 16:30 05-02-23\\n\\nDHK: 0\\n\\nNCCD:2\\nBHMNP05(Edotco): 16:49 05-02-23\\nNPSDP10(AT): 16:41 05-02-23\\n\\n\\n@Shifat vi, RC Plz'], 'q_sender': [None], 'q_text': [None], 'datetime': ['2023-05-02 17:10'], 'sender_visible': [None], 'time': [None], 'img': 'No Image'}, 20, 0)\n",
      "(//div[@id='main']//div[@data-testid='msg-container'])[last()-20]\n",
      "({'sender': ['Sobuj RNM'], 'text': ['Update of Site Down at 17:00 On 05-02-2023\\n\\nRegion: 2G/3G/4G\\nNational: 47/17/50\\n\\nDHK_M: 2/3/4\\nDHK_N: 3/1/3\\nDHK_S: 1/1/1\\nDHK_O: 2/1/2\\nCTG_M: 4/1/3\\nCTG_N: 1/0/1\\nCTG_S: 3/1/3\\nCOM: 2/1/6\\nNOA: 2/1/1\\nSYL: 6/0/5\\nMYM: 8/4/6\\nBAR: 0/0/1\\nKHL: 2/2/2\\nKUS: 2/1/3\\nRAJ: 2/0/2\\nRANG: 7/0/7---C3 incident'], 'q_sender': [None], 'q_text': [None], 'datetime': ['2023-05-02 17:10'], 'sender_visible': [None], 'time': [None], 'img': 'No Image'}, 21, 0)\n",
      "(//div[@id='main']//div[@data-testid='msg-container'])[last()-21]\n",
      "({'sender': ['Sobuj RNM'], 'text': ['OK Bhaia, Correction in tracker'], 'q_sender': [None], 'q_text': [None], 'datetime': ['2023-05-02 17:06'], 'sender_visible': [None], 'time': [None], 'img': 'No Image'}, 22, 0)\n",
      "(//div[@id='main']//div[@data-testid='msg-container'])[last()-22]\n",
      "({'sender': ['Alauddin Vai'], 'text': ['its auto restored'], 'q_sender': [None], 'q_text': [None], 'datetime': ['2023-05-02 17:05'], 'sender_visible': [None], 'time': [None], 'img': 'No Image'}, 23, 0)\n",
      "(//div[@id='main']//div[@data-testid='msg-container'])[last()-23]\n",
      "({'sender': ['Alauddin Vai'], 'text': ['No action here'], 'q_sender': [None], 'q_text': [None], 'datetime': ['2023-05-02 17:05'], 'sender_visible': [None], 'time': [None], 'img': 'No Image'}, 24, 0)\n",
      "(//div[@id='main']//div[@data-testid='msg-container'])[last()-24]\n",
      "({'sender': ['Sobuj RNM'], 'text': ['Close Notification:\\n2 2G, 2 3G & 2 4G Sites in Chittagong Metro are up\\nSeverity: C3\\nFT: 15:36_05/02\\nRT: 16:00_05/02\\nDUR: 00:24\\nLink: CGKHL25-CGKHL56\\nCause: MW LOS issue\\nAction: TNP team resolved the issue\\nArea: Khulshi Thana\\nUnit: TNP\\nTT: INC000017991750'], 'q_sender': [None], 'q_text': [None], 'datetime': ['2023-05-02 17:05'], 'sender_visible': [None], 'time': [None], 'img': 'No Image'}, 25, 0)\n",
      "(//div[@id='main']//div[@data-testid='msg-container'])[last()-25]\n",
      "(None, 25, 1)\n",
      "(//div[@id='main']//div[@data-testid='msg-container'])[last()-25]\n",
      "({'sender': ['Sobuj RNM'], 'text': ['Incident Notification:\\n7 2G & 7 4G Sites in Rangpur are down \\nSeverity: C3\\nFT: 16:41_05/02\\nERT: 01 hr\\nCause: Power issue at NPSDP10\\nArea: Parbatipur, Saidpur & Taraganj\\nUnit: ULKA\\nTT: INC000017991935'], 'q_sender': [None], 'q_text': [None], 'datetime': ['2023-05-02 16:52'], 'sender_visible': [None], 'time': [None], 'img': 'No Image'}, 26, 0)\n",
      "(//div[@id='main']//div[@data-testid='msg-container'])[last()-26]\n",
      "({'sender': ['Eric Amit Dada'], 'text': ['Update Notification:\\nDHPTN42(Dhaka 2) to NGBND30(NG2110) Robi DWDM and DHMJH28(Twin Tower IBS) to NGSNG01(Kachpur) and DHGUL58(Uday) to NGSNG01(Kachpur)  Robi DWDM and DHMJH23(Eunoos_Center) to NGSNG01(Kachpur) Robi OSN fibers are down\\nImpact: No outage (Robi-Alekharchar to SCL Secondary IIG route, BDIX Secondary link and Bohaddarhat to Uday 2*100G are down)\\nSeverity: C-3\\nFT: 15:41_05/02\\nLatest ERT: Yet to share\\nCause: Suspecting fiber cut\\nUnit: Hamida(Robi Own)\\nTracking ID: RDTXM2302051541'], 'q_sender': [None], 'q_text': [None], 'datetime': ['2023-05-02 16:38'], 'sender_visible': [None], 'time': [None], 'img': 'No Image'}, 27, 0)\n",
      "(//div[@id='main']//div[@data-testid='msg-container'])[last()-27]\n",
      "({'sender': ['Alauddin Vai'], 'text': ['plz update here'], 'q_sender': [None], 'q_text': [None], 'datetime': ['2023-05-02 16:34'], 'sender_visible': [None], 'time': [None], 'img': 'No Image'}, 28, 0)\n",
      "(//div[@id='main']//div[@data-testid='msg-container'])[last()-28]\n",
      "({'sender': ['Eric Amit Dada'], 'text': ['Adding to the incident:\\n\\nRobi-Alekharchar to SCL Secondary IIG route is also down for this fiber incident. Traffic shifted to Primary IIG route now.'], 'q_sender': [None], 'q_text': [None], 'datetime': ['2023-05-02 16:32'], 'sender_visible': [None], 'time': [None], 'img': 'No Image'}, 29, 0)\n",
      "(//div[@id='main']//div[@data-testid='msg-container'])[last()-29]\n",
      "({'sender': ['Alauddin Vai'], 'text': ['Thanks Bhaiya'], 'q_sender': [None], 'q_text': [None], 'datetime': ['2023-05-02 16:15'], 'sender_visible': [None], 'time': [None], 'img': 'No Image'}, 30, 0)\n",
      "(//div[@id='main']//div[@data-testid='msg-container'])[last()-30]\n",
      "({'sender': ['Tanveer Vai TX'], 'text': ['Getting ping response'], 'q_sender': [None], 'q_text': [None], 'datetime': ['2023-05-02 16:14'], 'sender_visible': [None], 'time': [None], 'img': 'No Image'}, 31, 0)\n",
      "(//div[@id='main']//div[@data-testid='msg-container'])[last()-31]\n",
      "({'sender': ['Tanveer Vai TX'], 'text': ['ok'], 'q_sender': [None], 'q_text': [None], 'datetime': ['2023-05-02 16:13'], 'sender_visible': [None], 'time': [None], 'img': 'No Image'}, 32, 0)\n",
      "(//div[@id='main']//div[@data-testid='msg-container'])[last()-32]\n",
      "({'sender': ['Alauddin Vai'], 'text': ['Bandarban'], 'q_sender': [None], 'q_text': [None], 'datetime': ['2023-05-02 16:12'], 'sender_visible': [None], 'time': [None], 'img': 'No Image'}, 33, 0)\n",
      "(//div[@id='main']//div[@data-testid='msg-container'])[last()-33]\n",
      "({'sender': ['Tanveer Vai TX'], 'text': ['Please share WIC Name'], 'q_sender': [None], 'q_text': [None], 'datetime': ['2023-05-02 16:12'], 'sender_visible': [None], 'time': [None], 'img': 'No Image'}, 34, 0)\n",
      "(//div[@id='main']//div[@data-testid='msg-container'])[last()-34]\n",
      "({'sender': [None], 'text': [None], 'q_sender': [None], 'q_text': [None], 'datetime': [None], 'sender_visible': [None], 'time': [None], 'img': 'No Image'}, 35, 0)\n",
      "(//div[@id='main']//div[@data-testid='msg-container'])[last()-35]\n",
      "({'sender': ['Sajal'], 'text': ['Fiber restored. @Tanveer Vai TX vai please help to current status'], 'q_sender': [None], 'q_text': [None], 'datetime': ['2023-05-02 16:09'], 'sender_visible': [None], 'time': [None], 'img': 'No Image'}, 36, 0)\n",
      "(//div[@id='main']//div[@data-testid='msg-container'])[last()-36]\n",
      "({'sender': ['Sajal'], 'text': ['WIC E1 Down due to CGHTZ11-CHSKN27 PGCB Fiber cut issue.'], 'q_sender': [None], 'q_text': [None], 'datetime': ['2023-05-02 16:08'], 'sender_visible': [None], 'time': [None], 'img': 'No Image'}, 37, 0)\n",
      "(//div[@id='main']//div[@data-testid='msg-container'])[last()-37]\n",
      "({'sender': ['Eric Amit Dada'], 'text': ['ICMP Delay & Packet Loss Update at 16:00_05/02/2023'], 'q_sender': [None], 'q_text': [None], 'datetime': ['2023-05-02 16:07'], 'sender_visible': [None], 'time': [None], 'img': 'No Image'}, 38, 0)\n",
      "(//div[@id='main']//div[@data-testid='msg-container'])[last()-38]\n",
      "(None, 38, 1)\n",
      "(//div[@id='main']//div[@data-testid='msg-container'])[last()-38]\n",
      "({'sender': ['Eric Amit Dada'], 'text': ['Revised Incident Notification:\\nDHPTN42(Dhaka 2) to NGBND30(NG2110) Robi DWDM and DHMJH28(Twin Tower IBS) to NGSNG01(Kachpur) and DHGUL58(Uday) to NGSNG01(Kachpur)  Robi DWDM and DHMJH23(Eunoos_Center) to NGSNG01(Kachpur) Robi OSN fibers are down\\nImpact: No outage (BDIX Secondary link and Bohaddarhat to Uday 2*100G are down)\\nSeverity: C-3\\nFT: 15:41_05/02\\nERT: 06 hrs\\nCause: Suspecting fiber cut\\nUnit: Hamida(Robi Own)\\nTracking ID: RDTXM2302051541'], 'q_sender': [None], 'q_text': [None], 'datetime': ['2023-05-02 16:04'], 'sender_visible': [None], 'time': [None], 'img': 'No Image'}, 39, 0)\n",
      "(//div[@id='main']//div[@data-testid='msg-container'])[last()-39]\n",
      "({'sender': ['Sobuj RNM'], 'text': ['Update of Site Down at 16:00 On 05-02-2023\\n\\nRegion: 2G/3G/4G\\nNational: 43/22/47\\n\\nDHK_M: 2/2/2\\nDHK_N: 2/1/3\\nDHK_S: 0/0/1\\nDHK_O: 1/0/1\\nCTG_M: 8/6/7\\nCTG_N: 1/0/2\\nCTG_S: 2/1/1\\nCOM: 4/1/6\\nNOA: 2/0/2\\nSYL: 5/1/5\\nMYM: 9/6/9\\nBAR: 3/2/3\\nKHL: 2/2/2\\nKUS: 0/0/1\\nRAJ: 1/0/1\\nRANG: 1/0/1'], 'q_sender': [None], 'q_text': [None], 'datetime': ['2023-05-02 16:01'], 'sender_visible': [None], 'time': [None], 'img': 'No Image'}, 40, 0)\n",
      "(//div[@id='main']//div[@data-testid='msg-container'])[last()-40]\n"
     ]
    },
    {
     "name": "stdout",
     "output_type": "stream",
     "text": [
      "({'sender': ['Sobuj RNM'], 'text': ['Incident Notification:\\n2 2G, 2 3G & 2 4G Sites in Chittagong Metro are down\\nSeverity: C3\\nFT: 15:36_05/02\\nERT: 04 hrs\\nLink: CGKHL25-CGKHL56\\nCause: Suspecting MW link down\\nArea: Khulshi Thana\\nUnit: e.co\\nTT: INC000017991750'], 'q_sender': [None], 'q_text': [None], 'datetime': ['2023-05-02 15:58'], 'sender_visible': [None], 'time': [None], 'img': 'No Image'}, 41, 0)\n",
      "(//div[@id='main']//div[@data-testid='msg-container'])[last()-41]\n",
      "({'sender': ['Gowranggo Risi'], 'text': ['NAT pool has been shifted as per planning today. @Eric Amit Dada  da & CNM mates please observe if any capping issue arise with mentioned IIG during busy hour'], 'q_sender': [None], 'q_text': [None], 'datetime': ['2023-05-02 15:24'], 'sender_visible': [None], 'time': [None], 'img': 'No Image'}, 42, 0)\n",
      "(//div[@id='main']//div[@data-testid='msg-container'])[last()-42]\n",
      "({'sender': ['Eric Amit Dada'], 'text': ['Network Update\\n15:00_05/02/2023\\n\\nPDP SR found 100% in all UGWs \\n\\nCurrently no Pending TT in the Core bucket\\n\\nNo capping issue observed at any IIG Link\\n\\nNo alarm found at ATIC\\n\\nDelay/Packet loss are reported at Service Performance Report\\n\\nNo Critical alarms found in PSA Report\\n\\nCTO and CEBO traces are not running due to some security error\\n\\nNCEIP QoS related issue raised to TxM/Tx_FLS (09:00_05/02/23)'], 'q_sender': [None], 'q_text': [None], 'datetime': ['2023-05-02 15:24'], 'sender_visible': [None], 'time': [None], 'img': 'No Image'}, 43, 0)\n",
      "(//div[@id='main']//div[@data-testid='msg-container'])[last()-43]\n",
      "({'sender': ['Shahin Vaia'], 'text': [\"The Duty Handover to Evening shift at 15:00 on 05-Feb-2023:\\n\\nSM: Alauddin\\nCNM: Amit\\nTX_M: Sajol vai\\nTX_FLS: Tanvir\\nRAN_M: Sobuj\\nRAN_FLS: Baten (Mail), Sifath (Query, Phn & FTT), Saif (CC, M Query) & Yusuf (Quality TT)\\n\\nBO Support Concerns for this week (5th February to 11 February_2023)\\n\\nCN_BO: CS_ Arif & PS_Abeer \\nTX_BO: Toriqul\\nRAN_BO: Shibbir\\nOSS: Sariha\\nIP TNO: Ashraful\\nTSPR: Monoj\\nDCN_Net: Linkon\\n\\nMajor Concern: \\n\\n1. @RANFLS/SM, please check BSC/RNC Voice Traffic degradation, CSSR degradation update email from Network. Insight regular basis. \\n@RANFLS from now on post the update every hour. \\n@SM, Keep Tableau/Network Availability Dashboard under observation.\\n\\n2. @RANFLS, don't reset any Gulshan's sites except jalal vai's consent.\\n\\n3. @CNM Keep posting PD…\"], 'q_sender': [None], 'q_text': [None], 'datetime': ['2023-05-02 15:07'], 'sender_visible': [None], 'time': [None], 'img': 'No Image'}, 44, 0)\n",
      "(//div[@id='main']//div[@data-testid='msg-container'])[last()-44]\n",
      "({'sender': ['Mamun RNM'], 'text': ['Update of Site Down at 15:00 On 05-02-2023\\n\\nRegion: 2G/3G/4G\\nNational: 37/16/38\\n\\nDHK_M: 2/1/2\\nDHK_N: 2/1/3\\nDHK_S: 0/1/1\\nDHK_O: 1/0/0\\nCTG_M: 5/2/4\\nCTG_N: 1/0/2\\nCTG_S: 4/1/1\\nCOM: 4/1/5\\nNOA: 2/1/2\\nSYL: 6/1/6\\nMYM: 4/3/4\\nBAR: 3/2/3\\nKHL: 1/2/2\\nKUS: 0/0/1\\nRAJ: 0/0/0\\nRANG: 2/0/2'], 'q_sender': [None], 'q_text': [None], 'datetime': ['2023-05-02 15:02'], 'sender_visible': [None], 'time': [None], 'img': 'No Image'}, 45, 0)\n",
      "(//div[@id='main']//div[@data-testid='msg-container'])[last()-45]\n",
      "({'sender': ['Gowranggo Risi'], 'text': ['ICMP Delay & Packet Loss Update at 14:30_05/02/2023'], 'q_sender': [None], 'q_text': [None], 'datetime': ['2023-05-02 14:41'], 'sender_visible': [None], 'time': [None], 'img': 'No Image'}, 46, 0)\n",
      "(//div[@id='main']//div[@data-testid='msg-container'])[last()-46]\n",
      "({'sender': ['Arif RANFLS'], 'text': [\"05-Feb'23@13:00\\nBSC CSSR: No degradation\\nVoice Traffic: No degradation\"], 'q_sender': [None], 'q_text': [None], 'datetime': ['2023-05-02 14:19'], 'sender_visible': [None], 'time': [None], 'img': 'No Image'}, 47, 0)\n",
      "(//div[@id='main']//div[@data-testid='msg-container'])[last()-47]\n",
      "(None, 47, 1)\n",
      "(//div[@id='main']//div[@data-testid='msg-container'])[last()-47]\n",
      "({'sender': ['aklash vai'], 'text': ['Please have the updated disaster lock/unblock macro file'], 'q_sender': [None], 'q_text': [None], 'datetime': ['2023-05-02 14:12'], 'sender_visible': [None], 'time': [None], 'img': 'No Image'}, 48, 0)\n",
      "(//div[@id='main']//div[@data-testid='msg-container'])[last()-48]\n",
      "({'sender': ['Mamun RNM'], 'text': ['Update of Site Down at 14:00 On 05-02-2023\\n\\nRegion: 2G/3G/4G\\nNational: 36/21/41\\n\\nDHK_M: 1/0/1\\nDHK_N: 5/4/6\\nDHK_S: 0/0/0\\nDHK_O: 3/1/2\\nCTG_M: 7/2/6\\nCTG_N: 3/1/5\\nCTG_S: 5/2/5\\nCOM: 1/2/3\\nNOA: 2/2/2\\nSYL: 3/0/3\\nMYM: 5/5/5\\nBAR: 1/1/1\\nKHL: 0/1/1\\nKUS: 0/0/1\\nRAJ: 0/0/0\\nRANG: 0/0/0'], 'q_sender': [None], 'q_text': [None], 'datetime': ['2023-05-02 14:03'], 'sender_visible': [None], 'time': [None], 'img': 'No Image'}, 49, 0)\n",
      "(//div[@id='main']//div[@data-testid='msg-container'])[last()-49]\n",
      "({'sender': ['AHM Jubayer'], 'text': ['Checking bhaiya'], 'q_sender': [None], 'q_text': [None], 'datetime': ['2023-05-02 13:28'], 'sender_visible': [None], 'time': [None], 'img': 'No Image'}, 50, 0)\n",
      "(//div[@id='main']//div[@data-testid='msg-container'])[last()-50]\n"
     ]
    }
   ],
   "source": [
    "for i in itx():\n",
    "    print(i)\n",
    "    "
   ]
  },
  {
   "cell_type": "code",
   "execution_count": null,
   "id": "e8cb968e",
   "metadata": {},
   "outputs": [],
   "source": []
  },
  {
   "cell_type": "code",
   "execution_count": null,
   "id": "6dc46fed",
   "metadata": {},
   "outputs": [],
   "source": []
  }
 ],
 "metadata": {
  "kernelspec": {
   "display_name": "base",
   "language": "python",
   "name": "python3"
  },
  "language_info": {
   "codemirror_mode": {
    "name": "ipython",
    "version": 3
   },
   "file_extension": ".py",
   "mimetype": "text/x-python",
   "name": "python",
   "nbconvert_exporter": "python",
   "pygments_lexer": "ipython3",
   "version": "3.9.1 (default, Dec 11 2020, 09:29:25) [MSC v.1916 64 bit (AMD64)]"
  },
  "nbTranslate": {
   "displayLangs": [
    "*"
   ],
   "hotkey": "alt-t",
   "langInMainMenu": true,
   "sourceLang": "en",
   "targetLang": "fr",
   "useGoogleTranslate": true
  },
  "toc": {
   "base_numbering": 1,
   "nav_menu": {},
   "number_sections": true,
   "sideBar": true,
   "skip_h1_title": false,
   "title_cell": "Table of Contents",
   "title_sidebar": "Contents",
   "toc_cell": false,
   "toc_position": {},
   "toc_section_display": true,
   "toc_window_display": false
  },
  "vscode": {
   "interpreter": {
    "hash": "cd9bc9dfe55b83b964e3739147757be76cffe511b6a0719228191b886ca6a6c7"
   }
  }
 },
 "nbformat": 4,
 "nbformat_minor": 5
}
