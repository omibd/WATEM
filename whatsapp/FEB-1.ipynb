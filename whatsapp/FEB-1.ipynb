{
 "cells": [
  {
   "cell_type": "code",
   "execution_count": 1,
   "id": "993a3162",
   "metadata": {},
   "outputs": [],
   "source": [
    "from wabs import *\n",
    "import yaml\n",
    "\n",
    "def yml(filepath='xpath.yml'):\n",
    "    with open(filepath, 'r') as stream:\n",
    "        try:\n",
    "            parsed_yaml=yaml.safe_load(stream)\n",
    "            return parsed_yaml\n",
    "        except yaml.YAMLError as exc:\n",
    "            print(exc)\n",
    "            return 0"
   ]
  },
  {
   "cell_type": "code",
   "execution_count": 2,
   "id": "e78586cd",
   "metadata": {},
   "outputs": [],
   "source": [
    "class Watem:\n",
    "    \n",
    "    def __init__(self, url=None):\n",
    "        chrome_options = Options()\n",
    "        chrome_options.add_experimental_option(\"debuggerAddress\", \"127.0.0.1:9222\")\n",
    "        self.url = 'whatsapp.com' if url is None else url\n",
    "        self.driver = webdriver.Chrome(service=Service(ChromeDriverManager().install()), options=chrome_options)\n",
    "        self.w = WebDriverWait(self.driver, 10)\n",
    "        print(self.driver.title)\n",
    "    \n",
    "    @property\n",
    "    def get_driver(self):\n",
    "        return self.driver"
   ]
  },
  {
   "cell_type": "code",
   "execution_count": 3,
   "id": "836fff3c",
   "metadata": {},
   "outputs": [],
   "source": [
    "class W2(WhBase):\n",
    "        \n",
    "    def xpe(self, xpt, ls_property=None):\n",
    "        try:\n",
    "            y = self.w.until(EC.presence_of_element_located((By.XPATH, xpt)))\n",
    "            if ls_property is None: return y\n",
    "            else:\n",
    "                if type(ls_property) is list: return [getattr(y, n) for n in ls_property]\n",
    "                else: return {k: getattr(y, k)(v) for k, v in y.items()}\n",
    "        except Exception as e: \n",
    "            print(e)\n",
    "            return None\n",
    "        \n",
    "    def itr(self, xpt):\n",
    "        if type(xpt) is str: return self.xpe(xpt)\n",
    "        elif type(xpt) is list: return [self.xpe(n) for n in xpt]\n",
    "        elif type(xpt) is dict:\n",
    "            return {k : [self.xpe(n) for n in v] if type(v) is list else self.xpe(v) for k, v in xpt.items()}\n",
    "        else:\n",
    "            print('xpt is not str or list or dict')\n",
    "            return xpt"
   ]
  },
  {
   "cell_type": "code",
   "execution_count": 4,
   "id": "76c3cf7b",
   "metadata": {},
   "outputs": [
    {
     "name": "stdout",
     "output_type": "stream",
     "text": [
      "WhatsApp\n",
      "reload success, whatsapp ready\n"
     ]
    }
   ],
   "source": [
    "wh = W2()\n",
    "ws = wh.reload\n",
    "d = wh.get_driver"
   ]
  },
  {
   "cell_type": "code",
   "execution_count": 5,
   "id": "706742c7",
   "metadata": {
    "code_folding": []
   },
   "outputs": [],
   "source": [
    "def xpe(d, xpt, ls_property=None):\n",
    "    w = WebDriverWait(self.driver, 5)\n",
    "    try:\n",
    "        y = w.until(EC.presence_of_element_located((By.XPATH, xpt)))\n",
    "        if ls_property is None: return y\n",
    "        else:\n",
    "            if type(ls_property) is list: return [getattr(y, n) for n in ls_property]\n",
    "            else: return {k: getattr(y, k)(v) for k, v in y.items()}\n",
    "    except Exception as e: \n",
    "        print(e)\n",
    "        return None\n",
    "\n",
    "def itr(d, xpt):\n",
    "    if type(xpt) is str: return xpe(d, xpt)\n",
    "    elif type(xpt) is list: return [xpe(n) for n in xpt]\n",
    "    elif type(xpt) is dict:\n",
    "        return {k : [xpe(d, n) for n in v] if type(v) is list else xpe(d, v) for k, v in xpt.items()}\n",
    "    else:\n",
    "        print('xpt is not str or list or dict')\n",
    "        return xpt"
   ]
  },
  {
   "cell_type": "code",
   "execution_count": 57,
   "id": "1c699c5d",
   "metadata": {},
   "outputs": [],
   "source": [
    "fw_select_chat_ = lambda _chat_ : \"(//div[@class='_8nE1Y' and contains(.,'\" + _chat_ + \\\n",
    "\"')])/ancestor::div[@class='lhggkp7q ln8gz9je rx9719la']//div[@data-testid='visual-checkbox']\"\n",
    "\n",
    "pane_select_chat_ = lambda _chat_: \"//div[@class='_21S-L']//span[@dir='auto' and contains(.,'\" + _chat_ + \\\n",
    "\"')]//ancestor::div[@class='_8nE1Y']\"\n",
    "\n",
    "getmsg_txt_ = lambda _txt_ : \"(//div[@class='_21Ahp'])[contains(.,'\" + _txt_ + \"')]\" + \\\n",
    "\"[last()]/ancestor::div[@data-testid='msg-container'])[last()]\"\n",
    "clk_1 = \"//span[@data-testid='down-context']\"\n",
    "clk_2=\"//ul//li[contains(.,'Forward message')]\",\n",
    "clk_3= \"//button[@title='Forward message']\"\n",
    "select_chat_= lambda _chat_ : \"(//div[@class='_8nE1Y' and contains(.,'\" + _chat_ + \"')])/\" + \\\n",
    "\"ancestor::div[@class='lhggkp7q ln8gz9je rx9719la']//div[@data-testid='visual-checkbox']\"\n",
    "write_txt = \"//div[@data-testid='chat-list-search']\"\n",
    "clk_button= \"//span[@data-testid='send']\""
   ]
  },
  {
   "cell_type": "code",
   "execution_count": 12,
   "id": "51872104",
   "metadata": {},
   "outputs": [],
   "source": [
    "wa_home = init_info = \"//div[@data-testid='intro-text'][contains(.,'Use WhatsApp on up to 4 linked devices and 1 phone at the same time.')]\"\n",
    "\n",
    "pnbs = \"(//div[@id='pane-side']//div[@class='_8nE1Y'])\"\n",
    "pn_search_textarea = \"/html/body/div[1]/div/div/div[3]/div/div[1]/div/div/div[2]/div/div[2]\"\n",
    "pn_search = \"//div[@id='side']//div[@data-testid='chat-list-search']\"\n",
    "pn_search_back =\"//div[@id='side']//span[@data-testid='search']\"\n",
    "pn_search_cancel = \"//div[@id='side']//span[contains(@data-testid,'x-alt')]\"\n",
    "pn_search_filter = \"//div[@id='side']//button[@aria-label='Unread chats filter']\"\n",
    "pn_chat_name = lambda i : pnbs + '[' + str(i) + ']' + \"//div[@class='_21S-L']//span[@dir='auto']\"\n",
    "pn_last_text = lambda i : pnbs + '[' + str(i) + ']' + \"//span[@data-testid='last-msg-status']\"\n",
    "pn_last_sender = lambda i : pnbs + '[' + str(i) + ']' + \"//div[@class='vQ0w7']//span[@dir='auto']\"\n",
    "pn_last_msg_time = lambda i : pnbs + '[' + str(i) + ']' + \"/div[@class='y_sn4']/div[@class='Dvjym']\"\n",
    "pn_msg_unread_count = lambda i : pnbs + '[' + str(i) + ']' + \"//div[@class='Dvjym']//span[@data-testid='icon-unread-count']\"\n",
    "pnbs_by_chatname = lambda arg : \"//div[@class='_21S-L']//span[@dir='auto' and contains(.,\" + arg + \\\n",
    "        \")]//ancestor::div[@class='_8nE1Y']\"\n",
    "pnbs_by_last_text = \"\"\n",
    "pnbs_by_last_text_sender = \"\"\n",
    "pnbs_by_time = \"\"\n",
    "pn_unread_msg_by_chatname = lambda chatname: \"//div[@class='_21S-L']//span[@dir='auto' and contains(text(),\" + chatname + \\\n",
    "        \")]//ancestor::div[@class='_8nE1Y']//div[@class='Dvjym']//span[@data-testid='icon-unread-count']\""
   ]
  },
  {
   "cell_type": "code",
   "execution_count": null,
   "id": "1348bf9e",
   "metadata": {},
   "outputs": [],
   "source": [
    "chat_title = \"//div[@id='main']//span[@data-testid='conversation-info-header-chat-title']\"\n",
    "chat_search = \"//div[@id='main']//span[@data-testid='search-alt']\"\n",
    "chat_search_btn = \"//div[@id='main']//div[@class='_3ndVb']\"\n",
    "chat_text_area = \"//footer[@class='_3E8Fg']//p\"\n",
    "msg_base = \"(//div[@id='main']//div[@data-testid='msg-container'])\"\n",
    "mbs1 = \"(//div[@id='main']//div[@class='ItfyB _3nbHh'])[2]\"\n",
    "mbs2 = \"(//div[@id='main']//div[@class='ItfyB _3nbHh'])[last()]\"\n",
    "msg_arrow = \"(//div[@data-testid='msg-container'])[last()]//span[@data-testid='down-context']\"\n",
    "msg_menu = \"//div[@class='_2sDI2']/ul//li\"\n",
    "msg_menu_select = lambda bytext : \"//ul//li[contains(.,'\" + bytext + \"')]\""
   ]
  },
  {
   "cell_type": "code",
   "execution_count": null,
   "id": "43aa89a8",
   "metadata": {},
   "outputs": [],
   "source": [
    "#div[@data-testid=\"chat-list\"]\n",
    "#    - aria-label=\"Chat list\", aria-rowcount= number\n",
    "#data-testid=\"lock-small-v2\n",
    "#data-testid=\"conversation-header\"\n",
    "#data-testid=\"conversation-panel-body\"\n",
    "#    - \"div[@data-testid='conversation-panel-messages']\", \"div[@class = '_5kRIK']\"\n",
    "#    - div[@class='_35lRO']  \n",
    "#data-testid=\"conversation-info-header\"\n",
    "#data-testid=\"chat-subtitle\"\n",
    "#msg_nav_arrow = \"div[@class='pboYv']/span\"\n",
    "#id=\"hard_expire_time\"\n",
    "#data-time=\"1690306368.855\"\n",
    "#unix_time = '1690306368.855\"\n",
    "#data-testid=\"drawer-middle\"\n",
    "#data-testid=\"drawer-left\""
   ]
  },
  {
   "cell_type": "code",
   "execution_count": null,
   "id": "f96813eb",
   "metadata": {},
   "outputs": [],
   "source": [
    "webElement.isEnabled()\n",
    "webElement.isDisplayed()"
   ]
  }
 ],
 "metadata": {
  "kernelspec": {
   "display_name": "Python 3 (ipykernel)",
   "language": "python",
   "name": "python3"
  },
  "language_info": {
   "codemirror_mode": {
    "name": "ipython",
    "version": 3
   },
   "file_extension": ".py",
   "mimetype": "text/x-python",
   "name": "python",
   "nbconvert_exporter": "python",
   "pygments_lexer": "ipython3",
   "version": "3.9.1"
  },
  "nbTranslate": {
   "displayLangs": [
    "*"
   ],
   "hotkey": "alt-t",
   "langInMainMenu": true,
   "sourceLang": "en",
   "targetLang": "fr",
   "useGoogleTranslate": true
  },
  "toc": {
   "base_numbering": 1,
   "nav_menu": {},
   "number_sections": true,
   "sideBar": true,
   "skip_h1_title": false,
   "title_cell": "Table of Contents",
   "title_sidebar": "Contents",
   "toc_cell": false,
   "toc_position": {},
   "toc_section_display": true,
   "toc_window_display": false
  }
 },
 "nbformat": 4,
 "nbformat_minor": 5
}
