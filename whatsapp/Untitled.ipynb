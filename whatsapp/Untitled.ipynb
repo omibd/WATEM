{
 "cells": [
  {
   "cell_type": "code",
   "execution_count": null,
   "id": "828f6c26",
   "metadata": {
    "cell_style": "center"
   },
   "outputs": [],
   "source": []
  },
  {
   "cell_type": "code",
   "execution_count": 2,
   "id": "e7677620",
   "metadata": {},
   "outputs": [],
   "source": [
    "from wabs import *\n",
    "from collections import *\n",
    "class WA1(WhBase):\n",
    "    \n",
    "    def __init__(self):\n",
    "        super().__init__()\n",
    "        \n",
    "    xpt_by_chatname = lambda self, chatname: \"//div[@class='_21S-L']//span[@dir='auto' and contains(text(),'\" + chatname + \"')]//ancestor::div[@class='_8nE1Y']\"\n",
    "        \n",
    "    def xpls(self, xpls):\n",
    "        xp, store = xpls if type(xpls) is list else [xpls], defaultdict()\n",
    "        for i in xp.copy():\n",
    "            try: store[i] = self.driver.find_elements(By.XPATH, i)\n",
    "            except: store[i] = 'error'\n",
    "                \n",
    "    def xpbulk(self, xpt):\n",
    "        if type(xpt) is str: return self.xptext(xpt)\n",
    "        elif type(xpt) is list: return [self.xptext(n) for n in xpt]\n",
    "        elif type(xpt) is dict: \n",
    "            return {k : [self.xptext(n) for n in v] if type(v) is list else self.xptext(v) for k, v in xpt.items()}\n",
    "        else: return None\n",
    "        \n",
    "    def xe(self, xpt, click=False, text=False):\n",
    "        try:\n",
    "            x = self.wait.until(EC.presence_of_element_located((By.XPATH, xpt)))\n",
    "            if click == True: x.click()\n",
    "            if text == False: return x\n",
    "            else: return x.text\n",
    "        except: return None\n",
    "        \n",
    "    def xes(self, xpt):\n",
    "        try: return self.driver.find_elements(By.XPATH, xpt)\n",
    "        except: return None\n",
    "        \n",
    "    def pane_xpt(self, index=None, parent = \"(//div[@id='pane-side']//div[@class='_8nE1Y'])\", chatname=None):\n",
    "        if index is not None and parent is not None:\n",
    "            bi = parent + \"[\" + str(index) + \"]\"\n",
    "        elif parent is None and chatname is not None:\n",
    "            bi = \"//div[@id='pane-side']//div[@class='_21S-L']//span[@dir='auto' and contains(text(),'\" + chatname + \"')]//ancestor::\" + parent\n",
    "        else:\n",
    "            bi = parent\n",
    "        dc = {'chat_name' : bi + \"//div[@class='_21S-L']//span[@dir='auto']\",\n",
    "              'last_text' : bi + \"//span[@data-testid='last-msg-status']\",\n",
    "              'last_sender' : bi + \"//div[@class='vQ0w7']//span[@dir='auto']\",\n",
    "              'last_msg_time' : bi + \"/div[@class='y_sn4']/div[@class='Dvjym']\",\n",
    "              'new_msg_notif' : bi + \"//div[@class='Dvjym']//span[@data-testid='icon-unread-count']\"}\n",
    "        return dc\n",
    "\n",
    "    def pane_chat_info(self, store_dc = defaultdict(), bs=\"//div[@id='pane-side']//div[@class='_21S-L']//span[@dir='auto']\"):\n",
    "        'fetch available chats info from pane without scroll'\n",
    "        ls = self.xes(\"//div[@id='pane-side']//div[@class='_21S-L']//span[@dir='auto']\")\n",
    "        for i in ls:\n",
    "            bychat = self.xpt_by_chatname(i.text)\n",
    "            dc = self.pane_xpt(parent=bychat)\n",
    "            for k, v in dc.copy().items():\n",
    "                q = self.xptext(v)\n",
    "                dc[k] = q if q is not None else ''\n",
    "            store_dc = update_key_value(store_dc, dc)\n",
    "        else:\n",
    "            return store_dc\n",
    "    \n",
    "    def get_unread_msg(self, chatname='Emergency SOC Group', store_dc = defaultdict(),msgbase=\"(//div[@id='main']//div[@data-testid='msg-container'])\"):\n",
    "        'fetch unread available msg inside group without scroll'\n",
    "        chatxpt = self.xpt_by_chatname(chatname)\n",
    "        dc = self.pane_xpt(parent=chatxpt)\n",
    "        print('chatname: ', chatname, 'unread_sms: ',  self.xptext(dc['new_msg_notif']))\n",
    "        v = self.xptext(\"//div[@id='main']//span[@data-testid='conversation-info-header-chat-title']\")\n",
    "        if v is None or v not in chatname:\n",
    "            try: self.click(chatxpt)\n",
    "            except: self.select_chat(chatname)\n",
    "        avmsg = self.xes(msgbase)\n",
    "        for n in range(len(avmsg)):\n",
    "            dc = self.chat_msg('last()-' + str(n))\n",
    "            store_dc = update_key_value(store_dc, dc)\n",
    "        else:\n",
    "            df = self.dict_to_df(store_dc, chatname)\n",
    "            return store_dc, df\n",
    "    \n",
    "    def duplicate_none_chk(self, sdic, dc):\n",
    "        dpcount, nonecount = 0, 0\n",
    "        for k, v in dc.items():\n",
    "            if v is None: nonecount = nonecount + 1\n",
    "            else:\n",
    "                if v in list(sdic.values()): \n",
    "                    dpcount = dpcount + 1\n",
    "        else:\n",
    "            if nonecount >=3: none_flag = True\n",
    "            else: none_flag = False\n",
    "\n",
    "            if dpcount>=3: dp_flag = True\n",
    "            else: dp_flag = False\n",
    "            return none_flag, dp_flag\n",
    "\n",
    "\n",
    "    def watem_iter(self, method, start=1, end=50, step=1, sdict=defaultdict()):\n",
    "        dc_is_none = 0\n",
    "        for n in range(start, end, step):\n",
    "            dc = getattr(self, method)(n)\n",
    "            if dc is None and dc_is_none>3:\n",
    "                print('return caller sdict & n')\n",
    "                return sdict, n\n",
    "            elif dc is not None:\n",
    "                if len(sdict) == 0: sdict = dc\n",
    "                else:\n",
    "                    nf, dpf = self.duplicate_none_chk(sdict, dc)\n",
    "                    if nf == False and dpf == False:\n",
    "                        sdict = update_key_value(sdict, dc)\n",
    "                        dc_is_none = 0\n",
    "                        yield dc, n\n",
    "                    else:\n",
    "                        dc_is_none = dc_is_none + 1\n",
    "            else:\n",
    "                dc_is_none = dc_is_none + 1\n",
    "                print('dc is None', dc_is_none)\n",
    "        else:\n",
    "            return sdict, n"
   ]
  },
  {
   "cell_type": "code",
   "execution_count": 14,
   "id": "6ce8dadc",
   "metadata": {},
   "outputs": [
    {
     "name": "stdout",
     "output_type": "stream",
     "text": [
      "(10) WhatsApp\n",
      "reload success, whatsapp ready\n"
     ]
    },
    {
     "data": {
      "text/plain": [
       "<__main__.WA1 at 0x175ed6e40a0>"
      ]
     },
     "execution_count": 14,
     "metadata": {},
     "output_type": "execute_result"
    }
   ],
   "source": [
    "x = WA1()\n",
    "d = x.get_driver\n",
    "x.reload"
   ]
  },
  {
   "cell_type": "code",
   "execution_count": 15,
   "id": "96cffac8",
   "metadata": {},
   "outputs": [],
   "source": [
    "attr = ['accessible_name', 'aria_role', 'clear', 'click', 'find_element', 'find_elements',\n",
    " 'get_attribute', 'get_dom_attribute', 'get_property', 'id', 'is_displayed', 'is_enabled','is_selected', 'location',\n",
    " 'location_once_scrolled_into_view','parent','rect', 'screenshot', 'screenshot_as_base64', 'screenshot_as_png', 'send_keys', 'shadow_root', 'size',\n",
    " 'submit','tag_name', 'text', 'value_of_css_property']"
   ]
  },
  {
   "cell_type": "code",
   "execution_count": 20,
   "id": "4e4a90c3",
   "metadata": {
    "scrolled": false
   },
   "outputs": [
    {
     "name": "stdout",
     "output_type": "stream",
     "text": [
      "chat body name:  Emergency SOC Group\n",
      "chat selection successful\n"
     ]
    }
   ],
   "source": [
    "msgbs = \"(//div[@id='main']//div[@data-testid='msg-container'])\"\n",
    "dic = {'sender' : ['sender'], 'text' : [msgbs + \"//div[@class='_21Ahp']/span[1]/span\"],\n",
    "       'q_sender': [msgbs + \"//div[@class='_3pMOs yKTUI']//div[1]/span\"],\n",
    "       'q_text' : [msgbs + \"//div[@class='_3pMOs yKTUI']//div[2]/span\"],\n",
    "       'datetime' : ['dttm'], 'time': ['NA'],\n",
    "       'chatname': [\"//div[@id='main']//span[@data-testid='conversation-info-header-chat-title']\"]}\n",
    "    \n",
    "if x.select_chat('Emergency SOC Group') == 1:\n",
    "    ls = x.xes(msgbs)"
   ]
  },
  {
   "cell_type": "code",
   "execution_count": 38,
   "id": "8d5cf580",
   "metadata": {
    "code_folding": [],
    "scrolled": true
   },
   "outputs": [
    {
     "data": {
      "text/plain": [
       "['__abstractmethods__',\n",
       " '__class__',\n",
       " '__delattr__',\n",
       " '__dict__',\n",
       " '__dir__',\n",
       " '__doc__',\n",
       " '__eq__',\n",
       " '__format__',\n",
       " '__ge__',\n",
       " '__getattribute__',\n",
       " '__gt__',\n",
       " '__hash__',\n",
       " '__init__',\n",
       " '__init_subclass__',\n",
       " '__le__',\n",
       " '__lt__',\n",
       " '__module__',\n",
       " '__ne__',\n",
       " '__new__',\n",
       " '__reduce__',\n",
       " '__reduce_ex__',\n",
       " '__repr__',\n",
       " '__setattr__',\n",
       " '__sizeof__',\n",
       " '__str__',\n",
       " '__subclasshook__',\n",
       " '__weakref__',\n",
       " '_abc_impl',\n",
       " '_execute',\n",
       " '_id',\n",
       " '_parent',\n",
       " '_upload',\n",
       " 'accessible_name',\n",
       " 'aria_role',\n",
       " 'clear',\n",
       " 'click',\n",
       " 'find_element',\n",
       " 'find_elements',\n",
       " 'get_attribute',\n",
       " 'get_dom_attribute',\n",
       " 'get_property',\n",
       " 'id',\n",
       " 'is_displayed',\n",
       " 'is_enabled',\n",
       " 'is_selected',\n",
       " 'location',\n",
       " 'location_once_scrolled_into_view',\n",
       " 'parent',\n",
       " 'rect',\n",
       " 'screenshot',\n",
       " 'screenshot_as_base64',\n",
       " 'screenshot_as_png',\n",
       " 'send_keys',\n",
       " 'shadow_root',\n",
       " 'size',\n",
       " 'submit',\n",
       " 'tag_name',\n",
       " 'text',\n",
       " 'value_of_css_property']"
      ]
     },
     "execution_count": 38,
     "metadata": {},
     "output_type": "execute_result"
    }
   ],
   "source": [
    "dir(ls[0])"
   ]
  },
  {
   "cell_type": "code",
   "execution_count": 40,
   "id": "48474dbd",
   "metadata": {},
   "outputs": [
    {
     "data": {
      "text/plain": [
       "'608c4bb3-b471-4be4-b5ad-5930417813ae'"
      ]
     },
     "execution_count": 40,
     "metadata": {},
     "output_type": "execute_result"
    }
   ],
   "source": [
    "ls[0]._id"
   ]
  },
  {
   "cell_type": "code",
   "execution_count": null,
   "id": "868a1da1",
   "metadata": {},
   "outputs": [],
   "source": [
    "help(a.get_property)"
   ]
  },
  {
   "cell_type": "code",
   "execution_count": 104,
   "id": "ba22b0af",
   "metadata": {},
   "outputs": [
    {
     "ename": "StaleElementReferenceException",
     "evalue": "Message: stale element reference: element is not attached to the page document\n  (Session info: chrome=109.0.5414.120)\nStacktrace:\nBacktrace:\n\t(No symbol) [0x01006643]\n\t(No symbol) [0x00F9BE21]\n\t(No symbol) [0x00E9DA9D]\n\t(No symbol) [0x00EA09E4]\n\t(No symbol) [0x00EA08AD]\n\t(No symbol) [0x00EA0B30]\n\t(No symbol) [0x00ED0FAC]\n\t(No symbol) [0x00ED147B]\n\t(No symbol) [0x00EC64C1]\n\t(No symbol) [0x00EEFDC4]\n\t(No symbol) [0x00EC641F]\n\t(No symbol) [0x00EF00D4]\n\t(No symbol) [0x00F06B09]\n\t(No symbol) [0x00EEFB76]\n\t(No symbol) [0x00EC49C1]\n\t(No symbol) [0x00EC5E5D]\n\tGetHandleVerifier [0x0127A142+2497106]\n\tGetHandleVerifier [0x012A85D3+2686691]\n\tGetHandleVerifier [0x012ABB9C+2700460]\n\tGetHandleVerifier [0x010B3B10+635936]\n\t(No symbol) [0x00FA4A1F]\n\t(No symbol) [0x00FAA418]\n\t(No symbol) [0x00FAA505]\n\t(No symbol) [0x00FB508B]\n\tBaseThreadInitThunk [0x75A100F9+25]\n\tRtlGetAppContainerNamedObjectPath [0x77467BBE+286]\n\tRtlGetAppContainerNamedObjectPath [0x77467B8E+238]\n",
     "output_type": "error",
     "traceback": [
      "\u001b[1;31m---------------------------------------------------------------------------\u001b[0m",
      "\u001b[1;31mStaleElementReferenceException\u001b[0m            Traceback (most recent call last)",
      "Cell \u001b[1;32mIn[104], line 1\u001b[0m\n\u001b[1;32m----> 1\u001b[0m \u001b[43ma\u001b[49m\u001b[38;5;241;43m.\u001b[39;49m\u001b[43mfind_element\u001b[49m\u001b[43m(\u001b[49m\u001b[43mBy\u001b[49m\u001b[38;5;241;43m.\u001b[39;49m\u001b[43mXPATH\u001b[49m\u001b[43m,\u001b[49m\u001b[43m \u001b[49m\u001b[38;5;124;43m\"\u001b[39;49m\u001b[38;5;124;43mdiv\u001b[39;49m\u001b[38;5;124;43m\"\u001b[39;49m\u001b[43m)\u001b[49m\n",
      "File \u001b[1;32m~\\miniconda3\\lib\\site-packages\\selenium\\webdriver\\remote\\webelement.py:433\u001b[0m, in \u001b[0;36mWebElement.find_element\u001b[1;34m(self, by, value)\u001b[0m\n\u001b[0;32m    430\u001b[0m     by \u001b[38;5;241m=\u001b[39m By\u001b[38;5;241m.\u001b[39mCSS_SELECTOR\n\u001b[0;32m    431\u001b[0m     value \u001b[38;5;241m=\u001b[39m \u001b[38;5;124m'\u001b[39m\u001b[38;5;124m[name=\u001b[39m\u001b[38;5;124m\"\u001b[39m\u001b[38;5;132;01m%s\u001b[39;00m\u001b[38;5;124m\"\u001b[39m\u001b[38;5;124m]\u001b[39m\u001b[38;5;124m'\u001b[39m \u001b[38;5;241m%\u001b[39m value\n\u001b[1;32m--> 433\u001b[0m \u001b[38;5;28;01mreturn\u001b[39;00m \u001b[38;5;28;43mself\u001b[39;49m\u001b[38;5;241;43m.\u001b[39;49m\u001b[43m_execute\u001b[49m\u001b[43m(\u001b[49m\u001b[43mCommand\u001b[49m\u001b[38;5;241;43m.\u001b[39;49m\u001b[43mFIND_CHILD_ELEMENT\u001b[49m\u001b[43m,\u001b[49m\u001b[43m \u001b[49m\u001b[43m{\u001b[49m\u001b[38;5;124;43m\"\u001b[39;49m\u001b[38;5;124;43musing\u001b[39;49m\u001b[38;5;124;43m\"\u001b[39;49m\u001b[43m:\u001b[49m\u001b[43m \u001b[49m\u001b[43mby\u001b[49m\u001b[43m,\u001b[49m\u001b[43m \u001b[49m\u001b[38;5;124;43m\"\u001b[39;49m\u001b[38;5;124;43mvalue\u001b[39;49m\u001b[38;5;124;43m\"\u001b[39;49m\u001b[43m:\u001b[49m\u001b[43m \u001b[49m\u001b[43mvalue\u001b[49m\u001b[43m}\u001b[49m\u001b[43m)\u001b[49m[\u001b[38;5;124m\"\u001b[39m\u001b[38;5;124mvalue\u001b[39m\u001b[38;5;124m\"\u001b[39m]\n",
      "File \u001b[1;32m~\\miniconda3\\lib\\site-packages\\selenium\\webdriver\\remote\\webelement.py:410\u001b[0m, in \u001b[0;36mWebElement._execute\u001b[1;34m(self, command, params)\u001b[0m\n\u001b[0;32m    408\u001b[0m     params \u001b[38;5;241m=\u001b[39m {}\n\u001b[0;32m    409\u001b[0m params[\u001b[38;5;124m\"\u001b[39m\u001b[38;5;124mid\u001b[39m\u001b[38;5;124m\"\u001b[39m] \u001b[38;5;241m=\u001b[39m \u001b[38;5;28mself\u001b[39m\u001b[38;5;241m.\u001b[39m_id\n\u001b[1;32m--> 410\u001b[0m \u001b[38;5;28;01mreturn\u001b[39;00m \u001b[38;5;28;43mself\u001b[39;49m\u001b[38;5;241;43m.\u001b[39;49m\u001b[43m_parent\u001b[49m\u001b[38;5;241;43m.\u001b[39;49m\u001b[43mexecute\u001b[49m\u001b[43m(\u001b[49m\u001b[43mcommand\u001b[49m\u001b[43m,\u001b[49m\u001b[43m \u001b[49m\u001b[43mparams\u001b[49m\u001b[43m)\u001b[49m\n",
      "File \u001b[1;32m~\\miniconda3\\lib\\site-packages\\selenium\\webdriver\\remote\\webdriver.py:444\u001b[0m, in \u001b[0;36mWebDriver.execute\u001b[1;34m(self, driver_command, params)\u001b[0m\n\u001b[0;32m    442\u001b[0m response \u001b[38;5;241m=\u001b[39m \u001b[38;5;28mself\u001b[39m\u001b[38;5;241m.\u001b[39mcommand_executor\u001b[38;5;241m.\u001b[39mexecute(driver_command, params)\n\u001b[0;32m    443\u001b[0m \u001b[38;5;28;01mif\u001b[39;00m response:\n\u001b[1;32m--> 444\u001b[0m     \u001b[38;5;28;43mself\u001b[39;49m\u001b[38;5;241;43m.\u001b[39;49m\u001b[43merror_handler\u001b[49m\u001b[38;5;241;43m.\u001b[39;49m\u001b[43mcheck_response\u001b[49m\u001b[43m(\u001b[49m\u001b[43mresponse\u001b[49m\u001b[43m)\u001b[49m\n\u001b[0;32m    445\u001b[0m     response[\u001b[38;5;124m\"\u001b[39m\u001b[38;5;124mvalue\u001b[39m\u001b[38;5;124m\"\u001b[39m] \u001b[38;5;241m=\u001b[39m \u001b[38;5;28mself\u001b[39m\u001b[38;5;241m.\u001b[39m_unwrap_value(response\u001b[38;5;241m.\u001b[39mget(\u001b[38;5;124m\"\u001b[39m\u001b[38;5;124mvalue\u001b[39m\u001b[38;5;124m\"\u001b[39m, \u001b[38;5;28;01mNone\u001b[39;00m))\n\u001b[0;32m    446\u001b[0m     \u001b[38;5;28;01mreturn\u001b[39;00m response\n",
      "File \u001b[1;32m~\\miniconda3\\lib\\site-packages\\selenium\\webdriver\\remote\\errorhandler.py:249\u001b[0m, in \u001b[0;36mErrorHandler.check_response\u001b[1;34m(self, response)\u001b[0m\n\u001b[0;32m    247\u001b[0m         alert_text \u001b[38;5;241m=\u001b[39m value[\u001b[38;5;124m\"\u001b[39m\u001b[38;5;124malert\u001b[39m\u001b[38;5;124m\"\u001b[39m]\u001b[38;5;241m.\u001b[39mget(\u001b[38;5;124m\"\u001b[39m\u001b[38;5;124mtext\u001b[39m\u001b[38;5;124m\"\u001b[39m)\n\u001b[0;32m    248\u001b[0m     \u001b[38;5;28;01mraise\u001b[39;00m exception_class(message, screen, stacktrace, alert_text)  \u001b[38;5;66;03m# type: ignore[call-arg]  # mypy is not smart enough here\u001b[39;00m\n\u001b[1;32m--> 249\u001b[0m \u001b[38;5;28;01mraise\u001b[39;00m exception_class(message, screen, stacktrace)\n",
      "\u001b[1;31mStaleElementReferenceException\u001b[0m: Message: stale element reference: element is not attached to the page document\n  (Session info: chrome=109.0.5414.120)\nStacktrace:\nBacktrace:\n\t(No symbol) [0x01006643]\n\t(No symbol) [0x00F9BE21]\n\t(No symbol) [0x00E9DA9D]\n\t(No symbol) [0x00EA09E4]\n\t(No symbol) [0x00EA08AD]\n\t(No symbol) [0x00EA0B30]\n\t(No symbol) [0x00ED0FAC]\n\t(No symbol) [0x00ED147B]\n\t(No symbol) [0x00EC64C1]\n\t(No symbol) [0x00EEFDC4]\n\t(No symbol) [0x00EC641F]\n\t(No symbol) [0x00EF00D4]\n\t(No symbol) [0x00F06B09]\n\t(No symbol) [0x00EEFB76]\n\t(No symbol) [0x00EC49C1]\n\t(No symbol) [0x00EC5E5D]\n\tGetHandleVerifier [0x0127A142+2497106]\n\tGetHandleVerifier [0x012A85D3+2686691]\n\tGetHandleVerifier [0x012ABB9C+2700460]\n\tGetHandleVerifier [0x010B3B10+635936]\n\t(No symbol) [0x00FA4A1F]\n\t(No symbol) [0x00FAA418]\n\t(No symbol) [0x00FAA505]\n\t(No symbol) [0x00FB508B]\n\tBaseThreadInitThunk [0x75A100F9+25]\n\tRtlGetAppContainerNamedObjectPath [0x77467BBE+286]\n\tRtlGetAppContainerNamedObjectPath [0x77467B8E+238]\n"
     ]
    }
   ],
   "source": [
    "a.find_element(By.XPATH, \"div\")"
   ]
  },
  {
   "cell_type": "code",
   "execution_count": 71,
   "id": "913b1137",
   "metadata": {},
   "outputs": [
    {
     "name": "stdout",
     "output_type": "stream",
     "text": [
      "None\n"
     ]
    }
   ],
   "source": [
    "store_dc = defaultdict()\n",
    "ls = x.xes(\"//div[@id='pane-side']//div[@class='_21S-L']//span[@dir='auto']\")\n",
    "for i in ls:\n",
    "    bychat = x.xpt_by_chatname(i.text)\n",
    "    dc = x.pane_xpt(parent=bychat)\n",
    "    for k, v in dc.copy().items():\n",
    "        q = x.xptext(v)\n",
    "        dc[k] = q if q is not None else ''\n",
    "    store_dc = update_key_value(store_dc, dc)\n",
    "else:\n",
    "    print(x.dict_to_df(store_dc))"
   ]
  },
  {
   "cell_type": "code",
   "execution_count": 80,
   "id": "f9ec5c35",
   "metadata": {},
   "outputs": [],
   "source": [
    "WebElement user = driver.findElement(By.className(\"JournalDev\"));"
   ]
  },
  {
   "cell_type": "code",
   "execution_count": null,
   "id": "1d16e3b6",
   "metadata": {},
   "outputs": [],
   "source": []
  },
  {
   "cell_type": "code",
   "execution_count": 66,
   "id": "352275e1",
   "metadata": {},
   "outputs": [],
   "source": [
    "def forward(d, x, fwto='onami', msgxpt=\"(//div[@id='main']//div[@data-testid='msg-container'])[last()]\"):\n",
    "    a1 = x.xpelem(msgxpt)\n",
    "    ActionChains(d).move_to_element(a1).perform()\n",
    "    x.click(x.xpelem(\"(//div[@data-testid='msg-container'])[last()]//span[@data-testid='down-context']\"))\n",
    "    tm.sleep(1)\n",
    "    x.click(\"//ul//li[contains(.,'Forward')]\")\n",
    "    tm.sleep(1)\n",
    "    x.click(\"//div[@class='_2IUvV']//span[@data-testid='forward']\")\n",
    "    xpel  = x.xpelem(\"(//div[contains(@role,'textbox')])[1]\")\n",
    "    ActionChains(d).move_to_element(xpel).click().perform()\n",
    "    tm.sleep(1)\n",
    "    ActionChains(d).send_keys_to_element(xpel, fwto).perform()\n",
    "    tm.sleep(2)\n",
    "    x.click(\"(//div[@class='_199zF _3j691 _2N1Gm'])[1]\")\n",
    "    tm.sleep(1)\n",
    "    x.click(\"//span[@data-testid='send']\")\n",
    "    print('success')"
   ]
  },
  {
   "cell_type": "code",
   "execution_count": 38,
   "id": "6cc68f01",
   "metadata": {},
   "outputs": [],
   "source": [
    "bs= \"(//div[@id='main']//div[@data-testid='msg-container'])\"        \n",
    "pn = \"(//div[@id='pane-side']//div[@class='_8nE1Y'])\"\n",
    "xp = lambda d, xpt : d.find_elements(By.XPATH, xpt)\n",
    "ac = ActionChains(d)"
   ]
  },
  {
   "cell_type": "code",
   "execution_count": 41,
   "id": "66ebcce4",
   "metadata": {},
   "outputs": [],
   "source": [
    "x.pane_chat_info()"
   ]
  },
  {
   "cell_type": "code",
   "execution_count": null,
   "id": "da1b2168",
   "metadata": {},
   "outputs": [],
   "source": []
  },
  {
   "cell_type": "code",
   "execution_count": 8,
   "id": "5c4e7dca",
   "metadata": {},
   "outputs": [],
   "source": [
    "a1 = x.sidepane_scroll(a1)"
   ]
  },
  {
   "cell_type": "code",
   "execution_count": 9,
   "id": "fb92b4b4",
   "metadata": {},
   "outputs": [],
   "source": [
    "a1 = x.sidepane_scroll(a1)"
   ]
  },
  {
   "cell_type": "code",
   "execution_count": 10,
   "id": "fa79a1de",
   "metadata": {},
   "outputs": [],
   "source": [
    "a1 = x.sidepane_scroll(a1)"
   ]
  },
  {
   "cell_type": "code",
   "execution_count": 11,
   "id": "b02f09e6",
   "metadata": {},
   "outputs": [],
   "source": [
    "a1 = x.sidepane_scroll(a1)"
   ]
  },
  {
   "cell_type": "code",
   "execution_count": 12,
   "id": "a23b35dc",
   "metadata": {},
   "outputs": [],
   "source": [
    "a1 = x.sidepane_scroll(a1)"
   ]
  },
  {
   "cell_type": "code",
   "execution_count": 13,
   "id": "6dd00a67",
   "metadata": {},
   "outputs": [],
   "source": [
    "def unread_message(self, initial = 0, scrolls=25):\n",
    "    self.chats_unread_count = 0\n",
    "    self.chats = {\"\"}\n",
    "    for i in range(0, scrolls):\n",
    "        self._user()\n",
    "        self.driver.execute_script(\"document.getElementById('pane-side').scrollTop={}\".format(initial))\n",
    "        initial += 300\n",
    "    else:\n",
    "        print('unread sms for groups')\n",
    "        print(self.chats_unread)"
   ]
  },
  {
   "cell_type": "code",
   "execution_count": 31,
   "id": "c53f0718",
   "metadata": {
    "code_folding": []
   },
   "outputs": [],
   "source": [
    "def xp(driver, xptdict, fn):\n",
    "    if type(xpt) is str: return fn(xpt)\n",
    "    elif type(xpt) is list: return [fn(n) for n in xpt]\n",
    "    elif type(xpt) is dict:\n",
    "        return {k : [fn(driver, k, n) for n in v] if type(v) is list else fn(driver, k, v) for k, v in xpt.items()}\n",
    "    else: print('error')\n",
    "        \n",
    "def fnx(dr, name, xpt):\n",
    "    print(xpt)\n",
    "    return '21'"
   ]
  },
  {
   "cell_type": "code",
   "execution_count": 34,
   "id": "4eab5a79",
   "metadata": {},
   "outputs": [
    {
     "ename": "AttributeError",
     "evalue": "'WA1' object has no attribute 'xes'",
     "output_type": "error",
     "traceback": [
      "\u001b[1;31m---------------------------------------------------------------------------\u001b[0m",
      "\u001b[1;31mAttributeError\u001b[0m                            Traceback (most recent call last)",
      "Cell \u001b[1;32mIn[34], line 1\u001b[0m\n\u001b[1;32m----> 1\u001b[0m \u001b[43mpane_chat_info\u001b[49m\u001b[43m(\u001b[49m\u001b[43mx\u001b[49m\u001b[43m)\u001b[49m\n",
      "Cell \u001b[1;32mIn[30], line 19\u001b[0m, in \u001b[0;36mpane_chat_info\u001b[1;34m(y, store_dc, bs)\u001b[0m\n\u001b[0;32m     17\u001b[0m \u001b[38;5;28;01mdef\u001b[39;00m \u001b[38;5;21mpane_chat_info\u001b[39m(y, store_dc \u001b[38;5;241m=\u001b[39m defaultdict(), bs\u001b[38;5;241m=\u001b[39m\u001b[38;5;124m\"\u001b[39m\u001b[38;5;124m//div[@id=\u001b[39m\u001b[38;5;124m'\u001b[39m\u001b[38;5;124mpane-side\u001b[39m\u001b[38;5;124m'\u001b[39m\u001b[38;5;124m]//div[@class=\u001b[39m\u001b[38;5;124m'\u001b[39m\u001b[38;5;124m_21S-L\u001b[39m\u001b[38;5;124m'\u001b[39m\u001b[38;5;124m]//span[@dir=\u001b[39m\u001b[38;5;124m'\u001b[39m\u001b[38;5;124mauto\u001b[39m\u001b[38;5;124m'\u001b[39m\u001b[38;5;124m]\u001b[39m\u001b[38;5;124m\"\u001b[39m):\n\u001b[0;32m     18\u001b[0m     \u001b[38;5;124m'\u001b[39m\u001b[38;5;124mfetch available chats info from pane without scroll\u001b[39m\u001b[38;5;124m'\u001b[39m\n\u001b[1;32m---> 19\u001b[0m     lschat \u001b[38;5;241m=\u001b[39m \u001b[43my\u001b[49m\u001b[38;5;241;43m.\u001b[39;49m\u001b[43mxes\u001b[49m(bs)\n\u001b[0;32m     20\u001b[0m     \u001b[38;5;28;01mfor\u001b[39;00m i \u001b[38;5;129;01min\u001b[39;00m lschat:\n\u001b[0;32m     21\u001b[0m         bychat \u001b[38;5;241m=\u001b[39m xpt_by_chatname(i\u001b[38;5;241m.\u001b[39mtext)\n",
      "\u001b[1;31mAttributeError\u001b[0m: 'WA1' object has no attribute 'xes'"
     ]
    }
   ],
   "source": [
    "pane_chat_info(x)"
   ]
  },
  {
   "cell_type": "code",
   "execution_count": null,
   "id": "1f0ea99b",
   "metadata": {},
   "outputs": [],
   "source": []
  }
 ],
 "metadata": {
  "kernelspec": {
   "display_name": "Python 3 (ipykernel)",
   "language": "python",
   "name": "python3"
  },
  "language_info": {
   "codemirror_mode": {
    "name": "ipython",
    "version": 3
   },
   "file_extension": ".py",
   "mimetype": "text/x-python",
   "name": "python",
   "nbconvert_exporter": "python",
   "pygments_lexer": "ipython3",
   "version": "3.9.1"
  },
  "nbTranslate": {
   "displayLangs": [
    "*"
   ],
   "hotkey": "alt-t",
   "langInMainMenu": true,
   "sourceLang": "en",
   "targetLang": "fr",
   "useGoogleTranslate": true
  },
  "toc": {
   "base_numbering": 1,
   "nav_menu": {},
   "number_sections": true,
   "sideBar": true,
   "skip_h1_title": false,
   "title_cell": "Table of Contents",
   "title_sidebar": "Contents",
   "toc_cell": false,
   "toc_position": {},
   "toc_section_display": true,
   "toc_window_display": false
  }
 },
 "nbformat": 4,
 "nbformat_minor": 5
}
